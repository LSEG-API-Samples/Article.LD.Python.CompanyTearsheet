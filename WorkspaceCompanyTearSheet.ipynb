{
 "cells": [
  {
   "cell_type": "markdown",
   "metadata": {},
   "source": [
    "# LSEG COMPANY TEARSHEET"
   ]
  },
  {
   "cell_type": "code",
   "execution_count": 1,
   "metadata": {},
   "outputs": [
    {
     "name": "stdin",
     "output_type": "stream",
     "text": [
      " IBM.N\n"
     ]
    }
   ],
   "source": [
    "RIC = input()\n",
    "# print(RIC)"
   ]
  },
  {
   "cell_type": "code",
   "execution_count": 2,
   "metadata": {},
   "outputs": [],
   "source": [
    "# Import module and set up with App Key\n",
    "import lseg.data as ld\n",
    "APP_KEY = '<App Key>'\n",
    "ld.open_session(app_key = APP_KEY)\n",
    "import pandas as pd \n",
    "import numpy as np"
   ]
  },
  {
   "cell_type": "code",
   "execution_count": 3,
   "metadata": {},
   "outputs": [
    {
     "data": {
      "text/html": [
       "<div>\n",
       "<style scoped>\n",
       "    .dataframe tbody tr th:only-of-type {\n",
       "        vertical-align: middle;\n",
       "    }\n",
       "\n",
       "    .dataframe tbody tr th {\n",
       "        vertical-align: top;\n",
       "    }\n",
       "\n",
       "    .dataframe thead th {\n",
       "        text-align: right;\n",
       "    }\n",
       "</style>\n",
       "<table border=\"1\" class=\"dataframe\">\n",
       "  <thead>\n",
       "    <tr style=\"text-align: right;\">\n",
       "      <th></th>\n",
       "      <th>Instrument</th>\n",
       "      <th>Company Common Name</th>\n",
       "      <th>Country of Headquarters</th>\n",
       "      <th>TRBC Industry Group Name</th>\n",
       "      <th>GICS Sector Name</th>\n",
       "      <th>Currency</th>\n",
       "      <th>Exchange Name</th>\n",
       "    </tr>\n",
       "  </thead>\n",
       "  <tbody>\n",
       "    <tr>\n",
       "      <th>0</th>\n",
       "      <td>IBM.N</td>\n",
       "      <td>International Business Machines Corp</td>\n",
       "      <td>United States of America</td>\n",
       "      <td>Software &amp; IT Services</td>\n",
       "      <td>Information Technology</td>\n",
       "      <td>USD</td>\n",
       "      <td>NEW YORK STOCK EXCHANGE, INC.</td>\n",
       "    </tr>\n",
       "  </tbody>\n",
       "</table>\n",
       "</div>"
      ],
      "text/plain": [
       "  Instrument                   Company Common Name   Country of Headquarters  \\\n",
       "0      IBM.N  International Business Machines Corp  United States of America   \n",
       "\n",
       "  TRBC Industry Group Name        GICS Sector Name Currency  \\\n",
       "0   Software & IT Services  Information Technology      USD   \n",
       "\n",
       "                   Exchange Name  \n",
       "0  NEW YORK STOCK EXCHANGE, INC.  "
      ]
     },
     "execution_count": 3,
     "metadata": {},
     "output_type": "execute_result"
    }
   ],
   "source": [
    "# Request Header Information for RIC \n",
    "df = ld.get_data(RIC, \"TR.CommonName(),TR.HeadquartersCountry,TR.TRBCIndustryGroup,TR.GICSSector,TR.CompanyMarketCap.Currency\")\n",
    "#Request Exchange for Primary Quote RIC\n",
    "df_2 = ld.get_data(RIC,\"TR.PrimaryQuote\")\n",
    "df_3 = ld.get_data(df_2.at[0,'Primary Quote RIC'],\"TR.ExchangeName\")  \n",
    "df['Exchange Name'] = [df_3.at[0,'Exchange Name']]\n",
    "df"
   ]
  },
  {
   "cell_type": "markdown",
   "metadata": {},
   "source": [
    "## General Information"
   ]
  },
  {
   "cell_type": "code",
   "execution_count": 4,
   "metadata": {},
   "outputs": [
    {
     "data": {
      "text/html": [
       "<div>\n",
       "<style scoped>\n",
       "    .dataframe tbody tr th:only-of-type {\n",
       "        vertical-align: middle;\n",
       "    }\n",
       "\n",
       "    .dataframe tbody tr th {\n",
       "        vertical-align: top;\n",
       "    }\n",
       "\n",
       "    .dataframe thead th {\n",
       "        text-align: right;\n",
       "    }\n",
       "</style>\n",
       "<table border=\"1\" class=\"dataframe\">\n",
       "  <thead>\n",
       "    <tr style=\"text-align: right;\">\n",
       "      <th></th>\n",
       "      <th>1</th>\n",
       "      <th>2</th>\n",
       "      <th>3</th>\n",
       "      <th>4</th>\n",
       "    </tr>\n",
       "  </thead>\n",
       "  <tbody>\n",
       "    <tr>\n",
       "      <th>0</th>\n",
       "      <td>Price Close</td>\n",
       "      <td>236.220000</td>\n",
       "      <td>Beta 5 Year</td>\n",
       "      <td>0.628409</td>\n",
       "    </tr>\n",
       "    <tr>\n",
       "      <th>1</th>\n",
       "      <td>Price 52 Week High</td>\n",
       "      <td>266.300000</td>\n",
       "      <td>Dividend yield</td>\n",
       "      <td>2.797203</td>\n",
       "    </tr>\n",
       "    <tr>\n",
       "      <th>2</th>\n",
       "      <td>52-week High Price PCT Change</td>\n",
       "      <td>-11.295531</td>\n",
       "      <td>Outstanding Shares</td>\n",
       "      <td>927.264332</td>\n",
       "    </tr>\n",
       "    <tr>\n",
       "      <th>3</th>\n",
       "      <td>Price 52 Week Low</td>\n",
       "      <td>162.650000</td>\n",
       "      <td>Free Float</td>\n",
       "      <td>926.039119</td>\n",
       "    </tr>\n",
       "    <tr>\n",
       "      <th>4</th>\n",
       "      <td>52-week Low Price PCT Change</td>\n",
       "      <td>45.232093</td>\n",
       "      <td>Free Float (Percent)</td>\n",
       "      <td>99.867900</td>\n",
       "    </tr>\n",
       "    <tr>\n",
       "      <th>5</th>\n",
       "      <td>Price Target - Median</td>\n",
       "      <td>262.495000</td>\n",
       "      <td>Company Market Cap</td>\n",
       "      <td>219038.380505</td>\n",
       "    </tr>\n",
       "    <tr>\n",
       "      <th>6</th>\n",
       "      <td>Implied Profit</td>\n",
       "      <td>11.123106</td>\n",
       "      <td>Enterprise Value (Daily Time Series)</td>\n",
       "      <td>259506.380505</td>\n",
       "    </tr>\n",
       "  </tbody>\n",
       "</table>\n",
       "</div>"
      ],
      "text/plain": [
       "                               1           2  \\\n",
       "0                    Price Close  236.220000   \n",
       "1             Price 52 Week High  266.300000   \n",
       "2  52-week High Price PCT Change  -11.295531   \n",
       "3              Price 52 Week Low  162.650000   \n",
       "4   52-week Low Price PCT Change   45.232093   \n",
       "5          Price Target - Median  262.495000   \n",
       "6                 Implied Profit   11.123106   \n",
       "\n",
       "                                      3              4  \n",
       "0                           Beta 5 Year       0.628409  \n",
       "1                        Dividend yield       2.797203  \n",
       "2                    Outstanding Shares     927.264332  \n",
       "3                            Free Float     926.039119  \n",
       "4                  Free Float (Percent)      99.867900  \n",
       "5                    Company Market Cap  219038.380505  \n",
       "6  Enterprise Value (Daily Time Series)  259506.380505  "
      ]
     },
     "execution_count": 4,
     "metadata": {},
     "output_type": "execute_result"
    }
   ],
   "source": [
    "#As single Dataframe - example only\n",
    "#dfGenSingle = ld.get_data(RIC, \n",
    "#        [{'TR.PriceClose;TR.Price52WeekHigh;TR.PricePctChg52WkHigh;TR.Price52WeekLow;TR.PricePctChg52WkLow;TR.PriceTargetMedian': {'Curn':df.at[0,'Currency']}},\n",
    "#            {'TR.BetaFiveYear;TR.DividendYield;TR.SharesOutstanding;TR.FreeFloat;TR.FreeFloatPct();TR.CompanyMarketCap;TR.EV': {'Scale':6,'Curn':df.at[0,'Currency']}}])\n",
    "\n",
    "#As two Dataframes - more convenient\n",
    "dfGen = ld.get_data(RIC, 'TR.PriceClose;TR.Price52WeekHigh;TR.PricePctChg52WkHigh;TR.Price52WeekLow;TR.PricePctChg52WkLow;TR.PriceTargetMedian',{'Curn':df.at[0,'Currency']})\n",
    "dfGen2 = ld.get_data( RIC, 'TR.BetaFiveYear;TR.DividendYield;TR.SharesOutstanding;TR.FreeFloat;TR.FreeFloatPct();TR.CompanyMarketCap;TR.EV',{'Scale':6,'Curn':df.at[0,'Currency']})\n",
    "\n",
    "#calc implied profit\n",
    "dfGen['Implied Profit'] = (dfGen.at[0,'Price Target - Median']/dfGen.at[0,'Price Close'] - 1)*100\n",
    "\n",
    "# results as simple lists \n",
    "listGenNames = dfGen.columns.tolist()\n",
    "listGen = dfGen.iloc[0].tolist()\n",
    "listGen2Names = dfGen2.columns.tolist()\n",
    "listGen2 = dfGen2.iloc[0].tolist()\n",
    "\n",
    "#remove RIC\n",
    "listGenNames.pop(0)\n",
    "listGen.pop(0)\n",
    "listGen2Names.pop(0)\n",
    "listGen2.pop(0)\n",
    "\n",
    "dataDictGen= {'1': listGenNames, '2': listGen , '3': listGen2Names, '4': listGen2} \n",
    "dfGenX = pd.DataFrame(dataDictGen)  \n",
    "\n",
    "dfGenX"
   ]
  },
  {
   "cell_type": "markdown",
   "metadata": {},
   "source": [
    "## Consensus Recommendation"
   ]
  },
  {
   "cell_type": "code",
   "execution_count": 5,
   "metadata": {},
   "outputs": [
    {
     "data": {
      "text/html": [
       "<div>\n",
       "<style scoped>\n",
       "    .dataframe tbody tr th:only-of-type {\n",
       "        vertical-align: middle;\n",
       "    }\n",
       "\n",
       "    .dataframe tbody tr th {\n",
       "        vertical-align: top;\n",
       "    }\n",
       "\n",
       "    .dataframe thead th {\n",
       "        text-align: right;\n",
       "    }\n",
       "</style>\n",
       "<table border=\"1\" class=\"dataframe\">\n",
       "  <thead>\n",
       "    <tr style=\"text-align: right;\">\n",
       "      <th></th>\n",
       "      <th>Instrument</th>\n",
       "      <th>Recommendation - Mean Label</th>\n",
       "      <th>Recommendation - Number Of Total</th>\n",
       "      <th>Number of Analysts Revising Up</th>\n",
       "      <th>Number of Analysts Revising Down</th>\n",
       "    </tr>\n",
       "  </thead>\n",
       "  <tbody>\n",
       "    <tr>\n",
       "      <th>0</th>\n",
       "      <td>IBM.N</td>\n",
       "      <td>BUY</td>\n",
       "      <td>1970-01-01 00:00:00.000000023</td>\n",
       "      <td>3</td>\n",
       "      <td>5</td>\n",
       "    </tr>\n",
       "  </tbody>\n",
       "</table>\n",
       "</div>"
      ],
      "text/plain": [
       "  Instrument Recommendation - Mean Label Recommendation - Number Of Total  \\\n",
       "0      IBM.N                         BUY    1970-01-01 00:00:00.000000023   \n",
       "\n",
       "   Number of Analysts Revising Up  Number of Analysts Revising Down  \n",
       "0                               3                                 5  "
      ]
     },
     "execution_count": 5,
     "metadata": {},
     "output_type": "execute_result"
    }
   ],
   "source": [
    "df6 = ld.get_data(RIC, 'TR.RecLabel();TR.NumOfRecommendations();TR.NumEstRevisingUp;TR.NumEstRevisingDown',{'WP':'30d','EstimateMeasure':'EPS'})\n",
    "df6"
   ]
  },
  {
   "cell_type": "markdown",
   "metadata": {},
   "source": [
    "## Estimates"
   ]
  },
  {
   "cell_type": "code",
   "execution_count": 8,
   "metadata": {},
   "outputs": [],
   "source": [
    "#Retrieve Estimates into Data Frames per Period\n",
    "\n",
    "#FY0\n",
    "dfFY0 = ld.get_data(RIC, 'TR.RevenueActValue;TR.EBITDAActValue;TR.EPSActValue',\n",
    "                       {'Period':'FY0', 'Scale':'6', 'Curn':df.at[0,'Currency']})\n",
    "#FY1\n",
    "dfFY1 = ld.get_data(RIC, \n",
    "'TR.RevenueMeanEstimate;TR.RevenueHigh;TR.RevenueLow;TR.EBITDAMean;TR.EBITDAHigh;TR.EBITDALow;TR.EPSMeanEstimate;TR.EPSHigh;TR.EPSLow',\n",
    "                       {'Period':'FY1', 'scale':'6', 'curn':df.at[0,'Currency']})\n",
    "dfFY1_2 = ld.get_data(RIC, \n",
    "                           'TR.RevenueMeanEstimate; TR.EBITDAMean; TR.EPSMeanEstimate',\n",
    "    {'Period':'FY1','RollPeriods':'false','Scale': 6,'Curn':df.at[0,'Currency'],'SDate':'-1AM'})\n",
    "#FY2\n",
    "dfFY2 = ld.get_data(RIC, \n",
    "'TR.RevenueMeanEstimate;TR.RevenueHigh;TR.RevenueLow;TR.EBITDAMean;TR.EBITDAHigh;TR.EBITDALow;TR.EPSMeanEstimate;TR.EPSHigh;TR.EPSLow',\n",
    "                       {'Period':'FY2', 'scale':'6', 'curn':df.at[0,'Currency']})\n",
    "dfFY2_2 = ld.get_data(RIC, 'TR.RevenueMeanEstimate;TR.EBITDAMean;TR.EPSMeanEstimate',\n",
    "    {'Period':'FY2','RollPeriods':'false','Scale': 6,'Curn':df.at[0,'Currency'],'SDate':'-1AM'})\n",
    "\n",
    "### DEBUG display(dfFY0,dfFY1,dfFY1_2, dfFY2, dfFY2_2)"
   ]
  },
  {
   "cell_type": "code",
   "execution_count": 9,
   "metadata": {},
   "outputs": [
    {
     "data": {
      "text/html": [
       "<div>\n",
       "<style scoped>\n",
       "    .dataframe tbody tr th:only-of-type {\n",
       "        vertical-align: middle;\n",
       "    }\n",
       "\n",
       "    .dataframe tbody tr th {\n",
       "        vertical-align: top;\n",
       "    }\n",
       "\n",
       "    .dataframe thead th {\n",
       "        text-align: right;\n",
       "    }\n",
       "</style>\n",
       "<table border=\"1\" class=\"dataframe\">\n",
       "  <thead>\n",
       "    <tr style=\"text-align: right;\">\n",
       "      <th></th>\n",
       "      <th>Sales (MIL) Mean EST</th>\n",
       "      <th>High Est</th>\n",
       "      <th>Low Est</th>\n",
       "      <th>Est. 30 30 Days Ago</th>\n",
       "      <th>EBITDA (MIL) Mean Est.</th>\n",
       "      <th>High Est.</th>\n",
       "      <th>Low Est.</th>\n",
       "      <th>Est. 30 30 Days Ago.</th>\n",
       "      <th>EPS Mean Est.</th>\n",
       "      <th>High Est..</th>\n",
       "      <th>Low Est..</th>\n",
       "      <th>Est. 30 30 Days Ago..</th>\n",
       "    </tr>\n",
       "  </thead>\n",
       "  <tbody>\n",
       "    <tr>\n",
       "      <th>FY0 (Actual)</th>\n",
       "      <td>62753</td>\n",
       "      <td></td>\n",
       "      <td></td>\n",
       "      <td></td>\n",
       "      <td>16400</td>\n",
       "      <td></td>\n",
       "      <td></td>\n",
       "      <td></td>\n",
       "      <td>10.33</td>\n",
       "      <td></td>\n",
       "      <td></td>\n",
       "      <td></td>\n",
       "    </tr>\n",
       "    <tr>\n",
       "      <th>FY1 (Current Year)</th>\n",
       "      <td>65076.02167</td>\n",
       "      <td>66377</td>\n",
       "      <td>63800</td>\n",
       "      <td>64974.57225</td>\n",
       "      <td>17039.26313</td>\n",
       "      <td>18064</td>\n",
       "      <td>15860</td>\n",
       "      <td>17067.61713</td>\n",
       "      <td>10.76595</td>\n",
       "      <td>11.15</td>\n",
       "      <td>10.079</td>\n",
       "      <td>10.71837</td>\n",
       "    </tr>\n",
       "    <tr>\n",
       "      <th>% above/below mean</th>\n",
       "      <td></td>\n",
       "      <td>1.999167</td>\n",
       "      <td>-1.960817</td>\n",
       "      <td>-0.155894</td>\n",
       "      <td></td>\n",
       "      <td>6.013974</td>\n",
       "      <td>-6.920858</td>\n",
       "      <td>0.166404</td>\n",
       "      <td></td>\n",
       "      <td>3.567265</td>\n",
       "      <td>-6.380765</td>\n",
       "      <td>-0.441949</td>\n",
       "    </tr>\n",
       "    <tr>\n",
       "      <th>FY2 (Next Year)</th>\n",
       "      <td>68075.7141</td>\n",
       "      <td>70080</td>\n",
       "      <td>66440.044</td>\n",
       "      <td>68099.71453</td>\n",
       "      <td>17845.78863</td>\n",
       "      <td>19303.743</td>\n",
       "      <td>16800</td>\n",
       "      <td>17894.22313</td>\n",
       "      <td>11.42021</td>\n",
       "      <td>12.29</td>\n",
       "      <td>10.526</td>\n",
       "      <td>11.41222</td>\n",
       "    </tr>\n",
       "    <tr>\n",
       "      <th>% above/below mean</th>\n",
       "      <td></td>\n",
       "      <td>2.944201</td>\n",
       "      <td>-2.402722</td>\n",
       "      <td>0.035255</td>\n",
       "      <td></td>\n",
       "      <td>8.169739</td>\n",
       "      <td>-5.860142</td>\n",
       "      <td>0.271406</td>\n",
       "      <td></td>\n",
       "      <td>7.616235</td>\n",
       "      <td>-7.830066</td>\n",
       "      <td>-0.069964</td>\n",
       "    </tr>\n",
       "  </tbody>\n",
       "</table>\n",
       "</div>"
      ],
      "text/plain": [
       "                   Sales (MIL) Mean EST  High Est    Low Est  \\\n",
       "FY0 (Actual)                      62753                        \n",
       "FY1 (Current Year)          65076.02167     66377      63800   \n",
       "% above/below mean                       1.999167  -1.960817   \n",
       "FY2 (Next Year)              68075.7141     70080  66440.044   \n",
       "% above/below mean                       2.944201  -2.402722   \n",
       "\n",
       "                   Est. 30 30 Days Ago EBITDA (MIL) Mean Est.  High Est.  \\\n",
       "FY0 (Actual)                                            16400              \n",
       "FY1 (Current Year)         64974.57225            17039.26313      18064   \n",
       "% above/below mean           -0.155894                          6.013974   \n",
       "FY2 (Next Year)            68099.71453            17845.78863  19303.743   \n",
       "% above/below mean            0.035255                          8.169739   \n",
       "\n",
       "                    Low Est. Est. 30 30 Days Ago. EPS Mean Est. High Est..  \\\n",
       "FY0 (Actual)                                              10.33              \n",
       "FY1 (Current Year)     15860          17067.61713      10.76595      11.15   \n",
       "% above/below mean -6.920858             0.166404                 3.567265   \n",
       "FY2 (Next Year)        16800          17894.22313      11.42021      12.29   \n",
       "% above/below mean -5.860142             0.271406                 7.616235   \n",
       "\n",
       "                   Low Est.. Est. 30 30 Days Ago..  \n",
       "FY0 (Actual)                                        \n",
       "FY1 (Current Year)    10.079              10.71837  \n",
       "% above/below mean -6.380765             -0.441949  \n",
       "FY2 (Next Year)       10.526              11.41222  \n",
       "% above/below mean -7.830066             -0.069964  "
      ]
     },
     "execution_count": 9,
     "metadata": {},
     "output_type": "execute_result"
    }
   ],
   "source": [
    "#Create a dictionary out of results, and structure a single multi-row Data Frame\n",
    "\n",
    "# initialise results per column \n",
    "data = {'Sales (MIL) Mean EST':\n",
    "        [dfFY0.at[0,'Revenue - Actual'], dfFY1.at[0,'Revenue - Mean Estimate'],'',dfFY2.at[0,'Revenue - Mean Estimate'],''],\n",
    "       'High Est':\n",
    "       ['',dfFY1.at[0,'Revenue - High'],(dfFY1.at[0,'Revenue - High']/dfFY1.at[0,'Revenue - Mean Estimate']-1)*100,\n",
    "        dfFY2.at[0,'Revenue - High'],(dfFY2.at[0,'Revenue - High']/dfFY2.at[0,'Revenue - Mean Estimate']-1)*100],\n",
    "       'Low Est':\n",
    "       ['',dfFY1.at[0,'Revenue - Low'],(dfFY1.at[0,'Revenue - Low']/dfFY1.at[0,'Revenue - Mean Estimate']-1)*100,\n",
    "        dfFY2.at[0,'Revenue - Low'],(dfFY2.at[0,'Revenue - Low']/dfFY2.at[0,'Revenue - Mean Estimate']-1)*100],\n",
    "       'Est. 30 30 Days Ago':\n",
    "       ['',dfFY1_2.at[0,'Revenue - Mean Estimate'],(dfFY1_2.at[0,'Revenue - Mean Estimate']/dfFY1.at[0,'Revenue - Mean Estimate']-1)*100,\n",
    "        dfFY2_2.at[0,'Revenue - Mean Estimate'],(dfFY2_2.at[0,'Revenue - Mean Estimate']/dfFY2.at[0,'Revenue - Mean Estimate']-1)*100],\n",
    "       'EBITDA (MIL) Mean Est.':\n",
    "        [dfFY0.at[0,'EBITDA - Actual'],dfFY1.at[0,'EBITDA - Mean'],'',dfFY2.at[0,'EBITDA - Mean'],''],\n",
    "        'High Est.':\n",
    "        ['',dfFY1.at[0,'EBITDA - High'],(dfFY1.at[0,'EBITDA - High']/dfFY1.at[0,'EBITDA - Mean']-1)*100,\n",
    "         dfFY2.at[0,'EBITDA - High'],(dfFY2.at[0,'EBITDA - High']/dfFY2.at[0,'EBITDA - Mean']-1)*100],\n",
    "        'Low Est.':\n",
    "        ['',dfFY1.at[0,'EBITDA - Low'],(dfFY1.at[0,'EBITDA - Low']/dfFY1.at[0,'EBITDA - Mean']-1)*100,\n",
    "         dfFY2.at[0,'EBITDA - Low'],(dfFY2.at[0,'EBITDA - Low']/dfFY2.at[0,'EBITDA - Mean']-1)*100],\n",
    "        'Est. 30 30 Days Ago.':\n",
    "       ['',dfFY1_2.at[0,'EBITDA - Mean'],(dfFY1_2.at[0,'EBITDA - Mean']/dfFY1.at[0,'EBITDA - Mean']-1)*100,\n",
    "        dfFY2_2.at[0,'EBITDA - Mean'],(dfFY2_2.at[0,'EBITDA - Mean']/dfFY2.at[0,'EBITDA - Mean']-1)*100],\n",
    "        'EPS Mean Est.':\n",
    "        [dfFY0.at[0,'Earnings Per Share - Actual'], dfFY1.at[0,'Earnings Per Share - Mean Estimate'],'',\n",
    "         dfFY2.at[0,'Earnings Per Share - Mean Estimate'],''],\n",
    "        'High Est..':\n",
    "         ['',dfFY1.at[0,'Earnings Per Share - High'],(dfFY1.at[0,'Earnings Per Share - High']/dfFY1.at[0,'Earnings Per Share - Mean Estimate']-1)*100,\n",
    "        dfFY2.at[0,'Earnings Per Share - High'],(dfFY2.at[0,'Earnings Per Share - High']/dfFY2.at[0,'Earnings Per Share - Mean Estimate']-1)*100],\n",
    "        'Low Est..':\n",
    "         ['',dfFY1.at[0,'Earnings Per Share - Low'],(dfFY1.at[0,'Earnings Per Share - Low']/dfFY1.at[0,'Earnings Per Share - Mean Estimate']-1)*100,\n",
    "        dfFY2.at[0,'Earnings Per Share - Low'],(dfFY2.at[0,'Earnings Per Share - Low']/dfFY2.at[0,'Earnings Per Share - Mean Estimate']-1)*100],\n",
    "        'Est. 30 30 Days Ago..':\n",
    "        ['',dfFY1_2.at[0,'Earnings Per Share - Mean Estimate'],(dfFY1_2.at[0,'Earnings Per Share - Mean Estimate']/dfFY1.at[0,'Earnings Per Share - Mean Estimate']-1)*100,\n",
    "        dfFY2_2.at[0,'Earnings Per Share - Mean Estimate'],(dfFY2_2.at[0,'Earnings Per Share - Mean Estimate']/dfFY2.at[0,'Earnings Per Share - Mean Estimate']-1)*100]\n",
    "       }  \n",
    "  \n",
    "# Create Pandas DataFrame. \n",
    "dfMultiRow = pd.DataFrame(data, index =['FY0 (Actual)','FY1 (Current Year)', '% above/below mean','FY2 (Next Year)','% above/below mean' ]) \n",
    "                                             \n",
    "dfMultiRow                     "
   ]
  },
  {
   "cell_type": "markdown",
   "metadata": {},
   "source": [
    "# Valuation Ratios"
   ]
  },
  {
   "cell_type": "code",
   "execution_count": 10,
   "metadata": {},
   "outputs": [
    {
     "name": "stderr",
     "output_type": "stream",
     "text": [
      "C:\\Python312\\Lib\\site-packages\\pandas\\core\\dtypes\\cast.py:1056:RuntimeWarning: invalid value encountered in cast\n",
      "C:\\Python312\\Lib\\site-packages\\pandas\\core\\dtypes\\cast.py:1080:RuntimeWarning: invalid value encountered in cast\n"
     ]
    }
   ],
   "source": [
    "# Retrieve Valuation Ratios into DataFrames per period\n",
    "\n",
    "dfLTM = ld.get_data(RIC,'TR.PE;TR.PriceToSalesPerShare;TR.EVToSales;TR.EVToEBITDA',{'Sdate':'0D'})\n",
    "dfFY1 = ld.get_data(RIC, 'TR.PToEPSMeanEst;TR.PToREVMeanEst',{'Period':'FY1'})\n",
    "dfFY1_2 = ld.get_data(RIC,'TR.EV;TR.RevenueMeanEstimate,TR.EBITDAMean',{'Period':'FY1','Curn':df.at[0,'Currency']})\n",
    "dfFY2 = ld.get_data(RIC, 'TR.PToEPSMeanEst;TR.PToREVMeanEst',{'Period':'FY2'})\n",
    "dfFY2_2 = ld.get_data(RIC,'TR.EV;TR.RevenueMeanEstimate,TR.EBITDAMean',{'Period':'FY2','Curn':df.at[0,'Currency']})\n",
    "###DEBUG display(dfLTM,dfFY1,dfFY1_2,dfFY2, dfFY2_2)"
   ]
  },
  {
   "cell_type": "code",
   "execution_count": 11,
   "metadata": {},
   "outputs": [
    {
     "data": {
      "text/html": [
       "<div>\n",
       "<style scoped>\n",
       "    .dataframe tbody tr th:only-of-type {\n",
       "        vertical-align: middle;\n",
       "    }\n",
       "\n",
       "    .dataframe tbody tr th {\n",
       "        vertical-align: top;\n",
       "    }\n",
       "\n",
       "    .dataframe thead th {\n",
       "        text-align: right;\n",
       "    }\n",
       "</style>\n",
       "<table border=\"1\" class=\"dataframe\">\n",
       "  <thead>\n",
       "    <tr style=\"text-align: right;\">\n",
       "      <th></th>\n",
       "      <th>P/E</th>\n",
       "      <th>P/SALES</th>\n",
       "      <th>EV/REVS</th>\n",
       "      <th>EV/EBITDA</th>\n",
       "    </tr>\n",
       "  </thead>\n",
       "  <tbody>\n",
       "    <tr>\n",
       "      <th>LTM (Last Twelve Months)</th>\n",
       "      <td>34.255634</td>\n",
       "      <td>3.490429</td>\n",
       "      <td>4.135296</td>\n",
       "      <td>17.837942</td>\n",
       "    </tr>\n",
       "    <tr>\n",
       "      <th>FY1 (Current Year)</th>\n",
       "      <td>21.941399</td>\n",
       "      <td>3.365885</td>\n",
       "      <td>3.987742</td>\n",
       "      <td>15.229906</td>\n",
       "    </tr>\n",
       "    <tr>\n",
       "      <th>FY2 (Next Year)</th>\n",
       "      <td>20.684383</td>\n",
       "      <td>3.217570</td>\n",
       "      <td>3.812026</td>\n",
       "      <td>14.541603</td>\n",
       "    </tr>\n",
       "  </tbody>\n",
       "</table>\n",
       "</div>"
      ],
      "text/plain": [
       "                                P/E   P/SALES   EV/REVS  EV/EBITDA\n",
       "LTM (Last Twelve Months)  34.255634  3.490429  4.135296  17.837942\n",
       "FY1 (Current Year)        21.941399  3.365885  3.987742  15.229906\n",
       "FY2 (Next Year)           20.684383  3.217570  3.812026  14.541603"
      ]
     },
     "execution_count": 11,
     "metadata": {},
     "output_type": "execute_result"
    }
   ],
   "source": [
    "#Create a dictionary out of results, and structure a single multi-row Data Frame\n",
    "\n",
    "# Initialise results per column \n",
    "dataDict = {'P/E':\n",
    "        [dfLTM.at[0,'P/E (Daily Time Series Ratio)'], dfFY1.at[0,'Price / EPS (Mean Estimate)'], dfFY2.at[0,'Price / EPS (Mean Estimate)']],\n",
    "            'P/SALES':\n",
    "        [dfLTM.at[0,'Price To Sales Per Share (Daily Time Series Ratio)'], dfFY1.at[0,'Price / Revenue (Mean Estimate)'], dfFY2.at[0,'Price / Revenue (Mean Estimate)']],\n",
    "            'EV/REVS':\n",
    "                [dfLTM.at[0,'Enterprise Value To Sales (Daily Time Series Ratio)'], \n",
    "                 dfFY1_2.at[0,'Enterprise Value (Daily Time Series)']/dfFY1_2.at[0,'Revenue - Mean Estimate'], \n",
    "                 dfFY2_2.at[0,'Enterprise Value (Daily Time Series)']/dfFY2_2.at[0,'Revenue - Mean Estimate']],\n",
    "            \n",
    "            'EV/EBITDA':\n",
    "                [dfLTM.at[0,'Enterprise Value To EBITDA (Daily Time Series Ratio)'], \n",
    "                 dfFY1_2.at[0,'Enterprise Value (Daily Time Series)']/dfFY1_2.at[0,'EBITDA - Mean'], \n",
    "                 dfFY2_2.at[0,'Enterprise Value (Daily Time Series)']/dfFY2_2.at[0,'EBITDA - Mean']]\n",
    "}\n",
    "\n",
    "#Create Pandas DataFrame. \n",
    "dfMultiRow = pd.DataFrame(dataDict, index =['LTM (Last Twelve Months)','FY1 (Current Year)', 'FY2 (Next Year)']) \n",
    "dfMultiRow        "
   ]
  },
  {
   "cell_type": "markdown",
   "metadata": {},
   "source": [
    "## FY0 Per Share Metrics "
   ]
  },
  {
   "cell_type": "code",
   "execution_count": 12,
   "metadata": {},
   "outputs": [
    {
     "name": "stderr",
     "output_type": "stream",
     "text": [
      "C:\\Python312\\Lib\\site-packages\\lseg\\data\\_tools\\_dataframe.py:177:FutureWarning: Downcasting object dtype arrays on .fillna, .ffill, .bfill is deprecated and will change in a future version. Call result.infer_objects(copy=False) instead. To opt-in to the future behavior, set `pd.set_option('future.no_silent_downcasting', True)`\n"
     ]
    },
    {
     "data": {
      "text/html": [
       "<div>\n",
       "<style scoped>\n",
       "    .dataframe tbody tr th:only-of-type {\n",
       "        vertical-align: middle;\n",
       "    }\n",
       "\n",
       "    .dataframe tbody tr th {\n",
       "        vertical-align: top;\n",
       "    }\n",
       "\n",
       "    .dataframe thead th {\n",
       "        text-align: right;\n",
       "    }\n",
       "</style>\n",
       "<table border=\"1\" class=\"dataframe\">\n",
       "  <thead>\n",
       "    <tr style=\"text-align: right;\">\n",
       "      <th></th>\n",
       "      <th>Instrument</th>\n",
       "      <th>Total Cash &amp; ST Invest/Share</th>\n",
       "      <th>Wk Cap/Shr</th>\n",
       "      <th>Revenue Per Share</th>\n",
       "      <th>Cash Flow/Shr (dil.)</th>\n",
       "      <th>FOCF/Shr (dil.)</th>\n",
       "      <th>DPS - Common Stock Primary Issue</th>\n",
       "      <th>BOOKVALUEPERSHARE</th>\n",
       "      <th>Total Debt</th>\n",
       "    </tr>\n",
       "  </thead>\n",
       "  <tbody>\n",
       "    <tr>\n",
       "      <th>0</th>\n",
       "      <td>IBM.N</td>\n",
       "      <td>15.752085</td>\n",
       "      <td>1.446631</td>\n",
       "      <td>66.960731</td>\n",
       "      <td>11.883761</td>\n",
       "      <td>5.990431</td>\n",
       "      <td>6.67</td>\n",
       "      <td>&lt;NA&gt;</td>\n",
       "      <td>59.3475</td>\n",
       "    </tr>\n",
       "  </tbody>\n",
       "</table>\n",
       "</div>"
      ],
      "text/plain": [
       "  Instrument  Total Cash & ST Invest/Share  Wk Cap/Shr  Revenue Per Share  \\\n",
       "0      IBM.N                     15.752085    1.446631          66.960731   \n",
       "\n",
       "   Cash Flow/Shr (dil.)  FOCF/Shr (dil.)  DPS - Common Stock Primary Issue  \\\n",
       "0             11.883761         5.990431                              6.67   \n",
       "\n",
       "   BOOKVALUEPERSHARE  Total Debt  \n",
       "0               <NA>     59.3475  "
      ]
     },
     "execution_count": 12,
     "metadata": {},
     "output_type": "execute_result"
    }
   ],
   "source": [
    "dfFYOShare = ld.get_data(RIC ,['TR.TotCashAndShortTermInvestmentsperShare',\n",
    "'TR.WorkingCapitalperShare','BookValuePerShare','TR.RevenuePerShare','TR.CashFlowtoShrdil',\n",
    "'TR.FreeOperatingCashFlowperShareAvgDilutedSharesOut','TR.DPSCommonStock'], {'Period':'FY0','curn':df.at[0,'Currency']})\n",
    "dfFYOShare_2 = ld.get_data(RIC ,['TR.TotalDebt','TR.TtlCmnSharesOut'],{'Period':'FY0','curn':df.at[0,'Currency']})\n",
    "# additionally, calculate total debt\n",
    "dfFYOShare['Total Debt'] = [dfFYOShare_2.at[0,'Total Debt']/dfFYOShare_2.at[0,'Total Common Shares Outstanding']]\n",
    "dfFYOShare"
   ]
  },
  {
   "cell_type": "markdown",
   "metadata": {},
   "source": [
    "## FY0 Employee Data"
   ]
  },
  {
   "cell_type": "code",
   "execution_count": 13,
   "metadata": {},
   "outputs": [
    {
     "data": {
      "text/html": [
       "<div>\n",
       "<style scoped>\n",
       "    .dataframe tbody tr th:only-of-type {\n",
       "        vertical-align: middle;\n",
       "    }\n",
       "\n",
       "    .dataframe tbody tr th {\n",
       "        vertical-align: top;\n",
       "    }\n",
       "\n",
       "    .dataframe thead th {\n",
       "        text-align: right;\n",
       "    }\n",
       "</style>\n",
       "<table border=\"1\" class=\"dataframe\">\n",
       "  <thead>\n",
       "    <tr style=\"text-align: right;\">\n",
       "      <th></th>\n",
       "      <th>Instrument</th>\n",
       "      <th>Full-Time Employees</th>\n",
       "      <th>Revenue/Employee, FY</th>\n",
       "      <th>Empt Grth</th>\n",
       "      <th>5 yr Avg</th>\n",
       "    </tr>\n",
       "  </thead>\n",
       "  <tbody>\n",
       "    <tr>\n",
       "      <th>0</th>\n",
       "      <td>IBM.N</td>\n",
       "      <td>293400</td>\n",
       "      <td>209630.866878</td>\n",
       "      <td>0.038978</td>\n",
       "      <td>185091.26929</td>\n",
       "    </tr>\n",
       "  </tbody>\n",
       "</table>\n",
       "</div>"
      ],
      "text/plain": [
       "  Instrument  Full-Time Employees  Revenue/Employee, FY  Empt Grth  \\\n",
       "0      IBM.N               293400         209630.866878   0.038978   \n",
       "\n",
       "       5 yr Avg  \n",
       "0  185091.26929  "
      ]
     },
     "execution_count": 13,
     "metadata": {},
     "output_type": "execute_result"
    }
   ],
   "source": [
    "dfEmp = ld.get_data(RIC,'TR.Employees(Period=FY0),TR.RevenueperEmployeescalYrEnd(Period=FY0)')\n",
    "dfEmp_2= ld.get_data(RIC,'TR.Employees(Period=FY-1)')\n",
    "dfEmp_3 = ld.get_data(RIC,'TR.RevenueperEmployeescalYrEnd(Period=FY0,sdate=0D,Edate=-4FY,Frq=FY)')\n",
    "dfEmp['Empt Grth'] = (dfEmp_2.at[0,'Full-Time Employees']-dfEmp.at[0,'Full-Time Employees'])/dfEmp_2.at[0,'Full-Time Employees']\n",
    "dfEmp['5 yr Avg'] = dfEmp_3[\"Revenue/Employee, FY\"].mean()\n",
    "dfEmp"
   ]
  },
  {
   "cell_type": "markdown",
   "metadata": {},
   "source": [
    "## Abbreviated Financials"
   ]
  },
  {
   "cell_type": "markdown",
   "metadata": {},
   "source": [
    "### Income Statement (MIL)"
   ]
  },
  {
   "cell_type": "code",
   "execution_count": 14,
   "metadata": {
    "scrolled": true
   },
   "outputs": [
    {
     "data": {
      "text/html": [
       "<div>\n",
       "<style scoped>\n",
       "    .dataframe tbody tr th:only-of-type {\n",
       "        vertical-align: middle;\n",
       "    }\n",
       "\n",
       "    .dataframe tbody tr th {\n",
       "        vertical-align: top;\n",
       "    }\n",
       "\n",
       "    .dataframe thead th {\n",
       "        text-align: right;\n",
       "    }\n",
       "</style>\n",
       "<table border=\"1\" class=\"dataframe\">\n",
       "  <thead>\n",
       "    <tr style=\"text-align: right;\">\n",
       "      <th></th>\n",
       "      <th>FY0</th>\n",
       "      <th>FY-1</th>\n",
       "    </tr>\n",
       "  </thead>\n",
       "  <tbody>\n",
       "    <tr>\n",
       "      <th>Instrument</th>\n",
       "      <td>IBM.N</td>\n",
       "      <td>IBM.N</td>\n",
       "    </tr>\n",
       "    <tr>\n",
       "      <th>Total Revenue</th>\n",
       "      <td>62753</td>\n",
       "      <td>61860</td>\n",
       "    </tr>\n",
       "    <tr>\n",
       "      <th>Gross Profit</th>\n",
       "      <td>35552</td>\n",
       "      <td>34300</td>\n",
       "    </tr>\n",
       "    <tr>\n",
       "      <th>EBITDA</th>\n",
       "      <td>14435</td>\n",
       "      <td>13818</td>\n",
       "    </tr>\n",
       "    <tr>\n",
       "      <th>EBIT</th>\n",
       "      <td>9768</td>\n",
       "      <td>9422</td>\n",
       "    </tr>\n",
       "    <tr>\n",
       "      <th>Net Income Before Taxes</th>\n",
       "      <td>5797</td>\n",
       "      <td>8690</td>\n",
       "    </tr>\n",
       "    <tr>\n",
       "      <th>Net Income Incl Extra Before Distributions</th>\n",
       "      <td>6023</td>\n",
       "      <td>7502</td>\n",
       "    </tr>\n",
       "    <tr>\n",
       "      <th>Total Common Shares Outstanding</th>\n",
       "      <td>926.29007</td>\n",
       "      <td>915.01365</td>\n",
       "    </tr>\n",
       "  </tbody>\n",
       "</table>\n",
       "</div>"
      ],
      "text/plain": [
       "                                                  FY0       FY-1\n",
       "Instrument                                      IBM.N      IBM.N\n",
       "Total Revenue                                   62753      61860\n",
       "Gross Profit                                    35552      34300\n",
       "EBITDA                                          14435      13818\n",
       "EBIT                                             9768       9422\n",
       "Net Income Before Taxes                          5797       8690\n",
       "Net Income Incl Extra Before Distributions       6023       7502\n",
       "Total Common Shares Outstanding             926.29007  915.01365"
      ]
     },
     "execution_count": 14,
     "metadata": {},
     "output_type": "execute_result"
    }
   ],
   "source": [
    "dfFin = ld.get_data(RIC, 'TR.TotalRevenue;TR.GrossProfit;TR.EBITDA;TR.EBIT;TR.NetIncomeBeforeTaxes;TR.NetIncome;TR.TtlCmnSharesOut',{'Period':'FY0','Scale':'6','curn':df.at[0,'Currency']})\n",
    "dfFin2 = ld.get_data(RIC, 'TR.TotalRevenue;TR.GrossProfit;TR.EBITDA;TR.EBIT;TR.NetIncomeBeforeTaxes;TR.NetIncome;TR.TtlCmnSharesOut',{'Period':'FY-1','Scale':'6','curn':df.at[0,'Currency']})\n",
    "\n",
    "# results as simple lists \n",
    "listFin = dfFin.iloc[0].tolist() #select row 0, all columns\n",
    "listFin2 = dfFin2.iloc[0].tolist()\n",
    "\n",
    "# results as single dictionary\n",
    "dataDict2 = {'FY0': listFin, 'FY-1': listFin2 }\n",
    "\n",
    "# Pandas DataFrame from dictionary \n",
    "dfIncome = pd.DataFrame(dataDict2, index = dfFin.columns) \n",
    "dfIncome        "
   ]
  },
  {
   "cell_type": "markdown",
   "metadata": {},
   "source": [
    "### Balance Sheet (MIL)"
   ]
  },
  {
   "cell_type": "code",
   "execution_count": 15,
   "metadata": {},
   "outputs": [
    {
     "data": {
      "text/html": [
       "<div>\n",
       "<style scoped>\n",
       "    .dataframe tbody tr th:only-of-type {\n",
       "        vertical-align: middle;\n",
       "    }\n",
       "\n",
       "    .dataframe tbody tr th {\n",
       "        vertical-align: top;\n",
       "    }\n",
       "\n",
       "    .dataframe thead th {\n",
       "        text-align: right;\n",
       "    }\n",
       "</style>\n",
       "<table border=\"1\" class=\"dataframe\">\n",
       "  <thead>\n",
       "    <tr style=\"text-align: right;\">\n",
       "      <th></th>\n",
       "      <th>FY0</th>\n",
       "      <th>FY-1</th>\n",
       "    </tr>\n",
       "  </thead>\n",
       "  <tbody>\n",
       "    <tr>\n",
       "      <th>Instrument</th>\n",
       "      <td>IBM.N</td>\n",
       "      <td>IBM.N</td>\n",
       "    </tr>\n",
       "    <tr>\n",
       "      <th>Cash and Short Term Investments</th>\n",
       "      <td>14591</td>\n",
       "      <td>13441</td>\n",
       "    </tr>\n",
       "    <tr>\n",
       "      <th>Property/Plant/Equipment, Total - Net</th>\n",
       "      <td>8928</td>\n",
       "      <td>8721</td>\n",
       "    </tr>\n",
       "    <tr>\n",
       "      <th>Total Assets, Reported</th>\n",
       "      <td>137175</td>\n",
       "      <td>135241</td>\n",
       "    </tr>\n",
       "    <tr>\n",
       "      <th>Current Liabilities</th>\n",
       "      <td>33142</td>\n",
       "      <td>34122</td>\n",
       "    </tr>\n",
       "    <tr>\n",
       "      <th>Total Long Term Debt</th>\n",
       "      <td>49884</td>\n",
       "      <td>50121</td>\n",
       "    </tr>\n",
       "    <tr>\n",
       "      <th>Total Liabilities</th>\n",
       "      <td>109868</td>\n",
       "      <td>112708</td>\n",
       "    </tr>\n",
       "    <tr>\n",
       "      <th>Total Equity</th>\n",
       "      <td>27307</td>\n",
       "      <td>22533</td>\n",
       "    </tr>\n",
       "  </tbody>\n",
       "</table>\n",
       "</div>"
      ],
      "text/plain": [
       "                                          FY0    FY-1\n",
       "Instrument                              IBM.N   IBM.N\n",
       "Cash and Short Term Investments         14591   13441\n",
       "Property/Plant/Equipment, Total - Net    8928    8721\n",
       "Total Assets, Reported                 137175  135241\n",
       "Current Liabilities                     33142   34122\n",
       "Total Long Term Debt                    49884   50121\n",
       "Total Liabilities                      109868  112708\n",
       "Total Equity                            27307   22533"
      ]
     },
     "execution_count": 15,
     "metadata": {},
     "output_type": "execute_result"
    }
   ],
   "source": [
    "dfBal = ld.get_data(RIC, 'TR.CashAndSTInvestments;TR.PropertyPlantEquipmentTotalNet;TR.TotalAssetsReported;TR.CurrentLiabilities;TR.TotalLongTermDebt;TR.TotalLiabilities;TR.TotalEquity',{'Period':'FY0','Scale':6,'Curn':df.at[0,'Currency']})\n",
    "dfBal2 = ld.get_data(RIC, 'TR.CashAndSTInvestments;TR.PropertyPlantEquipmentTotalNet;TR.TotalAssetsReported;TR.CurrentLiabilities;TR.TotalLongTermDebt;TR.TotalLiabilities;TR.TotalEquity',{'Period':'FY-1','Scale':6,'Curn':df.at[0,'Currency']})\n",
    "\n",
    "# results as single dictionary\n",
    "dataDict3 = {'FY0': list(dfBal.iloc[0, :]), 'FY-1': list(dfBal2.iloc[0, :]) }\n",
    "\n",
    "# Pandas DataFrame from dictionary \n",
    "dfBalance= pd.DataFrame(dataDict3, index = dfBal.columns) \n",
    "dfBalance "
   ]
  },
  {
   "cell_type": "markdown",
   "metadata": {},
   "source": [
    "### Cash Flow Statement (MIL)"
   ]
  },
  {
   "cell_type": "code",
   "execution_count": 17,
   "metadata": {},
   "outputs": [
    {
     "data": {
      "text/html": [
       "<div>\n",
       "<style scoped>\n",
       "    .dataframe tbody tr th:only-of-type {\n",
       "        vertical-align: middle;\n",
       "    }\n",
       "\n",
       "    .dataframe tbody tr th {\n",
       "        vertical-align: top;\n",
       "    }\n",
       "\n",
       "    .dataframe thead th {\n",
       "        text-align: right;\n",
       "    }\n",
       "</style>\n",
       "<table border=\"1\" class=\"dataframe\">\n",
       "  <thead>\n",
       "    <tr style=\"text-align: right;\">\n",
       "      <th></th>\n",
       "      <th>FY0</th>\n",
       "      <th>FY-1</th>\n",
       "    </tr>\n",
       "  </thead>\n",
       "  <tbody>\n",
       "    <tr>\n",
       "      <th>Instrument</th>\n",
       "      <td>IBM.N</td>\n",
       "      <td>IBM.N</td>\n",
       "    </tr>\n",
       "    <tr>\n",
       "      <th>Cash from Operating Activities, Cumulative</th>\n",
       "      <td>13446</td>\n",
       "      <td>13931</td>\n",
       "    </tr>\n",
       "    <tr>\n",
       "      <th>Capital Expenditures, Cumulative</th>\n",
       "      <td>-1685</td>\n",
       "      <td>-1810</td>\n",
       "    </tr>\n",
       "    <tr>\n",
       "      <th>Cash from Investing Activities, Cumulative</th>\n",
       "      <td>-4937</td>\n",
       "      <td>-7070</td>\n",
       "    </tr>\n",
       "    <tr>\n",
       "      <th>TR.CASHDIVIDENDSPAID*-1</th>\n",
       "      <td>-6147</td>\n",
       "      <td>-6040</td>\n",
       "    </tr>\n",
       "    <tr>\n",
       "      <th>Cash from Financing Activities, Cumulative</th>\n",
       "      <td>-7079</td>\n",
       "      <td>-1769</td>\n",
       "    </tr>\n",
       "    <tr>\n",
       "      <th>Net Income</th>\n",
       "      <td>6023</td>\n",
       "      <td>7502</td>\n",
       "    </tr>\n",
       "    <tr>\n",
       "      <th>Cash From Operations</th>\n",
       "      <td>12132</td>\n",
       "      <td>11747</td>\n",
       "    </tr>\n",
       "  </tbody>\n",
       "</table>\n",
       "</div>"
      ],
      "text/plain": [
       "                                              FY0   FY-1\n",
       "Instrument                                  IBM.N  IBM.N\n",
       "Cash from Operating Activities, Cumulative  13446  13931\n",
       "Capital Expenditures, Cumulative            -1685  -1810\n",
       "Cash from Investing Activities, Cumulative  -4937  -7070\n",
       "TR.CASHDIVIDENDSPAID*-1                     -6147  -6040\n",
       "Cash from Financing Activities, Cumulative  -7079  -1769\n",
       "Net Income                                   6023   7502\n",
       "Cash From Operations                        12132  11747"
      ]
     },
     "execution_count": 17,
     "metadata": {},
     "output_type": "execute_result"
    }
   ],
   "source": [
    "dfCash = ld.get_data(RIC, 'TR.NetIncomeStartingLine',{'Period':'FY0','Scale':'6','curn':df.at[0,'Currency']})\n",
    "dfCash_2 = ld.get_data(RIC, 'TR.NetIncomeStartingLine,TR.DepreciationDepletion,TR.Amortization,TR.NonCashItems,TR.DeferredTaxes',{'Period':'FY0','Scale':'6','Curn':df.at[0,'Currency']})\n",
    "dfCash_3 = ld.get_data(RIC, 'TR.CashFromOperatingAct;TR.CapitalExpenditures;TR.CashFromInvestingAct;TR.CashDividendsPaid*-1;TR.CashFromFinancingAct',{'Period':'FY0','Scale':6,'Curn':df.at[0,'Currency']})\n",
    "#insert as columns, entincome and  sum of cash from operations\n",
    "dfCash_3['Net Income'] = [dfCash.at[0,'Net Income/Starting Line, Cumulative']]\n",
    "dfCash_3['Cash From Operations'] = [sum(list(dfCash_2.iloc[0, 1:]))]\n",
    "\n",
    "dfCash2 = ld.get_data(RIC, 'TR.NetIncomeStartingLine',{'Period':'FY-1','Scale':'6','curn':df.at[0,'Currency']})\n",
    "dfCash2_2 = ld.get_data(RIC, 'TR.NetIncomeStartingLine,TR.DepreciationDepletion,TR.Amortization,TR.NonCashItems,TR.DeferredTaxes',{'Period':'FY-1','Scale':'6','Curn':df.at[0,'Currency']})\n",
    "dfCash2_3 = ld.get_data(RIC, 'TR.CashFromOperatingAct;TR.CapitalExpenditures;TR.CashFromInvestingAct;TR.CashDividendsPaid*-1;TR.CashFromFinancingAct',{'Period':'FY-1','Scale':6,'Curn':df.at[0,'Currency']})\n",
    "#insert as columns, entincome and  sum of cash from operations\n",
    "dfCash2_3['Net Income'] = [dfCash2.at[0,'Net Income/Starting Line, Cumulative']]\n",
    "dfCash2_3['Cash From Operations'] = [sum(list(dfCash2_2.iloc[0, 1:]))]\n",
    "\n",
    "#DEBUG display(dfCash_3,dfCash2_3)\n",
    "\n",
    "# results as simple lists\n",
    "listCash = dfCash_3.iloc[0, :].tolist()\n",
    "listCash2 = dfCash2_3.iloc[0, :].tolist()\n",
    "\n",
    "\n",
    "# results as single dictionary\n",
    "dataDict3 = {'FY0': listCash, 'FY-1': listCash2 }\n",
    "#dataDict3\n",
    "\n",
    "# Pandas DataFrame from dictionary \n",
    "dfCashFlow = pd.DataFrame(dataDict3, index = dfCash_3.columns) \n",
    "dfCashFlow  "
   ]
  },
  {
   "cell_type": "markdown",
   "metadata": {},
   "source": [
    "## Review of Stock Performance "
   ]
  },
  {
   "cell_type": "markdown",
   "metadata": {},
   "source": [
    "### Price Actions"
   ]
  },
  {
   "cell_type": "code",
   "execution_count": 18,
   "metadata": {},
   "outputs": [
    {
     "data": {
      "text/html": [
       "        <script type=\"text/javascript\">\n",
       "        window.PlotlyConfig = {MathJaxConfig: 'local'};\n",
       "        if (window.MathJax && window.MathJax.Hub && window.MathJax.Hub.Config) {window.MathJax.Hub.Config({SVG: {font: \"STIX-Web\"}});}\n",
       "        </script>\n",
       "        <script type=\"module\">import \"https://cdn.plot.ly/plotly-3.0.1.min\"</script>\n",
       "        "
      ]
     },
     "metadata": {},
     "output_type": "display_data"
    },
    {
     "data": {
      "application/vnd.plotly.v1+json": {
       "config": {
        "plotlyServerURL": "https://plot.ly"
       },
       "data": [
        {
         "hovertemplate": "Names=%{x}<br>Periods=%{y}<extra></extra>",
         "legendgroup": "",
         "marker": {
          "color": "#636efa",
          "pattern": {
           "shape": ""
          }
         },
         "name": "",
         "orientation": "v",
         "showlegend": false,
         "textposition": "auto",
         "type": "bar",
         "x": [
          "TR.PRICEPCTCHG1M/100",
          "TR.PRICEPCTCHG3M/100",
          "TR.PRICEPCTCHG6M/100",
          "TR.PRICEPCTCHG1Y/100"
         ],
         "xaxis": "x",
         "y": {
          "bdata": "ohGLwJ4PoL9Qo2ToMU6rPxd1m4E9wJM/y7Rlny1C0z8=",
          "dtype": "f8"
         },
         "yaxis": "y"
        }
       ],
       "layout": {
        "barmode": "relative",
        "legend": {
         "tracegroupgap": 0
        },
        "margin": {
         "t": 60
        },
        "template": {
         "data": {
          "bar": [
           {
            "error_x": {
             "color": "#2a3f5f"
            },
            "error_y": {
             "color": "#2a3f5f"
            },
            "marker": {
             "line": {
              "color": "#E5ECF6",
              "width": 0.5
             },
             "pattern": {
              "fillmode": "overlay",
              "size": 10,
              "solidity": 0.2
             }
            },
            "type": "bar"
           }
          ],
          "barpolar": [
           {
            "marker": {
             "line": {
              "color": "#E5ECF6",
              "width": 0.5
             },
             "pattern": {
              "fillmode": "overlay",
              "size": 10,
              "solidity": 0.2
             }
            },
            "type": "barpolar"
           }
          ],
          "carpet": [
           {
            "aaxis": {
             "endlinecolor": "#2a3f5f",
             "gridcolor": "white",
             "linecolor": "white",
             "minorgridcolor": "white",
             "startlinecolor": "#2a3f5f"
            },
            "baxis": {
             "endlinecolor": "#2a3f5f",
             "gridcolor": "white",
             "linecolor": "white",
             "minorgridcolor": "white",
             "startlinecolor": "#2a3f5f"
            },
            "type": "carpet"
           }
          ],
          "choropleth": [
           {
            "colorbar": {
             "outlinewidth": 0,
             "ticks": ""
            },
            "type": "choropleth"
           }
          ],
          "contour": [
           {
            "colorbar": {
             "outlinewidth": 0,
             "ticks": ""
            },
            "colorscale": [
             [
              0,
              "#0d0887"
             ],
             [
              0.1111111111111111,
              "#46039f"
             ],
             [
              0.2222222222222222,
              "#7201a8"
             ],
             [
              0.3333333333333333,
              "#9c179e"
             ],
             [
              0.4444444444444444,
              "#bd3786"
             ],
             [
              0.5555555555555556,
              "#d8576b"
             ],
             [
              0.6666666666666666,
              "#ed7953"
             ],
             [
              0.7777777777777778,
              "#fb9f3a"
             ],
             [
              0.8888888888888888,
              "#fdca26"
             ],
             [
              1,
              "#f0f921"
             ]
            ],
            "type": "contour"
           }
          ],
          "contourcarpet": [
           {
            "colorbar": {
             "outlinewidth": 0,
             "ticks": ""
            },
            "type": "contourcarpet"
           }
          ],
          "heatmap": [
           {
            "colorbar": {
             "outlinewidth": 0,
             "ticks": ""
            },
            "colorscale": [
             [
              0,
              "#0d0887"
             ],
             [
              0.1111111111111111,
              "#46039f"
             ],
             [
              0.2222222222222222,
              "#7201a8"
             ],
             [
              0.3333333333333333,
              "#9c179e"
             ],
             [
              0.4444444444444444,
              "#bd3786"
             ],
             [
              0.5555555555555556,
              "#d8576b"
             ],
             [
              0.6666666666666666,
              "#ed7953"
             ],
             [
              0.7777777777777778,
              "#fb9f3a"
             ],
             [
              0.8888888888888888,
              "#fdca26"
             ],
             [
              1,
              "#f0f921"
             ]
            ],
            "type": "heatmap"
           }
          ],
          "histogram": [
           {
            "marker": {
             "pattern": {
              "fillmode": "overlay",
              "size": 10,
              "solidity": 0.2
             }
            },
            "type": "histogram"
           }
          ],
          "histogram2d": [
           {
            "colorbar": {
             "outlinewidth": 0,
             "ticks": ""
            },
            "colorscale": [
             [
              0,
              "#0d0887"
             ],
             [
              0.1111111111111111,
              "#46039f"
             ],
             [
              0.2222222222222222,
              "#7201a8"
             ],
             [
              0.3333333333333333,
              "#9c179e"
             ],
             [
              0.4444444444444444,
              "#bd3786"
             ],
             [
              0.5555555555555556,
              "#d8576b"
             ],
             [
              0.6666666666666666,
              "#ed7953"
             ],
             [
              0.7777777777777778,
              "#fb9f3a"
             ],
             [
              0.8888888888888888,
              "#fdca26"
             ],
             [
              1,
              "#f0f921"
             ]
            ],
            "type": "histogram2d"
           }
          ],
          "histogram2dcontour": [
           {
            "colorbar": {
             "outlinewidth": 0,
             "ticks": ""
            },
            "colorscale": [
             [
              0,
              "#0d0887"
             ],
             [
              0.1111111111111111,
              "#46039f"
             ],
             [
              0.2222222222222222,
              "#7201a8"
             ],
             [
              0.3333333333333333,
              "#9c179e"
             ],
             [
              0.4444444444444444,
              "#bd3786"
             ],
             [
              0.5555555555555556,
              "#d8576b"
             ],
             [
              0.6666666666666666,
              "#ed7953"
             ],
             [
              0.7777777777777778,
              "#fb9f3a"
             ],
             [
              0.8888888888888888,
              "#fdca26"
             ],
             [
              1,
              "#f0f921"
             ]
            ],
            "type": "histogram2dcontour"
           }
          ],
          "mesh3d": [
           {
            "colorbar": {
             "outlinewidth": 0,
             "ticks": ""
            },
            "type": "mesh3d"
           }
          ],
          "parcoords": [
           {
            "line": {
             "colorbar": {
              "outlinewidth": 0,
              "ticks": ""
             }
            },
            "type": "parcoords"
           }
          ],
          "pie": [
           {
            "automargin": true,
            "type": "pie"
           }
          ],
          "scatter": [
           {
            "fillpattern": {
             "fillmode": "overlay",
             "size": 10,
             "solidity": 0.2
            },
            "type": "scatter"
           }
          ],
          "scatter3d": [
           {
            "line": {
             "colorbar": {
              "outlinewidth": 0,
              "ticks": ""
             }
            },
            "marker": {
             "colorbar": {
              "outlinewidth": 0,
              "ticks": ""
             }
            },
            "type": "scatter3d"
           }
          ],
          "scattercarpet": [
           {
            "marker": {
             "colorbar": {
              "outlinewidth": 0,
              "ticks": ""
             }
            },
            "type": "scattercarpet"
           }
          ],
          "scattergeo": [
           {
            "marker": {
             "colorbar": {
              "outlinewidth": 0,
              "ticks": ""
             }
            },
            "type": "scattergeo"
           }
          ],
          "scattergl": [
           {
            "marker": {
             "colorbar": {
              "outlinewidth": 0,
              "ticks": ""
             }
            },
            "type": "scattergl"
           }
          ],
          "scattermap": [
           {
            "marker": {
             "colorbar": {
              "outlinewidth": 0,
              "ticks": ""
             }
            },
            "type": "scattermap"
           }
          ],
          "scattermapbox": [
           {
            "marker": {
             "colorbar": {
              "outlinewidth": 0,
              "ticks": ""
             }
            },
            "type": "scattermapbox"
           }
          ],
          "scatterpolar": [
           {
            "marker": {
             "colorbar": {
              "outlinewidth": 0,
              "ticks": ""
             }
            },
            "type": "scatterpolar"
           }
          ],
          "scatterpolargl": [
           {
            "marker": {
             "colorbar": {
              "outlinewidth": 0,
              "ticks": ""
             }
            },
            "type": "scatterpolargl"
           }
          ],
          "scatterternary": [
           {
            "marker": {
             "colorbar": {
              "outlinewidth": 0,
              "ticks": ""
             }
            },
            "type": "scatterternary"
           }
          ],
          "surface": [
           {
            "colorbar": {
             "outlinewidth": 0,
             "ticks": ""
            },
            "colorscale": [
             [
              0,
              "#0d0887"
             ],
             [
              0.1111111111111111,
              "#46039f"
             ],
             [
              0.2222222222222222,
              "#7201a8"
             ],
             [
              0.3333333333333333,
              "#9c179e"
             ],
             [
              0.4444444444444444,
              "#bd3786"
             ],
             [
              0.5555555555555556,
              "#d8576b"
             ],
             [
              0.6666666666666666,
              "#ed7953"
             ],
             [
              0.7777777777777778,
              "#fb9f3a"
             ],
             [
              0.8888888888888888,
              "#fdca26"
             ],
             [
              1,
              "#f0f921"
             ]
            ],
            "type": "surface"
           }
          ],
          "table": [
           {
            "cells": {
             "fill": {
              "color": "#EBF0F8"
             },
             "line": {
              "color": "white"
             }
            },
            "header": {
             "fill": {
              "color": "#C8D4E3"
             },
             "line": {
              "color": "white"
             }
            },
            "type": "table"
           }
          ]
         },
         "layout": {
          "annotationdefaults": {
           "arrowcolor": "#2a3f5f",
           "arrowhead": 0,
           "arrowwidth": 1
          },
          "autotypenumbers": "strict",
          "coloraxis": {
           "colorbar": {
            "outlinewidth": 0,
            "ticks": ""
           }
          },
          "colorscale": {
           "diverging": [
            [
             0,
             "#8e0152"
            ],
            [
             0.1,
             "#c51b7d"
            ],
            [
             0.2,
             "#de77ae"
            ],
            [
             0.3,
             "#f1b6da"
            ],
            [
             0.4,
             "#fde0ef"
            ],
            [
             0.5,
             "#f7f7f7"
            ],
            [
             0.6,
             "#e6f5d0"
            ],
            [
             0.7,
             "#b8e186"
            ],
            [
             0.8,
             "#7fbc41"
            ],
            [
             0.9,
             "#4d9221"
            ],
            [
             1,
             "#276419"
            ]
           ],
           "sequential": [
            [
             0,
             "#0d0887"
            ],
            [
             0.1111111111111111,
             "#46039f"
            ],
            [
             0.2222222222222222,
             "#7201a8"
            ],
            [
             0.3333333333333333,
             "#9c179e"
            ],
            [
             0.4444444444444444,
             "#bd3786"
            ],
            [
             0.5555555555555556,
             "#d8576b"
            ],
            [
             0.6666666666666666,
             "#ed7953"
            ],
            [
             0.7777777777777778,
             "#fb9f3a"
            ],
            [
             0.8888888888888888,
             "#fdca26"
            ],
            [
             1,
             "#f0f921"
            ]
           ],
           "sequentialminus": [
            [
             0,
             "#0d0887"
            ],
            [
             0.1111111111111111,
             "#46039f"
            ],
            [
             0.2222222222222222,
             "#7201a8"
            ],
            [
             0.3333333333333333,
             "#9c179e"
            ],
            [
             0.4444444444444444,
             "#bd3786"
            ],
            [
             0.5555555555555556,
             "#d8576b"
            ],
            [
             0.6666666666666666,
             "#ed7953"
            ],
            [
             0.7777777777777778,
             "#fb9f3a"
            ],
            [
             0.8888888888888888,
             "#fdca26"
            ],
            [
             1,
             "#f0f921"
            ]
           ]
          },
          "colorway": [
           "#636efa",
           "#EF553B",
           "#00cc96",
           "#ab63fa",
           "#FFA15A",
           "#19d3f3",
           "#FF6692",
           "#B6E880",
           "#FF97FF",
           "#FECB52"
          ],
          "font": {
           "color": "#2a3f5f"
          },
          "geo": {
           "bgcolor": "white",
           "lakecolor": "white",
           "landcolor": "#E5ECF6",
           "showlakes": true,
           "showland": true,
           "subunitcolor": "white"
          },
          "hoverlabel": {
           "align": "left"
          },
          "hovermode": "closest",
          "mapbox": {
           "style": "light"
          },
          "paper_bgcolor": "white",
          "plot_bgcolor": "#E5ECF6",
          "polar": {
           "angularaxis": {
            "gridcolor": "white",
            "linecolor": "white",
            "ticks": ""
           },
           "bgcolor": "#E5ECF6",
           "radialaxis": {
            "gridcolor": "white",
            "linecolor": "white",
            "ticks": ""
           }
          },
          "scene": {
           "xaxis": {
            "backgroundcolor": "#E5ECF6",
            "gridcolor": "white",
            "gridwidth": 2,
            "linecolor": "white",
            "showbackground": true,
            "ticks": "",
            "zerolinecolor": "white"
           },
           "yaxis": {
            "backgroundcolor": "#E5ECF6",
            "gridcolor": "white",
            "gridwidth": 2,
            "linecolor": "white",
            "showbackground": true,
            "ticks": "",
            "zerolinecolor": "white"
           },
           "zaxis": {
            "backgroundcolor": "#E5ECF6",
            "gridcolor": "white",
            "gridwidth": 2,
            "linecolor": "white",
            "showbackground": true,
            "ticks": "",
            "zerolinecolor": "white"
           }
          },
          "shapedefaults": {
           "line": {
            "color": "#2a3f5f"
           }
          },
          "ternary": {
           "aaxis": {
            "gridcolor": "white",
            "linecolor": "white",
            "ticks": ""
           },
           "baxis": {
            "gridcolor": "white",
            "linecolor": "white",
            "ticks": ""
           },
           "bgcolor": "#E5ECF6",
           "caxis": {
            "gridcolor": "white",
            "linecolor": "white",
            "ticks": ""
           }
          },
          "title": {
           "x": 0.05
          },
          "xaxis": {
           "automargin": true,
           "gridcolor": "white",
           "linecolor": "white",
           "ticks": "",
           "title": {
            "standoff": 15
           },
           "zerolinecolor": "white",
           "zerolinewidth": 2
          },
          "yaxis": {
           "automargin": true,
           "gridcolor": "white",
           "linecolor": "white",
           "ticks": "",
           "title": {
            "standoff": 15
           },
           "zerolinecolor": "white",
           "zerolinewidth": 2
          }
         }
        },
        "xaxis": {
         "anchor": "y",
         "domain": [
          0,
          1
         ],
         "title": {
          "text": "Names"
         }
        },
        "yaxis": {
         "anchor": "x",
         "domain": [
          0,
          1
         ],
         "title": {
          "text": "Periods"
         }
        }
       }
      },
      "text/html": [
       "<div>            <script src=\"https://cdnjs.cloudflare.com/ajax/libs/mathjax/2.7.5/MathJax.js?config=TeX-AMS-MML_SVG\"></script><script type=\"text/javascript\">if (window.MathJax && window.MathJax.Hub && window.MathJax.Hub.Config) {window.MathJax.Hub.Config({SVG: {font: \"STIX-Web\"}});}</script>                <script type=\"text/javascript\">window.PlotlyConfig = {MathJaxConfig: 'local'};</script>\n",
       "        <script charset=\"utf-8\" src=\"https://cdn.plot.ly/plotly-3.0.1.min.js\"></script>                <div id=\"11ef28bc-855c-4f28-8ff5-d1188b31786a\" class=\"plotly-graph-div\" style=\"height:525px; width:100%;\"></div>            <script type=\"text/javascript\">                window.PLOTLYENV=window.PLOTLYENV || {};                                if (document.getElementById(\"11ef28bc-855c-4f28-8ff5-d1188b31786a\")) {                    Plotly.newPlot(                        \"11ef28bc-855c-4f28-8ff5-d1188b31786a\",                        [{\"hovertemplate\":\"Names=%{x}\\u003cbr\\u003ePeriods=%{y}\\u003cextra\\u003e\\u003c\\u002fextra\\u003e\",\"legendgroup\":\"\",\"marker\":{\"color\":\"#636efa\",\"pattern\":{\"shape\":\"\"}},\"name\":\"\",\"orientation\":\"v\",\"showlegend\":false,\"textposition\":\"auto\",\"x\":[\"TR.PRICEPCTCHG1M\\u002f100\",\"TR.PRICEPCTCHG3M\\u002f100\",\"TR.PRICEPCTCHG6M\\u002f100\",\"TR.PRICEPCTCHG1Y\\u002f100\"],\"xaxis\":\"x\",\"y\":{\"dtype\":\"f8\",\"bdata\":\"ohGLwJ4PoL9Qo2ToMU6rPxd1m4E9wJM\\u002fy7Rlny1C0z8=\"},\"yaxis\":\"y\",\"type\":\"bar\"}],                        {\"template\":{\"data\":{\"histogram2dcontour\":[{\"type\":\"histogram2dcontour\",\"colorbar\":{\"outlinewidth\":0,\"ticks\":\"\"},\"colorscale\":[[0.0,\"#0d0887\"],[0.1111111111111111,\"#46039f\"],[0.2222222222222222,\"#7201a8\"],[0.3333333333333333,\"#9c179e\"],[0.4444444444444444,\"#bd3786\"],[0.5555555555555556,\"#d8576b\"],[0.6666666666666666,\"#ed7953\"],[0.7777777777777778,\"#fb9f3a\"],[0.8888888888888888,\"#fdca26\"],[1.0,\"#f0f921\"]]}],\"choropleth\":[{\"type\":\"choropleth\",\"colorbar\":{\"outlinewidth\":0,\"ticks\":\"\"}}],\"histogram2d\":[{\"type\":\"histogram2d\",\"colorbar\":{\"outlinewidth\":0,\"ticks\":\"\"},\"colorscale\":[[0.0,\"#0d0887\"],[0.1111111111111111,\"#46039f\"],[0.2222222222222222,\"#7201a8\"],[0.3333333333333333,\"#9c179e\"],[0.4444444444444444,\"#bd3786\"],[0.5555555555555556,\"#d8576b\"],[0.6666666666666666,\"#ed7953\"],[0.7777777777777778,\"#fb9f3a\"],[0.8888888888888888,\"#fdca26\"],[1.0,\"#f0f921\"]]}],\"heatmap\":[{\"type\":\"heatmap\",\"colorbar\":{\"outlinewidth\":0,\"ticks\":\"\"},\"colorscale\":[[0.0,\"#0d0887\"],[0.1111111111111111,\"#46039f\"],[0.2222222222222222,\"#7201a8\"],[0.3333333333333333,\"#9c179e\"],[0.4444444444444444,\"#bd3786\"],[0.5555555555555556,\"#d8576b\"],[0.6666666666666666,\"#ed7953\"],[0.7777777777777778,\"#fb9f3a\"],[0.8888888888888888,\"#fdca26\"],[1.0,\"#f0f921\"]]}],\"contourcarpet\":[{\"type\":\"contourcarpet\",\"colorbar\":{\"outlinewidth\":0,\"ticks\":\"\"}}],\"contour\":[{\"type\":\"contour\",\"colorbar\":{\"outlinewidth\":0,\"ticks\":\"\"},\"colorscale\":[[0.0,\"#0d0887\"],[0.1111111111111111,\"#46039f\"],[0.2222222222222222,\"#7201a8\"],[0.3333333333333333,\"#9c179e\"],[0.4444444444444444,\"#bd3786\"],[0.5555555555555556,\"#d8576b\"],[0.6666666666666666,\"#ed7953\"],[0.7777777777777778,\"#fb9f3a\"],[0.8888888888888888,\"#fdca26\"],[1.0,\"#f0f921\"]]}],\"surface\":[{\"type\":\"surface\",\"colorbar\":{\"outlinewidth\":0,\"ticks\":\"\"},\"colorscale\":[[0.0,\"#0d0887\"],[0.1111111111111111,\"#46039f\"],[0.2222222222222222,\"#7201a8\"],[0.3333333333333333,\"#9c179e\"],[0.4444444444444444,\"#bd3786\"],[0.5555555555555556,\"#d8576b\"],[0.6666666666666666,\"#ed7953\"],[0.7777777777777778,\"#fb9f3a\"],[0.8888888888888888,\"#fdca26\"],[1.0,\"#f0f921\"]]}],\"mesh3d\":[{\"type\":\"mesh3d\",\"colorbar\":{\"outlinewidth\":0,\"ticks\":\"\"}}],\"scatter\":[{\"fillpattern\":{\"fillmode\":\"overlay\",\"size\":10,\"solidity\":0.2},\"type\":\"scatter\"}],\"parcoords\":[{\"type\":\"parcoords\",\"line\":{\"colorbar\":{\"outlinewidth\":0,\"ticks\":\"\"}}}],\"scatterpolargl\":[{\"type\":\"scatterpolargl\",\"marker\":{\"colorbar\":{\"outlinewidth\":0,\"ticks\":\"\"}}}],\"bar\":[{\"error_x\":{\"color\":\"#2a3f5f\"},\"error_y\":{\"color\":\"#2a3f5f\"},\"marker\":{\"line\":{\"color\":\"#E5ECF6\",\"width\":0.5},\"pattern\":{\"fillmode\":\"overlay\",\"size\":10,\"solidity\":0.2}},\"type\":\"bar\"}],\"scattergeo\":[{\"type\":\"scattergeo\",\"marker\":{\"colorbar\":{\"outlinewidth\":0,\"ticks\":\"\"}}}],\"scatterpolar\":[{\"type\":\"scatterpolar\",\"marker\":{\"colorbar\":{\"outlinewidth\":0,\"ticks\":\"\"}}}],\"histogram\":[{\"marker\":{\"pattern\":{\"fillmode\":\"overlay\",\"size\":10,\"solidity\":0.2}},\"type\":\"histogram\"}],\"scattergl\":[{\"type\":\"scattergl\",\"marker\":{\"colorbar\":{\"outlinewidth\":0,\"ticks\":\"\"}}}],\"scatter3d\":[{\"type\":\"scatter3d\",\"line\":{\"colorbar\":{\"outlinewidth\":0,\"ticks\":\"\"}},\"marker\":{\"colorbar\":{\"outlinewidth\":0,\"ticks\":\"\"}}}],\"scattermap\":[{\"type\":\"scattermap\",\"marker\":{\"colorbar\":{\"outlinewidth\":0,\"ticks\":\"\"}}}],\"scattermapbox\":[{\"type\":\"scattermapbox\",\"marker\":{\"colorbar\":{\"outlinewidth\":0,\"ticks\":\"\"}}}],\"scatterternary\":[{\"type\":\"scatterternary\",\"marker\":{\"colorbar\":{\"outlinewidth\":0,\"ticks\":\"\"}}}],\"scattercarpet\":[{\"type\":\"scattercarpet\",\"marker\":{\"colorbar\":{\"outlinewidth\":0,\"ticks\":\"\"}}}],\"carpet\":[{\"aaxis\":{\"endlinecolor\":\"#2a3f5f\",\"gridcolor\":\"white\",\"linecolor\":\"white\",\"minorgridcolor\":\"white\",\"startlinecolor\":\"#2a3f5f\"},\"baxis\":{\"endlinecolor\":\"#2a3f5f\",\"gridcolor\":\"white\",\"linecolor\":\"white\",\"minorgridcolor\":\"white\",\"startlinecolor\":\"#2a3f5f\"},\"type\":\"carpet\"}],\"table\":[{\"cells\":{\"fill\":{\"color\":\"#EBF0F8\"},\"line\":{\"color\":\"white\"}},\"header\":{\"fill\":{\"color\":\"#C8D4E3\"},\"line\":{\"color\":\"white\"}},\"type\":\"table\"}],\"barpolar\":[{\"marker\":{\"line\":{\"color\":\"#E5ECF6\",\"width\":0.5},\"pattern\":{\"fillmode\":\"overlay\",\"size\":10,\"solidity\":0.2}},\"type\":\"barpolar\"}],\"pie\":[{\"automargin\":true,\"type\":\"pie\"}]},\"layout\":{\"autotypenumbers\":\"strict\",\"colorway\":[\"#636efa\",\"#EF553B\",\"#00cc96\",\"#ab63fa\",\"#FFA15A\",\"#19d3f3\",\"#FF6692\",\"#B6E880\",\"#FF97FF\",\"#FECB52\"],\"font\":{\"color\":\"#2a3f5f\"},\"hovermode\":\"closest\",\"hoverlabel\":{\"align\":\"left\"},\"paper_bgcolor\":\"white\",\"plot_bgcolor\":\"#E5ECF6\",\"polar\":{\"bgcolor\":\"#E5ECF6\",\"angularaxis\":{\"gridcolor\":\"white\",\"linecolor\":\"white\",\"ticks\":\"\"},\"radialaxis\":{\"gridcolor\":\"white\",\"linecolor\":\"white\",\"ticks\":\"\"}},\"ternary\":{\"bgcolor\":\"#E5ECF6\",\"aaxis\":{\"gridcolor\":\"white\",\"linecolor\":\"white\",\"ticks\":\"\"},\"baxis\":{\"gridcolor\":\"white\",\"linecolor\":\"white\",\"ticks\":\"\"},\"caxis\":{\"gridcolor\":\"white\",\"linecolor\":\"white\",\"ticks\":\"\"}},\"coloraxis\":{\"colorbar\":{\"outlinewidth\":0,\"ticks\":\"\"}},\"colorscale\":{\"sequential\":[[0.0,\"#0d0887\"],[0.1111111111111111,\"#46039f\"],[0.2222222222222222,\"#7201a8\"],[0.3333333333333333,\"#9c179e\"],[0.4444444444444444,\"#bd3786\"],[0.5555555555555556,\"#d8576b\"],[0.6666666666666666,\"#ed7953\"],[0.7777777777777778,\"#fb9f3a\"],[0.8888888888888888,\"#fdca26\"],[1.0,\"#f0f921\"]],\"sequentialminus\":[[0.0,\"#0d0887\"],[0.1111111111111111,\"#46039f\"],[0.2222222222222222,\"#7201a8\"],[0.3333333333333333,\"#9c179e\"],[0.4444444444444444,\"#bd3786\"],[0.5555555555555556,\"#d8576b\"],[0.6666666666666666,\"#ed7953\"],[0.7777777777777778,\"#fb9f3a\"],[0.8888888888888888,\"#fdca26\"],[1.0,\"#f0f921\"]],\"diverging\":[[0,\"#8e0152\"],[0.1,\"#c51b7d\"],[0.2,\"#de77ae\"],[0.3,\"#f1b6da\"],[0.4,\"#fde0ef\"],[0.5,\"#f7f7f7\"],[0.6,\"#e6f5d0\"],[0.7,\"#b8e186\"],[0.8,\"#7fbc41\"],[0.9,\"#4d9221\"],[1,\"#276419\"]]},\"xaxis\":{\"gridcolor\":\"white\",\"linecolor\":\"white\",\"ticks\":\"\",\"title\":{\"standoff\":15},\"zerolinecolor\":\"white\",\"automargin\":true,\"zerolinewidth\":2},\"yaxis\":{\"gridcolor\":\"white\",\"linecolor\":\"white\",\"ticks\":\"\",\"title\":{\"standoff\":15},\"zerolinecolor\":\"white\",\"automargin\":true,\"zerolinewidth\":2},\"scene\":{\"xaxis\":{\"backgroundcolor\":\"#E5ECF6\",\"gridcolor\":\"white\",\"linecolor\":\"white\",\"showbackground\":true,\"ticks\":\"\",\"zerolinecolor\":\"white\",\"gridwidth\":2},\"yaxis\":{\"backgroundcolor\":\"#E5ECF6\",\"gridcolor\":\"white\",\"linecolor\":\"white\",\"showbackground\":true,\"ticks\":\"\",\"zerolinecolor\":\"white\",\"gridwidth\":2},\"zaxis\":{\"backgroundcolor\":\"#E5ECF6\",\"gridcolor\":\"white\",\"linecolor\":\"white\",\"showbackground\":true,\"ticks\":\"\",\"zerolinecolor\":\"white\",\"gridwidth\":2}},\"shapedefaults\":{\"line\":{\"color\":\"#2a3f5f\"}},\"annotationdefaults\":{\"arrowcolor\":\"#2a3f5f\",\"arrowhead\":0,\"arrowwidth\":1},\"geo\":{\"bgcolor\":\"white\",\"landcolor\":\"#E5ECF6\",\"subunitcolor\":\"white\",\"showland\":true,\"showlakes\":true,\"lakecolor\":\"white\"},\"title\":{\"x\":0.05},\"mapbox\":{\"style\":\"light\"}}},\"xaxis\":{\"anchor\":\"y\",\"domain\":[0.0,1.0],\"title\":{\"text\":\"Names\"}},\"yaxis\":{\"anchor\":\"x\",\"domain\":[0.0,1.0],\"title\":{\"text\":\"Periods\"}},\"legend\":{\"tracegroupgap\":0},\"margin\":{\"t\":60},\"barmode\":\"relative\"},                        {\"responsive\": true}                    ).then(function(){\n",
       "                            \n",
       "var gd = document.getElementById('11ef28bc-855c-4f28-8ff5-d1188b31786a');\n",
       "var x = new MutationObserver(function (mutations, observer) {{\n",
       "        var display = window.getComputedStyle(gd).display;\n",
       "        if (!display || display === 'none') {{\n",
       "            console.log([gd, 'removed!']);\n",
       "            Plotly.purge(gd);\n",
       "            observer.disconnect();\n",
       "        }}\n",
       "}});\n",
       "\n",
       "// Listen for the removal of the full notebook cells\n",
       "var notebookContainer = gd.closest('#notebook-container');\n",
       "if (notebookContainer) {{\n",
       "    x.observe(notebookContainer, {childList: true});\n",
       "}}\n",
       "\n",
       "// Listen for the clearing of the current output cell\n",
       "var outputEl = gd.closest('.output');\n",
       "if (outputEl) {{\n",
       "    x.observe(outputEl, {childList: true});\n",
       "}}\n",
       "\n",
       "                        })                };            </script>        </div>"
      ]
     },
     "metadata": {},
     "output_type": "display_data"
    }
   ],
   "source": [
    "# retrieve percentage changes\n",
    "dfPriceActions = ld.get_data(RIC, 'TR.PricePctChg1M/100;TR.PricePctChg3M/100;TR.PricePctChg6M/100;TR.PricePctChg1Y/100')\n",
    "dfPriceActions\n",
    "\n",
    "#create lists out of results \n",
    "listNames = dfPriceActions.columns.tolist()\n",
    "listPA = dfPriceActions.iloc[0, :].tolist()\n",
    "\n",
    "# remove the first element, it's header\n",
    "listNames.pop(0)\n",
    "listPA.pop(0)\n",
    "#display(listNames, listPA)\n",
    "\n",
    "# Pandas DataFrame from dictionary\n",
    "dataDictPA = {'Names': listNames, 'Periods': listPA } \n",
    "dfPA = pd.DataFrame(dataDictPA, index = listNames) \n",
    "\n",
    "\n",
    "import plotly.graph_objects as go\n",
    "import plotly.express as px\n",
    "import plotly.offline as pyof\n",
    "pyof.init_notebook_mode(connected=True)\n",
    "\n",
    "fig = px.bar(dfPA, x='Names', y='Periods')\n",
    "fig\n",
    "\n"
   ]
  },
  {
   "cell_type": "markdown",
   "metadata": {},
   "source": [
    "### Profitability "
   ]
  },
  {
   "cell_type": "code",
   "execution_count": 20,
   "metadata": {},
   "outputs": [
    {
     "data": {
      "text/html": [
       "<div>\n",
       "<style scoped>\n",
       "    .dataframe tbody tr th:only-of-type {\n",
       "        vertical-align: middle;\n",
       "    }\n",
       "\n",
       "    .dataframe tbody tr th {\n",
       "        vertical-align: top;\n",
       "    }\n",
       "\n",
       "    .dataframe thead th {\n",
       "        text-align: right;\n",
       "    }\n",
       "</style>\n",
       "<table border=\"1\" class=\"dataframe\">\n",
       "  <thead>\n",
       "    <tr style=\"text-align: right;\">\n",
       "      <th></th>\n",
       "      <th>FY0</th>\n",
       "      <th>5 Year Avg</th>\n",
       "    </tr>\n",
       "  </thead>\n",
       "  <tbody>\n",
       "    <tr>\n",
       "      <th>Gross Margin</th>\n",
       "      <td>56.653870</td>\n",
       "      <td>55.393184</td>\n",
       "    </tr>\n",
       "    <tr>\n",
       "      <th>R/D % Sales</th>\n",
       "      <td>0.119182</td>\n",
       "      <td>0.112762</td>\n",
       "    </tr>\n",
       "    <tr>\n",
       "      <th>SGA % Sales</th>\n",
       "      <td>0.303507</td>\n",
       "      <td>0.314336</td>\n",
       "    </tr>\n",
       "    <tr>\n",
       "      <th>EBITDA Margin</th>\n",
       "      <td>23.002884</td>\n",
       "      <td>22.602059</td>\n",
       "    </tr>\n",
       "    <tr>\n",
       "      <th>Operating Margin</th>\n",
       "      <td>9.237805</td>\n",
       "      <td>7.744094</td>\n",
       "    </tr>\n",
       "    <tr>\n",
       "      <th>Pretax Margin</th>\n",
       "      <td>9.237810</td>\n",
       "      <td>7.744094</td>\n",
       "    </tr>\n",
       "    <tr>\n",
       "      <th>Net Margin</th>\n",
       "      <td>10.310260</td>\n",
       "      <td>8.199293</td>\n",
       "    </tr>\n",
       "    <tr>\n",
       "      <th>CF/Sales</th>\n",
       "      <td>0.177474</td>\n",
       "      <td>0.172620</td>\n",
       "    </tr>\n",
       "    <tr>\n",
       "      <th>Tax Rate</th>\n",
       "      <td>-11.609453</td>\n",
       "      <td>-0.058780</td>\n",
       "    </tr>\n",
       "    <tr>\n",
       "      <th>ROA</th>\n",
       "      <td>4.750088</td>\n",
       "      <td>3.511109</td>\n",
       "    </tr>\n",
       "    <tr>\n",
       "      <th>ROE</th>\n",
       "      <td>25.963082</td>\n",
       "      <td>22.262804</td>\n",
       "    </tr>\n",
       "  </tbody>\n",
       "</table>\n",
       "</div>"
      ],
      "text/plain": [
       "                        FY0  5 Year Avg\n",
       "Gross Margin      56.653870   55.393184\n",
       "R/D % Sales        0.119182    0.112762\n",
       "SGA % Sales        0.303507    0.314336\n",
       "EBITDA Margin     23.002884   22.602059\n",
       "Operating Margin   9.237805    7.744094\n",
       "Pretax Margin      9.237810    7.744094\n",
       "Net Margin        10.310260    8.199293\n",
       "CF/Sales           0.177474    0.172620\n",
       "Tax Rate         -11.609453   -0.058780\n",
       "ROA                4.750088    3.511109\n",
       "ROE               25.963082   22.262804"
      ]
     },
     "execution_count": 20,
     "metadata": {},
     "output_type": "execute_result"
    }
   ],
   "source": [
    "dfProfit = ld.get_data(RIC, 'TR.GrossMargin;TR.ResearchAndDevelopment;TR.TotalRevenue;TR.SGAExpenseTotal;TR.EBITDAMarginPercent;TR.OperProfitMarginPct;TR.PretaxMarginPercent;TR.NetProfitMargin;TR.CashFlowMarginPercent/100;TR.IncomeTaxRatePct;TR.ROATotalAssetsPercent;TR.ReturnonAvgTotEqtyPctNetIncomeBeforeExtraItems',{'Period':'FY0'})\n",
    "#dfProfit   \n",
    "dfProfit2 = ld.get_data(RIC, \n",
    "    'TR.GrossProfitMarginPct5YrAvg();TR.EBITDAMarginPct5YrAvg;TR.OperatingProfitMarginPct5YrAvg;TR.IncomeBefTaxMarginpct5YrAvg();TR.IncomeAftTaxMarginpct5YrAvg();TR.CashFlowMarginPct5YrAvg()/100;TR.IncomeTaxRatePct5YrAvg()/100;TR.ReturnonAvgTotAssetsPctIncomeAfterTax5YrAvg')\n",
    "dfProfit3 = ld.get_data(RIC, 'TR.ResearchAndDevelopment(),TR.TotalRevenue(),TR.SGAExpenseTotal,TR.ReturnonAvgTotEqtyPctNetIncomeBeforeExtraItems',{'Period':'FY0','Sdate':0,'Edate':-4,'Frq':'FY'})\n",
    "dfProfit3['RAD over TR'] = dfProfit3['Research And Development']/dfProfit3['Total Revenue']\n",
    "dfProfit3['SGA over TR'] = dfProfit3['Selling/General/Administrative Expense, Total']/dfProfit3['Total Revenue']\n",
    "#dfProfit2\n",
    "\n",
    "#Create a dictionary out of results, and structure a single multi-row Data Frame\n",
    "# initialise results per column \n",
    "dataDictProfit = {'FY0':\n",
    "        [dfProfit.at[0,'Gross Margin, Percent'],  dfProfit.at[0,'Research And Development']/dfProfit.at[0,'Total Revenue'],\n",
    "        dfProfit.at[0,'Selling/General/Administrative Expense, Total']/dfProfit.at[0,'Total Revenue'],\n",
    "        dfProfit.at[0,'EBITDA Margin, Percent'],dfProfit.at[0,'Operating Profit Margin, Percent'],\n",
    "        dfProfit.at[0,'Pretax Margin, Percent'],dfProfit.at[0,'Net Profit Margin, (%)'],\n",
    "        dfProfit.at[0,'TR.CASHFLOWMARGINPERCENT/100'],dfProfit.at[0,'Income Tax Rate, %'],\n",
    "        dfProfit.at[0,'ROA Total Assets, Percent'],dfProfit.at[0,'ROE Total Equity %']\n",
    "    ]\n",
    "        ,'5 Year Avg':[dfProfit2.at[0,'Gross Profit Margin, %, 5 Yr Avg'],dfProfit3['RAD over TR'].mean(),\n",
    "                       dfProfit3['SGA over TR'].mean(), dfProfit2.at[0,'EBITDA Margin, %, 5 Yr Avg'],\n",
    "                       dfProfit2.at[0,'Oper Profit Margin, %, 5 Yr Avg'],dfProfit2.at[0,'Income Bef Tax Margin, %, 5 Yr Avg'],\n",
    "                       dfProfit2.at[0,'Income Aft Tax Margin, %, 5 Yr Avg'],dfProfit2.at[0,'TR.CASHFLOWMARGINPCT5YRAVG()/100'],\n",
    "                       dfProfit2.at[0,'TR.INCOMETAXRATEPCT5YRAVG()/100'],dfProfit2.at[0,'ROA Tot Assets, %, 5 Yr Avg'],\n",
    "                       dfProfit3['ROE Total Equity %'].mean()\n",
    "]\n",
    "                       \n",
    "}\n",
    "#dataDictProfit\n",
    "\n",
    "# structure as required multi-row\n",
    "dfMultiProfit = pd.DataFrame(dataDictProfit, index =[\n",
    "    'Gross Margin','R/D % Sales','SGA % Sales','EBITDA Margin','Operating Margin','Pretax Margin','Net Margin',\n",
    "    'CF/Sales','Tax Rate','ROA','ROE'\n",
    "    ]) \n",
    "dfMultiProfit   "
   ]
  },
  {
   "cell_type": "markdown",
   "metadata": {},
   "source": [
    "### FY0 Sales By Region "
   ]
  },
  {
   "cell_type": "code",
   "execution_count": 21,
   "metadata": {},
   "outputs": [
    {
     "data": {
      "text/html": [
       "<div>\n",
       "<style scoped>\n",
       "    .dataframe tbody tr th:only-of-type {\n",
       "        vertical-align: middle;\n",
       "    }\n",
       "\n",
       "    .dataframe tbody tr th {\n",
       "        vertical-align: top;\n",
       "    }\n",
       "\n",
       "    .dataframe thead th {\n",
       "        text-align: right;\n",
       "    }\n",
       "</style>\n",
       "<table border=\"1\" class=\"dataframe\">\n",
       "  <thead>\n",
       "    <tr style=\"text-align: right;\">\n",
       "      <th></th>\n",
       "      <th>Instrument</th>\n",
       "      <th>Segment Name</th>\n",
       "      <th>Geographic Total Revenues (Calculated)</th>\n",
       "    </tr>\n",
       "  </thead>\n",
       "  <tbody>\n",
       "    <tr>\n",
       "      <th>0</th>\n",
       "      <td>IBM.N</td>\n",
       "      <td>Americas</td>\n",
       "      <td>31266</td>\n",
       "    </tr>\n",
       "    <tr>\n",
       "      <th>1</th>\n",
       "      <td>IBM.N</td>\n",
       "      <td>Europe/Middle East/Africa (EMEA)</td>\n",
       "      <td>19429</td>\n",
       "    </tr>\n",
       "    <tr>\n",
       "      <th>2</th>\n",
       "      <td>IBM.N</td>\n",
       "      <td>Asia/Pacific</td>\n",
       "      <td>12058</td>\n",
       "    </tr>\n",
       "    <tr>\n",
       "      <th>3</th>\n",
       "      <td>IBM.N</td>\n",
       "      <td>Segment Total</td>\n",
       "      <td>62753</td>\n",
       "    </tr>\n",
       "    <tr>\n",
       "      <th>4</th>\n",
       "      <td>IBM.N</td>\n",
       "      <td>Consolidated Total</td>\n",
       "      <td>62753</td>\n",
       "    </tr>\n",
       "  </tbody>\n",
       "</table>\n",
       "</div>"
      ],
      "text/plain": [
       "  Instrument                      Segment Name  \\\n",
       "0      IBM.N                          Americas   \n",
       "1      IBM.N  Europe/Middle East/Africa (EMEA)   \n",
       "2      IBM.N                      Asia/Pacific   \n",
       "3      IBM.N                     Segment Total   \n",
       "4      IBM.N                Consolidated Total   \n",
       "\n",
       "   Geographic Total Revenues (Calculated)  \n",
       "0                                   31266  \n",
       "1                                   19429  \n",
       "2                                   12058  \n",
       "3                                   62753  \n",
       "4                                   62753  "
      ]
     },
     "execution_count": 21,
     "metadata": {},
     "output_type": "execute_result"
    }
   ],
   "source": [
    "dfSalesByRegion = ld.get_data(RIC, 'TR.BGS.GeoTotalRevenue.segmentName;TR.BGS.GeoTotalRevenue()',{'Scale':'6','curn':df.at[0,'Currency']})\n",
    "dfSalesByRegion"
   ]
  },
  {
   "cell_type": "markdown",
   "metadata": {},
   "source": [
    "## Price Chart"
   ]
  },
  {
   "cell_type": "markdown",
   "metadata": {},
   "source": [
    "### Pricing Data  - 1 -  Closing Prices"
   ]
  },
  {
   "cell_type": "code",
   "execution_count": 22,
   "metadata": {},
   "outputs": [
    {
     "data": {
      "text/html": [
       "<div>\n",
       "<style scoped>\n",
       "    .dataframe tbody tr th:only-of-type {\n",
       "        vertical-align: middle;\n",
       "    }\n",
       "\n",
       "    .dataframe tbody tr th {\n",
       "        vertical-align: top;\n",
       "    }\n",
       "\n",
       "    .dataframe thead th {\n",
       "        text-align: right;\n",
       "    }\n",
       "</style>\n",
       "<table border=\"1\" class=\"dataframe\">\n",
       "  <thead>\n",
       "    <tr style=\"text-align: right;\">\n",
       "      <th></th>\n",
       "      <th>Instrument</th>\n",
       "      <th>Calc Date</th>\n",
       "      <th>Price Close</th>\n",
       "    </tr>\n",
       "  </thead>\n",
       "  <tbody>\n",
       "    <tr>\n",
       "      <th>0</th>\n",
       "      <td>IBM.N</td>\n",
       "      <td>2020-04-22</td>\n",
       "      <td>113.960617</td>\n",
       "    </tr>\n",
       "    <tr>\n",
       "      <th>1</th>\n",
       "      <td>IBM.N</td>\n",
       "      <td>2020-04-23</td>\n",
       "      <td>115.909151</td>\n",
       "    </tr>\n",
       "    <tr>\n",
       "      <th>2</th>\n",
       "      <td>IBM.N</td>\n",
       "      <td>2020-04-24</td>\n",
       "      <td>119.128054</td>\n",
       "    </tr>\n",
       "    <tr>\n",
       "      <th>3</th>\n",
       "      <td>IBM.N</td>\n",
       "      <td>2020-04-27</td>\n",
       "      <td>120.274251</td>\n",
       "    </tr>\n",
       "    <tr>\n",
       "      <th>4</th>\n",
       "      <td>IBM.N</td>\n",
       "      <td>2020-04-28</td>\n",
       "      <td>120.608558</td>\n",
       "    </tr>\n",
       "    <tr>\n",
       "      <th>...</th>\n",
       "      <td>...</td>\n",
       "      <td>...</td>\n",
       "      <td>...</td>\n",
       "    </tr>\n",
       "    <tr>\n",
       "      <th>1251</th>\n",
       "      <td>IBM.N</td>\n",
       "      <td>2025-04-14</td>\n",
       "      <td>239.06</td>\n",
       "    </tr>\n",
       "    <tr>\n",
       "      <th>1252</th>\n",
       "      <td>IBM.N</td>\n",
       "      <td>2025-04-15</td>\n",
       "      <td>240.7</td>\n",
       "    </tr>\n",
       "    <tr>\n",
       "      <th>1253</th>\n",
       "      <td>IBM.N</td>\n",
       "      <td>2025-04-16</td>\n",
       "      <td>238.57</td>\n",
       "    </tr>\n",
       "    <tr>\n",
       "      <th>1254</th>\n",
       "      <td>IBM.N</td>\n",
       "      <td>2025-04-17</td>\n",
       "      <td>238.81</td>\n",
       "    </tr>\n",
       "    <tr>\n",
       "      <th>1255</th>\n",
       "      <td>IBM.N</td>\n",
       "      <td>2025-04-21</td>\n",
       "      <td>236.22</td>\n",
       "    </tr>\n",
       "  </tbody>\n",
       "</table>\n",
       "<p>1256 rows × 3 columns</p>\n",
       "</div>"
      ],
      "text/plain": [
       "     Instrument  Calc Date  Price Close\n",
       "0         IBM.N 2020-04-22   113.960617\n",
       "1         IBM.N 2020-04-23   115.909151\n",
       "2         IBM.N 2020-04-24   119.128054\n",
       "3         IBM.N 2020-04-27   120.274251\n",
       "4         IBM.N 2020-04-28   120.608558\n",
       "...         ...        ...          ...\n",
       "1251      IBM.N 2025-04-14       239.06\n",
       "1252      IBM.N 2025-04-15        240.7\n",
       "1253      IBM.N 2025-04-16       238.57\n",
       "1254      IBM.N 2025-04-17       238.81\n",
       "1255      IBM.N 2025-04-21       236.22\n",
       "\n",
       "[1256 rows x 3 columns]"
      ]
     },
     "execution_count": 22,
     "metadata": {},
     "output_type": "execute_result"
    }
   ],
   "source": [
    "\n",
    "dfPricingIntermediate1 = ld.get_data(RIC, 'TR.PriceClose.calcdate;TR.PriceClose',{'sdate':'-5AY','edate':'0d','frq':'D'})\n",
    "dfPricingIntermediate1\n"
   ]
  },
  {
   "cell_type": "markdown",
   "metadata": {},
   "source": [
    "### Pricing Data - 2 - Dates "
   ]
  },
  {
   "cell_type": "code",
   "execution_count": 48,
   "metadata": {},
   "outputs": [
    {
     "data": {
      "text/plain": [
       "'2025-04-21 00:00:00'"
      ]
     },
     "metadata": {},
     "output_type": "display_data"
    },
    {
     "data": {
      "text/plain": [
       "'2023-04-21 00:00:00'"
      ]
     },
     "metadata": {},
     "output_type": "display_data"
    },
    {
     "data": {
      "text/plain": [
       "'2020-04-22 00:00:00'"
      ]
     },
     "metadata": {},
     "output_type": "display_data"
    },
    {
     "data": {
      "text/plain": [
       "'2022-03-22 00:00:00'"
      ]
     },
     "metadata": {},
     "output_type": "display_data"
    },
    {
     "data": {
      "text/plain": [
       "'2023-04-21 00:00:00'"
      ]
     },
     "metadata": {},
     "output_type": "display_data"
    },
    {
     "data": {
      "text/plain": [
       "'2022-03-22 00:00:00'"
      ]
     },
     "metadata": {},
     "output_type": "display_data"
    }
   ],
   "source": [
    "# Intermediate dates to use in the next step\n",
    "import datetime\n",
    "from datetime import datetime\n",
    "from datetime import timedelta\n",
    "\n",
    "def workdays(d, end, excluded=(6, 7)):\n",
    "    days = []\n",
    "    while d.date() <= end.date():\n",
    "        if d.isoweekday() not in excluded:\n",
    "            days.append(d)\n",
    "        d += timedelta(days=1)\n",
    "    return days\n",
    "\n",
    "RIC2 = 'MSFT.O'\n",
    "\n",
    "dfDatesMSFTIntermediate1 = ld.get_data(RIC2, 'TR.PriceClose.date',{'sdate':'0d'})\n",
    "dfDatesMSFTIntermediate2 = ld.get_data(RIC2, 'TR.PriceClose.date',{'sdate':'-24AM'})\n",
    "\n",
    "\n",
    "# number of work days between the two dates + 250\n",
    "daysBetween = len(workdays(dfDatesMSFTIntermediate2.at[0,'Date'],\n",
    "               dfDatesMSFTIntermediate1.at[0,'Date'])) + 250\n",
    "daysBetween\n",
    "dfDatesMSFTIntermediate4 = ld.get_data(RIC2, 'TR.PriceClose.date',{'sdate':'-'+str(daysBetween)+'D'})\n",
    "\n",
    "display(str(dfDatesMSFTIntermediate1.at[0,'Date']),\n",
    "str(dfDatesMSFTIntermediate2.at[0,'Date']),\n",
    "str(dfPricingIntermediate1.at[0,'Calc Date']),\n",
    "str(dfDatesMSFTIntermediate4.at[0,'Date']))\n",
    "\n",
    "if dfPricingIntermediate1.at[0,'Calc Date'] > dfDatesMSFTIntermediate2.at[0,'Date']:\n",
    "    laterDate1 = str(dfPricingIntermediate1.at[0,'Calc Date'])\n",
    "else:\n",
    "    laterDate1 = str(dfDatesMSFTIntermediate2.at[0,'Date'])\n",
    "    \n",
    "\n",
    "if dfPricingIntermediate1.at[0,'Calc Date'] > dfDatesMSFTIntermediate4.at[0,'Date']:\n",
    "    laterDate2 = str(dfPricingIntermediate1.at[0,'Calc Date'])\n",
    "else:\n",
    "    laterDate2 = str(dfDatesMSFTIntermediate4.at[0,'Date'])\n",
    "    \n",
    "display(laterDate1,laterDate2)"
   ]
  },
  {
   "cell_type": "markdown",
   "metadata": {},
   "source": [
    "### Pricing Data - 3 - Volumes, Prices, 50 days, 200 days "
   ]
  },
  {
   "cell_type": "code",
   "execution_count": 49,
   "metadata": {},
   "outputs": [
    {
     "data": {
      "text/html": [
       "<div>\n",
       "<style scoped>\n",
       "    .dataframe tbody tr th:only-of-type {\n",
       "        vertical-align: middle;\n",
       "    }\n",
       "\n",
       "    .dataframe tbody tr th {\n",
       "        vertical-align: top;\n",
       "    }\n",
       "\n",
       "    .dataframe thead th {\n",
       "        text-align: right;\n",
       "    }\n",
       "</style>\n",
       "<table border=\"1\" class=\"dataframe\">\n",
       "  <thead>\n",
       "    <tr style=\"text-align: right;\">\n",
       "      <th></th>\n",
       "      <th>Instrument</th>\n",
       "      <th>Calc Date</th>\n",
       "      <th>Price Close</th>\n",
       "      <th>Volume</th>\n",
       "    </tr>\n",
       "  </thead>\n",
       "  <tbody>\n",
       "    <tr>\n",
       "      <th>0</th>\n",
       "      <td>IBM.N</td>\n",
       "      <td>2025-04-21</td>\n",
       "      <td>236.22</td>\n",
       "      <td>1270.741</td>\n",
       "    </tr>\n",
       "    <tr>\n",
       "      <th>1</th>\n",
       "      <td>IBM.N</td>\n",
       "      <td>2025-04-17</td>\n",
       "      <td>238.81</td>\n",
       "      <td>1275.239</td>\n",
       "    </tr>\n",
       "    <tr>\n",
       "      <th>2</th>\n",
       "      <td>IBM.N</td>\n",
       "      <td>2025-04-16</td>\n",
       "      <td>238.57</td>\n",
       "      <td>1281.134</td>\n",
       "    </tr>\n",
       "    <tr>\n",
       "      <th>3</th>\n",
       "      <td>IBM.N</td>\n",
       "      <td>2025-04-15</td>\n",
       "      <td>240.7</td>\n",
       "      <td>820.351</td>\n",
       "    </tr>\n",
       "    <tr>\n",
       "      <th>4</th>\n",
       "      <td>IBM.N</td>\n",
       "      <td>2025-04-14</td>\n",
       "      <td>239.06</td>\n",
       "      <td>949.827</td>\n",
       "    </tr>\n",
       "    <tr>\n",
       "      <th>...</th>\n",
       "      <td>...</td>\n",
       "      <td>...</td>\n",
       "      <td>...</td>\n",
       "      <td>...</td>\n",
       "    </tr>\n",
       "    <tr>\n",
       "      <th>768</th>\n",
       "      <td>IBM.N</td>\n",
       "      <td>2022-03-28</td>\n",
       "      <td>131.47</td>\n",
       "      <td>767.957</td>\n",
       "    </tr>\n",
       "    <tr>\n",
       "      <th>769</th>\n",
       "      <td>IBM.N</td>\n",
       "      <td>2022-03-25</td>\n",
       "      <td>131.35</td>\n",
       "      <td>1000.289</td>\n",
       "    </tr>\n",
       "    <tr>\n",
       "      <th>770</th>\n",
       "      <td>IBM.N</td>\n",
       "      <td>2022-03-24</td>\n",
       "      <td>129.25</td>\n",
       "      <td>902.799</td>\n",
       "    </tr>\n",
       "    <tr>\n",
       "      <th>771</th>\n",
       "      <td>IBM.N</td>\n",
       "      <td>2022-03-23</td>\n",
       "      <td>128.3</td>\n",
       "      <td>1085.209</td>\n",
       "    </tr>\n",
       "    <tr>\n",
       "      <th>772</th>\n",
       "      <td>IBM.N</td>\n",
       "      <td>2022-03-22</td>\n",
       "      <td>129.06</td>\n",
       "      <td>869.989</td>\n",
       "    </tr>\n",
       "  </tbody>\n",
       "</table>\n",
       "<p>773 rows × 4 columns</p>\n",
       "</div>"
      ],
      "text/plain": [
       "    Instrument  Calc Date  Price Close    Volume\n",
       "0        IBM.N 2025-04-21       236.22  1270.741\n",
       "1        IBM.N 2025-04-17       238.81  1275.239\n",
       "2        IBM.N 2025-04-16       238.57  1281.134\n",
       "3        IBM.N 2025-04-15        240.7   820.351\n",
       "4        IBM.N 2025-04-14       239.06   949.827\n",
       "..         ...        ...          ...       ...\n",
       "768      IBM.N 2022-03-28       131.47   767.957\n",
       "769      IBM.N 2022-03-25       131.35  1000.289\n",
       "770      IBM.N 2022-03-24       129.25   902.799\n",
       "771      IBM.N 2022-03-23        128.3  1085.209\n",
       "772      IBM.N 2022-03-22       129.06   869.989\n",
       "\n",
       "[773 rows x 4 columns]"
      ]
     },
     "metadata": {},
     "output_type": "display_data"
    },
    {
     "data": {
      "text/plain": [
       "array([248.414 , 248.7584, 249.2482, 249.766 , 250.1666, 250.4994,\n",
       "       250.9552, 250.9368, 250.7438, 250.8058, 250.7862, 250.7574,\n",
       "       250.3528, 249.8384, 249.3274, 248.8074, 248.328 , 247.7588,\n",
       "       247.1   , 246.497 , 245.9916, 245.5934, 245.1804, 244.5876,\n",
       "       244.0474, 243.3846, 242.8226, 242.3622, 241.8674, 241.3766,\n",
       "       240.6772, 239.9136, 239.4182, 238.7946, 238.3098, 237.8926,\n",
       "       237.4602, 237.0408, 236.5264, 236.0058, 235.3684, 234.8996,\n",
       "       234.2998, 233.6832, 233.0018, 232.324 , 231.6884, 231.1106,\n",
       "       230.5932, 230.1304, 229.543 , 228.9222, 227.9482, 226.864 ,\n",
       "       225.8112, 224.797 , 223.8114, 223.4572, 223.1612, 222.95  ,\n",
       "       222.7284, 222.4814, 222.2882, 221.9544, 221.585 , 221.2968,\n",
       "       221.0306, 220.7736, 220.6342, 220.4974, 220.3272, 220.2158,\n",
       "       220.4174, 220.6094, 220.8456, 221.093 , 221.3456, 221.5634,\n",
       "       221.7248, 221.9418, 222.1684, 222.3616, 222.5692, 222.7382,\n",
       "       222.7012, 222.6346, 222.4726, 222.222 , 222.0066, 221.7938,\n",
       "       221.6106, 221.3184, 221.048 , 220.7976, 220.6276, 220.4338,\n",
       "       220.1634, 219.9238, 219.6298, 219.4504, 219.2868, 219.071 ,\n",
       "       218.9768, 218.8782, 218.787 , 218.702 , 218.574 , 218.4378,\n",
       "       218.2462, 218.0174, 217.721 , 217.4164, 217.119 , 216.9272,\n",
       "       216.7228, 216.477 , 216.2868, 216.1094, 215.7954, 215.4128,\n",
       "       214.9984, 214.477 , 213.6418, 212.7864, 211.9804, 211.1886,\n",
       "       210.267 , 209.3296, 208.3366, 207.4138, 206.5418, 205.7242,\n",
       "       204.859 , 204.1166, 203.4092, 202.7288, 201.9548, 201.2422,\n",
       "       200.5382, 199.7816, 199.0692, 198.3496, 197.6412, 196.8794,\n",
       "       196.126 , 195.3382, 194.6172, 193.848 , 193.1182, 192.2954,\n",
       "       191.5142, 190.828 , 190.1322, 189.4848, 188.8312, 188.2538,\n",
       "       187.654 , 187.072 , 186.4956, 185.9314, 185.3644, 184.7852,\n",
       "       184.1948, 183.6176, 183.0756, 182.5428, 182.0062, 181.4858,\n",
       "       180.9552, 180.4272, 179.8644, 179.3236, 178.8408, 178.3638,\n",
       "       177.8758, 177.4168, 177.0986, 176.776 , 176.5836, 176.2706,\n",
       "       175.8758, 175.4136, 174.9722, 174.5074, 174.0196, 173.5312,\n",
       "       173.1938, 172.8372, 172.5522, 172.2548, 171.9226, 171.4878,\n",
       "       171.0654, 170.6964, 170.3638, 170.1462, 169.932 , 169.7806,\n",
       "       169.9098, 170.0332, 170.1566, 170.2422, 170.3696, 170.5726,\n",
       "       170.8306, 171.0182, 171.2116, 171.4294, 171.701 , 172.0088,\n",
       "       172.3942, 172.787 , 173.1616, 173.5972, 173.9948, 174.405 ,\n",
       "       174.8166, 175.2324, 175.6384, 176.0666, 176.5672, 177.0996,\n",
       "       177.6418, 178.196 , 178.6888, 179.117 , 179.5678, 180.0884,\n",
       "       180.5702, 180.9354, 181.456 , 182.0062, 182.55  , 183.0238,\n",
       "       183.5378, 183.9506, 184.3082, 184.6888, 184.9882, 185.3032,\n",
       "       185.6454, 186.0154, 186.3156, 186.6958, 187.1246, 187.5134,\n",
       "       187.8422, 188.138 , 188.1792, 188.2622, 188.3114, 188.3546,\n",
       "       188.3934, 188.3998, 188.4406, 188.5536, 188.5814, 188.6208,\n",
       "       188.6428, 188.605 , 188.6172, 188.313 , 188.033 , 187.6716,\n",
       "       187.3236, 186.8638, 186.3662, 185.8894, 185.4354, 184.9028,\n",
       "       184.3106, 183.6742, 183.0178, 182.3342, 181.7176, 181.0982,\n",
       "       180.4596, 179.7966, 179.116 , 178.5506, 177.8958, 177.2078,\n",
       "       176.5002, 175.8622, 175.2322, 174.723 , 174.267 , 173.8192,\n",
       "       173.3942, 173.0058, 172.5616, 172.1166, 171.727 , 171.2638,\n",
       "       170.7388, 170.2234, 169.763 , 169.2602, 168.6652, 168.0514,\n",
       "       167.4756, 166.9044, 166.3388, 165.7486, 165.1198, 164.4396,\n",
       "       163.8276, 163.1218, 162.3872, 161.6008, 160.7726, 160.2264,\n",
       "       159.7082, 159.2282, 158.778 , 158.3992, 158.0178, 157.5866,\n",
       "       157.1634, 156.7728, 156.3986, 156.0722, 155.591 , 155.1636,\n",
       "       154.674 , 154.2152, 153.7454, 153.2738, 152.8052, 152.3202,\n",
       "       151.8252, 151.4072, 151.0562, 150.6974, 150.3102, 149.896 ,\n",
       "       149.4818, 149.045 , 148.5804, 148.1022, 147.638 , 147.2304,\n",
       "       146.8894, 146.5486, 146.2504, 145.9666, 145.7032, 145.5286,\n",
       "       145.3308, 145.1196, 144.928 , 144.7714, 144.5998, 144.4476,\n",
       "       144.3282, 144.224 , 144.1132, 144.0228, 143.9772, 143.974 ,\n",
       "       143.9302, 143.935 , 143.9034, 143.8472, 143.7748, 143.6878,\n",
       "       143.6158, 143.5376, 143.4904, 143.466 , 143.4288, 143.3664,\n",
       "       143.4622, 143.5446, 143.6794, 143.8012, 143.8908, 144.0096,\n",
       "       144.1268, 144.2274, 144.3472, 144.4058, 144.4078, 144.4492,\n",
       "       144.4742, 144.493 , 144.484 , 144.4692, 144.4522, 144.415 ,\n",
       "       144.3766, 144.2546, 144.0984, 143.9184, 143.6568, 143.397 ,\n",
       "       143.1062, 142.7984, 142.526 , 142.2658, 141.9892, 141.727 ,\n",
       "       141.4694, 141.2196, 140.9332, 140.6148, 140.3112, 139.9768,\n",
       "       139.6028, 139.2674, 139.0046, 138.7866, 138.6072, 138.4548,\n",
       "       138.2918, 138.1728, 138.033 , 137.9092, 137.7518, 137.6112,\n",
       "       137.4518, 137.2918, 137.1028, 136.861 , 136.5704, 136.295 ,\n",
       "       136.023 , 135.64  , 135.23  , 134.9088, 134.5698, 134.2316,\n",
       "       133.888 , 133.5186, 133.1188, 132.7266, 132.362 , 131.9734,\n",
       "       131.623 , 131.2676, 130.968 , 130.7314, 130.4756, 130.2598,\n",
       "       130.095 , 129.9384, 129.8098, 129.6604, 129.5194, 129.3956,\n",
       "       129.2604, 129.0902, 128.944 , 128.7942, 128.6686, 128.5898,\n",
       "       128.5058, 128.437 , 128.4192, 128.4042, 128.351 , 128.2418,\n",
       "       128.135 , 127.999 , 127.8962, 127.766 , 127.622 , 127.5102,\n",
       "       127.4088, 127.3074, 127.1594, 126.974 , 126.8066, 126.7416,\n",
       "       126.6886, 126.5728, 126.489 , 126.4194, 126.3988, 126.3468,\n",
       "       126.3058, 126.2838, 126.3218, 126.3726, 126.5072, 126.6328,\n",
       "       126.7546, 126.9004, 127.046 , 127.2324, 127.3758, 127.5186,\n",
       "       127.6866, 127.8518, 128.049 , 128.2272, 128.427 , 128.6078,\n",
       "       128.8378, 129.032 , 129.199 , 129.404 , 129.5936, 129.7908,\n",
       "       129.974 , 130.1454, 130.2844, 130.421 , 130.5562, 130.6356,\n",
       "       130.704 , 130.9092, 131.0962, 131.3014, 131.4842, 131.6748,\n",
       "       131.8986, 132.2082, 132.5392, 132.864 , 133.2634, 133.692 ,\n",
       "       134.082 , 134.4246, 134.728 , 135.1062, 135.4432, 135.7954,\n",
       "       136.1236, 136.4124, 136.7518, 137.0616, 137.3182, 137.596 ,\n",
       "       137.8178, 138.0024, 138.227 , 138.5104, 138.9216, 139.3232,\n",
       "       139.696 , 140.0212, 140.3574, 140.6686, 140.9182, 141.1664,\n",
       "       141.4118, 141.6748, 141.9058, 142.1236, 142.3722, 142.62  ,\n",
       "       142.8782, 143.1366, 143.3314, 143.5564, 143.7764, 143.9722,\n",
       "       144.153 , 144.3492, 144.5236, 144.533 , 144.451 , 144.4146,\n",
       "       144.3574, 144.2842, 144.1654, 143.9982, 143.8444, 143.6992,\n",
       "       143.5642, 143.3636, 143.1928, 142.9774, 142.809 , 142.555 ,\n",
       "       142.29  , 141.9224, 141.56  , 141.19  , 140.7424, 140.3452,\n",
       "       139.879 , 139.3922, 138.9216, 138.5206, 138.162 , 137.8296,\n",
       "       137.3424, 136.7612, 136.1532, 135.6448, 135.1444, 134.6338,\n",
       "       134.124 , 133.63  , 133.1628, 132.6782, 132.2262, 131.851 ,\n",
       "       131.4728, 131.0152, 130.594 , 130.157 , 129.8366, 129.4676,\n",
       "       129.1152, 128.779 , 128.4266, 128.0984, 127.8282, 127.5726,\n",
       "       127.4164, 127.2218, 127.0626, 127.003 , 126.9782, 126.9364,\n",
       "       126.8834, 126.885 , 126.8962, 126.9566, 126.9876, 127.0276,\n",
       "       127.054 , 127.1068, 127.1708, 127.31  , 127.5034, 127.7226,\n",
       "       127.9546, 128.1656, 128.4504, 128.7352, 128.996 , 129.204 ,\n",
       "       129.3418, 129.3886, 129.4494, 129.5842, 129.751 , 129.902 ,\n",
       "       130.0644, 130.3922, 130.7504, 131.0774, 131.3148, 131.5998,\n",
       "       131.8938, 132.1486, 132.4198, 132.6716, 132.8702, 133.1476,\n",
       "       133.3582, 133.5886, 133.8564, 134.1582, 134.465 , 134.678 ,\n",
       "       134.8264, 135.0144, 135.1232, 135.2304, 135.364 , 135.3988,\n",
       "       135.4364, 135.4654, 135.5136, 135.5628, 135.637 , 135.7388,\n",
       "       135.8312, 135.9356, 136.044 , 136.17  , 136.3254, 136.4738,\n",
       "       136.5094, 136.5358, 136.5264, 136.4492, 136.4062, 136.4242,\n",
       "       136.5758, 136.692 , 136.7816, 136.878 , 136.9222, 136.9398,\n",
       "       137.0856, 137.2554, 137.3562, 137.3416, 137.1936, 137.0732,\n",
       "       136.9738, 136.905 , 136.7862, 136.7006, 136.666 , 136.6694,\n",
       "       136.714 , 136.658 , 136.4172, 136.1264, 135.8204, 135.4872,\n",
       "       135.1656, 134.9242, 134.7372, 134.5512, 134.4386, 134.303 ,\n",
       "       134.1672, 134.0558, 133.954 , 133.8728, 133.7524, 133.5652,\n",
       "       133.3366, 133.064 , 132.8064, 132.5846])"
      ]
     },
     "metadata": {},
     "output_type": "display_data"
    },
    {
     "data": {
      "text/plain": [
       "array([222.1895 , 221.8949 , 221.57635, 221.24825, 220.899  , 220.56305,\n",
       "       220.24865, 219.97595, 219.6617 , 219.42615, 219.15   , 218.8601 ,\n",
       "       218.4887 , 218.0844 , 217.6777 , 217.281  , 216.9129 , 216.5319 ,\n",
       "       216.1212 , 215.7086 , 215.2954 , 214.90245, 214.5201 , 214.0868 ,\n",
       "       213.6873 , 213.27075, 212.88345, 212.5078 , 212.1281 , 211.7507 ,\n",
       "       211.3158 , 210.85325, 210.45465, 210.0392 , 209.60995, 209.1968 ,\n",
       "       208.77035, 208.33555, 207.90585, 207.459  , 206.9927 , 206.51385,\n",
       "       206.0136 , 205.51415, 205.0298 , 204.56055, 204.10025, 203.66575,\n",
       "       203.31275, 202.97735, 202.62515, 202.26585, 201.8567 , 201.4499 ,\n",
       "       201.065  , 200.69275, 200.31275, 200.0991 , 199.901  , 199.7269 ,\n",
       "       199.552  , 199.3675 , 199.1909 , 199.0241 , 198.84455, 198.6804 ,\n",
       "       198.53505, 198.4003 , 198.2558 , 198.101  , 197.9393 , 197.779  ,\n",
       "       197.63545, 197.4889 , 197.34765, 197.20385, 197.06975, 196.93935,\n",
       "       196.8038 , 196.6404 , 196.5105 , 196.3764 , 196.2376 , 196.0965 ,\n",
       "       195.91695, 195.7113 , 195.48235, 195.24755, 195.0213 , 194.78335,\n",
       "       194.56195, 194.2928 , 194.01755, 193.7673 , 193.5605 , 193.3579 ,\n",
       "       193.1387 , 192.9226 , 192.70925, 192.5103 , 192.31725, 192.12395,\n",
       "       191.968  , 191.83385, 191.72235, 191.6319 , 191.50525, 191.39   ,\n",
       "       191.2714 , 191.14065, 191.0242 , 190.8254 , 190.6271 , 190.4534 ,\n",
       "       190.2792 , 190.07215, 189.86895, 189.67925, 189.4561 , 189.20235,\n",
       "       188.93515, 188.6436 , 188.28555, 187.9201 , 187.56565, 187.20515,\n",
       "       186.84825, 186.49765, 186.1516 , 185.7926 , 185.44235, 185.08795,\n",
       "       184.72035, 184.3775 , 184.0497 , 183.7334 , 183.43095, 183.14685,\n",
       "       182.8682 , 182.58635, 182.2997 , 181.99235, 181.6873 , 181.38385,\n",
       "       181.0883 , 180.8053 , 180.5386 , 180.2567 , 179.9681 , 179.66055,\n",
       "       179.36445, 179.0823 , 178.8085 , 178.55145, 178.30555, 178.0663 ,\n",
       "       177.81865, 177.561  , 177.30665, 177.0365 , 176.7871 , 176.5279 ,\n",
       "       176.2744 , 176.02865, 175.793  , 175.5527 , 175.3017 , 175.04855,\n",
       "       174.7981 , 174.54235, 174.2852 , 174.0424 , 173.77285, 173.5144 ,\n",
       "       173.23905, 172.9618 , 172.71785, 172.4837 , 172.26875, 172.0192 ,\n",
       "       171.7632 , 171.5087 , 171.26965, 171.0227 , 170.77495, 170.5252 ,\n",
       "       170.3127 , 170.09755, 169.87875, 169.6665 , 169.4419 , 169.21255,\n",
       "       168.99935, 168.80115, 168.6194 , 168.4624 , 168.3101 , 168.17685,\n",
       "       168.02125, 167.8666 , 167.7179 , 167.56815, 167.4254 , 167.29215,\n",
       "       167.1798 , 167.05885, 166.93345, 166.7987 , 166.67705, 166.54715,\n",
       "       166.42855, 166.31535, 166.20155, 166.08605, 165.9678 , 165.83895,\n",
       "       165.7041 , 165.5615 , 165.4319 , 165.30205, 165.1763 , 165.0531 ,\n",
       "       164.9282 , 164.8096 , 164.68995, 164.5579 , 164.4159 , 164.2921 ,\n",
       "       164.15455, 164.0084 , 163.88105, 163.75675, 163.62855, 163.50815,\n",
       "       163.3886 , 163.26565, 163.13525, 163.00555, 162.85375, 162.70655,\n",
       "       162.5554 , 162.40425, 162.2576 , 162.10665, 161.94265, 161.7751 ,\n",
       "       161.60365, 161.4313 , 161.1753 , 160.92475, 160.67605, 160.43935,\n",
       "       160.20035, 159.9539 , 159.70545, 159.458  , 159.20835, 158.93555,\n",
       "       158.6525 , 158.3618 , 158.08115, 157.81525, 157.56295, 157.30045,\n",
       "       157.04205, 156.7809 , 156.5082 , 156.2307 , 155.96025, 155.6882 ,\n",
       "       155.39745, 155.10115, 154.79345, 154.47585, 154.16035, 153.8524 ,\n",
       "       153.5297 , 153.18   , 152.8195 , 152.50175, 152.1595 , 151.8131 ,\n",
       "       151.46305, 151.13185, 150.78385, 150.45965, 150.1487 , 149.8267 ,\n",
       "       149.51245, 149.19765, 148.88605, 148.58325, 148.2976 , 147.99765,\n",
       "       147.68525, 147.38135, 147.09555, 146.8119 , 146.51035, 146.2081 ,\n",
       "       145.9133 , 145.62325, 145.338  , 145.0525 , 144.76245, 144.46705,\n",
       "       144.18945, 143.8896 , 143.5966 , 143.3116 , 143.0146 , 142.79745,\n",
       "       142.58845, 142.3823 , 142.1852 , 142.00645, 141.82215, 141.6359 ,\n",
       "       141.4536 , 141.28935, 141.10965, 140.9261 , 140.74065, 140.5777 ,\n",
       "       140.4031 , 140.22105, 140.03705, 139.8357 , 139.6402 , 139.4508 ,\n",
       "       139.262  , 139.0821 , 138.91845, 138.75945, 138.6026 , 138.4371 ,\n",
       "       138.2706 , 138.097  , 137.9254 , 137.7543 , 137.5896 , 137.43375,\n",
       "       137.2875 , 137.14465, 137.0128 , 136.8823 , 136.76155, 136.6488 ,\n",
       "       136.5535 , 136.45325, 136.34415, 136.24815, 136.1517 , 136.06305,\n",
       "       135.976  , 135.8935 , 135.80365, 135.7144 , 135.63885, 135.5703 ,\n",
       "       135.49745, 135.46815, 135.43545, 135.4006 , 135.36175, 135.32535,\n",
       "       135.29235, 135.2913 , 135.29755, 135.31215, 135.32585, 135.33105,\n",
       "       135.3634 , 135.39295, 135.4166 , 135.4438 , 135.4615 , 135.4661 ,\n",
       "       135.4698 , 135.47385, 135.49365, 135.4957 , 135.48395, 135.4841 ,\n",
       "       135.4795 , 135.4637 , 135.4569 , 135.46335, 135.5107 , 135.55955,\n",
       "       135.6041 , 135.63145, 135.6545 , 135.67465, 135.67975, 135.68225,\n",
       "       135.6887 , 135.68535, 135.69725, 135.70425, 135.7052 , 135.7103 ,\n",
       "       135.7213 , 135.7353 , 135.7268 , 135.7266 , 135.71945, 135.70175,\n",
       "       135.6828 , 135.6641 , 135.6458 , 135.61765, 135.57235, 135.54245,\n",
       "       135.5074 , 135.47445, 135.42975, 135.40645, 135.38605, 135.37045,\n",
       "       135.3597 , 135.33035, 135.29605, 135.25115, 135.199  , 135.13225,\n",
       "       135.0613 , 134.9443 , 134.8281 , 134.7145 , 134.59245, 134.48055,\n",
       "       134.35175, 134.21985, 134.09135, 133.9706 , 133.8764 , 133.80345,\n",
       "       133.73325, 133.6461 , 133.54825, 133.479  , 133.416  , 133.3535 ,\n",
       "       133.29655, 133.2405 , 133.20285, 133.1553 , 133.1223 , 133.10055,\n",
       "       133.0761 , 133.03235, 133.00245, 132.96965, 132.95265, 132.9398 ,\n",
       "       132.92045, 132.9023 , 132.88875, 132.87185, 132.8517 , 132.81415,\n",
       "       132.77465, 132.7342 , 132.7001 , 132.682  , 132.66605, 132.66325,\n",
       "       132.66895, 132.6889 , 132.7208 , 132.74655, 132.76725, 132.7928 ,\n",
       "       132.8199 , 132.8352 , 132.84825, 132.8618 , 132.89645, 132.91795,\n",
       "       132.93865, 132.96405, 132.99235, 133.024  , 133.06065, 133.08995,\n",
       "       133.12135, 133.15725, 133.18985, 133.22525, 133.244  , 133.27165,\n",
       "       133.3132 , 133.3866 , 133.4604 , 133.52525, 133.5791 , 133.64015,\n",
       "       133.7159 , 133.7888 , 133.86595, 133.9277 , 133.984  , 134.058  ,\n",
       "       134.12505, 134.1895 , 134.2581 , 134.3326 , 134.4002 , 134.4403 ,\n",
       "       134.47055, 134.5073 , 134.5217 , 134.54205, 134.56705, 134.5902 ,\n",
       "       134.61965, 134.65205, 134.69515, 134.75275, 134.8402 , 134.93775,\n",
       "       135.0234 , 135.0913 , 135.15875, 135.2345 , 135.30735, 135.3754 ,\n",
       "       135.4241 , 135.4652 , 135.4938 , 135.5054 , 135.51345, 135.5369 ,\n",
       "       135.5778 , 135.60475, 135.6281 , 135.65165, 135.6589 , 135.6521 ,\n",
       "       135.67145, 135.70585, 135.7306 , 135.75905, 135.74655, 135.73675,\n",
       "       135.7158 , 135.71445, 135.703  , 135.70595, 135.7327 , 135.74405,\n",
       "       135.7641 , 135.7748 , 135.73585, 135.68475, 135.6421 , 135.59915,\n",
       "       135.55255, 135.51245, 135.47885, 135.4178 , 135.3573 , 135.29245,\n",
       "       135.2378 , 135.18545, 135.1335 , 135.0682 , 134.99845, 134.92805,\n",
       "       134.8585 , 134.78075, 134.7045 , 134.6313 ])"
      ]
     },
     "metadata": {},
     "output_type": "display_data"
    }
   ],
   "source": [
    "dfDtVolPrice = ld.get_data(df_2.at[0,'Primary Quote RIC'], 'TR.PriceClose.CalcDate,TR.PriceClose',{'Sdate':'0D','Edate':laterDate2[:10],'Frq':'D'})\n",
    "\n",
    "dfDtVolPrice2 = ld.get_data(df_2.at[0,'Primary Quote RIC'], 'TR.Volume',{'Sdate':'0D','Edate':laterDate2[:10],'Frq':'D','Scale':3})\n",
    "dfDtVolPrice['Volume'] = dfDtVolPrice2['Volume']\n",
    "\n",
    "#calculate moving averages\n",
    "convolve50 = np.convolve(dfDtVolPrice['Price Close'], np.ones((50,))/50, mode='valid')\n",
    "convolve200 = np.convolve(dfDtVolPrice['Price Close'], np.ones((200,))/200, mode='valid')\n",
    "display(dfDtVolPrice,convolve50,convolve200)"
   ]
  },
  {
   "cell_type": "markdown",
   "metadata": {},
   "source": [
    "### Price Chart "
   ]
  },
  {
   "cell_type": "code",
   "execution_count": 50,
   "metadata": {},
   "outputs": [
    {
     "data": {
      "application/vnd.plotly.v1+json": {
       "config": {
        "plotlyServerURL": "https://plot.ly"
       },
       "data": [
        {
         "name": "Price Close",
         "type": "scatter",
         "x": [
          "2025-04-21T00:00:00.000000000",
          "2025-04-17T00:00:00.000000000",
          "2025-04-16T00:00:00.000000000",
          "2025-04-15T00:00:00.000000000",
          "2025-04-14T00:00:00.000000000",
          "2025-04-11T00:00:00.000000000",
          "2025-04-10T00:00:00.000000000",
          "2025-04-09T00:00:00.000000000",
          "2025-04-08T00:00:00.000000000",
          "2025-04-07T00:00:00.000000000",
          "2025-04-04T00:00:00.000000000",
          "2025-04-03T00:00:00.000000000",
          "2025-04-02T00:00:00.000000000",
          "2025-04-01T00:00:00.000000000",
          "2025-03-31T00:00:00.000000000",
          "2025-03-28T00:00:00.000000000",
          "2025-03-27T00:00:00.000000000",
          "2025-03-26T00:00:00.000000000",
          "2025-03-25T00:00:00.000000000",
          "2025-03-24T00:00:00.000000000",
          "2025-03-21T00:00:00.000000000",
          "2025-03-20T00:00:00.000000000",
          "2025-03-19T00:00:00.000000000",
          "2025-03-18T00:00:00.000000000",
          "2025-03-17T00:00:00.000000000",
          "2025-03-14T00:00:00.000000000",
          "2025-03-13T00:00:00.000000000",
          "2025-03-12T00:00:00.000000000",
          "2025-03-11T00:00:00.000000000",
          "2025-03-10T00:00:00.000000000",
          "2025-03-07T00:00:00.000000000",
          "2025-03-06T00:00:00.000000000",
          "2025-03-05T00:00:00.000000000",
          "2025-03-04T00:00:00.000000000",
          "2025-03-03T00:00:00.000000000",
          "2025-02-28T00:00:00.000000000",
          "2025-02-27T00:00:00.000000000",
          "2025-02-26T00:00:00.000000000",
          "2025-02-25T00:00:00.000000000",
          "2025-02-24T00:00:00.000000000",
          "2025-02-21T00:00:00.000000000",
          "2025-02-20T00:00:00.000000000",
          "2025-02-19T00:00:00.000000000",
          "2025-02-18T00:00:00.000000000",
          "2025-02-14T00:00:00.000000000",
          "2025-02-13T00:00:00.000000000",
          "2025-02-12T00:00:00.000000000",
          "2025-02-11T00:00:00.000000000",
          "2025-02-10T00:00:00.000000000",
          "2025-02-07T00:00:00.000000000",
          "2025-02-06T00:00:00.000000000",
          "2025-02-05T00:00:00.000000000",
          "2025-02-04T00:00:00.000000000",
          "2025-02-03T00:00:00.000000000",
          "2025-01-31T00:00:00.000000000",
          "2025-01-30T00:00:00.000000000",
          "2025-01-29T00:00:00.000000000",
          "2025-01-28T00:00:00.000000000",
          "2025-01-27T00:00:00.000000000",
          "2025-01-24T00:00:00.000000000",
          "2025-01-23T00:00:00.000000000",
          "2025-01-22T00:00:00.000000000",
          "2025-01-21T00:00:00.000000000",
          "2025-01-17T00:00:00.000000000",
          "2025-01-16T00:00:00.000000000",
          "2025-01-15T00:00:00.000000000",
          "2025-01-14T00:00:00.000000000",
          "2025-01-13T00:00:00.000000000",
          "2025-01-10T00:00:00.000000000",
          "2025-01-08T00:00:00.000000000",
          "2025-01-07T00:00:00.000000000",
          "2025-01-06T00:00:00.000000000",
          "2025-01-03T00:00:00.000000000",
          "2025-01-02T00:00:00.000000000",
          "2024-12-31T00:00:00.000000000",
          "2024-12-30T00:00:00.000000000",
          "2024-12-27T00:00:00.000000000",
          "2024-12-26T00:00:00.000000000",
          "2024-12-24T00:00:00.000000000",
          "2024-12-23T00:00:00.000000000",
          "2024-12-20T00:00:00.000000000",
          "2024-12-19T00:00:00.000000000",
          "2024-12-18T00:00:00.000000000",
          "2024-12-17T00:00:00.000000000",
          "2024-12-16T00:00:00.000000000",
          "2024-12-13T00:00:00.000000000",
          "2024-12-12T00:00:00.000000000",
          "2024-12-11T00:00:00.000000000",
          "2024-12-10T00:00:00.000000000",
          "2024-12-09T00:00:00.000000000",
          "2024-12-06T00:00:00.000000000",
          "2024-12-05T00:00:00.000000000",
          "2024-12-04T00:00:00.000000000",
          "2024-12-03T00:00:00.000000000",
          "2024-12-02T00:00:00.000000000",
          "2024-11-29T00:00:00.000000000",
          "2024-11-27T00:00:00.000000000",
          "2024-11-26T00:00:00.000000000",
          "2024-11-25T00:00:00.000000000",
          "2024-11-22T00:00:00.000000000",
          "2024-11-21T00:00:00.000000000",
          "2024-11-20T00:00:00.000000000",
          "2024-11-19T00:00:00.000000000",
          "2024-11-18T00:00:00.000000000",
          "2024-11-15T00:00:00.000000000",
          "2024-11-14T00:00:00.000000000",
          "2024-11-13T00:00:00.000000000",
          "2024-11-12T00:00:00.000000000",
          "2024-11-11T00:00:00.000000000",
          "2024-11-08T00:00:00.000000000",
          "2024-11-07T00:00:00.000000000",
          "2024-11-06T00:00:00.000000000",
          "2024-11-05T00:00:00.000000000",
          "2024-11-04T00:00:00.000000000",
          "2024-11-01T00:00:00.000000000",
          "2024-10-31T00:00:00.000000000",
          "2024-10-30T00:00:00.000000000",
          "2024-10-29T00:00:00.000000000",
          "2024-10-28T00:00:00.000000000",
          "2024-10-25T00:00:00.000000000",
          "2024-10-24T00:00:00.000000000",
          "2024-10-23T00:00:00.000000000",
          "2024-10-22T00:00:00.000000000",
          "2024-10-21T00:00:00.000000000",
          "2024-10-18T00:00:00.000000000",
          "2024-10-17T00:00:00.000000000",
          "2024-10-16T00:00:00.000000000",
          "2024-10-15T00:00:00.000000000",
          "2024-10-14T00:00:00.000000000",
          "2024-10-11T00:00:00.000000000",
          "2024-10-10T00:00:00.000000000",
          "2024-10-09T00:00:00.000000000",
          "2024-10-08T00:00:00.000000000",
          "2024-10-07T00:00:00.000000000",
          "2024-10-04T00:00:00.000000000",
          "2024-10-03T00:00:00.000000000",
          "2024-10-02T00:00:00.000000000",
          "2024-10-01T00:00:00.000000000",
          "2024-09-30T00:00:00.000000000",
          "2024-09-27T00:00:00.000000000",
          "2024-09-26T00:00:00.000000000",
          "2024-09-25T00:00:00.000000000",
          "2024-09-24T00:00:00.000000000",
          "2024-09-23T00:00:00.000000000",
          "2024-09-20T00:00:00.000000000",
          "2024-09-19T00:00:00.000000000",
          "2024-09-18T00:00:00.000000000",
          "2024-09-17T00:00:00.000000000",
          "2024-09-16T00:00:00.000000000",
          "2024-09-13T00:00:00.000000000",
          "2024-09-12T00:00:00.000000000",
          "2024-09-11T00:00:00.000000000",
          "2024-09-10T00:00:00.000000000",
          "2024-09-09T00:00:00.000000000",
          "2024-09-06T00:00:00.000000000",
          "2024-09-05T00:00:00.000000000",
          "2024-09-04T00:00:00.000000000",
          "2024-09-03T00:00:00.000000000",
          "2024-08-30T00:00:00.000000000",
          "2024-08-29T00:00:00.000000000",
          "2024-08-28T00:00:00.000000000",
          "2024-08-27T00:00:00.000000000",
          "2024-08-26T00:00:00.000000000",
          "2024-08-23T00:00:00.000000000",
          "2024-08-22T00:00:00.000000000",
          "2024-08-21T00:00:00.000000000",
          "2024-08-20T00:00:00.000000000",
          "2024-08-19T00:00:00.000000000",
          "2024-08-16T00:00:00.000000000",
          "2024-08-15T00:00:00.000000000",
          "2024-08-14T00:00:00.000000000",
          "2024-08-13T00:00:00.000000000",
          "2024-08-12T00:00:00.000000000",
          "2024-08-09T00:00:00.000000000",
          "2024-08-08T00:00:00.000000000",
          "2024-08-07T00:00:00.000000000",
          "2024-08-06T00:00:00.000000000",
          "2024-08-05T00:00:00.000000000",
          "2024-08-02T00:00:00.000000000",
          "2024-08-01T00:00:00.000000000",
          "2024-07-31T00:00:00.000000000",
          "2024-07-30T00:00:00.000000000",
          "2024-07-29T00:00:00.000000000",
          "2024-07-26T00:00:00.000000000",
          "2024-07-25T00:00:00.000000000",
          "2024-07-24T00:00:00.000000000",
          "2024-07-23T00:00:00.000000000",
          "2024-07-22T00:00:00.000000000",
          "2024-07-19T00:00:00.000000000",
          "2024-07-18T00:00:00.000000000",
          "2024-07-17T00:00:00.000000000",
          "2024-07-16T00:00:00.000000000",
          "2024-07-15T00:00:00.000000000",
          "2024-07-12T00:00:00.000000000",
          "2024-07-11T00:00:00.000000000",
          "2024-07-10T00:00:00.000000000",
          "2024-07-09T00:00:00.000000000",
          "2024-07-08T00:00:00.000000000",
          "2024-07-05T00:00:00.000000000",
          "2024-07-03T00:00:00.000000000",
          "2024-07-02T00:00:00.000000000",
          "2024-07-01T00:00:00.000000000",
          "2024-06-28T00:00:00.000000000",
          "2024-06-27T00:00:00.000000000",
          "2024-06-26T00:00:00.000000000",
          "2024-06-25T00:00:00.000000000",
          "2024-06-24T00:00:00.000000000",
          "2024-06-21T00:00:00.000000000",
          "2024-06-20T00:00:00.000000000",
          "2024-06-18T00:00:00.000000000",
          "2024-06-17T00:00:00.000000000",
          "2024-06-14T00:00:00.000000000",
          "2024-06-13T00:00:00.000000000",
          "2024-06-12T00:00:00.000000000",
          "2024-06-11T00:00:00.000000000",
          "2024-06-10T00:00:00.000000000",
          "2024-06-07T00:00:00.000000000",
          "2024-06-06T00:00:00.000000000",
          "2024-06-05T00:00:00.000000000",
          "2024-06-04T00:00:00.000000000",
          "2024-06-03T00:00:00.000000000",
          "2024-05-31T00:00:00.000000000",
          "2024-05-30T00:00:00.000000000",
          "2024-05-29T00:00:00.000000000",
          "2024-05-28T00:00:00.000000000",
          "2024-05-24T00:00:00.000000000",
          "2024-05-23T00:00:00.000000000",
          "2024-05-22T00:00:00.000000000",
          "2024-05-21T00:00:00.000000000",
          "2024-05-20T00:00:00.000000000",
          "2024-05-17T00:00:00.000000000",
          "2024-05-16T00:00:00.000000000",
          "2024-05-15T00:00:00.000000000",
          "2024-05-14T00:00:00.000000000",
          "2024-05-13T00:00:00.000000000",
          "2024-05-10T00:00:00.000000000",
          "2024-05-09T00:00:00.000000000",
          "2024-05-08T00:00:00.000000000",
          "2024-05-07T00:00:00.000000000",
          "2024-05-06T00:00:00.000000000",
          "2024-05-03T00:00:00.000000000",
          "2024-05-02T00:00:00.000000000",
          "2024-05-01T00:00:00.000000000",
          "2024-04-30T00:00:00.000000000",
          "2024-04-29T00:00:00.000000000",
          "2024-04-26T00:00:00.000000000",
          "2024-04-25T00:00:00.000000000",
          "2024-04-24T00:00:00.000000000",
          "2024-04-23T00:00:00.000000000",
          "2024-04-22T00:00:00.000000000",
          "2024-04-19T00:00:00.000000000",
          "2024-04-18T00:00:00.000000000",
          "2024-04-17T00:00:00.000000000",
          "2024-04-16T00:00:00.000000000",
          "2024-04-15T00:00:00.000000000",
          "2024-04-12T00:00:00.000000000",
          "2024-04-11T00:00:00.000000000",
          "2024-04-10T00:00:00.000000000",
          "2024-04-09T00:00:00.000000000",
          "2024-04-08T00:00:00.000000000",
          "2024-04-05T00:00:00.000000000",
          "2024-04-04T00:00:00.000000000",
          "2024-04-03T00:00:00.000000000",
          "2024-04-02T00:00:00.000000000",
          "2024-04-01T00:00:00.000000000",
          "2024-03-28T00:00:00.000000000",
          "2024-03-27T00:00:00.000000000",
          "2024-03-26T00:00:00.000000000",
          "2024-03-25T00:00:00.000000000",
          "2024-03-22T00:00:00.000000000",
          "2024-03-21T00:00:00.000000000",
          "2024-03-20T00:00:00.000000000",
          "2024-03-19T00:00:00.000000000",
          "2024-03-18T00:00:00.000000000",
          "2024-03-15T00:00:00.000000000",
          "2024-03-14T00:00:00.000000000",
          "2024-03-13T00:00:00.000000000",
          "2024-03-12T00:00:00.000000000",
          "2024-03-11T00:00:00.000000000",
          "2024-03-08T00:00:00.000000000",
          "2024-03-07T00:00:00.000000000",
          "2024-03-06T00:00:00.000000000",
          "2024-03-05T00:00:00.000000000",
          "2024-03-04T00:00:00.000000000",
          "2024-03-01T00:00:00.000000000",
          "2024-02-29T00:00:00.000000000",
          "2024-02-28T00:00:00.000000000",
          "2024-02-27T00:00:00.000000000",
          "2024-02-26T00:00:00.000000000",
          "2024-02-23T00:00:00.000000000",
          "2024-02-22T00:00:00.000000000",
          "2024-02-21T00:00:00.000000000",
          "2024-02-20T00:00:00.000000000",
          "2024-02-16T00:00:00.000000000",
          "2024-02-15T00:00:00.000000000",
          "2024-02-14T00:00:00.000000000",
          "2024-02-13T00:00:00.000000000",
          "2024-02-12T00:00:00.000000000",
          "2024-02-09T00:00:00.000000000",
          "2024-02-08T00:00:00.000000000",
          "2024-02-07T00:00:00.000000000",
          "2024-02-06T00:00:00.000000000",
          "2024-02-05T00:00:00.000000000",
          "2024-02-02T00:00:00.000000000",
          "2024-02-01T00:00:00.000000000",
          "2024-01-31T00:00:00.000000000",
          "2024-01-30T00:00:00.000000000",
          "2024-01-29T00:00:00.000000000",
          "2024-01-26T00:00:00.000000000",
          "2024-01-25T00:00:00.000000000",
          "2024-01-24T00:00:00.000000000",
          "2024-01-23T00:00:00.000000000",
          "2024-01-22T00:00:00.000000000",
          "2024-01-19T00:00:00.000000000",
          "2024-01-18T00:00:00.000000000",
          "2024-01-17T00:00:00.000000000",
          "2024-01-16T00:00:00.000000000",
          "2024-01-12T00:00:00.000000000",
          "2024-01-11T00:00:00.000000000",
          "2024-01-10T00:00:00.000000000",
          "2024-01-09T00:00:00.000000000",
          "2024-01-08T00:00:00.000000000",
          "2024-01-05T00:00:00.000000000",
          "2024-01-04T00:00:00.000000000",
          "2024-01-03T00:00:00.000000000",
          "2024-01-02T00:00:00.000000000",
          "2023-12-29T00:00:00.000000000",
          "2023-12-28T00:00:00.000000000",
          "2023-12-27T00:00:00.000000000",
          "2023-12-26T00:00:00.000000000",
          "2023-12-22T00:00:00.000000000",
          "2023-12-21T00:00:00.000000000",
          "2023-12-20T00:00:00.000000000",
          "2023-12-19T00:00:00.000000000",
          "2023-12-18T00:00:00.000000000",
          "2023-12-15T00:00:00.000000000",
          "2023-12-14T00:00:00.000000000",
          "2023-12-13T00:00:00.000000000",
          "2023-12-12T00:00:00.000000000",
          "2023-12-11T00:00:00.000000000",
          "2023-12-08T00:00:00.000000000",
          "2023-12-07T00:00:00.000000000",
          "2023-12-06T00:00:00.000000000",
          "2023-12-05T00:00:00.000000000",
          "2023-12-04T00:00:00.000000000",
          "2023-12-01T00:00:00.000000000",
          "2023-11-30T00:00:00.000000000",
          "2023-11-29T00:00:00.000000000",
          "2023-11-28T00:00:00.000000000",
          "2023-11-27T00:00:00.000000000",
          "2023-11-24T00:00:00.000000000",
          "2023-11-22T00:00:00.000000000",
          "2023-11-21T00:00:00.000000000",
          "2023-11-20T00:00:00.000000000",
          "2023-11-17T00:00:00.000000000",
          "2023-11-16T00:00:00.000000000",
          "2023-11-15T00:00:00.000000000",
          "2023-11-14T00:00:00.000000000",
          "2023-11-13T00:00:00.000000000",
          "2023-11-10T00:00:00.000000000",
          "2023-11-09T00:00:00.000000000",
          "2023-11-08T00:00:00.000000000",
          "2023-11-07T00:00:00.000000000",
          "2023-11-06T00:00:00.000000000",
          "2023-11-03T00:00:00.000000000",
          "2023-11-02T00:00:00.000000000",
          "2023-11-01T00:00:00.000000000",
          "2023-10-31T00:00:00.000000000",
          "2023-10-30T00:00:00.000000000",
          "2023-10-27T00:00:00.000000000",
          "2023-10-26T00:00:00.000000000",
          "2023-10-25T00:00:00.000000000",
          "2023-10-24T00:00:00.000000000",
          "2023-10-23T00:00:00.000000000",
          "2023-10-20T00:00:00.000000000",
          "2023-10-19T00:00:00.000000000",
          "2023-10-18T00:00:00.000000000",
          "2023-10-17T00:00:00.000000000",
          "2023-10-16T00:00:00.000000000",
          "2023-10-13T00:00:00.000000000",
          "2023-10-12T00:00:00.000000000",
          "2023-10-11T00:00:00.000000000",
          "2023-10-10T00:00:00.000000000",
          "2023-10-09T00:00:00.000000000",
          "2023-10-06T00:00:00.000000000",
          "2023-10-05T00:00:00.000000000",
          "2023-10-04T00:00:00.000000000",
          "2023-10-03T00:00:00.000000000",
          "2023-10-02T00:00:00.000000000",
          "2023-09-29T00:00:00.000000000",
          "2023-09-28T00:00:00.000000000",
          "2023-09-27T00:00:00.000000000",
          "2023-09-26T00:00:00.000000000",
          "2023-09-25T00:00:00.000000000",
          "2023-09-22T00:00:00.000000000",
          "2023-09-21T00:00:00.000000000",
          "2023-09-20T00:00:00.000000000",
          "2023-09-19T00:00:00.000000000",
          "2023-09-18T00:00:00.000000000",
          "2023-09-15T00:00:00.000000000",
          "2023-09-14T00:00:00.000000000",
          "2023-09-13T00:00:00.000000000",
          "2023-09-12T00:00:00.000000000",
          "2023-09-11T00:00:00.000000000",
          "2023-09-08T00:00:00.000000000",
          "2023-09-07T00:00:00.000000000",
          "2023-09-06T00:00:00.000000000",
          "2023-09-05T00:00:00.000000000",
          "2023-09-01T00:00:00.000000000",
          "2023-08-31T00:00:00.000000000",
          "2023-08-30T00:00:00.000000000",
          "2023-08-29T00:00:00.000000000",
          "2023-08-28T00:00:00.000000000",
          "2023-08-25T00:00:00.000000000",
          "2023-08-24T00:00:00.000000000",
          "2023-08-23T00:00:00.000000000",
          "2023-08-22T00:00:00.000000000",
          "2023-08-21T00:00:00.000000000",
          "2023-08-18T00:00:00.000000000",
          "2023-08-17T00:00:00.000000000",
          "2023-08-16T00:00:00.000000000",
          "2023-08-15T00:00:00.000000000",
          "2023-08-14T00:00:00.000000000",
          "2023-08-11T00:00:00.000000000",
          "2023-08-10T00:00:00.000000000",
          "2023-08-09T00:00:00.000000000",
          "2023-08-08T00:00:00.000000000",
          "2023-08-07T00:00:00.000000000",
          "2023-08-04T00:00:00.000000000",
          "2023-08-03T00:00:00.000000000",
          "2023-08-02T00:00:00.000000000",
          "2023-08-01T00:00:00.000000000",
          "2023-07-31T00:00:00.000000000",
          "2023-07-28T00:00:00.000000000",
          "2023-07-27T00:00:00.000000000",
          "2023-07-26T00:00:00.000000000",
          "2023-07-25T00:00:00.000000000",
          "2023-07-24T00:00:00.000000000",
          "2023-07-21T00:00:00.000000000",
          "2023-07-20T00:00:00.000000000",
          "2023-07-19T00:00:00.000000000",
          "2023-07-18T00:00:00.000000000",
          "2023-07-17T00:00:00.000000000",
          "2023-07-14T00:00:00.000000000",
          "2023-07-13T00:00:00.000000000",
          "2023-07-12T00:00:00.000000000",
          "2023-07-11T00:00:00.000000000",
          "2023-07-10T00:00:00.000000000",
          "2023-07-07T00:00:00.000000000",
          "2023-07-06T00:00:00.000000000",
          "2023-07-05T00:00:00.000000000",
          "2023-07-03T00:00:00.000000000",
          "2023-06-30T00:00:00.000000000",
          "2023-06-29T00:00:00.000000000",
          "2023-06-28T00:00:00.000000000",
          "2023-06-27T00:00:00.000000000",
          "2023-06-26T00:00:00.000000000",
          "2023-06-23T00:00:00.000000000",
          "2023-06-22T00:00:00.000000000",
          "2023-06-21T00:00:00.000000000",
          "2023-06-20T00:00:00.000000000",
          "2023-06-16T00:00:00.000000000",
          "2023-06-15T00:00:00.000000000",
          "2023-06-14T00:00:00.000000000",
          "2023-06-13T00:00:00.000000000",
          "2023-06-12T00:00:00.000000000",
          "2023-06-09T00:00:00.000000000",
          "2023-06-08T00:00:00.000000000",
          "2023-06-07T00:00:00.000000000",
          "2023-06-06T00:00:00.000000000",
          "2023-06-05T00:00:00.000000000",
          "2023-06-02T00:00:00.000000000",
          "2023-06-01T00:00:00.000000000",
          "2023-05-31T00:00:00.000000000",
          "2023-05-30T00:00:00.000000000",
          "2023-05-26T00:00:00.000000000",
          "2023-05-25T00:00:00.000000000",
          "2023-05-24T00:00:00.000000000",
          "2023-05-23T00:00:00.000000000",
          "2023-05-22T00:00:00.000000000",
          "2023-05-19T00:00:00.000000000",
          "2023-05-18T00:00:00.000000000",
          "2023-05-17T00:00:00.000000000",
          "2023-05-16T00:00:00.000000000",
          "2023-05-15T00:00:00.000000000",
          "2023-05-12T00:00:00.000000000",
          "2023-05-11T00:00:00.000000000",
          "2023-05-10T00:00:00.000000000",
          "2023-05-09T00:00:00.000000000",
          "2023-05-08T00:00:00.000000000",
          "2023-05-05T00:00:00.000000000",
          "2023-05-04T00:00:00.000000000",
          "2023-05-03T00:00:00.000000000",
          "2023-05-02T00:00:00.000000000",
          "2023-05-01T00:00:00.000000000",
          "2023-04-28T00:00:00.000000000",
          "2023-04-27T00:00:00.000000000",
          "2023-04-26T00:00:00.000000000",
          "2023-04-25T00:00:00.000000000",
          "2023-04-24T00:00:00.000000000",
          "2023-04-21T00:00:00.000000000",
          "2023-04-20T00:00:00.000000000",
          "2023-04-19T00:00:00.000000000",
          "2023-04-18T00:00:00.000000000",
          "2023-04-17T00:00:00.000000000",
          "2023-04-14T00:00:00.000000000",
          "2023-04-13T00:00:00.000000000",
          "2023-04-12T00:00:00.000000000",
          "2023-04-11T00:00:00.000000000",
          "2023-04-10T00:00:00.000000000",
          "2023-04-06T00:00:00.000000000",
          "2023-04-05T00:00:00.000000000",
          "2023-04-04T00:00:00.000000000",
          "2023-04-03T00:00:00.000000000",
          "2023-03-31T00:00:00.000000000",
          "2023-03-30T00:00:00.000000000",
          "2023-03-29T00:00:00.000000000",
          "2023-03-28T00:00:00.000000000",
          "2023-03-27T00:00:00.000000000",
          "2023-03-24T00:00:00.000000000",
          "2023-03-23T00:00:00.000000000",
          "2023-03-22T00:00:00.000000000",
          "2023-03-21T00:00:00.000000000",
          "2023-03-20T00:00:00.000000000",
          "2023-03-17T00:00:00.000000000",
          "2023-03-16T00:00:00.000000000"
         ],
         "xaxis": "x",
         "y": {
          "bdata": "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",
          "dtype": "f8"
         },
         "yaxis": "y"
        },
        {
         "name": "Volume",
         "type": "scatter",
         "x": [
          "2025-04-21T00:00:00.000000000",
          "2025-04-17T00:00:00.000000000",
          "2025-04-16T00:00:00.000000000",
          "2025-04-15T00:00:00.000000000",
          "2025-04-14T00:00:00.000000000",
          "2025-04-11T00:00:00.000000000",
          "2025-04-10T00:00:00.000000000",
          "2025-04-09T00:00:00.000000000",
          "2025-04-08T00:00:00.000000000",
          "2025-04-07T00:00:00.000000000",
          "2025-04-04T00:00:00.000000000",
          "2025-04-03T00:00:00.000000000",
          "2025-04-02T00:00:00.000000000",
          "2025-04-01T00:00:00.000000000",
          "2025-03-31T00:00:00.000000000",
          "2025-03-28T00:00:00.000000000",
          "2025-03-27T00:00:00.000000000",
          "2025-03-26T00:00:00.000000000",
          "2025-03-25T00:00:00.000000000",
          "2025-03-24T00:00:00.000000000",
          "2025-03-21T00:00:00.000000000",
          "2025-03-20T00:00:00.000000000",
          "2025-03-19T00:00:00.000000000",
          "2025-03-18T00:00:00.000000000",
          "2025-03-17T00:00:00.000000000",
          "2025-03-14T00:00:00.000000000",
          "2025-03-13T00:00:00.000000000",
          "2025-03-12T00:00:00.000000000",
          "2025-03-11T00:00:00.000000000",
          "2025-03-10T00:00:00.000000000",
          "2025-03-07T00:00:00.000000000",
          "2025-03-06T00:00:00.000000000",
          "2025-03-05T00:00:00.000000000",
          "2025-03-04T00:00:00.000000000",
          "2025-03-03T00:00:00.000000000",
          "2025-02-28T00:00:00.000000000",
          "2025-02-27T00:00:00.000000000",
          "2025-02-26T00:00:00.000000000",
          "2025-02-25T00:00:00.000000000",
          "2025-02-24T00:00:00.000000000",
          "2025-02-21T00:00:00.000000000",
          "2025-02-20T00:00:00.000000000",
          "2025-02-19T00:00:00.000000000",
          "2025-02-18T00:00:00.000000000",
          "2025-02-14T00:00:00.000000000",
          "2025-02-13T00:00:00.000000000",
          "2025-02-12T00:00:00.000000000",
          "2025-02-11T00:00:00.000000000",
          "2025-02-10T00:00:00.000000000",
          "2025-02-07T00:00:00.000000000",
          "2025-02-06T00:00:00.000000000",
          "2025-02-05T00:00:00.000000000",
          "2025-02-04T00:00:00.000000000",
          "2025-02-03T00:00:00.000000000",
          "2025-01-31T00:00:00.000000000",
          "2025-01-30T00:00:00.000000000",
          "2025-01-29T00:00:00.000000000",
          "2025-01-28T00:00:00.000000000",
          "2025-01-27T00:00:00.000000000",
          "2025-01-24T00:00:00.000000000",
          "2025-01-23T00:00:00.000000000",
          "2025-01-22T00:00:00.000000000",
          "2025-01-21T00:00:00.000000000",
          "2025-01-17T00:00:00.000000000",
          "2025-01-16T00:00:00.000000000",
          "2025-01-15T00:00:00.000000000",
          "2025-01-14T00:00:00.000000000",
          "2025-01-13T00:00:00.000000000",
          "2025-01-10T00:00:00.000000000",
          "2025-01-08T00:00:00.000000000",
          "2025-01-07T00:00:00.000000000",
          "2025-01-06T00:00:00.000000000",
          "2025-01-03T00:00:00.000000000",
          "2025-01-02T00:00:00.000000000",
          "2024-12-31T00:00:00.000000000",
          "2024-12-30T00:00:00.000000000",
          "2024-12-27T00:00:00.000000000",
          "2024-12-26T00:00:00.000000000",
          "2024-12-24T00:00:00.000000000",
          "2024-12-23T00:00:00.000000000",
          "2024-12-20T00:00:00.000000000",
          "2024-12-19T00:00:00.000000000",
          "2024-12-18T00:00:00.000000000",
          "2024-12-17T00:00:00.000000000",
          "2024-12-16T00:00:00.000000000",
          "2024-12-13T00:00:00.000000000",
          "2024-12-12T00:00:00.000000000",
          "2024-12-11T00:00:00.000000000",
          "2024-12-10T00:00:00.000000000",
          "2024-12-09T00:00:00.000000000",
          "2024-12-06T00:00:00.000000000",
          "2024-12-05T00:00:00.000000000",
          "2024-12-04T00:00:00.000000000",
          "2024-12-03T00:00:00.000000000",
          "2024-12-02T00:00:00.000000000",
          "2024-11-29T00:00:00.000000000",
          "2024-11-27T00:00:00.000000000",
          "2024-11-26T00:00:00.000000000",
          "2024-11-25T00:00:00.000000000",
          "2024-11-22T00:00:00.000000000",
          "2024-11-21T00:00:00.000000000",
          "2024-11-20T00:00:00.000000000",
          "2024-11-19T00:00:00.000000000",
          "2024-11-18T00:00:00.000000000",
          "2024-11-15T00:00:00.000000000",
          "2024-11-14T00:00:00.000000000",
          "2024-11-13T00:00:00.000000000",
          "2024-11-12T00:00:00.000000000",
          "2024-11-11T00:00:00.000000000",
          "2024-11-08T00:00:00.000000000",
          "2024-11-07T00:00:00.000000000",
          "2024-11-06T00:00:00.000000000",
          "2024-11-05T00:00:00.000000000",
          "2024-11-04T00:00:00.000000000",
          "2024-11-01T00:00:00.000000000",
          "2024-10-31T00:00:00.000000000",
          "2024-10-30T00:00:00.000000000",
          "2024-10-29T00:00:00.000000000",
          "2024-10-28T00:00:00.000000000",
          "2024-10-25T00:00:00.000000000",
          "2024-10-24T00:00:00.000000000",
          "2024-10-23T00:00:00.000000000",
          "2024-10-22T00:00:00.000000000",
          "2024-10-21T00:00:00.000000000",
          "2024-10-18T00:00:00.000000000",
          "2024-10-17T00:00:00.000000000",
          "2024-10-16T00:00:00.000000000",
          "2024-10-15T00:00:00.000000000",
          "2024-10-14T00:00:00.000000000",
          "2024-10-11T00:00:00.000000000",
          "2024-10-10T00:00:00.000000000",
          "2024-10-09T00:00:00.000000000",
          "2024-10-08T00:00:00.000000000",
          "2024-10-07T00:00:00.000000000",
          "2024-10-04T00:00:00.000000000",
          "2024-10-03T00:00:00.000000000",
          "2024-10-02T00:00:00.000000000",
          "2024-10-01T00:00:00.000000000",
          "2024-09-30T00:00:00.000000000",
          "2024-09-27T00:00:00.000000000",
          "2024-09-26T00:00:00.000000000",
          "2024-09-25T00:00:00.000000000",
          "2024-09-24T00:00:00.000000000",
          "2024-09-23T00:00:00.000000000",
          "2024-09-20T00:00:00.000000000",
          "2024-09-19T00:00:00.000000000",
          "2024-09-18T00:00:00.000000000",
          "2024-09-17T00:00:00.000000000",
          "2024-09-16T00:00:00.000000000",
          "2024-09-13T00:00:00.000000000",
          "2024-09-12T00:00:00.000000000",
          "2024-09-11T00:00:00.000000000",
          "2024-09-10T00:00:00.000000000",
          "2024-09-09T00:00:00.000000000",
          "2024-09-06T00:00:00.000000000",
          "2024-09-05T00:00:00.000000000",
          "2024-09-04T00:00:00.000000000",
          "2024-09-03T00:00:00.000000000",
          "2024-08-30T00:00:00.000000000",
          "2024-08-29T00:00:00.000000000",
          "2024-08-28T00:00:00.000000000",
          "2024-08-27T00:00:00.000000000",
          "2024-08-26T00:00:00.000000000",
          "2024-08-23T00:00:00.000000000",
          "2024-08-22T00:00:00.000000000",
          "2024-08-21T00:00:00.000000000",
          "2024-08-20T00:00:00.000000000",
          "2024-08-19T00:00:00.000000000",
          "2024-08-16T00:00:00.000000000",
          "2024-08-15T00:00:00.000000000",
          "2024-08-14T00:00:00.000000000",
          "2024-08-13T00:00:00.000000000",
          "2024-08-12T00:00:00.000000000",
          "2024-08-09T00:00:00.000000000",
          "2024-08-08T00:00:00.000000000",
          "2024-08-07T00:00:00.000000000",
          "2024-08-06T00:00:00.000000000",
          "2024-08-05T00:00:00.000000000",
          "2024-08-02T00:00:00.000000000",
          "2024-08-01T00:00:00.000000000",
          "2024-07-31T00:00:00.000000000",
          "2024-07-30T00:00:00.000000000",
          "2024-07-29T00:00:00.000000000",
          "2024-07-26T00:00:00.000000000",
          "2024-07-25T00:00:00.000000000",
          "2024-07-24T00:00:00.000000000",
          "2024-07-23T00:00:00.000000000",
          "2024-07-22T00:00:00.000000000",
          "2024-07-19T00:00:00.000000000",
          "2024-07-18T00:00:00.000000000",
          "2024-07-17T00:00:00.000000000",
          "2024-07-16T00:00:00.000000000",
          "2024-07-15T00:00:00.000000000",
          "2024-07-12T00:00:00.000000000",
          "2024-07-11T00:00:00.000000000",
          "2024-07-10T00:00:00.000000000",
          "2024-07-09T00:00:00.000000000",
          "2024-07-08T00:00:00.000000000",
          "2024-07-05T00:00:00.000000000",
          "2024-07-03T00:00:00.000000000",
          "2024-07-02T00:00:00.000000000",
          "2024-07-01T00:00:00.000000000",
          "2024-06-28T00:00:00.000000000",
          "2024-06-27T00:00:00.000000000",
          "2024-06-26T00:00:00.000000000",
          "2024-06-25T00:00:00.000000000",
          "2024-06-24T00:00:00.000000000",
          "2024-06-21T00:00:00.000000000",
          "2024-06-20T00:00:00.000000000",
          "2024-06-18T00:00:00.000000000",
          "2024-06-17T00:00:00.000000000",
          "2024-06-14T00:00:00.000000000",
          "2024-06-13T00:00:00.000000000",
          "2024-06-12T00:00:00.000000000",
          "2024-06-11T00:00:00.000000000",
          "2024-06-10T00:00:00.000000000",
          "2024-06-07T00:00:00.000000000",
          "2024-06-06T00:00:00.000000000",
          "2024-06-05T00:00:00.000000000",
          "2024-06-04T00:00:00.000000000",
          "2024-06-03T00:00:00.000000000",
          "2024-05-31T00:00:00.000000000",
          "2024-05-30T00:00:00.000000000",
          "2024-05-29T00:00:00.000000000",
          "2024-05-28T00:00:00.000000000",
          "2024-05-24T00:00:00.000000000",
          "2024-05-23T00:00:00.000000000",
          "2024-05-22T00:00:00.000000000",
          "2024-05-21T00:00:00.000000000",
          "2024-05-20T00:00:00.000000000",
          "2024-05-17T00:00:00.000000000",
          "2024-05-16T00:00:00.000000000",
          "2024-05-15T00:00:00.000000000",
          "2024-05-14T00:00:00.000000000",
          "2024-05-13T00:00:00.000000000",
          "2024-05-10T00:00:00.000000000",
          "2024-05-09T00:00:00.000000000",
          "2024-05-08T00:00:00.000000000",
          "2024-05-07T00:00:00.000000000",
          "2024-05-06T00:00:00.000000000",
          "2024-05-03T00:00:00.000000000",
          "2024-05-02T00:00:00.000000000",
          "2024-05-01T00:00:00.000000000",
          "2024-04-30T00:00:00.000000000",
          "2024-04-29T00:00:00.000000000",
          "2024-04-26T00:00:00.000000000",
          "2024-04-25T00:00:00.000000000",
          "2024-04-24T00:00:00.000000000",
          "2024-04-23T00:00:00.000000000",
          "2024-04-22T00:00:00.000000000",
          "2024-04-19T00:00:00.000000000",
          "2024-04-18T00:00:00.000000000",
          "2024-04-17T00:00:00.000000000",
          "2024-04-16T00:00:00.000000000",
          "2024-04-15T00:00:00.000000000",
          "2024-04-12T00:00:00.000000000",
          "2024-04-11T00:00:00.000000000",
          "2024-04-10T00:00:00.000000000",
          "2024-04-09T00:00:00.000000000",
          "2024-04-08T00:00:00.000000000",
          "2024-04-05T00:00:00.000000000",
          "2024-04-04T00:00:00.000000000",
          "2024-04-03T00:00:00.000000000",
          "2024-04-02T00:00:00.000000000",
          "2024-04-01T00:00:00.000000000",
          "2024-03-28T00:00:00.000000000",
          "2024-03-27T00:00:00.000000000",
          "2024-03-26T00:00:00.000000000",
          "2024-03-25T00:00:00.000000000",
          "2024-03-22T00:00:00.000000000",
          "2024-03-21T00:00:00.000000000",
          "2024-03-20T00:00:00.000000000",
          "2024-03-19T00:00:00.000000000",
          "2024-03-18T00:00:00.000000000",
          "2024-03-15T00:00:00.000000000",
          "2024-03-14T00:00:00.000000000",
          "2024-03-13T00:00:00.000000000",
          "2024-03-12T00:00:00.000000000",
          "2024-03-11T00:00:00.000000000",
          "2024-03-08T00:00:00.000000000",
          "2024-03-07T00:00:00.000000000",
          "2024-03-06T00:00:00.000000000",
          "2024-03-05T00:00:00.000000000",
          "2024-03-04T00:00:00.000000000",
          "2024-03-01T00:00:00.000000000",
          "2024-02-29T00:00:00.000000000",
          "2024-02-28T00:00:00.000000000",
          "2024-02-27T00:00:00.000000000",
          "2024-02-26T00:00:00.000000000",
          "2024-02-23T00:00:00.000000000",
          "2024-02-22T00:00:00.000000000",
          "2024-02-21T00:00:00.000000000",
          "2024-02-20T00:00:00.000000000",
          "2024-02-16T00:00:00.000000000",
          "2024-02-15T00:00:00.000000000",
          "2024-02-14T00:00:00.000000000",
          "2024-02-13T00:00:00.000000000",
          "2024-02-12T00:00:00.000000000",
          "2024-02-09T00:00:00.000000000",
          "2024-02-08T00:00:00.000000000",
          "2024-02-07T00:00:00.000000000",
          "2024-02-06T00:00:00.000000000",
          "2024-02-05T00:00:00.000000000",
          "2024-02-02T00:00:00.000000000",
          "2024-02-01T00:00:00.000000000",
          "2024-01-31T00:00:00.000000000",
          "2024-01-30T00:00:00.000000000",
          "2024-01-29T00:00:00.000000000",
          "2024-01-26T00:00:00.000000000",
          "2024-01-25T00:00:00.000000000",
          "2024-01-24T00:00:00.000000000",
          "2024-01-23T00:00:00.000000000",
          "2024-01-22T00:00:00.000000000",
          "2024-01-19T00:00:00.000000000",
          "2024-01-18T00:00:00.000000000",
          "2024-01-17T00:00:00.000000000",
          "2024-01-16T00:00:00.000000000",
          "2024-01-12T00:00:00.000000000",
          "2024-01-11T00:00:00.000000000",
          "2024-01-10T00:00:00.000000000",
          "2024-01-09T00:00:00.000000000",
          "2024-01-08T00:00:00.000000000",
          "2024-01-05T00:00:00.000000000",
          "2024-01-04T00:00:00.000000000",
          "2024-01-03T00:00:00.000000000",
          "2024-01-02T00:00:00.000000000",
          "2023-12-29T00:00:00.000000000",
          "2023-12-28T00:00:00.000000000",
          "2023-12-27T00:00:00.000000000",
          "2023-12-26T00:00:00.000000000",
          "2023-12-22T00:00:00.000000000",
          "2023-12-21T00:00:00.000000000",
          "2023-12-20T00:00:00.000000000",
          "2023-12-19T00:00:00.000000000",
          "2023-12-18T00:00:00.000000000",
          "2023-12-15T00:00:00.000000000",
          "2023-12-14T00:00:00.000000000",
          "2023-12-13T00:00:00.000000000",
          "2023-12-12T00:00:00.000000000",
          "2023-12-11T00:00:00.000000000",
          "2023-12-08T00:00:00.000000000",
          "2023-12-07T00:00:00.000000000",
          "2023-12-06T00:00:00.000000000",
          "2023-12-05T00:00:00.000000000",
          "2023-12-04T00:00:00.000000000",
          "2023-12-01T00:00:00.000000000",
          "2023-11-30T00:00:00.000000000",
          "2023-11-29T00:00:00.000000000",
          "2023-11-28T00:00:00.000000000",
          "2023-11-27T00:00:00.000000000",
          "2023-11-24T00:00:00.000000000",
          "2023-11-22T00:00:00.000000000",
          "2023-11-21T00:00:00.000000000",
          "2023-11-20T00:00:00.000000000",
          "2023-11-17T00:00:00.000000000",
          "2023-11-16T00:00:00.000000000",
          "2023-11-15T00:00:00.000000000",
          "2023-11-14T00:00:00.000000000",
          "2023-11-13T00:00:00.000000000",
          "2023-11-10T00:00:00.000000000",
          "2023-11-09T00:00:00.000000000",
          "2023-11-08T00:00:00.000000000",
          "2023-11-07T00:00:00.000000000",
          "2023-11-06T00:00:00.000000000",
          "2023-11-03T00:00:00.000000000",
          "2023-11-02T00:00:00.000000000",
          "2023-11-01T00:00:00.000000000",
          "2023-10-31T00:00:00.000000000",
          "2023-10-30T00:00:00.000000000",
          "2023-10-27T00:00:00.000000000",
          "2023-10-26T00:00:00.000000000",
          "2023-10-25T00:00:00.000000000",
          "2023-10-24T00:00:00.000000000",
          "2023-10-23T00:00:00.000000000",
          "2023-10-20T00:00:00.000000000",
          "2023-10-19T00:00:00.000000000",
          "2023-10-18T00:00:00.000000000",
          "2023-10-17T00:00:00.000000000",
          "2023-10-16T00:00:00.000000000",
          "2023-10-13T00:00:00.000000000",
          "2023-10-12T00:00:00.000000000",
          "2023-10-11T00:00:00.000000000",
          "2023-10-10T00:00:00.000000000",
          "2023-10-09T00:00:00.000000000",
          "2023-10-06T00:00:00.000000000",
          "2023-10-05T00:00:00.000000000",
          "2023-10-04T00:00:00.000000000",
          "2023-10-03T00:00:00.000000000",
          "2023-10-02T00:00:00.000000000",
          "2023-09-29T00:00:00.000000000",
          "2023-09-28T00:00:00.000000000",
          "2023-09-27T00:00:00.000000000",
          "2023-09-26T00:00:00.000000000",
          "2023-09-25T00:00:00.000000000",
          "2023-09-22T00:00:00.000000000",
          "2023-09-21T00:00:00.000000000",
          "2023-09-20T00:00:00.000000000",
          "2023-09-19T00:00:00.000000000",
          "2023-09-18T00:00:00.000000000",
          "2023-09-15T00:00:00.000000000",
          "2023-09-14T00:00:00.000000000",
          "2023-09-13T00:00:00.000000000",
          "2023-09-12T00:00:00.000000000",
          "2023-09-11T00:00:00.000000000",
          "2023-09-08T00:00:00.000000000",
          "2023-09-07T00:00:00.000000000",
          "2023-09-06T00:00:00.000000000",
          "2023-09-05T00:00:00.000000000",
          "2023-09-01T00:00:00.000000000",
          "2023-08-31T00:00:00.000000000",
          "2023-08-30T00:00:00.000000000",
          "2023-08-29T00:00:00.000000000",
          "2023-08-28T00:00:00.000000000",
          "2023-08-25T00:00:00.000000000",
          "2023-08-24T00:00:00.000000000",
          "2023-08-23T00:00:00.000000000",
          "2023-08-22T00:00:00.000000000",
          "2023-08-21T00:00:00.000000000",
          "2023-08-18T00:00:00.000000000",
          "2023-08-17T00:00:00.000000000",
          "2023-08-16T00:00:00.000000000",
          "2023-08-15T00:00:00.000000000",
          "2023-08-14T00:00:00.000000000",
          "2023-08-11T00:00:00.000000000",
          "2023-08-10T00:00:00.000000000",
          "2023-08-09T00:00:00.000000000",
          "2023-08-08T00:00:00.000000000",
          "2023-08-07T00:00:00.000000000",
          "2023-08-04T00:00:00.000000000",
          "2023-08-03T00:00:00.000000000",
          "2023-08-02T00:00:00.000000000",
          "2023-08-01T00:00:00.000000000",
          "2023-07-31T00:00:00.000000000",
          "2023-07-28T00:00:00.000000000",
          "2023-07-27T00:00:00.000000000",
          "2023-07-26T00:00:00.000000000",
          "2023-07-25T00:00:00.000000000",
          "2023-07-24T00:00:00.000000000",
          "2023-07-21T00:00:00.000000000",
          "2023-07-20T00:00:00.000000000",
          "2023-07-19T00:00:00.000000000",
          "2023-07-18T00:00:00.000000000",
          "2023-07-17T00:00:00.000000000",
          "2023-07-14T00:00:00.000000000",
          "2023-07-13T00:00:00.000000000",
          "2023-07-12T00:00:00.000000000",
          "2023-07-11T00:00:00.000000000",
          "2023-07-10T00:00:00.000000000",
          "2023-07-07T00:00:00.000000000",
          "2023-07-06T00:00:00.000000000",
          "2023-07-05T00:00:00.000000000",
          "2023-07-03T00:00:00.000000000",
          "2023-06-30T00:00:00.000000000",
          "2023-06-29T00:00:00.000000000",
          "2023-06-28T00:00:00.000000000",
          "2023-06-27T00:00:00.000000000",
          "2023-06-26T00:00:00.000000000",
          "2023-06-23T00:00:00.000000000",
          "2023-06-22T00:00:00.000000000",
          "2023-06-21T00:00:00.000000000",
          "2023-06-20T00:00:00.000000000",
          "2023-06-16T00:00:00.000000000",
          "2023-06-15T00:00:00.000000000",
          "2023-06-14T00:00:00.000000000",
          "2023-06-13T00:00:00.000000000",
          "2023-06-12T00:00:00.000000000",
          "2023-06-09T00:00:00.000000000",
          "2023-06-08T00:00:00.000000000",
          "2023-06-07T00:00:00.000000000",
          "2023-06-06T00:00:00.000000000",
          "2023-06-05T00:00:00.000000000",
          "2023-06-02T00:00:00.000000000",
          "2023-06-01T00:00:00.000000000",
          "2023-05-31T00:00:00.000000000",
          "2023-05-30T00:00:00.000000000",
          "2023-05-26T00:00:00.000000000",
          "2023-05-25T00:00:00.000000000",
          "2023-05-24T00:00:00.000000000",
          "2023-05-23T00:00:00.000000000",
          "2023-05-22T00:00:00.000000000",
          "2023-05-19T00:00:00.000000000",
          "2023-05-18T00:00:00.000000000",
          "2023-05-17T00:00:00.000000000",
          "2023-05-16T00:00:00.000000000",
          "2023-05-15T00:00:00.000000000",
          "2023-05-12T00:00:00.000000000",
          "2023-05-11T00:00:00.000000000",
          "2023-05-10T00:00:00.000000000",
          "2023-05-09T00:00:00.000000000",
          "2023-05-08T00:00:00.000000000",
          "2023-05-05T00:00:00.000000000",
          "2023-05-04T00:00:00.000000000",
          "2023-05-03T00:00:00.000000000",
          "2023-05-02T00:00:00.000000000",
          "2023-05-01T00:00:00.000000000",
          "2023-04-28T00:00:00.000000000",
          "2023-04-27T00:00:00.000000000",
          "2023-04-26T00:00:00.000000000",
          "2023-04-25T00:00:00.000000000",
          "2023-04-24T00:00:00.000000000",
          "2023-04-21T00:00:00.000000000",
          "2023-04-20T00:00:00.000000000",
          "2023-04-19T00:00:00.000000000",
          "2023-04-18T00:00:00.000000000",
          "2023-04-17T00:00:00.000000000",
          "2023-04-14T00:00:00.000000000",
          "2023-04-13T00:00:00.000000000",
          "2023-04-12T00:00:00.000000000",
          "2023-04-11T00:00:00.000000000",
          "2023-04-10T00:00:00.000000000",
          "2023-04-06T00:00:00.000000000",
          "2023-04-05T00:00:00.000000000",
          "2023-04-04T00:00:00.000000000",
          "2023-04-03T00:00:00.000000000",
          "2023-03-31T00:00:00.000000000",
          "2023-03-30T00:00:00.000000000",
          "2023-03-29T00:00:00.000000000",
          "2023-03-28T00:00:00.000000000",
          "2023-03-27T00:00:00.000000000",
          "2023-03-24T00:00:00.000000000",
          "2023-03-23T00:00:00.000000000",
          "2023-03-22T00:00:00.000000000",
          "2023-03-21T00:00:00.000000000",
          "2023-03-20T00:00:00.000000000",
          "2023-03-17T00:00:00.000000000",
          "2023-03-16T00:00:00.000000000"
         ],
         "xaxis": "x",
         "y": {
          "bdata": "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",
          "dtype": "f8"
         },
         "yaxis": "y2"
        },
        {
         "name": "50 Day MA",
         "type": "scatter",
         "x": [
          "2025-04-21T00:00:00.000000000",
          "2025-04-17T00:00:00.000000000",
          "2025-04-16T00:00:00.000000000",
          "2025-04-15T00:00:00.000000000",
          "2025-04-14T00:00:00.000000000",
          "2025-04-11T00:00:00.000000000",
          "2025-04-10T00:00:00.000000000",
          "2025-04-09T00:00:00.000000000",
          "2025-04-08T00:00:00.000000000",
          "2025-04-07T00:00:00.000000000",
          "2025-04-04T00:00:00.000000000",
          "2025-04-03T00:00:00.000000000",
          "2025-04-02T00:00:00.000000000",
          "2025-04-01T00:00:00.000000000",
          "2025-03-31T00:00:00.000000000",
          "2025-03-28T00:00:00.000000000",
          "2025-03-27T00:00:00.000000000",
          "2025-03-26T00:00:00.000000000",
          "2025-03-25T00:00:00.000000000",
          "2025-03-24T00:00:00.000000000",
          "2025-03-21T00:00:00.000000000",
          "2025-03-20T00:00:00.000000000",
          "2025-03-19T00:00:00.000000000",
          "2025-03-18T00:00:00.000000000",
          "2025-03-17T00:00:00.000000000",
          "2025-03-14T00:00:00.000000000",
          "2025-03-13T00:00:00.000000000",
          "2025-03-12T00:00:00.000000000",
          "2025-03-11T00:00:00.000000000",
          "2025-03-10T00:00:00.000000000",
          "2025-03-07T00:00:00.000000000",
          "2025-03-06T00:00:00.000000000",
          "2025-03-05T00:00:00.000000000",
          "2025-03-04T00:00:00.000000000",
          "2025-03-03T00:00:00.000000000",
          "2025-02-28T00:00:00.000000000",
          "2025-02-27T00:00:00.000000000",
          "2025-02-26T00:00:00.000000000",
          "2025-02-25T00:00:00.000000000",
          "2025-02-24T00:00:00.000000000",
          "2025-02-21T00:00:00.000000000",
          "2025-02-20T00:00:00.000000000",
          "2025-02-19T00:00:00.000000000",
          "2025-02-18T00:00:00.000000000",
          "2025-02-14T00:00:00.000000000",
          "2025-02-13T00:00:00.000000000",
          "2025-02-12T00:00:00.000000000",
          "2025-02-11T00:00:00.000000000",
          "2025-02-10T00:00:00.000000000",
          "2025-02-07T00:00:00.000000000",
          "2025-02-06T00:00:00.000000000",
          "2025-02-05T00:00:00.000000000",
          "2025-02-04T00:00:00.000000000",
          "2025-02-03T00:00:00.000000000",
          "2025-01-31T00:00:00.000000000",
          "2025-01-30T00:00:00.000000000",
          "2025-01-29T00:00:00.000000000",
          "2025-01-28T00:00:00.000000000",
          "2025-01-27T00:00:00.000000000",
          "2025-01-24T00:00:00.000000000",
          "2025-01-23T00:00:00.000000000",
          "2025-01-22T00:00:00.000000000",
          "2025-01-21T00:00:00.000000000",
          "2025-01-17T00:00:00.000000000",
          "2025-01-16T00:00:00.000000000",
          "2025-01-15T00:00:00.000000000",
          "2025-01-14T00:00:00.000000000",
          "2025-01-13T00:00:00.000000000",
          "2025-01-10T00:00:00.000000000",
          "2025-01-08T00:00:00.000000000",
          "2025-01-07T00:00:00.000000000",
          "2025-01-06T00:00:00.000000000",
          "2025-01-03T00:00:00.000000000",
          "2025-01-02T00:00:00.000000000",
          "2024-12-31T00:00:00.000000000",
          "2024-12-30T00:00:00.000000000",
          "2024-12-27T00:00:00.000000000",
          "2024-12-26T00:00:00.000000000",
          "2024-12-24T00:00:00.000000000",
          "2024-12-23T00:00:00.000000000",
          "2024-12-20T00:00:00.000000000",
          "2024-12-19T00:00:00.000000000",
          "2024-12-18T00:00:00.000000000",
          "2024-12-17T00:00:00.000000000",
          "2024-12-16T00:00:00.000000000",
          "2024-12-13T00:00:00.000000000",
          "2024-12-12T00:00:00.000000000",
          "2024-12-11T00:00:00.000000000",
          "2024-12-10T00:00:00.000000000",
          "2024-12-09T00:00:00.000000000",
          "2024-12-06T00:00:00.000000000",
          "2024-12-05T00:00:00.000000000",
          "2024-12-04T00:00:00.000000000",
          "2024-12-03T00:00:00.000000000",
          "2024-12-02T00:00:00.000000000",
          "2024-11-29T00:00:00.000000000",
          "2024-11-27T00:00:00.000000000",
          "2024-11-26T00:00:00.000000000",
          "2024-11-25T00:00:00.000000000",
          "2024-11-22T00:00:00.000000000",
          "2024-11-21T00:00:00.000000000",
          "2024-11-20T00:00:00.000000000",
          "2024-11-19T00:00:00.000000000",
          "2024-11-18T00:00:00.000000000",
          "2024-11-15T00:00:00.000000000",
          "2024-11-14T00:00:00.000000000",
          "2024-11-13T00:00:00.000000000",
          "2024-11-12T00:00:00.000000000",
          "2024-11-11T00:00:00.000000000",
          "2024-11-08T00:00:00.000000000",
          "2024-11-07T00:00:00.000000000",
          "2024-11-06T00:00:00.000000000",
          "2024-11-05T00:00:00.000000000",
          "2024-11-04T00:00:00.000000000",
          "2024-11-01T00:00:00.000000000",
          "2024-10-31T00:00:00.000000000",
          "2024-10-30T00:00:00.000000000",
          "2024-10-29T00:00:00.000000000",
          "2024-10-28T00:00:00.000000000",
          "2024-10-25T00:00:00.000000000",
          "2024-10-24T00:00:00.000000000",
          "2024-10-23T00:00:00.000000000",
          "2024-10-22T00:00:00.000000000",
          "2024-10-21T00:00:00.000000000",
          "2024-10-18T00:00:00.000000000",
          "2024-10-17T00:00:00.000000000",
          "2024-10-16T00:00:00.000000000",
          "2024-10-15T00:00:00.000000000",
          "2024-10-14T00:00:00.000000000",
          "2024-10-11T00:00:00.000000000",
          "2024-10-10T00:00:00.000000000",
          "2024-10-09T00:00:00.000000000",
          "2024-10-08T00:00:00.000000000",
          "2024-10-07T00:00:00.000000000",
          "2024-10-04T00:00:00.000000000",
          "2024-10-03T00:00:00.000000000",
          "2024-10-02T00:00:00.000000000",
          "2024-10-01T00:00:00.000000000",
          "2024-09-30T00:00:00.000000000",
          "2024-09-27T00:00:00.000000000",
          "2024-09-26T00:00:00.000000000",
          "2024-09-25T00:00:00.000000000",
          "2024-09-24T00:00:00.000000000",
          "2024-09-23T00:00:00.000000000",
          "2024-09-20T00:00:00.000000000",
          "2024-09-19T00:00:00.000000000",
          "2024-09-18T00:00:00.000000000",
          "2024-09-17T00:00:00.000000000",
          "2024-09-16T00:00:00.000000000",
          "2024-09-13T00:00:00.000000000",
          "2024-09-12T00:00:00.000000000",
          "2024-09-11T00:00:00.000000000",
          "2024-09-10T00:00:00.000000000",
          "2024-09-09T00:00:00.000000000",
          "2024-09-06T00:00:00.000000000",
          "2024-09-05T00:00:00.000000000",
          "2024-09-04T00:00:00.000000000",
          "2024-09-03T00:00:00.000000000",
          "2024-08-30T00:00:00.000000000",
          "2024-08-29T00:00:00.000000000",
          "2024-08-28T00:00:00.000000000",
          "2024-08-27T00:00:00.000000000",
          "2024-08-26T00:00:00.000000000",
          "2024-08-23T00:00:00.000000000",
          "2024-08-22T00:00:00.000000000",
          "2024-08-21T00:00:00.000000000",
          "2024-08-20T00:00:00.000000000",
          "2024-08-19T00:00:00.000000000",
          "2024-08-16T00:00:00.000000000",
          "2024-08-15T00:00:00.000000000",
          "2024-08-14T00:00:00.000000000",
          "2024-08-13T00:00:00.000000000",
          "2024-08-12T00:00:00.000000000",
          "2024-08-09T00:00:00.000000000",
          "2024-08-08T00:00:00.000000000",
          "2024-08-07T00:00:00.000000000",
          "2024-08-06T00:00:00.000000000",
          "2024-08-05T00:00:00.000000000",
          "2024-08-02T00:00:00.000000000",
          "2024-08-01T00:00:00.000000000",
          "2024-07-31T00:00:00.000000000",
          "2024-07-30T00:00:00.000000000",
          "2024-07-29T00:00:00.000000000",
          "2024-07-26T00:00:00.000000000",
          "2024-07-25T00:00:00.000000000",
          "2024-07-24T00:00:00.000000000",
          "2024-07-23T00:00:00.000000000",
          "2024-07-22T00:00:00.000000000",
          "2024-07-19T00:00:00.000000000",
          "2024-07-18T00:00:00.000000000",
          "2024-07-17T00:00:00.000000000",
          "2024-07-16T00:00:00.000000000",
          "2024-07-15T00:00:00.000000000",
          "2024-07-12T00:00:00.000000000",
          "2024-07-11T00:00:00.000000000",
          "2024-07-10T00:00:00.000000000",
          "2024-07-09T00:00:00.000000000",
          "2024-07-08T00:00:00.000000000",
          "2024-07-05T00:00:00.000000000",
          "2024-07-03T00:00:00.000000000",
          "2024-07-02T00:00:00.000000000",
          "2024-07-01T00:00:00.000000000",
          "2024-06-28T00:00:00.000000000",
          "2024-06-27T00:00:00.000000000",
          "2024-06-26T00:00:00.000000000",
          "2024-06-25T00:00:00.000000000",
          "2024-06-24T00:00:00.000000000",
          "2024-06-21T00:00:00.000000000",
          "2024-06-20T00:00:00.000000000",
          "2024-06-18T00:00:00.000000000",
          "2024-06-17T00:00:00.000000000",
          "2024-06-14T00:00:00.000000000",
          "2024-06-13T00:00:00.000000000",
          "2024-06-12T00:00:00.000000000",
          "2024-06-11T00:00:00.000000000",
          "2024-06-10T00:00:00.000000000",
          "2024-06-07T00:00:00.000000000",
          "2024-06-06T00:00:00.000000000",
          "2024-06-05T00:00:00.000000000",
          "2024-06-04T00:00:00.000000000",
          "2024-06-03T00:00:00.000000000",
          "2024-05-31T00:00:00.000000000",
          "2024-05-30T00:00:00.000000000",
          "2024-05-29T00:00:00.000000000",
          "2024-05-28T00:00:00.000000000",
          "2024-05-24T00:00:00.000000000",
          "2024-05-23T00:00:00.000000000",
          "2024-05-22T00:00:00.000000000",
          "2024-05-21T00:00:00.000000000",
          "2024-05-20T00:00:00.000000000",
          "2024-05-17T00:00:00.000000000",
          "2024-05-16T00:00:00.000000000",
          "2024-05-15T00:00:00.000000000",
          "2024-05-14T00:00:00.000000000",
          "2024-05-13T00:00:00.000000000",
          "2024-05-10T00:00:00.000000000",
          "2024-05-09T00:00:00.000000000",
          "2024-05-08T00:00:00.000000000",
          "2024-05-07T00:00:00.000000000",
          "2024-05-06T00:00:00.000000000",
          "2024-05-03T00:00:00.000000000",
          "2024-05-02T00:00:00.000000000",
          "2024-05-01T00:00:00.000000000",
          "2024-04-30T00:00:00.000000000",
          "2024-04-29T00:00:00.000000000",
          "2024-04-26T00:00:00.000000000",
          "2024-04-25T00:00:00.000000000",
          "2024-04-24T00:00:00.000000000",
          "2024-04-23T00:00:00.000000000",
          "2024-04-22T00:00:00.000000000",
          "2024-04-19T00:00:00.000000000",
          "2024-04-18T00:00:00.000000000",
          "2024-04-17T00:00:00.000000000",
          "2024-04-16T00:00:00.000000000",
          "2024-04-15T00:00:00.000000000",
          "2024-04-12T00:00:00.000000000",
          "2024-04-11T00:00:00.000000000",
          "2024-04-10T00:00:00.000000000",
          "2024-04-09T00:00:00.000000000",
          "2024-04-08T00:00:00.000000000",
          "2024-04-05T00:00:00.000000000",
          "2024-04-04T00:00:00.000000000",
          "2024-04-03T00:00:00.000000000",
          "2024-04-02T00:00:00.000000000",
          "2024-04-01T00:00:00.000000000",
          "2024-03-28T00:00:00.000000000",
          "2024-03-27T00:00:00.000000000",
          "2024-03-26T00:00:00.000000000",
          "2024-03-25T00:00:00.000000000",
          "2024-03-22T00:00:00.000000000",
          "2024-03-21T00:00:00.000000000",
          "2024-03-20T00:00:00.000000000",
          "2024-03-19T00:00:00.000000000",
          "2024-03-18T00:00:00.000000000",
          "2024-03-15T00:00:00.000000000",
          "2024-03-14T00:00:00.000000000",
          "2024-03-13T00:00:00.000000000",
          "2024-03-12T00:00:00.000000000",
          "2024-03-11T00:00:00.000000000",
          "2024-03-08T00:00:00.000000000",
          "2024-03-07T00:00:00.000000000",
          "2024-03-06T00:00:00.000000000",
          "2024-03-05T00:00:00.000000000",
          "2024-03-04T00:00:00.000000000",
          "2024-03-01T00:00:00.000000000",
          "2024-02-29T00:00:00.000000000",
          "2024-02-28T00:00:00.000000000",
          "2024-02-27T00:00:00.000000000",
          "2024-02-26T00:00:00.000000000",
          "2024-02-23T00:00:00.000000000",
          "2024-02-22T00:00:00.000000000",
          "2024-02-21T00:00:00.000000000",
          "2024-02-20T00:00:00.000000000",
          "2024-02-16T00:00:00.000000000",
          "2024-02-15T00:00:00.000000000",
          "2024-02-14T00:00:00.000000000",
          "2024-02-13T00:00:00.000000000",
          "2024-02-12T00:00:00.000000000",
          "2024-02-09T00:00:00.000000000",
          "2024-02-08T00:00:00.000000000",
          "2024-02-07T00:00:00.000000000",
          "2024-02-06T00:00:00.000000000",
          "2024-02-05T00:00:00.000000000",
          "2024-02-02T00:00:00.000000000",
          "2024-02-01T00:00:00.000000000",
          "2024-01-31T00:00:00.000000000",
          "2024-01-30T00:00:00.000000000",
          "2024-01-29T00:00:00.000000000",
          "2024-01-26T00:00:00.000000000",
          "2024-01-25T00:00:00.000000000",
          "2024-01-24T00:00:00.000000000",
          "2024-01-23T00:00:00.000000000",
          "2024-01-22T00:00:00.000000000",
          "2024-01-19T00:00:00.000000000",
          "2024-01-18T00:00:00.000000000",
          "2024-01-17T00:00:00.000000000",
          "2024-01-16T00:00:00.000000000",
          "2024-01-12T00:00:00.000000000",
          "2024-01-11T00:00:00.000000000",
          "2024-01-10T00:00:00.000000000",
          "2024-01-09T00:00:00.000000000",
          "2024-01-08T00:00:00.000000000",
          "2024-01-05T00:00:00.000000000",
          "2024-01-04T00:00:00.000000000",
          "2024-01-03T00:00:00.000000000",
          "2024-01-02T00:00:00.000000000",
          "2023-12-29T00:00:00.000000000",
          "2023-12-28T00:00:00.000000000",
          "2023-12-27T00:00:00.000000000",
          "2023-12-26T00:00:00.000000000",
          "2023-12-22T00:00:00.000000000",
          "2023-12-21T00:00:00.000000000",
          "2023-12-20T00:00:00.000000000",
          "2023-12-19T00:00:00.000000000",
          "2023-12-18T00:00:00.000000000",
          "2023-12-15T00:00:00.000000000",
          "2023-12-14T00:00:00.000000000",
          "2023-12-13T00:00:00.000000000",
          "2023-12-12T00:00:00.000000000",
          "2023-12-11T00:00:00.000000000",
          "2023-12-08T00:00:00.000000000",
          "2023-12-07T00:00:00.000000000",
          "2023-12-06T00:00:00.000000000",
          "2023-12-05T00:00:00.000000000",
          "2023-12-04T00:00:00.000000000",
          "2023-12-01T00:00:00.000000000",
          "2023-11-30T00:00:00.000000000",
          "2023-11-29T00:00:00.000000000",
          "2023-11-28T00:00:00.000000000",
          "2023-11-27T00:00:00.000000000",
          "2023-11-24T00:00:00.000000000",
          "2023-11-22T00:00:00.000000000",
          "2023-11-21T00:00:00.000000000",
          "2023-11-20T00:00:00.000000000",
          "2023-11-17T00:00:00.000000000",
          "2023-11-16T00:00:00.000000000",
          "2023-11-15T00:00:00.000000000",
          "2023-11-14T00:00:00.000000000",
          "2023-11-13T00:00:00.000000000",
          "2023-11-10T00:00:00.000000000",
          "2023-11-09T00:00:00.000000000",
          "2023-11-08T00:00:00.000000000",
          "2023-11-07T00:00:00.000000000",
          "2023-11-06T00:00:00.000000000",
          "2023-11-03T00:00:00.000000000",
          "2023-11-02T00:00:00.000000000",
          "2023-11-01T00:00:00.000000000",
          "2023-10-31T00:00:00.000000000",
          "2023-10-30T00:00:00.000000000",
          "2023-10-27T00:00:00.000000000",
          "2023-10-26T00:00:00.000000000",
          "2023-10-25T00:00:00.000000000",
          "2023-10-24T00:00:00.000000000",
          "2023-10-23T00:00:00.000000000",
          "2023-10-20T00:00:00.000000000",
          "2023-10-19T00:00:00.000000000",
          "2023-10-18T00:00:00.000000000",
          "2023-10-17T00:00:00.000000000",
          "2023-10-16T00:00:00.000000000",
          "2023-10-13T00:00:00.000000000",
          "2023-10-12T00:00:00.000000000",
          "2023-10-11T00:00:00.000000000",
          "2023-10-10T00:00:00.000000000",
          "2023-10-09T00:00:00.000000000",
          "2023-10-06T00:00:00.000000000",
          "2023-10-05T00:00:00.000000000",
          "2023-10-04T00:00:00.000000000",
          "2023-10-03T00:00:00.000000000",
          "2023-10-02T00:00:00.000000000",
          "2023-09-29T00:00:00.000000000",
          "2023-09-28T00:00:00.000000000",
          "2023-09-27T00:00:00.000000000",
          "2023-09-26T00:00:00.000000000",
          "2023-09-25T00:00:00.000000000",
          "2023-09-22T00:00:00.000000000",
          "2023-09-21T00:00:00.000000000",
          "2023-09-20T00:00:00.000000000",
          "2023-09-19T00:00:00.000000000",
          "2023-09-18T00:00:00.000000000",
          "2023-09-15T00:00:00.000000000",
          "2023-09-14T00:00:00.000000000",
          "2023-09-13T00:00:00.000000000",
          "2023-09-12T00:00:00.000000000",
          "2023-09-11T00:00:00.000000000",
          "2023-09-08T00:00:00.000000000",
          "2023-09-07T00:00:00.000000000",
          "2023-09-06T00:00:00.000000000",
          "2023-09-05T00:00:00.000000000",
          "2023-09-01T00:00:00.000000000",
          "2023-08-31T00:00:00.000000000",
          "2023-08-30T00:00:00.000000000",
          "2023-08-29T00:00:00.000000000",
          "2023-08-28T00:00:00.000000000",
          "2023-08-25T00:00:00.000000000",
          "2023-08-24T00:00:00.000000000",
          "2023-08-23T00:00:00.000000000",
          "2023-08-22T00:00:00.000000000",
          "2023-08-21T00:00:00.000000000",
          "2023-08-18T00:00:00.000000000",
          "2023-08-17T00:00:00.000000000",
          "2023-08-16T00:00:00.000000000",
          "2023-08-15T00:00:00.000000000",
          "2023-08-14T00:00:00.000000000",
          "2023-08-11T00:00:00.000000000",
          "2023-08-10T00:00:00.000000000",
          "2023-08-09T00:00:00.000000000",
          "2023-08-08T00:00:00.000000000",
          "2023-08-07T00:00:00.000000000",
          "2023-08-04T00:00:00.000000000",
          "2023-08-03T00:00:00.000000000",
          "2023-08-02T00:00:00.000000000",
          "2023-08-01T00:00:00.000000000",
          "2023-07-31T00:00:00.000000000",
          "2023-07-28T00:00:00.000000000",
          "2023-07-27T00:00:00.000000000",
          "2023-07-26T00:00:00.000000000",
          "2023-07-25T00:00:00.000000000",
          "2023-07-24T00:00:00.000000000",
          "2023-07-21T00:00:00.000000000",
          "2023-07-20T00:00:00.000000000",
          "2023-07-19T00:00:00.000000000",
          "2023-07-18T00:00:00.000000000",
          "2023-07-17T00:00:00.000000000",
          "2023-07-14T00:00:00.000000000",
          "2023-07-13T00:00:00.000000000",
          "2023-07-12T00:00:00.000000000",
          "2023-07-11T00:00:00.000000000",
          "2023-07-10T00:00:00.000000000",
          "2023-07-07T00:00:00.000000000",
          "2023-07-06T00:00:00.000000000",
          "2023-07-05T00:00:00.000000000",
          "2023-07-03T00:00:00.000000000",
          "2023-06-30T00:00:00.000000000",
          "2023-06-29T00:00:00.000000000",
          "2023-06-28T00:00:00.000000000",
          "2023-06-27T00:00:00.000000000",
          "2023-06-26T00:00:00.000000000",
          "2023-06-23T00:00:00.000000000",
          "2023-06-22T00:00:00.000000000",
          "2023-06-21T00:00:00.000000000",
          "2023-06-20T00:00:00.000000000",
          "2023-06-16T00:00:00.000000000",
          "2023-06-15T00:00:00.000000000",
          "2023-06-14T00:00:00.000000000",
          "2023-06-13T00:00:00.000000000",
          "2023-06-12T00:00:00.000000000",
          "2023-06-09T00:00:00.000000000",
          "2023-06-08T00:00:00.000000000",
          "2023-06-07T00:00:00.000000000",
          "2023-06-06T00:00:00.000000000",
          "2023-06-05T00:00:00.000000000",
          "2023-06-02T00:00:00.000000000",
          "2023-06-01T00:00:00.000000000",
          "2023-05-31T00:00:00.000000000",
          "2023-05-30T00:00:00.000000000",
          "2023-05-26T00:00:00.000000000",
          "2023-05-25T00:00:00.000000000",
          "2023-05-24T00:00:00.000000000",
          "2023-05-23T00:00:00.000000000",
          "2023-05-22T00:00:00.000000000",
          "2023-05-19T00:00:00.000000000",
          "2023-05-18T00:00:00.000000000",
          "2023-05-17T00:00:00.000000000",
          "2023-05-16T00:00:00.000000000",
          "2023-05-15T00:00:00.000000000",
          "2023-05-12T00:00:00.000000000",
          "2023-05-11T00:00:00.000000000",
          "2023-05-10T00:00:00.000000000",
          "2023-05-09T00:00:00.000000000",
          "2023-05-08T00:00:00.000000000",
          "2023-05-05T00:00:00.000000000",
          "2023-05-04T00:00:00.000000000",
          "2023-05-03T00:00:00.000000000",
          "2023-05-02T00:00:00.000000000",
          "2023-05-01T00:00:00.000000000",
          "2023-04-28T00:00:00.000000000",
          "2023-04-27T00:00:00.000000000",
          "2023-04-26T00:00:00.000000000",
          "2023-04-25T00:00:00.000000000",
          "2023-04-24T00:00:00.000000000",
          "2023-04-21T00:00:00.000000000",
          "2023-04-20T00:00:00.000000000",
          "2023-04-19T00:00:00.000000000",
          "2023-04-18T00:00:00.000000000",
          "2023-04-17T00:00:00.000000000",
          "2023-04-14T00:00:00.000000000",
          "2023-04-13T00:00:00.000000000",
          "2023-04-12T00:00:00.000000000",
          "2023-04-11T00:00:00.000000000",
          "2023-04-10T00:00:00.000000000",
          "2023-04-06T00:00:00.000000000",
          "2023-04-05T00:00:00.000000000",
          "2023-04-04T00:00:00.000000000",
          "2023-04-03T00:00:00.000000000",
          "2023-03-31T00:00:00.000000000",
          "2023-03-30T00:00:00.000000000",
          "2023-03-29T00:00:00.000000000",
          "2023-03-28T00:00:00.000000000",
          "2023-03-27T00:00:00.000000000",
          "2023-03-24T00:00:00.000000000",
          "2023-03-23T00:00:00.000000000",
          "2023-03-22T00:00:00.000000000",
          "2023-03-21T00:00:00.000000000",
          "2023-03-20T00:00:00.000000000",
          "2023-03-17T00:00:00.000000000",
          "2023-03-16T00:00:00.000000000"
         ],
         "xaxis": "x",
         "y": {
          "bdata": "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",
          "dtype": "f8"
         },
         "yaxis": "y"
        },
        {
         "name": "200 Day MA",
         "type": "scatter",
         "x": [
          "2025-04-21T00:00:00.000000000",
          "2025-04-17T00:00:00.000000000",
          "2025-04-16T00:00:00.000000000",
          "2025-04-15T00:00:00.000000000",
          "2025-04-14T00:00:00.000000000",
          "2025-04-11T00:00:00.000000000",
          "2025-04-10T00:00:00.000000000",
          "2025-04-09T00:00:00.000000000",
          "2025-04-08T00:00:00.000000000",
          "2025-04-07T00:00:00.000000000",
          "2025-04-04T00:00:00.000000000",
          "2025-04-03T00:00:00.000000000",
          "2025-04-02T00:00:00.000000000",
          "2025-04-01T00:00:00.000000000",
          "2025-03-31T00:00:00.000000000",
          "2025-03-28T00:00:00.000000000",
          "2025-03-27T00:00:00.000000000",
          "2025-03-26T00:00:00.000000000",
          "2025-03-25T00:00:00.000000000",
          "2025-03-24T00:00:00.000000000",
          "2025-03-21T00:00:00.000000000",
          "2025-03-20T00:00:00.000000000",
          "2025-03-19T00:00:00.000000000",
          "2025-03-18T00:00:00.000000000",
          "2025-03-17T00:00:00.000000000",
          "2025-03-14T00:00:00.000000000",
          "2025-03-13T00:00:00.000000000",
          "2025-03-12T00:00:00.000000000",
          "2025-03-11T00:00:00.000000000",
          "2025-03-10T00:00:00.000000000",
          "2025-03-07T00:00:00.000000000",
          "2025-03-06T00:00:00.000000000",
          "2025-03-05T00:00:00.000000000",
          "2025-03-04T00:00:00.000000000",
          "2025-03-03T00:00:00.000000000",
          "2025-02-28T00:00:00.000000000",
          "2025-02-27T00:00:00.000000000",
          "2025-02-26T00:00:00.000000000",
          "2025-02-25T00:00:00.000000000",
          "2025-02-24T00:00:00.000000000",
          "2025-02-21T00:00:00.000000000",
          "2025-02-20T00:00:00.000000000",
          "2025-02-19T00:00:00.000000000",
          "2025-02-18T00:00:00.000000000",
          "2025-02-14T00:00:00.000000000",
          "2025-02-13T00:00:00.000000000",
          "2025-02-12T00:00:00.000000000",
          "2025-02-11T00:00:00.000000000",
          "2025-02-10T00:00:00.000000000",
          "2025-02-07T00:00:00.000000000",
          "2025-02-06T00:00:00.000000000",
          "2025-02-05T00:00:00.000000000",
          "2025-02-04T00:00:00.000000000",
          "2025-02-03T00:00:00.000000000",
          "2025-01-31T00:00:00.000000000",
          "2025-01-30T00:00:00.000000000",
          "2025-01-29T00:00:00.000000000",
          "2025-01-28T00:00:00.000000000",
          "2025-01-27T00:00:00.000000000",
          "2025-01-24T00:00:00.000000000",
          "2025-01-23T00:00:00.000000000",
          "2025-01-22T00:00:00.000000000",
          "2025-01-21T00:00:00.000000000",
          "2025-01-17T00:00:00.000000000",
          "2025-01-16T00:00:00.000000000",
          "2025-01-15T00:00:00.000000000",
          "2025-01-14T00:00:00.000000000",
          "2025-01-13T00:00:00.000000000",
          "2025-01-10T00:00:00.000000000",
          "2025-01-08T00:00:00.000000000",
          "2025-01-07T00:00:00.000000000",
          "2025-01-06T00:00:00.000000000",
          "2025-01-03T00:00:00.000000000",
          "2025-01-02T00:00:00.000000000",
          "2024-12-31T00:00:00.000000000",
          "2024-12-30T00:00:00.000000000",
          "2024-12-27T00:00:00.000000000",
          "2024-12-26T00:00:00.000000000",
          "2024-12-24T00:00:00.000000000",
          "2024-12-23T00:00:00.000000000",
          "2024-12-20T00:00:00.000000000",
          "2024-12-19T00:00:00.000000000",
          "2024-12-18T00:00:00.000000000",
          "2024-12-17T00:00:00.000000000",
          "2024-12-16T00:00:00.000000000",
          "2024-12-13T00:00:00.000000000",
          "2024-12-12T00:00:00.000000000",
          "2024-12-11T00:00:00.000000000",
          "2024-12-10T00:00:00.000000000",
          "2024-12-09T00:00:00.000000000",
          "2024-12-06T00:00:00.000000000",
          "2024-12-05T00:00:00.000000000",
          "2024-12-04T00:00:00.000000000",
          "2024-12-03T00:00:00.000000000",
          "2024-12-02T00:00:00.000000000",
          "2024-11-29T00:00:00.000000000",
          "2024-11-27T00:00:00.000000000",
          "2024-11-26T00:00:00.000000000",
          "2024-11-25T00:00:00.000000000",
          "2024-11-22T00:00:00.000000000",
          "2024-11-21T00:00:00.000000000",
          "2024-11-20T00:00:00.000000000",
          "2024-11-19T00:00:00.000000000",
          "2024-11-18T00:00:00.000000000",
          "2024-11-15T00:00:00.000000000",
          "2024-11-14T00:00:00.000000000",
          "2024-11-13T00:00:00.000000000",
          "2024-11-12T00:00:00.000000000",
          "2024-11-11T00:00:00.000000000",
          "2024-11-08T00:00:00.000000000",
          "2024-11-07T00:00:00.000000000",
          "2024-11-06T00:00:00.000000000",
          "2024-11-05T00:00:00.000000000",
          "2024-11-04T00:00:00.000000000",
          "2024-11-01T00:00:00.000000000",
          "2024-10-31T00:00:00.000000000",
          "2024-10-30T00:00:00.000000000",
          "2024-10-29T00:00:00.000000000",
          "2024-10-28T00:00:00.000000000",
          "2024-10-25T00:00:00.000000000",
          "2024-10-24T00:00:00.000000000",
          "2024-10-23T00:00:00.000000000",
          "2024-10-22T00:00:00.000000000",
          "2024-10-21T00:00:00.000000000",
          "2024-10-18T00:00:00.000000000",
          "2024-10-17T00:00:00.000000000",
          "2024-10-16T00:00:00.000000000",
          "2024-10-15T00:00:00.000000000",
          "2024-10-14T00:00:00.000000000",
          "2024-10-11T00:00:00.000000000",
          "2024-10-10T00:00:00.000000000",
          "2024-10-09T00:00:00.000000000",
          "2024-10-08T00:00:00.000000000",
          "2024-10-07T00:00:00.000000000",
          "2024-10-04T00:00:00.000000000",
          "2024-10-03T00:00:00.000000000",
          "2024-10-02T00:00:00.000000000",
          "2024-10-01T00:00:00.000000000",
          "2024-09-30T00:00:00.000000000",
          "2024-09-27T00:00:00.000000000",
          "2024-09-26T00:00:00.000000000",
          "2024-09-25T00:00:00.000000000",
          "2024-09-24T00:00:00.000000000",
          "2024-09-23T00:00:00.000000000",
          "2024-09-20T00:00:00.000000000",
          "2024-09-19T00:00:00.000000000",
          "2024-09-18T00:00:00.000000000",
          "2024-09-17T00:00:00.000000000",
          "2024-09-16T00:00:00.000000000",
          "2024-09-13T00:00:00.000000000",
          "2024-09-12T00:00:00.000000000",
          "2024-09-11T00:00:00.000000000",
          "2024-09-10T00:00:00.000000000",
          "2024-09-09T00:00:00.000000000",
          "2024-09-06T00:00:00.000000000",
          "2024-09-05T00:00:00.000000000",
          "2024-09-04T00:00:00.000000000",
          "2024-09-03T00:00:00.000000000",
          "2024-08-30T00:00:00.000000000",
          "2024-08-29T00:00:00.000000000",
          "2024-08-28T00:00:00.000000000",
          "2024-08-27T00:00:00.000000000",
          "2024-08-26T00:00:00.000000000",
          "2024-08-23T00:00:00.000000000",
          "2024-08-22T00:00:00.000000000",
          "2024-08-21T00:00:00.000000000",
          "2024-08-20T00:00:00.000000000",
          "2024-08-19T00:00:00.000000000",
          "2024-08-16T00:00:00.000000000",
          "2024-08-15T00:00:00.000000000",
          "2024-08-14T00:00:00.000000000",
          "2024-08-13T00:00:00.000000000",
          "2024-08-12T00:00:00.000000000",
          "2024-08-09T00:00:00.000000000",
          "2024-08-08T00:00:00.000000000",
          "2024-08-07T00:00:00.000000000",
          "2024-08-06T00:00:00.000000000",
          "2024-08-05T00:00:00.000000000",
          "2024-08-02T00:00:00.000000000",
          "2024-08-01T00:00:00.000000000",
          "2024-07-31T00:00:00.000000000",
          "2024-07-30T00:00:00.000000000",
          "2024-07-29T00:00:00.000000000",
          "2024-07-26T00:00:00.000000000",
          "2024-07-25T00:00:00.000000000",
          "2024-07-24T00:00:00.000000000",
          "2024-07-23T00:00:00.000000000",
          "2024-07-22T00:00:00.000000000",
          "2024-07-19T00:00:00.000000000",
          "2024-07-18T00:00:00.000000000",
          "2024-07-17T00:00:00.000000000",
          "2024-07-16T00:00:00.000000000",
          "2024-07-15T00:00:00.000000000",
          "2024-07-12T00:00:00.000000000",
          "2024-07-11T00:00:00.000000000",
          "2024-07-10T00:00:00.000000000",
          "2024-07-09T00:00:00.000000000",
          "2024-07-08T00:00:00.000000000",
          "2024-07-05T00:00:00.000000000",
          "2024-07-03T00:00:00.000000000",
          "2024-07-02T00:00:00.000000000",
          "2024-07-01T00:00:00.000000000",
          "2024-06-28T00:00:00.000000000",
          "2024-06-27T00:00:00.000000000",
          "2024-06-26T00:00:00.000000000",
          "2024-06-25T00:00:00.000000000",
          "2024-06-24T00:00:00.000000000",
          "2024-06-21T00:00:00.000000000",
          "2024-06-20T00:00:00.000000000",
          "2024-06-18T00:00:00.000000000",
          "2024-06-17T00:00:00.000000000",
          "2024-06-14T00:00:00.000000000",
          "2024-06-13T00:00:00.000000000",
          "2024-06-12T00:00:00.000000000",
          "2024-06-11T00:00:00.000000000",
          "2024-06-10T00:00:00.000000000",
          "2024-06-07T00:00:00.000000000",
          "2024-06-06T00:00:00.000000000",
          "2024-06-05T00:00:00.000000000",
          "2024-06-04T00:00:00.000000000",
          "2024-06-03T00:00:00.000000000",
          "2024-05-31T00:00:00.000000000",
          "2024-05-30T00:00:00.000000000",
          "2024-05-29T00:00:00.000000000",
          "2024-05-28T00:00:00.000000000",
          "2024-05-24T00:00:00.000000000",
          "2024-05-23T00:00:00.000000000",
          "2024-05-22T00:00:00.000000000",
          "2024-05-21T00:00:00.000000000",
          "2024-05-20T00:00:00.000000000",
          "2024-05-17T00:00:00.000000000",
          "2024-05-16T00:00:00.000000000",
          "2024-05-15T00:00:00.000000000",
          "2024-05-14T00:00:00.000000000",
          "2024-05-13T00:00:00.000000000",
          "2024-05-10T00:00:00.000000000",
          "2024-05-09T00:00:00.000000000",
          "2024-05-08T00:00:00.000000000",
          "2024-05-07T00:00:00.000000000",
          "2024-05-06T00:00:00.000000000",
          "2024-05-03T00:00:00.000000000",
          "2024-05-02T00:00:00.000000000",
          "2024-05-01T00:00:00.000000000",
          "2024-04-30T00:00:00.000000000",
          "2024-04-29T00:00:00.000000000",
          "2024-04-26T00:00:00.000000000",
          "2024-04-25T00:00:00.000000000",
          "2024-04-24T00:00:00.000000000",
          "2024-04-23T00:00:00.000000000",
          "2024-04-22T00:00:00.000000000",
          "2024-04-19T00:00:00.000000000",
          "2024-04-18T00:00:00.000000000",
          "2024-04-17T00:00:00.000000000",
          "2024-04-16T00:00:00.000000000",
          "2024-04-15T00:00:00.000000000",
          "2024-04-12T00:00:00.000000000",
          "2024-04-11T00:00:00.000000000",
          "2024-04-10T00:00:00.000000000",
          "2024-04-09T00:00:00.000000000",
          "2024-04-08T00:00:00.000000000",
          "2024-04-05T00:00:00.000000000",
          "2024-04-04T00:00:00.000000000",
          "2024-04-03T00:00:00.000000000",
          "2024-04-02T00:00:00.000000000",
          "2024-04-01T00:00:00.000000000",
          "2024-03-28T00:00:00.000000000",
          "2024-03-27T00:00:00.000000000",
          "2024-03-26T00:00:00.000000000",
          "2024-03-25T00:00:00.000000000",
          "2024-03-22T00:00:00.000000000",
          "2024-03-21T00:00:00.000000000",
          "2024-03-20T00:00:00.000000000",
          "2024-03-19T00:00:00.000000000",
          "2024-03-18T00:00:00.000000000",
          "2024-03-15T00:00:00.000000000",
          "2024-03-14T00:00:00.000000000",
          "2024-03-13T00:00:00.000000000",
          "2024-03-12T00:00:00.000000000",
          "2024-03-11T00:00:00.000000000",
          "2024-03-08T00:00:00.000000000",
          "2024-03-07T00:00:00.000000000",
          "2024-03-06T00:00:00.000000000",
          "2024-03-05T00:00:00.000000000",
          "2024-03-04T00:00:00.000000000",
          "2024-03-01T00:00:00.000000000",
          "2024-02-29T00:00:00.000000000",
          "2024-02-28T00:00:00.000000000",
          "2024-02-27T00:00:00.000000000",
          "2024-02-26T00:00:00.000000000",
          "2024-02-23T00:00:00.000000000",
          "2024-02-22T00:00:00.000000000",
          "2024-02-21T00:00:00.000000000",
          "2024-02-20T00:00:00.000000000",
          "2024-02-16T00:00:00.000000000",
          "2024-02-15T00:00:00.000000000",
          "2024-02-14T00:00:00.000000000",
          "2024-02-13T00:00:00.000000000",
          "2024-02-12T00:00:00.000000000",
          "2024-02-09T00:00:00.000000000",
          "2024-02-08T00:00:00.000000000",
          "2024-02-07T00:00:00.000000000",
          "2024-02-06T00:00:00.000000000",
          "2024-02-05T00:00:00.000000000",
          "2024-02-02T00:00:00.000000000",
          "2024-02-01T00:00:00.000000000",
          "2024-01-31T00:00:00.000000000",
          "2024-01-30T00:00:00.000000000",
          "2024-01-29T00:00:00.000000000",
          "2024-01-26T00:00:00.000000000",
          "2024-01-25T00:00:00.000000000",
          "2024-01-24T00:00:00.000000000",
          "2024-01-23T00:00:00.000000000",
          "2024-01-22T00:00:00.000000000",
          "2024-01-19T00:00:00.000000000",
          "2024-01-18T00:00:00.000000000",
          "2024-01-17T00:00:00.000000000",
          "2024-01-16T00:00:00.000000000",
          "2024-01-12T00:00:00.000000000",
          "2024-01-11T00:00:00.000000000",
          "2024-01-10T00:00:00.000000000",
          "2024-01-09T00:00:00.000000000",
          "2024-01-08T00:00:00.000000000",
          "2024-01-05T00:00:00.000000000",
          "2024-01-04T00:00:00.000000000",
          "2024-01-03T00:00:00.000000000",
          "2024-01-02T00:00:00.000000000",
          "2023-12-29T00:00:00.000000000",
          "2023-12-28T00:00:00.000000000",
          "2023-12-27T00:00:00.000000000",
          "2023-12-26T00:00:00.000000000",
          "2023-12-22T00:00:00.000000000",
          "2023-12-21T00:00:00.000000000",
          "2023-12-20T00:00:00.000000000",
          "2023-12-19T00:00:00.000000000",
          "2023-12-18T00:00:00.000000000",
          "2023-12-15T00:00:00.000000000",
          "2023-12-14T00:00:00.000000000",
          "2023-12-13T00:00:00.000000000",
          "2023-12-12T00:00:00.000000000",
          "2023-12-11T00:00:00.000000000",
          "2023-12-08T00:00:00.000000000",
          "2023-12-07T00:00:00.000000000",
          "2023-12-06T00:00:00.000000000",
          "2023-12-05T00:00:00.000000000",
          "2023-12-04T00:00:00.000000000",
          "2023-12-01T00:00:00.000000000",
          "2023-11-30T00:00:00.000000000",
          "2023-11-29T00:00:00.000000000",
          "2023-11-28T00:00:00.000000000",
          "2023-11-27T00:00:00.000000000",
          "2023-11-24T00:00:00.000000000",
          "2023-11-22T00:00:00.000000000",
          "2023-11-21T00:00:00.000000000",
          "2023-11-20T00:00:00.000000000",
          "2023-11-17T00:00:00.000000000",
          "2023-11-16T00:00:00.000000000",
          "2023-11-15T00:00:00.000000000",
          "2023-11-14T00:00:00.000000000",
          "2023-11-13T00:00:00.000000000",
          "2023-11-10T00:00:00.000000000",
          "2023-11-09T00:00:00.000000000",
          "2023-11-08T00:00:00.000000000",
          "2023-11-07T00:00:00.000000000",
          "2023-11-06T00:00:00.000000000",
          "2023-11-03T00:00:00.000000000",
          "2023-11-02T00:00:00.000000000",
          "2023-11-01T00:00:00.000000000",
          "2023-10-31T00:00:00.000000000",
          "2023-10-30T00:00:00.000000000",
          "2023-10-27T00:00:00.000000000",
          "2023-10-26T00:00:00.000000000",
          "2023-10-25T00:00:00.000000000",
          "2023-10-24T00:00:00.000000000",
          "2023-10-23T00:00:00.000000000",
          "2023-10-20T00:00:00.000000000",
          "2023-10-19T00:00:00.000000000",
          "2023-10-18T00:00:00.000000000",
          "2023-10-17T00:00:00.000000000",
          "2023-10-16T00:00:00.000000000",
          "2023-10-13T00:00:00.000000000",
          "2023-10-12T00:00:00.000000000",
          "2023-10-11T00:00:00.000000000",
          "2023-10-10T00:00:00.000000000",
          "2023-10-09T00:00:00.000000000",
          "2023-10-06T00:00:00.000000000",
          "2023-10-05T00:00:00.000000000",
          "2023-10-04T00:00:00.000000000",
          "2023-10-03T00:00:00.000000000",
          "2023-10-02T00:00:00.000000000",
          "2023-09-29T00:00:00.000000000",
          "2023-09-28T00:00:00.000000000",
          "2023-09-27T00:00:00.000000000",
          "2023-09-26T00:00:00.000000000",
          "2023-09-25T00:00:00.000000000",
          "2023-09-22T00:00:00.000000000",
          "2023-09-21T00:00:00.000000000",
          "2023-09-20T00:00:00.000000000",
          "2023-09-19T00:00:00.000000000",
          "2023-09-18T00:00:00.000000000",
          "2023-09-15T00:00:00.000000000",
          "2023-09-14T00:00:00.000000000",
          "2023-09-13T00:00:00.000000000",
          "2023-09-12T00:00:00.000000000",
          "2023-09-11T00:00:00.000000000",
          "2023-09-08T00:00:00.000000000",
          "2023-09-07T00:00:00.000000000",
          "2023-09-06T00:00:00.000000000",
          "2023-09-05T00:00:00.000000000",
          "2023-09-01T00:00:00.000000000",
          "2023-08-31T00:00:00.000000000",
          "2023-08-30T00:00:00.000000000",
          "2023-08-29T00:00:00.000000000",
          "2023-08-28T00:00:00.000000000",
          "2023-08-25T00:00:00.000000000",
          "2023-08-24T00:00:00.000000000",
          "2023-08-23T00:00:00.000000000",
          "2023-08-22T00:00:00.000000000",
          "2023-08-21T00:00:00.000000000",
          "2023-08-18T00:00:00.000000000",
          "2023-08-17T00:00:00.000000000",
          "2023-08-16T00:00:00.000000000",
          "2023-08-15T00:00:00.000000000",
          "2023-08-14T00:00:00.000000000",
          "2023-08-11T00:00:00.000000000",
          "2023-08-10T00:00:00.000000000",
          "2023-08-09T00:00:00.000000000",
          "2023-08-08T00:00:00.000000000",
          "2023-08-07T00:00:00.000000000",
          "2023-08-04T00:00:00.000000000",
          "2023-08-03T00:00:00.000000000",
          "2023-08-02T00:00:00.000000000",
          "2023-08-01T00:00:00.000000000",
          "2023-07-31T00:00:00.000000000",
          "2023-07-28T00:00:00.000000000",
          "2023-07-27T00:00:00.000000000",
          "2023-07-26T00:00:00.000000000",
          "2023-07-25T00:00:00.000000000",
          "2023-07-24T00:00:00.000000000",
          "2023-07-21T00:00:00.000000000",
          "2023-07-20T00:00:00.000000000",
          "2023-07-19T00:00:00.000000000",
          "2023-07-18T00:00:00.000000000",
          "2023-07-17T00:00:00.000000000",
          "2023-07-14T00:00:00.000000000",
          "2023-07-13T00:00:00.000000000",
          "2023-07-12T00:00:00.000000000",
          "2023-07-11T00:00:00.000000000",
          "2023-07-10T00:00:00.000000000",
          "2023-07-07T00:00:00.000000000",
          "2023-07-06T00:00:00.000000000",
          "2023-07-05T00:00:00.000000000",
          "2023-07-03T00:00:00.000000000",
          "2023-06-30T00:00:00.000000000",
          "2023-06-29T00:00:00.000000000",
          "2023-06-28T00:00:00.000000000",
          "2023-06-27T00:00:00.000000000",
          "2023-06-26T00:00:00.000000000",
          "2023-06-23T00:00:00.000000000",
          "2023-06-22T00:00:00.000000000",
          "2023-06-21T00:00:00.000000000",
          "2023-06-20T00:00:00.000000000",
          "2023-06-16T00:00:00.000000000",
          "2023-06-15T00:00:00.000000000",
          "2023-06-14T00:00:00.000000000",
          "2023-06-13T00:00:00.000000000",
          "2023-06-12T00:00:00.000000000",
          "2023-06-09T00:00:00.000000000",
          "2023-06-08T00:00:00.000000000",
          "2023-06-07T00:00:00.000000000",
          "2023-06-06T00:00:00.000000000",
          "2023-06-05T00:00:00.000000000",
          "2023-06-02T00:00:00.000000000",
          "2023-06-01T00:00:00.000000000",
          "2023-05-31T00:00:00.000000000",
          "2023-05-30T00:00:00.000000000",
          "2023-05-26T00:00:00.000000000",
          "2023-05-25T00:00:00.000000000",
          "2023-05-24T00:00:00.000000000",
          "2023-05-23T00:00:00.000000000",
          "2023-05-22T00:00:00.000000000",
          "2023-05-19T00:00:00.000000000",
          "2023-05-18T00:00:00.000000000",
          "2023-05-17T00:00:00.000000000",
          "2023-05-16T00:00:00.000000000",
          "2023-05-15T00:00:00.000000000",
          "2023-05-12T00:00:00.000000000",
          "2023-05-11T00:00:00.000000000",
          "2023-05-10T00:00:00.000000000",
          "2023-05-09T00:00:00.000000000",
          "2023-05-08T00:00:00.000000000",
          "2023-05-05T00:00:00.000000000",
          "2023-05-04T00:00:00.000000000",
          "2023-05-03T00:00:00.000000000",
          "2023-05-02T00:00:00.000000000",
          "2023-05-01T00:00:00.000000000",
          "2023-04-28T00:00:00.000000000",
          "2023-04-27T00:00:00.000000000",
          "2023-04-26T00:00:00.000000000",
          "2023-04-25T00:00:00.000000000",
          "2023-04-24T00:00:00.000000000",
          "2023-04-21T00:00:00.000000000",
          "2023-04-20T00:00:00.000000000",
          "2023-04-19T00:00:00.000000000",
          "2023-04-18T00:00:00.000000000",
          "2023-04-17T00:00:00.000000000",
          "2023-04-14T00:00:00.000000000",
          "2023-04-13T00:00:00.000000000",
          "2023-04-12T00:00:00.000000000",
          "2023-04-11T00:00:00.000000000",
          "2023-04-10T00:00:00.000000000",
          "2023-04-06T00:00:00.000000000",
          "2023-04-05T00:00:00.000000000",
          "2023-04-04T00:00:00.000000000",
          "2023-04-03T00:00:00.000000000",
          "2023-03-31T00:00:00.000000000",
          "2023-03-30T00:00:00.000000000",
          "2023-03-29T00:00:00.000000000",
          "2023-03-28T00:00:00.000000000",
          "2023-03-27T00:00:00.000000000",
          "2023-03-24T00:00:00.000000000",
          "2023-03-23T00:00:00.000000000",
          "2023-03-22T00:00:00.000000000",
          "2023-03-21T00:00:00.000000000",
          "2023-03-20T00:00:00.000000000",
          "2023-03-17T00:00:00.000000000",
          "2023-03-16T00:00:00.000000000"
         ],
         "xaxis": "x",
         "y": {
          "bdata": "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",
          "dtype": "f8"
         },
         "yaxis": "y"
        }
       ],
       "layout": {
        "template": {
         "data": {
          "bar": [
           {
            "error_x": {
             "color": "#2a3f5f"
            },
            "error_y": {
             "color": "#2a3f5f"
            },
            "marker": {
             "line": {
              "color": "#E5ECF6",
              "width": 0.5
             },
             "pattern": {
              "fillmode": "overlay",
              "size": 10,
              "solidity": 0.2
             }
            },
            "type": "bar"
           }
          ],
          "barpolar": [
           {
            "marker": {
             "line": {
              "color": "#E5ECF6",
              "width": 0.5
             },
             "pattern": {
              "fillmode": "overlay",
              "size": 10,
              "solidity": 0.2
             }
            },
            "type": "barpolar"
           }
          ],
          "carpet": [
           {
            "aaxis": {
             "endlinecolor": "#2a3f5f",
             "gridcolor": "white",
             "linecolor": "white",
             "minorgridcolor": "white",
             "startlinecolor": "#2a3f5f"
            },
            "baxis": {
             "endlinecolor": "#2a3f5f",
             "gridcolor": "white",
             "linecolor": "white",
             "minorgridcolor": "white",
             "startlinecolor": "#2a3f5f"
            },
            "type": "carpet"
           }
          ],
          "choropleth": [
           {
            "colorbar": {
             "outlinewidth": 0,
             "ticks": ""
            },
            "type": "choropleth"
           }
          ],
          "contour": [
           {
            "colorbar": {
             "outlinewidth": 0,
             "ticks": ""
            },
            "colorscale": [
             [
              0,
              "#0d0887"
             ],
             [
              0.1111111111111111,
              "#46039f"
             ],
             [
              0.2222222222222222,
              "#7201a8"
             ],
             [
              0.3333333333333333,
              "#9c179e"
             ],
             [
              0.4444444444444444,
              "#bd3786"
             ],
             [
              0.5555555555555556,
              "#d8576b"
             ],
             [
              0.6666666666666666,
              "#ed7953"
             ],
             [
              0.7777777777777778,
              "#fb9f3a"
             ],
             [
              0.8888888888888888,
              "#fdca26"
             ],
             [
              1,
              "#f0f921"
             ]
            ],
            "type": "contour"
           }
          ],
          "contourcarpet": [
           {
            "colorbar": {
             "outlinewidth": 0,
             "ticks": ""
            },
            "type": "contourcarpet"
           }
          ],
          "heatmap": [
           {
            "colorbar": {
             "outlinewidth": 0,
             "ticks": ""
            },
            "colorscale": [
             [
              0,
              "#0d0887"
             ],
             [
              0.1111111111111111,
              "#46039f"
             ],
             [
              0.2222222222222222,
              "#7201a8"
             ],
             [
              0.3333333333333333,
              "#9c179e"
             ],
             [
              0.4444444444444444,
              "#bd3786"
             ],
             [
              0.5555555555555556,
              "#d8576b"
             ],
             [
              0.6666666666666666,
              "#ed7953"
             ],
             [
              0.7777777777777778,
              "#fb9f3a"
             ],
             [
              0.8888888888888888,
              "#fdca26"
             ],
             [
              1,
              "#f0f921"
             ]
            ],
            "type": "heatmap"
           }
          ],
          "histogram": [
           {
            "marker": {
             "pattern": {
              "fillmode": "overlay",
              "size": 10,
              "solidity": 0.2
             }
            },
            "type": "histogram"
           }
          ],
          "histogram2d": [
           {
            "colorbar": {
             "outlinewidth": 0,
             "ticks": ""
            },
            "colorscale": [
             [
              0,
              "#0d0887"
             ],
             [
              0.1111111111111111,
              "#46039f"
             ],
             [
              0.2222222222222222,
              "#7201a8"
             ],
             [
              0.3333333333333333,
              "#9c179e"
             ],
             [
              0.4444444444444444,
              "#bd3786"
             ],
             [
              0.5555555555555556,
              "#d8576b"
             ],
             [
              0.6666666666666666,
              "#ed7953"
             ],
             [
              0.7777777777777778,
              "#fb9f3a"
             ],
             [
              0.8888888888888888,
              "#fdca26"
             ],
             [
              1,
              "#f0f921"
             ]
            ],
            "type": "histogram2d"
           }
          ],
          "histogram2dcontour": [
           {
            "colorbar": {
             "outlinewidth": 0,
             "ticks": ""
            },
            "colorscale": [
             [
              0,
              "#0d0887"
             ],
             [
              0.1111111111111111,
              "#46039f"
             ],
             [
              0.2222222222222222,
              "#7201a8"
             ],
             [
              0.3333333333333333,
              "#9c179e"
             ],
             [
              0.4444444444444444,
              "#bd3786"
             ],
             [
              0.5555555555555556,
              "#d8576b"
             ],
             [
              0.6666666666666666,
              "#ed7953"
             ],
             [
              0.7777777777777778,
              "#fb9f3a"
             ],
             [
              0.8888888888888888,
              "#fdca26"
             ],
             [
              1,
              "#f0f921"
             ]
            ],
            "type": "histogram2dcontour"
           }
          ],
          "mesh3d": [
           {
            "colorbar": {
             "outlinewidth": 0,
             "ticks": ""
            },
            "type": "mesh3d"
           }
          ],
          "parcoords": [
           {
            "line": {
             "colorbar": {
              "outlinewidth": 0,
              "ticks": ""
             }
            },
            "type": "parcoords"
           }
          ],
          "pie": [
           {
            "automargin": true,
            "type": "pie"
           }
          ],
          "scatter": [
           {
            "fillpattern": {
             "fillmode": "overlay",
             "size": 10,
             "solidity": 0.2
            },
            "type": "scatter"
           }
          ],
          "scatter3d": [
           {
            "line": {
             "colorbar": {
              "outlinewidth": 0,
              "ticks": ""
             }
            },
            "marker": {
             "colorbar": {
              "outlinewidth": 0,
              "ticks": ""
             }
            },
            "type": "scatter3d"
           }
          ],
          "scattercarpet": [
           {
            "marker": {
             "colorbar": {
              "outlinewidth": 0,
              "ticks": ""
             }
            },
            "type": "scattercarpet"
           }
          ],
          "scattergeo": [
           {
            "marker": {
             "colorbar": {
              "outlinewidth": 0,
              "ticks": ""
             }
            },
            "type": "scattergeo"
           }
          ],
          "scattergl": [
           {
            "marker": {
             "colorbar": {
              "outlinewidth": 0,
              "ticks": ""
             }
            },
            "type": "scattergl"
           }
          ],
          "scattermap": [
           {
            "marker": {
             "colorbar": {
              "outlinewidth": 0,
              "ticks": ""
             }
            },
            "type": "scattermap"
           }
          ],
          "scattermapbox": [
           {
            "marker": {
             "colorbar": {
              "outlinewidth": 0,
              "ticks": ""
             }
            },
            "type": "scattermapbox"
           }
          ],
          "scatterpolar": [
           {
            "marker": {
             "colorbar": {
              "outlinewidth": 0,
              "ticks": ""
             }
            },
            "type": "scatterpolar"
           }
          ],
          "scatterpolargl": [
           {
            "marker": {
             "colorbar": {
              "outlinewidth": 0,
              "ticks": ""
             }
            },
            "type": "scatterpolargl"
           }
          ],
          "scatterternary": [
           {
            "marker": {
             "colorbar": {
              "outlinewidth": 0,
              "ticks": ""
             }
            },
            "type": "scatterternary"
           }
          ],
          "surface": [
           {
            "colorbar": {
             "outlinewidth": 0,
             "ticks": ""
            },
            "colorscale": [
             [
              0,
              "#0d0887"
             ],
             [
              0.1111111111111111,
              "#46039f"
             ],
             [
              0.2222222222222222,
              "#7201a8"
             ],
             [
              0.3333333333333333,
              "#9c179e"
             ],
             [
              0.4444444444444444,
              "#bd3786"
             ],
             [
              0.5555555555555556,
              "#d8576b"
             ],
             [
              0.6666666666666666,
              "#ed7953"
             ],
             [
              0.7777777777777778,
              "#fb9f3a"
             ],
             [
              0.8888888888888888,
              "#fdca26"
             ],
             [
              1,
              "#f0f921"
             ]
            ],
            "type": "surface"
           }
          ],
          "table": [
           {
            "cells": {
             "fill": {
              "color": "#EBF0F8"
             },
             "line": {
              "color": "white"
             }
            },
            "header": {
             "fill": {
              "color": "#C8D4E3"
             },
             "line": {
              "color": "white"
             }
            },
            "type": "table"
           }
          ]
         },
         "layout": {
          "annotationdefaults": {
           "arrowcolor": "#2a3f5f",
           "arrowhead": 0,
           "arrowwidth": 1
          },
          "autotypenumbers": "strict",
          "coloraxis": {
           "colorbar": {
            "outlinewidth": 0,
            "ticks": ""
           }
          },
          "colorscale": {
           "diverging": [
            [
             0,
             "#8e0152"
            ],
            [
             0.1,
             "#c51b7d"
            ],
            [
             0.2,
             "#de77ae"
            ],
            [
             0.3,
             "#f1b6da"
            ],
            [
             0.4,
             "#fde0ef"
            ],
            [
             0.5,
             "#f7f7f7"
            ],
            [
             0.6,
             "#e6f5d0"
            ],
            [
             0.7,
             "#b8e186"
            ],
            [
             0.8,
             "#7fbc41"
            ],
            [
             0.9,
             "#4d9221"
            ],
            [
             1,
             "#276419"
            ]
           ],
           "sequential": [
            [
             0,
             "#0d0887"
            ],
            [
             0.1111111111111111,
             "#46039f"
            ],
            [
             0.2222222222222222,
             "#7201a8"
            ],
            [
             0.3333333333333333,
             "#9c179e"
            ],
            [
             0.4444444444444444,
             "#bd3786"
            ],
            [
             0.5555555555555556,
             "#d8576b"
            ],
            [
             0.6666666666666666,
             "#ed7953"
            ],
            [
             0.7777777777777778,
             "#fb9f3a"
            ],
            [
             0.8888888888888888,
             "#fdca26"
            ],
            [
             1,
             "#f0f921"
            ]
           ],
           "sequentialminus": [
            [
             0,
             "#0d0887"
            ],
            [
             0.1111111111111111,
             "#46039f"
            ],
            [
             0.2222222222222222,
             "#7201a8"
            ],
            [
             0.3333333333333333,
             "#9c179e"
            ],
            [
             0.4444444444444444,
             "#bd3786"
            ],
            [
             0.5555555555555556,
             "#d8576b"
            ],
            [
             0.6666666666666666,
             "#ed7953"
            ],
            [
             0.7777777777777778,
             "#fb9f3a"
            ],
            [
             0.8888888888888888,
             "#fdca26"
            ],
            [
             1,
             "#f0f921"
            ]
           ]
          },
          "colorway": [
           "#636efa",
           "#EF553B",
           "#00cc96",
           "#ab63fa",
           "#FFA15A",
           "#19d3f3",
           "#FF6692",
           "#B6E880",
           "#FF97FF",
           "#FECB52"
          ],
          "font": {
           "color": "#2a3f5f"
          },
          "geo": {
           "bgcolor": "white",
           "lakecolor": "white",
           "landcolor": "#E5ECF6",
           "showlakes": true,
           "showland": true,
           "subunitcolor": "white"
          },
          "hoverlabel": {
           "align": "left"
          },
          "hovermode": "closest",
          "mapbox": {
           "style": "light"
          },
          "paper_bgcolor": "white",
          "plot_bgcolor": "#E5ECF6",
          "polar": {
           "angularaxis": {
            "gridcolor": "white",
            "linecolor": "white",
            "ticks": ""
           },
           "bgcolor": "#E5ECF6",
           "radialaxis": {
            "gridcolor": "white",
            "linecolor": "white",
            "ticks": ""
           }
          },
          "scene": {
           "xaxis": {
            "backgroundcolor": "#E5ECF6",
            "gridcolor": "white",
            "gridwidth": 2,
            "linecolor": "white",
            "showbackground": true,
            "ticks": "",
            "zerolinecolor": "white"
           },
           "yaxis": {
            "backgroundcolor": "#E5ECF6",
            "gridcolor": "white",
            "gridwidth": 2,
            "linecolor": "white",
            "showbackground": true,
            "ticks": "",
            "zerolinecolor": "white"
           },
           "zaxis": {
            "backgroundcolor": "#E5ECF6",
            "gridcolor": "white",
            "gridwidth": 2,
            "linecolor": "white",
            "showbackground": true,
            "ticks": "",
            "zerolinecolor": "white"
           }
          },
          "shapedefaults": {
           "line": {
            "color": "#2a3f5f"
           }
          },
          "ternary": {
           "aaxis": {
            "gridcolor": "white",
            "linecolor": "white",
            "ticks": ""
           },
           "baxis": {
            "gridcolor": "white",
            "linecolor": "white",
            "ticks": ""
           },
           "bgcolor": "#E5ECF6",
           "caxis": {
            "gridcolor": "white",
            "linecolor": "white",
            "ticks": ""
           }
          },
          "title": {
           "x": 0.05
          },
          "xaxis": {
           "automargin": true,
           "gridcolor": "white",
           "linecolor": "white",
           "ticks": "",
           "title": {
            "standoff": 15
           },
           "zerolinecolor": "white",
           "zerolinewidth": 2
          },
          "yaxis": {
           "automargin": true,
           "gridcolor": "white",
           "linecolor": "white",
           "ticks": "",
           "title": {
            "standoff": 15
           },
           "zerolinecolor": "white",
           "zerolinewidth": 2
          }
         }
        },
        "xaxis": {
         "anchor": "y",
         "domain": [
          0,
          0.94
         ]
        },
        "yaxis": {
         "anchor": "x",
         "domain": [
          0,
          1
         ],
         "title": {
          "text": "Price"
         }
        },
        "yaxis2": {
         "anchor": "x",
         "overlaying": "y",
         "side": "right",
         "title": {
          "text": "Volume"
         }
        }
       }
      },
      "text/html": [
       "<div>            <script src=\"https://cdnjs.cloudflare.com/ajax/libs/mathjax/2.7.5/MathJax.js?config=TeX-AMS-MML_SVG\"></script><script type=\"text/javascript\">if (window.MathJax && window.MathJax.Hub && window.MathJax.Hub.Config) {window.MathJax.Hub.Config({SVG: {font: \"STIX-Web\"}});}</script>                <script type=\"text/javascript\">window.PlotlyConfig = {MathJaxConfig: 'local'};</script>\n",
       "        <script charset=\"utf-8\" src=\"https://cdn.plot.ly/plotly-3.0.1.min.js\"></script>                <div id=\"601e0ca5-05f2-4476-b703-3800c4d4f014\" class=\"plotly-graph-div\" style=\"height:525px; width:100%;\"></div>            <script type=\"text/javascript\">                window.PLOTLYENV=window.PLOTLYENV || {};                                if (document.getElementById(\"601e0ca5-05f2-4476-b703-3800c4d4f014\")) {                    Plotly.newPlot(                        \"601e0ca5-05f2-4476-b703-3800c4d4f014\",                        [{\"name\":\"Price Close\",\"x\":[\"2025-04-21T00:00:00.000000000\",\"2025-04-17T00:00:00.000000000\",\"2025-04-16T00:00:00.000000000\",\"2025-04-15T00:00:00.000000000\",\"2025-04-14T00:00:00.000000000\",\"2025-04-11T00:00:00.000000000\",\"2025-04-10T00:00:00.000000000\",\"2025-04-09T00:00:00.000000000\",\"2025-04-08T00:00:00.000000000\",\"2025-04-07T00:00:00.000000000\",\"2025-04-04T00:00:00.000000000\",\"2025-04-03T00:00:00.000000000\",\"2025-04-02T00:00:00.000000000\",\"2025-04-01T00:00:00.000000000\",\"2025-03-31T00:00:00.000000000\",\"2025-03-28T00:00:00.000000000\",\"2025-03-27T00:00:00.000000000\",\"2025-03-26T00:00:00.000000000\",\"2025-03-25T00:00:00.000000000\",\"2025-03-24T00:00:00.000000000\",\"2025-03-21T00:00:00.000000000\",\"2025-03-20T00:00:00.000000000\",\"2025-03-19T00:00:00.000000000\",\"2025-03-18T00:00:00.000000000\",\"2025-03-17T00:00:00.000000000\",\"2025-03-14T00:00:00.000000000\",\"2025-03-13T00:00:00.000000000\",\"2025-03-12T00:00:00.000000000\",\"2025-03-11T00:00:00.000000000\",\"2025-03-10T00:00:00.000000000\",\"2025-03-07T00:00:00.000000000\",\"2025-03-06T00:00:00.000000000\",\"2025-03-05T00:00:00.000000000\",\"2025-03-04T00:00:00.000000000\",\"2025-03-03T00:00:00.000000000\",\"2025-02-28T00:00:00.000000000\",\"2025-02-27T00:00:00.000000000\",\"2025-02-26T00:00:00.000000000\",\"2025-02-25T00:00:00.000000000\",\"2025-02-24T00:00:00.000000000\",\"2025-02-21T00:00:00.000000000\",\"2025-02-20T00:00:00.000000000\",\"2025-02-19T00:00:00.000000000\",\"2025-02-18T00:00:00.000000000\",\"2025-02-14T00:00:00.000000000\",\"2025-02-13T00:00:00.000000000\",\"2025-02-12T00:00:00.000000000\",\"2025-02-11T00:00:00.000000000\",\"2025-02-10T00:00:00.000000000\",\"2025-02-07T00:00:00.000000000\",\"2025-02-06T00:00:00.000000000\",\"2025-02-05T00:00:00.000000000\",\"2025-02-04T00:00:00.000000000\",\"2025-02-03T00:00:00.000000000\",\"2025-01-31T00:00:00.000000000\",\"2025-01-30T00:00:00.000000000\",\"2025-01-29T00:00:00.000000000\",\"2025-01-28T00:00:00.000000000\",\"2025-01-27T00:00:00.000000000\",\"2025-01-24T00:00:00.000000000\",\"2025-01-23T00:00:00.000000000\",\"2025-01-22T00:00:00.000000000\",\"2025-01-21T00:00:00.000000000\",\"2025-01-17T00:00:00.000000000\",\"2025-01-16T00:00:00.000000000\",\"2025-01-15T00:00:00.000000000\",\"2025-01-14T00:00:00.000000000\",\"2025-01-13T00:00:00.000000000\",\"2025-01-10T00:00:00.000000000\",\"2025-01-08T00:00:00.000000000\",\"2025-01-07T00:00:00.000000000\",\"2025-01-06T00:00:00.000000000\",\"2025-01-03T00:00:00.000000000\",\"2025-01-02T00:00:00.000000000\",\"2024-12-31T00:00:00.000000000\",\"2024-12-30T00:00:00.000000000\",\"2024-12-27T00:00:00.000000000\",\"2024-12-26T00:00:00.000000000\",\"2024-12-24T00:00:00.000000000\",\"2024-12-23T00:00:00.000000000\",\"2024-12-20T00:00:00.000000000\",\"2024-12-19T00:00:00.000000000\",\"2024-12-18T00:00:00.000000000\",\"2024-12-17T00:00:00.000000000\",\"2024-12-16T00:00:00.000000000\",\"2024-12-13T00:00:00.000000000\",\"2024-12-12T00:00:00.000000000\",\"2024-12-11T00:00:00.000000000\",\"2024-12-10T00:00:00.000000000\",\"2024-12-09T00:00:00.000000000\",\"2024-12-06T00:00:00.000000000\",\"2024-12-05T00:00:00.000000000\",\"2024-12-04T00:00:00.000000000\",\"2024-12-03T00:00:00.000000000\",\"2024-12-02T00:00:00.000000000\",\"2024-11-29T00:00:00.000000000\",\"2024-11-27T00:00:00.000000000\",\"2024-11-26T00:00:00.000000000\",\"2024-11-25T00:00:00.000000000\",\"2024-11-22T00:00:00.000000000\",\"2024-11-21T00:00:00.000000000\",\"2024-11-20T00:00:00.000000000\",\"2024-11-19T00:00:00.000000000\",\"2024-11-18T00:00:00.000000000\",\"2024-11-15T00:00:00.000000000\",\"2024-11-14T00:00:00.000000000\",\"2024-11-13T00:00:00.000000000\",\"2024-11-12T00:00:00.000000000\",\"2024-11-11T00:00:00.000000000\",\"2024-11-08T00:00:00.000000000\",\"2024-11-07T00:00:00.000000000\",\"2024-11-06T00:00:00.000000000\",\"2024-11-05T00:00:00.000000000\",\"2024-11-04T00:00:00.000000000\",\"2024-11-01T00:00:00.000000000\",\"2024-10-31T00:00:00.000000000\",\"2024-10-30T00:00:00.000000000\",\"2024-10-29T00:00:00.000000000\",\"2024-10-28T00:00:00.000000000\",\"2024-10-25T00:00:00.000000000\",\"2024-10-24T00:00:00.000000000\",\"2024-10-23T00:00:00.000000000\",\"2024-10-22T00:00:00.000000000\",\"2024-10-21T00:00:00.000000000\",\"2024-10-18T00:00:00.000000000\",\"2024-10-17T00:00:00.000000000\",\"2024-10-16T00:00:00.000000000\",\"2024-10-15T00:00:00.000000000\",\"2024-10-14T00:00:00.000000000\",\"2024-10-11T00:00:00.000000000\",\"2024-10-10T00:00:00.000000000\",\"2024-10-09T00:00:00.000000000\",\"2024-10-08T00:00:00.000000000\",\"2024-10-07T00:00:00.000000000\",\"2024-10-04T00:00:00.000000000\",\"2024-10-03T00:00:00.000000000\",\"2024-10-02T00:00:00.000000000\",\"2024-10-01T00:00:00.000000000\",\"2024-09-30T00:00:00.000000000\",\"2024-09-27T00:00:00.000000000\",\"2024-09-26T00:00:00.000000000\",\"2024-09-25T00:00:00.000000000\",\"2024-09-24T00:00:00.000000000\",\"2024-09-23T00:00:00.000000000\",\"2024-09-20T00:00:00.000000000\",\"2024-09-19T00:00:00.000000000\",\"2024-09-18T00:00:00.000000000\",\"2024-09-17T00:00:00.000000000\",\"2024-09-16T00:00:00.000000000\",\"2024-09-13T00:00:00.000000000\",\"2024-09-12T00:00:00.000000000\",\"2024-09-11T00:00:00.000000000\",\"2024-09-10T00:00:00.000000000\",\"2024-09-09T00:00:00.000000000\",\"2024-09-06T00:00:00.000000000\",\"2024-09-05T00:00:00.000000000\",\"2024-09-04T00:00:00.000000000\",\"2024-09-03T00:00:00.000000000\",\"2024-08-30T00:00:00.000000000\",\"2024-08-29T00:00:00.000000000\",\"2024-08-28T00:00:00.000000000\",\"2024-08-27T00:00:00.000000000\",\"2024-08-26T00:00:00.000000000\",\"2024-08-23T00:00:00.000000000\",\"2024-08-22T00:00:00.000000000\",\"2024-08-21T00:00:00.000000000\",\"2024-08-20T00:00:00.000000000\",\"2024-08-19T00:00:00.000000000\",\"2024-08-16T00:00:00.000000000\",\"2024-08-15T00:00:00.000000000\",\"2024-08-14T00:00:00.000000000\",\"2024-08-13T00:00:00.000000000\",\"2024-08-12T00:00:00.000000000\",\"2024-08-09T00:00:00.000000000\",\"2024-08-08T00:00:00.000000000\",\"2024-08-07T00:00:00.000000000\",\"2024-08-06T00:00:00.000000000\",\"2024-08-05T00:00:00.000000000\",\"2024-08-02T00:00:00.000000000\",\"2024-08-01T00:00:00.000000000\",\"2024-07-31T00:00:00.000000000\",\"2024-07-30T00:00:00.000000000\",\"2024-07-29T00:00:00.000000000\",\"2024-07-26T00:00:00.000000000\",\"2024-07-25T00:00:00.000000000\",\"2024-07-24T00:00:00.000000000\",\"2024-07-23T00:00:00.000000000\",\"2024-07-22T00:00:00.000000000\",\"2024-07-19T00:00:00.000000000\",\"2024-07-18T00:00:00.000000000\",\"2024-07-17T00:00:00.000000000\",\"2024-07-16T00:00:00.000000000\",\"2024-07-15T00:00:00.000000000\",\"2024-07-12T00:00:00.000000000\",\"2024-07-11T00:00:00.000000000\",\"2024-07-10T00:00:00.000000000\",\"2024-07-09T00:00:00.000000000\",\"2024-07-08T00:00:00.000000000\",\"2024-07-05T00:00:00.000000000\",\"2024-07-03T00:00:00.000000000\",\"2024-07-02T00:00:00.000000000\",\"2024-07-01T00:00:00.000000000\",\"2024-06-28T00:00:00.000000000\",\"2024-06-27T00:00:00.000000000\",\"2024-06-26T00:00:00.000000000\",\"2024-06-25T00:00:00.000000000\",\"2024-06-24T00:00:00.000000000\",\"2024-06-21T00:00:00.000000000\",\"2024-06-20T00:00:00.000000000\",\"2024-06-18T00:00:00.000000000\",\"2024-06-17T00:00:00.000000000\",\"2024-06-14T00:00:00.000000000\",\"2024-06-13T00:00:00.000000000\",\"2024-06-12T00:00:00.000000000\",\"2024-06-11T00:00:00.000000000\",\"2024-06-10T00:00:00.000000000\",\"2024-06-07T00:00:00.000000000\",\"2024-06-06T00:00:00.000000000\",\"2024-06-05T00:00:00.000000000\",\"2024-06-04T00:00:00.000000000\",\"2024-06-03T00:00:00.000000000\",\"2024-05-31T00:00:00.000000000\",\"2024-05-30T00:00:00.000000000\",\"2024-05-29T00:00:00.000000000\",\"2024-05-28T00:00:00.000000000\",\"2024-05-24T00:00:00.000000000\",\"2024-05-23T00:00:00.000000000\",\"2024-05-22T00:00:00.000000000\",\"2024-05-21T00:00:00.000000000\",\"2024-05-20T00:00:00.000000000\",\"2024-05-17T00:00:00.000000000\",\"2024-05-16T00:00:00.000000000\",\"2024-05-15T00:00:00.000000000\",\"2024-05-14T00:00:00.000000000\",\"2024-05-13T00:00:00.000000000\",\"2024-05-10T00:00:00.000000000\",\"2024-05-09T00:00:00.000000000\",\"2024-05-08T00:00:00.000000000\",\"2024-05-07T00:00:00.000000000\",\"2024-05-06T00:00:00.000000000\",\"2024-05-03T00:00:00.000000000\",\"2024-05-02T00:00:00.000000000\",\"2024-05-01T00:00:00.000000000\",\"2024-04-30T00:00:00.000000000\",\"2024-04-29T00:00:00.000000000\",\"2024-04-26T00:00:00.000000000\",\"2024-04-25T00:00:00.000000000\",\"2024-04-24T00:00:00.000000000\",\"2024-04-23T00:00:00.000000000\",\"2024-04-22T00:00:00.000000000\",\"2024-04-19T00:00:00.000000000\",\"2024-04-18T00:00:00.000000000\",\"2024-04-17T00:00:00.000000000\",\"2024-04-16T00:00:00.000000000\",\"2024-04-15T00:00:00.000000000\",\"2024-04-12T00:00:00.000000000\",\"2024-04-11T00:00:00.000000000\",\"2024-04-10T00:00:00.000000000\",\"2024-04-09T00:00:00.000000000\",\"2024-04-08T00:00:00.000000000\",\"2024-04-05T00:00:00.000000000\",\"2024-04-04T00:00:00.000000000\",\"2024-04-03T00:00:00.000000000\",\"2024-04-02T00:00:00.000000000\",\"2024-04-01T00:00:00.000000000\",\"2024-03-28T00:00:00.000000000\",\"2024-03-27T00:00:00.000000000\",\"2024-03-26T00:00:00.000000000\",\"2024-03-25T00:00:00.000000000\",\"2024-03-22T00:00:00.000000000\",\"2024-03-21T00:00:00.000000000\",\"2024-03-20T00:00:00.000000000\",\"2024-03-19T00:00:00.000000000\",\"2024-03-18T00:00:00.000000000\",\"2024-03-15T00:00:00.000000000\",\"2024-03-14T00:00:00.000000000\",\"2024-03-13T00:00:00.000000000\",\"2024-03-12T00:00:00.000000000\",\"2024-03-11T00:00:00.000000000\",\"2024-03-08T00:00:00.000000000\",\"2024-03-07T00:00:00.000000000\",\"2024-03-06T00:00:00.000000000\",\"2024-03-05T00:00:00.000000000\",\"2024-03-04T00:00:00.000000000\",\"2024-03-01T00:00:00.000000000\",\"2024-02-29T00:00:00.000000000\",\"2024-02-28T00:00:00.000000000\",\"2024-02-27T00:00:00.000000000\",\"2024-02-26T00:00:00.000000000\",\"2024-02-23T00:00:00.000000000\",\"2024-02-22T00:00:00.000000000\",\"2024-02-21T00:00:00.000000000\",\"2024-02-20T00:00:00.000000000\",\"2024-02-16T00:00:00.000000000\",\"2024-02-15T00:00:00.000000000\",\"2024-02-14T00:00:00.000000000\",\"2024-02-13T00:00:00.000000000\",\"2024-02-12T00:00:00.000000000\",\"2024-02-09T00:00:00.000000000\",\"2024-02-08T00:00:00.000000000\",\"2024-02-07T00:00:00.000000000\",\"2024-02-06T00:00:00.000000000\",\"2024-02-05T00:00:00.000000000\",\"2024-02-02T00:00:00.000000000\",\"2024-02-01T00:00:00.000000000\",\"2024-01-31T00:00:00.000000000\",\"2024-01-30T00:00:00.000000000\",\"2024-01-29T00:00:00.000000000\",\"2024-01-26T00:00:00.000000000\",\"2024-01-25T00:00:00.000000000\",\"2024-01-24T00:00:00.000000000\",\"2024-01-23T00:00:00.000000000\",\"2024-01-22T00:00:00.000000000\",\"2024-01-19T00:00:00.000000000\",\"2024-01-18T00:00:00.000000000\",\"2024-01-17T00:00:00.000000000\",\"2024-01-16T00:00:00.000000000\",\"2024-01-12T00:00:00.000000000\",\"2024-01-11T00:00:00.000000000\",\"2024-01-10T00:00:00.000000000\",\"2024-01-09T00:00:00.000000000\",\"2024-01-08T00:00:00.000000000\",\"2024-01-05T00:00:00.000000000\",\"2024-01-04T00:00:00.000000000\",\"2024-01-03T00:00:00.000000000\",\"2024-01-02T00:00:00.000000000\",\"2023-12-29T00:00:00.000000000\",\"2023-12-28T00:00:00.000000000\",\"2023-12-27T00:00:00.000000000\",\"2023-12-26T00:00:00.000000000\",\"2023-12-22T00:00:00.000000000\",\"2023-12-21T00:00:00.000000000\",\"2023-12-20T00:00:00.000000000\",\"2023-12-19T00:00:00.000000000\",\"2023-12-18T00:00:00.000000000\",\"2023-12-15T00:00:00.000000000\",\"2023-12-14T00:00:00.000000000\",\"2023-12-13T00:00:00.000000000\",\"2023-12-12T00:00:00.000000000\",\"2023-12-11T00:00:00.000000000\",\"2023-12-08T00:00:00.000000000\",\"2023-12-07T00:00:00.000000000\",\"2023-12-06T00:00:00.000000000\",\"2023-12-05T00:00:00.000000000\",\"2023-12-04T00:00:00.000000000\",\"2023-12-01T00:00:00.000000000\",\"2023-11-30T00:00:00.000000000\",\"2023-11-29T00:00:00.000000000\",\"2023-11-28T00:00:00.000000000\",\"2023-11-27T00:00:00.000000000\",\"2023-11-24T00:00:00.000000000\",\"2023-11-22T00:00:00.000000000\",\"2023-11-21T00:00:00.000000000\",\"2023-11-20T00:00:00.000000000\",\"2023-11-17T00:00:00.000000000\",\"2023-11-16T00:00:00.000000000\",\"2023-11-15T00:00:00.000000000\",\"2023-11-14T00:00:00.000000000\",\"2023-11-13T00:00:00.000000000\",\"2023-11-10T00:00:00.000000000\",\"2023-11-09T00:00:00.000000000\",\"2023-11-08T00:00:00.000000000\",\"2023-11-07T00:00:00.000000000\",\"2023-11-06T00:00:00.000000000\",\"2023-11-03T00:00:00.000000000\",\"2023-11-02T00:00:00.000000000\",\"2023-11-01T00:00:00.000000000\",\"2023-10-31T00:00:00.000000000\",\"2023-10-30T00:00:00.000000000\",\"2023-10-27T00:00:00.000000000\",\"2023-10-26T00:00:00.000000000\",\"2023-10-25T00:00:00.000000000\",\"2023-10-24T00:00:00.000000000\",\"2023-10-23T00:00:00.000000000\",\"2023-10-20T00:00:00.000000000\",\"2023-10-19T00:00:00.000000000\",\"2023-10-18T00:00:00.000000000\",\"2023-10-17T00:00:00.000000000\",\"2023-10-16T00:00:00.000000000\",\"2023-10-13T00:00:00.000000000\",\"2023-10-12T00:00:00.000000000\",\"2023-10-11T00:00:00.000000000\",\"2023-10-10T00:00:00.000000000\",\"2023-10-09T00:00:00.000000000\",\"2023-10-06T00:00:00.000000000\",\"2023-10-05T00:00:00.000000000\",\"2023-10-04T00:00:00.000000000\",\"2023-10-03T00:00:00.000000000\",\"2023-10-02T00:00:00.000000000\",\"2023-09-29T00:00:00.000000000\",\"2023-09-28T00:00:00.000000000\",\"2023-09-27T00:00:00.000000000\",\"2023-09-26T00:00:00.000000000\",\"2023-09-25T00:00:00.000000000\",\"2023-09-22T00:00:00.000000000\",\"2023-09-21T00:00:00.000000000\",\"2023-09-20T00:00:00.000000000\",\"2023-09-19T00:00:00.000000000\",\"2023-09-18T00:00:00.000000000\",\"2023-09-15T00:00:00.000000000\",\"2023-09-14T00:00:00.000000000\",\"2023-09-13T00:00:00.000000000\",\"2023-09-12T00:00:00.000000000\",\"2023-09-11T00:00:00.000000000\",\"2023-09-08T00:00:00.000000000\",\"2023-09-07T00:00:00.000000000\",\"2023-09-06T00:00:00.000000000\",\"2023-09-05T00:00:00.000000000\",\"2023-09-01T00:00:00.000000000\",\"2023-08-31T00:00:00.000000000\",\"2023-08-30T00:00:00.000000000\",\"2023-08-29T00:00:00.000000000\",\"2023-08-28T00:00:00.000000000\",\"2023-08-25T00:00:00.000000000\",\"2023-08-24T00:00:00.000000000\",\"2023-08-23T00:00:00.000000000\",\"2023-08-22T00:00:00.000000000\",\"2023-08-21T00:00:00.000000000\",\"2023-08-18T00:00:00.000000000\",\"2023-08-17T00:00:00.000000000\",\"2023-08-16T00:00:00.000000000\",\"2023-08-15T00:00:00.000000000\",\"2023-08-14T00:00:00.000000000\",\"2023-08-11T00:00:00.000000000\",\"2023-08-10T00:00:00.000000000\",\"2023-08-09T00:00:00.000000000\",\"2023-08-08T00:00:00.000000000\",\"2023-08-07T00:00:00.000000000\",\"2023-08-04T00:00:00.000000000\",\"2023-08-03T00:00:00.000000000\",\"2023-08-02T00:00:00.000000000\",\"2023-08-01T00:00:00.000000000\",\"2023-07-31T00:00:00.000000000\",\"2023-07-28T00:00:00.000000000\",\"2023-07-27T00:00:00.000000000\",\"2023-07-26T00:00:00.000000000\",\"2023-07-25T00:00:00.000000000\",\"2023-07-24T00:00:00.000000000\",\"2023-07-21T00:00:00.000000000\",\"2023-07-20T00:00:00.000000000\",\"2023-07-19T00:00:00.000000000\",\"2023-07-18T00:00:00.000000000\",\"2023-07-17T00:00:00.000000000\",\"2023-07-14T00:00:00.000000000\",\"2023-07-13T00:00:00.000000000\",\"2023-07-12T00:00:00.000000000\",\"2023-07-11T00:00:00.000000000\",\"2023-07-10T00:00:00.000000000\",\"2023-07-07T00:00:00.000000000\",\"2023-07-06T00:00:00.000000000\",\"2023-07-05T00:00:00.000000000\",\"2023-07-03T00:00:00.000000000\",\"2023-06-30T00:00:00.000000000\",\"2023-06-29T00:00:00.000000000\",\"2023-06-28T00:00:00.000000000\",\"2023-06-27T00:00:00.000000000\",\"2023-06-26T00:00:00.000000000\",\"2023-06-23T00:00:00.000000000\",\"2023-06-22T00:00:00.000000000\",\"2023-06-21T00:00:00.000000000\",\"2023-06-20T00:00:00.000000000\",\"2023-06-16T00:00:00.000000000\",\"2023-06-15T00:00:00.000000000\",\"2023-06-14T00:00:00.000000000\",\"2023-06-13T00:00:00.000000000\",\"2023-06-12T00:00:00.000000000\",\"2023-06-09T00:00:00.000000000\",\"2023-06-08T00:00:00.000000000\",\"2023-06-07T00:00:00.000000000\",\"2023-06-06T00:00:00.000000000\",\"2023-06-05T00:00:00.000000000\",\"2023-06-02T00:00:00.000000000\",\"2023-06-01T00:00:00.000000000\",\"2023-05-31T00:00:00.000000000\",\"2023-05-30T00:00:00.000000000\",\"2023-05-26T00:00:00.000000000\",\"2023-05-25T00:00:00.000000000\",\"2023-05-24T00:00:00.000000000\",\"2023-05-23T00:00:00.000000000\",\"2023-05-22T00:00:00.000000000\",\"2023-05-19T00:00:00.000000000\",\"2023-05-18T00:00:00.000000000\",\"2023-05-17T00:00:00.000000000\",\"2023-05-16T00:00:00.000000000\",\"2023-05-15T00:00:00.000000000\",\"2023-05-12T00:00:00.000000000\",\"2023-05-11T00:00:00.000000000\",\"2023-05-10T00:00:00.000000000\",\"2023-05-09T00:00:00.000000000\",\"2023-05-08T00:00:00.000000000\",\"2023-05-05T00:00:00.000000000\",\"2023-05-04T00:00:00.000000000\",\"2023-05-03T00:00:00.000000000\",\"2023-05-02T00:00:00.000000000\",\"2023-05-01T00:00:00.000000000\",\"2023-04-28T00:00:00.000000000\",\"2023-04-27T00:00:00.000000000\",\"2023-04-26T00:00:00.000000000\",\"2023-04-25T00:00:00.000000000\",\"2023-04-24T00:00:00.000000000\",\"2023-04-21T00:00:00.000000000\",\"2023-04-20T00:00:00.000000000\",\"2023-04-19T00:00:00.000000000\",\"2023-04-18T00:00:00.000000000\",\"2023-04-17T00:00:00.000000000\",\"2023-04-14T00:00:00.000000000\",\"2023-04-13T00:00:00.000000000\",\"2023-04-12T00:00:00.000000000\",\"2023-04-11T00:00:00.000000000\",\"2023-04-10T00:00:00.000000000\",\"2023-04-06T00:00:00.000000000\",\"2023-04-05T00:00:00.000000000\",\"2023-04-04T00:00:00.000000000\",\"2023-04-03T00:00:00.000000000\",\"2023-03-31T00:00:00.000000000\",\"2023-03-30T00:00:00.000000000\",\"2023-03-29T00:00:00.000000000\",\"2023-03-28T00:00:00.000000000\",\"2023-03-27T00:00:00.000000000\",\"2023-03-24T00:00:00.000000000\",\"2023-03-23T00:00:00.000000000\",\"2023-03-22T00:00:00.000000000\",\"2023-03-21T00:00:00.000000000\",\"2023-03-20T00:00:00.000000000\",\"2023-03-17T00:00:00.000000000\",\"2023-03-16T00:00:00.000000000\"],\"y\":{\"dtype\":\"f8\",\"bdata\":\"16NwPQqHbUBSuB6F69ltQArXo3A90m1AZmZmZmYWbkBSuB6F6+FtQI\\u002fC9Shcb21AmpmZmZmxbEBSuB6F62ltQClcj8L1oGtAKVyPwvU4bECPwvUoXG9sQEjhehSub25Aj8L1KFw\\u002fb0B7FK5H4UpvQIXrUbgeFW9AAAAAAACAbkAfhetRuMZuQHsUrkfhSm9AzczMzMw8b0BmZmZmZg5vQKRwPQrXe25ACtejcD1qbkDhehSuR4lvQGZmZmZm3m5A16NwPQqfb0AzMzMzMwtvQJqZmZmZuW5AXI\\u002fC9Sg0b0BmZmZmZh5vQGZmZmZmDnBAcT0K16NYcECuR+F6FBZvQDMzMzMza29AH4XrUbimb0CuR+F6FEZvQK5H4XoUjm9Aj8L1KFynb0B7FK5H4fpvQAAAAAAAHHBAUrgehetdcEBI4XoUrldwQKRwPQrXi3BAhetRuB6FcECF61G4HnFwQBSuR+F6VHBA16NwPQozcEBSuB6F6\\u002flvQGZmZmZm1m9AcT0K16Mob0B7FK5H4YpvQK5H4XoUrm9AzczMzMx0cECPwvUoXIdwQEjhehSuS3BAZmZmZmb2b0C4HoXrUSRwQFyPwvUolGxAhetRuB41bEBcj8L1KARsQJqZmZmZGWxA4XoUrkdBbEC4HoXrUehrQLgehetRCGxA4XoUrkcZbECF61G4HtVrQClcj8L1gGtAAAAAAAA4a0DNzMzMzCxrQAAAAAAAeGtA9ihcj8Lla0AfhetRuP5rQD0K16Nw1WtAzczMzMzUa0CuR+F6FH5rQMP1KFyPemtAAAAAAACIa0ApXI\\u002fC9dhrQBSuR+F6HGxAhetRuB4NbED2KFyPwr1rQOxRuB6F62tAPQrXo3D9a0A9CtejcIVrQNejcD0Kn2xAw\\u002fUoXI+qbEAK16NwPdpsQLgehetRCG1ApHA9CtfDbEDXo3A9CvdsQAAAAAAAwGxA4XoUrkfBbUAAAAAAAFhtQEjhehSuL21AAAAAAACgbEAUrkfhemxsQIXrUbgebWxAPQrXo3BdbEDD9Shcj5psQFyPwvUoRGxA16NwPQrfa0DNzMzMzMxrQDMzMzMz02pAAAAAAABIakB7FK5H4QJqQEjhehSun2lASOF6FK4fakA9CtejcF1qQOxRuB6FW2pACtejcD2yakDXo3A9CrdqQK5H4XoUtmpAMzMzMzOzakAK16NwPfJpQArXo3A9ymlAAAAAAAAIakDXo3A9CtdpQM3MzMzMnGlA9ihcj8JNakCF61G4Hp1qQD0K16Nw1WpAFK5H4XpMa0AAAAAAABhtQAAAAAAACG1AAAAAAAD4bEBmZmZmZgZtQFyPwvUoHG1APQrXo3A1bUAfhetRuB5tQLgehetRaG1AuB6F61EobUBxPQrXoyBtQJqZmZmZSW1ApHA9CteTbECkcD0K12NsQAAAAAAAQGxA16NwPQrXa0CPwvUoXHdrQDMzMzMza2tAw\\u002fUoXI+ia0B7FK5H4ZprQPYoXI\\u002fC7WtAj8L1KFyna0DXo3A9Cp9rQAAAAAAAkGtAZmZmZmY2a0AUrkfherxqQK5H4XoU3mpAXI\\u002fC9SjEakCF61G4HiVrQOF6FK5H2WpA7FG4HoVzakAUrkfhejxqQArXo3A9qmlAKVyPwvVwaUBI4XoUrhdpQHsUrkfhUmlA7FG4HoWDaUApXI\\u002fC9ShpQFyPwvUoRGlAzczMzMzcaEAfhetRuM5oQI\\u002fC9Shc12hAj8L1KFy\\u002faEAzMzMzM4NoQB+F61G4fmhAH4XrUbimaEApXI\\u002fC9YBoQI\\u002fC9ShcV2hAKVyPwvU4aEBmZmZmZj5oQArXo3A9CmhASOF6FK7fZ0CPwvUoXK9nQGZmZmZm7mdA7FG4HoUTaECamZmZmVlnQJqZmZmZWWdAUrgehevpZkCkcD0K16NnQIXrUbgetWdAFK5H4XoEaEDhehSuR+FnQAAAAAAA8GdAAAAAAAD4Z0CPwvUoXP9nQHE9CtejAGdAMzMzMzMDZ0DNzMzMzARnQAAAAAAA6GZA16NwPQonZ0BmZmZmZm5nQFK4HoXrOWdAXI\\u002fC9SjcZkDD9Shcj9pmQFK4HoXrSWZAexSuR+E6ZkCPwvUoXA9mQBSuR+F6NGZAcT0K16MAZkCPwvUoXPdlQJqZmZmZKWZAMzMzMzPjZUBmZmZmZp5lQDMzMzMzW2VApHA9Ctd7ZUAzMzMzM5NlQLgehetR4GVAH4XrUbiOZUA9CtejcL1lQJqZmZmZUWVAAAAAAAAwZUAfhetRuCZlQKRwPQrXI2VAAAAAAAAgZUAK16NwPSplQFyPwvUoTGVAuB6F61FAZUBmZmZmZgZlQFyPwvUo7GRAUrgeheu5ZEApXI\\u002fC9ahkQDMzMzMz22RAXI\\u002fC9Si0ZECamZmZmeFkQIXrUbgeNWVAFK5H4XpcZUA9CtejcFVlQK5H4XoUtmVA16NwPQqvZUA9CtejcD1lQClcj8L1IGVA16NwPQofZUC4HoXrUQhlQOxRuB6F62RAUrgehevxZEDNzMzMzORkQHE9CtejyGRAzczMzMw8ZUBcj8L1KAxlQOxRuB6FE2VAH4XrUbi2ZECuR+F6FJZkQPYoXI\\u002fCjWRAZmZmZmbGZED2KFyPwu1kQFyPwvUo5GRAhetRuB4dZUAzMzMzMwNnQK5H4XoUxmZAzczMzMy8ZkDD9Shcj7JmQNejcD0Kr2ZAMzMzMzPjZkAAAAAAAPhmQAAAAAAAqGZAcT0K16PIZkDNzMzMzDxnQOF6FK5HQWdAUrgeheupZ0AK16NwPbpnQBSuR+F6pGdArkfhehR+Z0DNzMzMzNxnQFyPwvUonGdAw\\u002fUoXI+6Z0AfhetRuN5nQJqZmZmZ2WdAAAAAAACQZ0DhehSuR5lnQHsUrkfh2mdAzczMzMz8Z0AfhetRuD5oQHsUrkfhKmhArkfhehT2Z0AK16NwPeJnQPYoXI\\u002fCLWhAZmZmZmaWaEApXI\\u002fC9bhoQI\\u002fC9Shc92dAZmZmZmZ+aEDhehSuR5FoQIXrUbgehWhAZmZmZmb+Z0BSuB6F6yFoQGZmZmZmhmdAKVyPwvUgZ0CamZmZmSlnQKRwPQrXG2dAXI\\u002fC9SgEZ0DXo3A9CjdnQB+F61G4BmdAZmZmZmZ2ZkCuR+F6FO5mQBSuR+F6dGdApHA9CtdbZ0AK16NwPfJmQGZmZmZm9mZAhetRuB5FZ0B7FK5H4UpnQOxRuB6FC2dASOF6FK73ZkCF61G4Hu1mQD0K16Nw7WZA4XoUrkc5Z0DNzMzMzFxnQIXrUbge9WZApHA9Ctd7Z0AUrkfhemRnQD0K16NwbWdA9ihcj8LNZ0D2KFyPwr1lQK5H4XoUvmVAw\\u002fUoXI+aZUCPwvUoXG9lQHsUrkfh2mRAw\\u002fUoXI\\u002fCZEAfhetRuN5kQJqZmZmZuWRAhetRuB5FZECPwvUoXCdkQMP1KFyPAmRAFK5H4XokZECF61G4HuVjQOxRuB6FG2RAMzMzMzMDZEAAAAAAADBkQJqZmZmZcWRAAAAAAAB4ZEAfhetRuG5kQB+F61G4ZmRAFK5H4XpEZEApXI\\u002fC9RhkQJqZmZmZAWRAUrgehesxZEBI4XoUrldkQI\\u002fC9ShcR2RAhetRuB5dZECkcD0K13NkQB+F61G4lmRAuB6F61FwZEAfhetRuD5kQNejcD0KB2RAKVyPwvUIZEAUrkfheixkQDMzMzMzI2RAmpmZmZkRZEBSuB6F69FjQIXrUbgejWNAzczMzMx0Y0AK16NwPXJjQPYoXI\\u002fCZWNAXI\\u002fC9ShkY0CF61G4Hj1jQDMzMzMzS2NAFK5H4XocY0BSuB6F6yFjQMP1KFyPEmNAhetRuB7NYkAzMzMzM4NiQHE9CtejoGJApHA9CtdTYkApXI\\u002fC9YBiQMP1KFyPmmJA16NwPQqfYkDNzMzMzHxiQLgehetRYGJAzczMzMwsYkAUrkfhehRiQFyPwvUo1GFAcT0K16PQYUC4HoXrUfhhQMP1KFyPImFA4XoUrkc5YUBcj8L1KAxhQIXrUbgeJWFAuB6F61FAYUDXo3A9Cn9hQArXo3A9imFAH4XrUbhmYUAfhetRuE5hQEjhehSup2FAj8L1KFznYUDsUbgehcNhQGZmZmZmxmFAKVyPwvXAYUBxPQrXo7BhQArXo3A9omFAFK5H4XqMYUCamZmZmZlhQJqZmZmZiWFAw\\u002fUoXI+yYUA9CtejcOVhQEjhehSu52FAj8L1KFxPYkCF61G4Hl1iQFyPwvUobGJAw\\u002fUoXI+6YkBxPQrXo1BiQHsUrkfhImJASOF6FK4\\u002fYkAzMzMzM2tiQJqZmZmZUWJAmpmZmZlJYkBcj8L1KIxiQPYoXI\\u002fCdWJAcT0K16NwYkBSuB6F64FiQFyPwvUohGJArkfhehR+YkDD9Shcj1piQOxRuB6FW2JAZmZmZmZOYkBxPQrXo0BiQDMzMzMzK2JAmpmZmZnxYUCF61G4Hu1hQEjhehSur2FAKVyPwvXIYUCF61G4Hq1hQIXrUbgelWFAFK5H4XqUYUCkcD0K17thQIXrUbgevWFApHA9CtfjYUAAAAAAAOhhQEjhehSuz2FAhetRuB49YkD2KFyPwkViQEjhehSuB2JAZmZmZmYOYkA9CtejcAViQMP1KFyP6mFA9ihcj8IFYkBmZmZmZu5hQNejcD0K32FACtejcD2iYUDD9Shcj4phQOF6FK5HcWFArkfhehReYUBcj8L1KExhQI\\u002fC9Shc72BA7FG4HoXrYEBI4XoUrsdgQM3MzMzMrGBAPQrXo3C9YEB7FK5H4ZpgQK5H4XoUzmBAzczMzMycYEDD9Shcj4JgQIXrUbgehWBASOF6FK7HYEA9CtejcLVgQFK4HoXruWBAUrgehevBYEC4HoXrUXhgQHsUrkfhimBAexSuR+FqYED2KFyPwi1gQD0K16NwZWBArkfhehS2YEAfhetRuP5gQI\\u002fC9ShcL2FAzczMzMxMYUBmZmZmZiZhQDMzMzMzM2FAPQrXo3ANYUCamZmZmelgQIXrUbgezWBAXI\\u002fC9SjMYECuR+F6FJZgQBSuR+F6lGBAPQrXo3CNYEAK16NwPTpgQHsUrkfhEmBAj8L1KFwvYEAUrkfhehxgQHE9CtejsF9A7FG4HoVrX0D2KFyPwgVgQAAAAAAA4F9AcT0K16PQX0CamZmZmYlfQD0K16NwbV9APQrXo3DdXkDXo3A9CtdeQPYoXI\\u002fCtV5AmpmZmZk5XkDhehSuR4FeQHsUrkfhSl5AmpmZmZnZXkCamZmZmeleQBSuR+F6pF5AzczMzMzcXkAK16NwPUpfQPYoXI\\u002fChV9ACtejcD2aX0CuR+F6FL5fQGZmZmZmdl9AKVyPwvV4X0CamZmZmVlfQB+F61G4bl9A16NwPQqXX0AUrkfhepRfQFK4HoXr8V9AFK5H4Xr0X0AUrkfhegRgQJqZmZmZ+V9A4XoUrkcRYEA9CtejcE1gQClcj8L1YGBAAAAAAABQYEAUrkfheoRgQDMzMzMzc2BAUrgeheuBYEB7FK5H4WJgQNejcD0KJ2BAH4XrUbg2YEB7FK5H4SpgQFK4HoXrKWBAw\\u002fUoXI9SX0BI4XoUrtdeQDMzMzMzA19AFK5H4XqkX0Bcj8L1KHxfQFyPwvUo7F5AzczMzMwsX0BSuB6F69FeQJqZmZmZKV9AhetRuB5lX0DNzMzMzFxfQArXo3A9il9AmpmZmZkBYEAAAAAAAAhgQK5H4XoURmBAFK5H4Xo0YED2KFyPwh1gQK5H4XoUBmBAmpmZmZkpYEBI4XoUrk9gQArXo3A9UmBA4XoUrkdZYEDXo3A9Cl9gQB+F61G4dmBAcT0K16PgYEAAAAAAAOBgQM3MzMzMDGFAuB6F61EAYUAzMzMzMythQDMzMzMz82BAAAAAAAC4YECPwvUoXP9gQHsUrkfh+mBA9ihcj8IFYUCuR+F6FB5hQBSuR+F6DGFAexSuR+HiYECPwvUoXNdgQJqZmZmZ6WBAFK5H4XrMYEBmZmZmZs5gQLgehetRmGFASOF6FK6vYUDsUbgehbthQGZmZmZmpmFApHA9CteTYUCF61G4Ho1hQK5H4XoUJmJAFK5H4Xo8YkCamZmZmTFiQLgehetRKGJAmpmZmZkZYkCamZmZmfFhQGZmZmZm9mFA7FG4HoWjYUAzMzMzM9NhQJqZmZmZsWFAFK5H4XqcYUBSuB6F66FhQHE9CtejgGFAPQrXo3DNYUDNzMzMzLRhQFyPwvUonGFAFK5H4XrEYUApXI\\u002fC9ahhQKRwPQrXW2FAhetRuB6FYUDsUbgehcthQOxRuB6Fu2JACtejcD3SYkAfhetRuKZiQJqZmZmZYWJAKVyPwvV4YkBxPQrXo2hiQAAAAAAAcGJAhetRuB5tYkA9CtejcJViQIXrUbgepWJAzczMzMycYkBI4XoUrk9iQPYoXI\\u002fCRWJApHA9CteLYkAAAAAAAJhiQDMzMzMzo2JA9ihcj8JVYkAUrkfhenRiQHsUrkfhQmJAcT0K16MQYkB7FK5H4QpiQGZmZmZmBmJAPQrXo3DlYUCPwvUoXKdhQBSuR+F6LGFA4XoUrkeBYUB7FK5H4UphQB+F61G4HmFA16NwPQrPYEDD9ShcjxphQGZmZmZmRmFA4XoUrkdJYUC4HoXrUVBhQHE9Ctej2GBAuB6F61HgYED2KFyPwp1gQK5H4XoUlmBAzczMzMw8YECamZmZmQlgQHE9CtejoF5AXI\\u002fC9Si8XkDhehSuR2FeQMP1KFyPAl5Aw\\u002fUoXI9yXkAUrkfhemRdQDMzMzMzc11AAAAAAABwXUAUrkfherRdQB+F61G4jl5Aj8L1KFxvX0AAAAAAAGBfQHE9CtejYF5ApHA9CtezXUC4HoXrUWheQHE9CtejsF5Aj8L1KFxvXkBxPQrXo4BeQD0K16NwrV5ApHA9CtdTX0DsUbgehTtfQDMzMzMzk19AH4XrUbjuX0DhehSuR9FfQI\\u002fC9ShcX19AXI\\u002fC9SjsX0AAAAAAANBfQIXrUbgeVWBArkfhehQmYEDXo3A9Cg9gQD0K16Nw7V9ArkfhehSuX0DD9Shcj\\u002fJfQIXrUbgeNWBAZmZmZmYOYEDD9ShcjzJgQFK4HoXrSWBAXI\\u002fC9ShMYECPwvUoXL9gQI\\u002fC9Shcp2BASOF6FK7XYECamZmZmfFgQKRwPQrXS2FACtejcD1iYUDhehSuRzlhQFK4HoXrEWFA9ihcj8LdYEC4HoXrUcBgQOF6FK5HkWBAAAAAAABwYEDXo3A9Ci9gQOxRuB6Fk2BAj8L1KFyPYEAUrkfhenRgQHsUrkfhimBAUrgehet5YEDhehSuR4FgQOF6FK5HWWBA16NwPQonYECkcD0K1yNgQMP1KFyPAmBA4XoUrkcRYEAAAAAAAAhgQJqZmZmZyV9A9ihcj8IlYEBcj8L1KFxgQFyPwvUoRGFAPQrXo3B9YUBSuB6F62FhQPYoXI\\u002fCJWFA9ihcj8JlYUAAAAAAAKBhQNejcD0Kj2FAw\\u002fUoXI+aYUDD9Shcj0JhQKRwPQrXM2FApHA9CtejYUCuR+F6FKZhQB+F61G4lmFA7FG4HoW7YUCamZmZmdlhQFK4HoXrwWFArkfhehROYUDD9ShcjyJhQDMzMzMzO2FAcT0K16PgYEA9CtejcPVgQFK4HoXrIWFA16NwPQr3YEDsUbgeheNgQK5H4XoUBmFAH4XrUbg+YUDD9Shcj5phQClcj8L12GFAXI\\u002fC9SjcYUD2KFyPwqVhQM3MzMzMhGFA9ihcj8JtYUB7FK5H4VphQHE9CtejaGFAFK5H4XocYUAUrkfhesxgQJqZmZmZuWBAPQrXo3BlYECPwvUoXA9gQIXrUbgeNWBArkfhehSeYECkcD0K10thQClcj8L14GBAMzMzMzOzYEDNzMzMzJxgQAAAAAAAWGBAXI\\u002fC9SgkYECuR+F6FM5gQD0K16NwNWFAPQrXo3D9YEDNzMzMzCxhQHE9CtejkGBA4XoUrkehYEAfhetRuIZgQEjhehSu92BAUrgehevhYECuR+F6FAZhQDMzMzMzY2FAAAAAAABIYUAzMzMzM3thQArXo3A9SmFAzczMzMwkYEB7FK5H4YpfQKRwPQrXo19AKVyPwvWIX0AfhetRuH5fQEjhehSul19AH4XrUbjuX0CamZmZmRFgQBSuR+F6LGBAFK5H4XocYEBxPQrXo0hgQM3MzMzMRGBAcT0K16NAYEBcj8L1KIRgQK5H4XoUfmBA16NwPQpvYEAzMzMzM2tgQAAAAAAAKGBAmpmZmZkJYEBSuB6F6yFgQA==\"},\"type\":\"scatter\",\"xaxis\":\"x\",\"yaxis\":\"y\"},{\"name\":\"Volume\",\"x\":[\"2025-04-21T00:00:00.000000000\",\"2025-04-17T00:00:00.000000000\",\"2025-04-16T00:00:00.000000000\",\"2025-04-15T00:00:00.000000000\",\"2025-04-14T00:00:00.000000000\",\"2025-04-11T00:00:00.000000000\",\"2025-04-10T00:00:00.000000000\",\"2025-04-09T00:00:00.000000000\",\"2025-04-08T00:00:00.000000000\",\"2025-04-07T00:00:00.000000000\",\"2025-04-04T00:00:00.000000000\",\"2025-04-03T00:00:00.000000000\",\"2025-04-02T00:00:00.000000000\",\"2025-04-01T00:00:00.000000000\",\"2025-03-31T00:00:00.000000000\",\"2025-03-28T00:00:00.000000000\",\"2025-03-27T00:00:00.000000000\",\"2025-03-26T00:00:00.000000000\",\"2025-03-25T00:00:00.000000000\",\"2025-03-24T00:00:00.000000000\",\"2025-03-21T00:00:00.000000000\",\"2025-03-20T00:00:00.000000000\",\"2025-03-19T00:00:00.000000000\",\"2025-03-18T00:00:00.000000000\",\"2025-03-17T00:00:00.000000000\",\"2025-03-14T00:00:00.000000000\",\"2025-03-13T00:00:00.000000000\",\"2025-03-12T00:00:00.000000000\",\"2025-03-11T00:00:00.000000000\",\"2025-03-10T00:00:00.000000000\",\"2025-03-07T00:00:00.000000000\",\"2025-03-06T00:00:00.000000000\",\"2025-03-05T00:00:00.000000000\",\"2025-03-04T00:00:00.000000000\",\"2025-03-03T00:00:00.000000000\",\"2025-02-28T00:00:00.000000000\",\"2025-02-27T00:00:00.000000000\",\"2025-02-26T00:00:00.000000000\",\"2025-02-25T00:00:00.000000000\",\"2025-02-24T00:00:00.000000000\",\"2025-02-21T00:00:00.000000000\",\"2025-02-20T00:00:00.000000000\",\"2025-02-19T00:00:00.000000000\",\"2025-02-18T00:00:00.000000000\",\"2025-02-14T00:00:00.000000000\",\"2025-02-13T00:00:00.000000000\",\"2025-02-12T00:00:00.000000000\",\"2025-02-11T00:00:00.000000000\",\"2025-02-10T00:00:00.000000000\",\"2025-02-07T00:00:00.000000000\",\"2025-02-06T00:00:00.000000000\",\"2025-02-05T00:00:00.000000000\",\"2025-02-04T00:00:00.000000000\",\"2025-02-03T00:00:00.000000000\",\"2025-01-31T00:00:00.000000000\",\"2025-01-30T00:00:00.000000000\",\"2025-01-29T00:00:00.000000000\",\"2025-01-28T00:00:00.000000000\",\"2025-01-27T00:00:00.000000000\",\"2025-01-24T00:00:00.000000000\",\"2025-01-23T00:00:00.000000000\",\"2025-01-22T00:00:00.000000000\",\"2025-01-21T00:00:00.000000000\",\"2025-01-17T00:00:00.000000000\",\"2025-01-16T00:00:00.000000000\",\"2025-01-15T00:00:00.000000000\",\"2025-01-14T00:00:00.000000000\",\"2025-01-13T00:00:00.000000000\",\"2025-01-10T00:00:00.000000000\",\"2025-01-08T00:00:00.000000000\",\"2025-01-07T00:00:00.000000000\",\"2025-01-06T00:00:00.000000000\",\"2025-01-03T00:00:00.000000000\",\"2025-01-02T00:00:00.000000000\",\"2024-12-31T00:00:00.000000000\",\"2024-12-30T00:00:00.000000000\",\"2024-12-27T00:00:00.000000000\",\"2024-12-26T00:00:00.000000000\",\"2024-12-24T00:00:00.000000000\",\"2024-12-23T00:00:00.000000000\",\"2024-12-20T00:00:00.000000000\",\"2024-12-19T00:00:00.000000000\",\"2024-12-18T00:00:00.000000000\",\"2024-12-17T00:00:00.000000000\",\"2024-12-16T00:00:00.000000000\",\"2024-12-13T00:00:00.000000000\",\"2024-12-12T00:00:00.000000000\",\"2024-12-11T00:00:00.000000000\",\"2024-12-10T00:00:00.000000000\",\"2024-12-09T00:00:00.000000000\",\"2024-12-06T00:00:00.000000000\",\"2024-12-05T00:00:00.000000000\",\"2024-12-04T00:00:00.000000000\",\"2024-12-03T00:00:00.000000000\",\"2024-12-02T00:00:00.000000000\",\"2024-11-29T00:00:00.000000000\",\"2024-11-27T00:00:00.000000000\",\"2024-11-26T00:00:00.000000000\",\"2024-11-25T00:00:00.000000000\",\"2024-11-22T00:00:00.000000000\",\"2024-11-21T00:00:00.000000000\",\"2024-11-20T00:00:00.000000000\",\"2024-11-19T00:00:00.000000000\",\"2024-11-18T00:00:00.000000000\",\"2024-11-15T00:00:00.000000000\",\"2024-11-14T00:00:00.000000000\",\"2024-11-13T00:00:00.000000000\",\"2024-11-12T00:00:00.000000000\",\"2024-11-11T00:00:00.000000000\",\"2024-11-08T00:00:00.000000000\",\"2024-11-07T00:00:00.000000000\",\"2024-11-06T00:00:00.000000000\",\"2024-11-05T00:00:00.000000000\",\"2024-11-04T00:00:00.000000000\",\"2024-11-01T00:00:00.000000000\",\"2024-10-31T00:00:00.000000000\",\"2024-10-30T00:00:00.000000000\",\"2024-10-29T00:00:00.000000000\",\"2024-10-28T00:00:00.000000000\",\"2024-10-25T00:00:00.000000000\",\"2024-10-24T00:00:00.000000000\",\"2024-10-23T00:00:00.000000000\",\"2024-10-22T00:00:00.000000000\",\"2024-10-21T00:00:00.000000000\",\"2024-10-18T00:00:00.000000000\",\"2024-10-17T00:00:00.000000000\",\"2024-10-16T00:00:00.000000000\",\"2024-10-15T00:00:00.000000000\",\"2024-10-14T00:00:00.000000000\",\"2024-10-11T00:00:00.000000000\",\"2024-10-10T00:00:00.000000000\",\"2024-10-09T00:00:00.000000000\",\"2024-10-08T00:00:00.000000000\",\"2024-10-07T00:00:00.000000000\",\"2024-10-04T00:00:00.000000000\",\"2024-10-03T00:00:00.000000000\",\"2024-10-02T00:00:00.000000000\",\"2024-10-01T00:00:00.000000000\",\"2024-09-30T00:00:00.000000000\",\"2024-09-27T00:00:00.000000000\",\"2024-09-26T00:00:00.000000000\",\"2024-09-25T00:00:00.000000000\",\"2024-09-24T00:00:00.000000000\",\"2024-09-23T00:00:00.000000000\",\"2024-09-20T00:00:00.000000000\",\"2024-09-19T00:00:00.000000000\",\"2024-09-18T00:00:00.000000000\",\"2024-09-17T00:00:00.000000000\",\"2024-09-16T00:00:00.000000000\",\"2024-09-13T00:00:00.000000000\",\"2024-09-12T00:00:00.000000000\",\"2024-09-11T00:00:00.000000000\",\"2024-09-10T00:00:00.000000000\",\"2024-09-09T00:00:00.000000000\",\"2024-09-06T00:00:00.000000000\",\"2024-09-05T00:00:00.000000000\",\"2024-09-04T00:00:00.000000000\",\"2024-09-03T00:00:00.000000000\",\"2024-08-30T00:00:00.000000000\",\"2024-08-29T00:00:00.000000000\",\"2024-08-28T00:00:00.000000000\",\"2024-08-27T00:00:00.000000000\",\"2024-08-26T00:00:00.000000000\",\"2024-08-23T00:00:00.000000000\",\"2024-08-22T00:00:00.000000000\",\"2024-08-21T00:00:00.000000000\",\"2024-08-20T00:00:00.000000000\",\"2024-08-19T00:00:00.000000000\",\"2024-08-16T00:00:00.000000000\",\"2024-08-15T00:00:00.000000000\",\"2024-08-14T00:00:00.000000000\",\"2024-08-13T00:00:00.000000000\",\"2024-08-12T00:00:00.000000000\",\"2024-08-09T00:00:00.000000000\",\"2024-08-08T00:00:00.000000000\",\"2024-08-07T00:00:00.000000000\",\"2024-08-06T00:00:00.000000000\",\"2024-08-05T00:00:00.000000000\",\"2024-08-02T00:00:00.000000000\",\"2024-08-01T00:00:00.000000000\",\"2024-07-31T00:00:00.000000000\",\"2024-07-30T00:00:00.000000000\",\"2024-07-29T00:00:00.000000000\",\"2024-07-26T00:00:00.000000000\",\"2024-07-25T00:00:00.000000000\",\"2024-07-24T00:00:00.000000000\",\"2024-07-23T00:00:00.000000000\",\"2024-07-22T00:00:00.000000000\",\"2024-07-19T00:00:00.000000000\",\"2024-07-18T00:00:00.000000000\",\"2024-07-17T00:00:00.000000000\",\"2024-07-16T00:00:00.000000000\",\"2024-07-15T00:00:00.000000000\",\"2024-07-12T00:00:00.000000000\",\"2024-07-11T00:00:00.000000000\",\"2024-07-10T00:00:00.000000000\",\"2024-07-09T00:00:00.000000000\",\"2024-07-08T00:00:00.000000000\",\"2024-07-05T00:00:00.000000000\",\"2024-07-03T00:00:00.000000000\",\"2024-07-02T00:00:00.000000000\",\"2024-07-01T00:00:00.000000000\",\"2024-06-28T00:00:00.000000000\",\"2024-06-27T00:00:00.000000000\",\"2024-06-26T00:00:00.000000000\",\"2024-06-25T00:00:00.000000000\",\"2024-06-24T00:00:00.000000000\",\"2024-06-21T00:00:00.000000000\",\"2024-06-20T00:00:00.000000000\",\"2024-06-18T00:00:00.000000000\",\"2024-06-17T00:00:00.000000000\",\"2024-06-14T00:00:00.000000000\",\"2024-06-13T00:00:00.000000000\",\"2024-06-12T00:00:00.000000000\",\"2024-06-11T00:00:00.000000000\",\"2024-06-10T00:00:00.000000000\",\"2024-06-07T00:00:00.000000000\",\"2024-06-06T00:00:00.000000000\",\"2024-06-05T00:00:00.000000000\",\"2024-06-04T00:00:00.000000000\",\"2024-06-03T00:00:00.000000000\",\"2024-05-31T00:00:00.000000000\",\"2024-05-30T00:00:00.000000000\",\"2024-05-29T00:00:00.000000000\",\"2024-05-28T00:00:00.000000000\",\"2024-05-24T00:00:00.000000000\",\"2024-05-23T00:00:00.000000000\",\"2024-05-22T00:00:00.000000000\",\"2024-05-21T00:00:00.000000000\",\"2024-05-20T00:00:00.000000000\",\"2024-05-17T00:00:00.000000000\",\"2024-05-16T00:00:00.000000000\",\"2024-05-15T00:00:00.000000000\",\"2024-05-14T00:00:00.000000000\",\"2024-05-13T00:00:00.000000000\",\"2024-05-10T00:00:00.000000000\",\"2024-05-09T00:00:00.000000000\",\"2024-05-08T00:00:00.000000000\",\"2024-05-07T00:00:00.000000000\",\"2024-05-06T00:00:00.000000000\",\"2024-05-03T00:00:00.000000000\",\"2024-05-02T00:00:00.000000000\",\"2024-05-01T00:00:00.000000000\",\"2024-04-30T00:00:00.000000000\",\"2024-04-29T00:00:00.000000000\",\"2024-04-26T00:00:00.000000000\",\"2024-04-25T00:00:00.000000000\",\"2024-04-24T00:00:00.000000000\",\"2024-04-23T00:00:00.000000000\",\"2024-04-22T00:00:00.000000000\",\"2024-04-19T00:00:00.000000000\",\"2024-04-18T00:00:00.000000000\",\"2024-04-17T00:00:00.000000000\",\"2024-04-16T00:00:00.000000000\",\"2024-04-15T00:00:00.000000000\",\"2024-04-12T00:00:00.000000000\",\"2024-04-11T00:00:00.000000000\",\"2024-04-10T00:00:00.000000000\",\"2024-04-09T00:00:00.000000000\",\"2024-04-08T00:00:00.000000000\",\"2024-04-05T00:00:00.000000000\",\"2024-04-04T00:00:00.000000000\",\"2024-04-03T00:00:00.000000000\",\"2024-04-02T00:00:00.000000000\",\"2024-04-01T00:00:00.000000000\",\"2024-03-28T00:00:00.000000000\",\"2024-03-27T00:00:00.000000000\",\"2024-03-26T00:00:00.000000000\",\"2024-03-25T00:00:00.000000000\",\"2024-03-22T00:00:00.000000000\",\"2024-03-21T00:00:00.000000000\",\"2024-03-20T00:00:00.000000000\",\"2024-03-19T00:00:00.000000000\",\"2024-03-18T00:00:00.000000000\",\"2024-03-15T00:00:00.000000000\",\"2024-03-14T00:00:00.000000000\",\"2024-03-13T00:00:00.000000000\",\"2024-03-12T00:00:00.000000000\",\"2024-03-11T00:00:00.000000000\",\"2024-03-08T00:00:00.000000000\",\"2024-03-07T00:00:00.000000000\",\"2024-03-06T00:00:00.000000000\",\"2024-03-05T00:00:00.000000000\",\"2024-03-04T00:00:00.000000000\",\"2024-03-01T00:00:00.000000000\",\"2024-02-29T00:00:00.000000000\",\"2024-02-28T00:00:00.000000000\",\"2024-02-27T00:00:00.000000000\",\"2024-02-26T00:00:00.000000000\",\"2024-02-23T00:00:00.000000000\",\"2024-02-22T00:00:00.000000000\",\"2024-02-21T00:00:00.000000000\",\"2024-02-20T00:00:00.000000000\",\"2024-02-16T00:00:00.000000000\",\"2024-02-15T00:00:00.000000000\",\"2024-02-14T00:00:00.000000000\",\"2024-02-13T00:00:00.000000000\",\"2024-02-12T00:00:00.000000000\",\"2024-02-09T00:00:00.000000000\",\"2024-02-08T00:00:00.000000000\",\"2024-02-07T00:00:00.000000000\",\"2024-02-06T00:00:00.000000000\",\"2024-02-05T00:00:00.000000000\",\"2024-02-02T00:00:00.000000000\",\"2024-02-01T00:00:00.000000000\",\"2024-01-31T00:00:00.000000000\",\"2024-01-30T00:00:00.000000000\",\"2024-01-29T00:00:00.000000000\",\"2024-01-26T00:00:00.000000000\",\"2024-01-25T00:00:00.000000000\",\"2024-01-24T00:00:00.000000000\",\"2024-01-23T00:00:00.000000000\",\"2024-01-22T00:00:00.000000000\",\"2024-01-19T00:00:00.000000000\",\"2024-01-18T00:00:00.000000000\",\"2024-01-17T00:00:00.000000000\",\"2024-01-16T00:00:00.000000000\",\"2024-01-12T00:00:00.000000000\",\"2024-01-11T00:00:00.000000000\",\"2024-01-10T00:00:00.000000000\",\"2024-01-09T00:00:00.000000000\",\"2024-01-08T00:00:00.000000000\",\"2024-01-05T00:00:00.000000000\",\"2024-01-04T00:00:00.000000000\",\"2024-01-03T00:00:00.000000000\",\"2024-01-02T00:00:00.000000000\",\"2023-12-29T00:00:00.000000000\",\"2023-12-28T00:00:00.000000000\",\"2023-12-27T00:00:00.000000000\",\"2023-12-26T00:00:00.000000000\",\"2023-12-22T00:00:00.000000000\",\"2023-12-21T00:00:00.000000000\",\"2023-12-20T00:00:00.000000000\",\"2023-12-19T00:00:00.000000000\",\"2023-12-18T00:00:00.000000000\",\"2023-12-15T00:00:00.000000000\",\"2023-12-14T00:00:00.000000000\",\"2023-12-13T00:00:00.000000000\",\"2023-12-12T00:00:00.000000000\",\"2023-12-11T00:00:00.000000000\",\"2023-12-08T00:00:00.000000000\",\"2023-12-07T00:00:00.000000000\",\"2023-12-06T00:00:00.000000000\",\"2023-12-05T00:00:00.000000000\",\"2023-12-04T00:00:00.000000000\",\"2023-12-01T00:00:00.000000000\",\"2023-11-30T00:00:00.000000000\",\"2023-11-29T00:00:00.000000000\",\"2023-11-28T00:00:00.000000000\",\"2023-11-27T00:00:00.000000000\",\"2023-11-24T00:00:00.000000000\",\"2023-11-22T00:00:00.000000000\",\"2023-11-21T00:00:00.000000000\",\"2023-11-20T00:00:00.000000000\",\"2023-11-17T00:00:00.000000000\",\"2023-11-16T00:00:00.000000000\",\"2023-11-15T00:00:00.000000000\",\"2023-11-14T00:00:00.000000000\",\"2023-11-13T00:00:00.000000000\",\"2023-11-10T00:00:00.000000000\",\"2023-11-09T00:00:00.000000000\",\"2023-11-08T00:00:00.000000000\",\"2023-11-07T00:00:00.000000000\",\"2023-11-06T00:00:00.000000000\",\"2023-11-03T00:00:00.000000000\",\"2023-11-02T00:00:00.000000000\",\"2023-11-01T00:00:00.000000000\",\"2023-10-31T00:00:00.000000000\",\"2023-10-30T00:00:00.000000000\",\"2023-10-27T00:00:00.000000000\",\"2023-10-26T00:00:00.000000000\",\"2023-10-25T00:00:00.000000000\",\"2023-10-24T00:00:00.000000000\",\"2023-10-23T00:00:00.000000000\",\"2023-10-20T00:00:00.000000000\",\"2023-10-19T00:00:00.000000000\",\"2023-10-18T00:00:00.000000000\",\"2023-10-17T00:00:00.000000000\",\"2023-10-16T00:00:00.000000000\",\"2023-10-13T00:00:00.000000000\",\"2023-10-12T00:00:00.000000000\",\"2023-10-11T00:00:00.000000000\",\"2023-10-10T00:00:00.000000000\",\"2023-10-09T00:00:00.000000000\",\"2023-10-06T00:00:00.000000000\",\"2023-10-05T00:00:00.000000000\",\"2023-10-04T00:00:00.000000000\",\"2023-10-03T00:00:00.000000000\",\"2023-10-02T00:00:00.000000000\",\"2023-09-29T00:00:00.000000000\",\"2023-09-28T00:00:00.000000000\",\"2023-09-27T00:00:00.000000000\",\"2023-09-26T00:00:00.000000000\",\"2023-09-25T00:00:00.000000000\",\"2023-09-22T00:00:00.000000000\",\"2023-09-21T00:00:00.000000000\",\"2023-09-20T00:00:00.000000000\",\"2023-09-19T00:00:00.000000000\",\"2023-09-18T00:00:00.000000000\",\"2023-09-15T00:00:00.000000000\",\"2023-09-14T00:00:00.000000000\",\"2023-09-13T00:00:00.000000000\",\"2023-09-12T00:00:00.000000000\",\"2023-09-11T00:00:00.000000000\",\"2023-09-08T00:00:00.000000000\",\"2023-09-07T00:00:00.000000000\",\"2023-09-06T00:00:00.000000000\",\"2023-09-05T00:00:00.000000000\",\"2023-09-01T00:00:00.000000000\",\"2023-08-31T00:00:00.000000000\",\"2023-08-30T00:00:00.000000000\",\"2023-08-29T00:00:00.000000000\",\"2023-08-28T00:00:00.000000000\",\"2023-08-25T00:00:00.000000000\",\"2023-08-24T00:00:00.000000000\",\"2023-08-23T00:00:00.000000000\",\"2023-08-22T00:00:00.000000000\",\"2023-08-21T00:00:00.000000000\",\"2023-08-18T00:00:00.000000000\",\"2023-08-17T00:00:00.000000000\",\"2023-08-16T00:00:00.000000000\",\"2023-08-15T00:00:00.000000000\",\"2023-08-14T00:00:00.000000000\",\"2023-08-11T00:00:00.000000000\",\"2023-08-10T00:00:00.000000000\",\"2023-08-09T00:00:00.000000000\",\"2023-08-08T00:00:00.000000000\",\"2023-08-07T00:00:00.000000000\",\"2023-08-04T00:00:00.000000000\",\"2023-08-03T00:00:00.000000000\",\"2023-08-02T00:00:00.000000000\",\"2023-08-01T00:00:00.000000000\",\"2023-07-31T00:00:00.000000000\",\"2023-07-28T00:00:00.000000000\",\"2023-07-27T00:00:00.000000000\",\"2023-07-26T00:00:00.000000000\",\"2023-07-25T00:00:00.000000000\",\"2023-07-24T00:00:00.000000000\",\"2023-07-21T00:00:00.000000000\",\"2023-07-20T00:00:00.000000000\",\"2023-07-19T00:00:00.000000000\",\"2023-07-18T00:00:00.000000000\",\"2023-07-17T00:00:00.000000000\",\"2023-07-14T00:00:00.000000000\",\"2023-07-13T00:00:00.000000000\",\"2023-07-12T00:00:00.000000000\",\"2023-07-11T00:00:00.000000000\",\"2023-07-10T00:00:00.000000000\",\"2023-07-07T00:00:00.000000000\",\"2023-07-06T00:00:00.000000000\",\"2023-07-05T00:00:00.000000000\",\"2023-07-03T00:00:00.000000000\",\"2023-06-30T00:00:00.000000000\",\"2023-06-29T00:00:00.000000000\",\"2023-06-28T00:00:00.000000000\",\"2023-06-27T00:00:00.000000000\",\"2023-06-26T00:00:00.000000000\",\"2023-06-23T00:00:00.000000000\",\"2023-06-22T00:00:00.000000000\",\"2023-06-21T00:00:00.000000000\",\"2023-06-20T00:00:00.000000000\",\"2023-06-16T00:00:00.000000000\",\"2023-06-15T00:00:00.000000000\",\"2023-06-14T00:00:00.000000000\",\"2023-06-13T00:00:00.000000000\",\"2023-06-12T00:00:00.000000000\",\"2023-06-09T00:00:00.000000000\",\"2023-06-08T00:00:00.000000000\",\"2023-06-07T00:00:00.000000000\",\"2023-06-06T00:00:00.000000000\",\"2023-06-05T00:00:00.000000000\",\"2023-06-02T00:00:00.000000000\",\"2023-06-01T00:00:00.000000000\",\"2023-05-31T00:00:00.000000000\",\"2023-05-30T00:00:00.000000000\",\"2023-05-26T00:00:00.000000000\",\"2023-05-25T00:00:00.000000000\",\"2023-05-24T00:00:00.000000000\",\"2023-05-23T00:00:00.000000000\",\"2023-05-22T00:00:00.000000000\",\"2023-05-19T00:00:00.000000000\",\"2023-05-18T00:00:00.000000000\",\"2023-05-17T00:00:00.000000000\",\"2023-05-16T00:00:00.000000000\",\"2023-05-15T00:00:00.000000000\",\"2023-05-12T00:00:00.000000000\",\"2023-05-11T00:00:00.000000000\",\"2023-05-10T00:00:00.000000000\",\"2023-05-09T00:00:00.000000000\",\"2023-05-08T00:00:00.000000000\",\"2023-05-05T00:00:00.000000000\",\"2023-05-04T00:00:00.000000000\",\"2023-05-03T00:00:00.000000000\",\"2023-05-02T00:00:00.000000000\",\"2023-05-01T00:00:00.000000000\",\"2023-04-28T00:00:00.000000000\",\"2023-04-27T00:00:00.000000000\",\"2023-04-26T00:00:00.000000000\",\"2023-04-25T00:00:00.000000000\",\"2023-04-24T00:00:00.000000000\",\"2023-04-21T00:00:00.000000000\",\"2023-04-20T00:00:00.000000000\",\"2023-04-19T00:00:00.000000000\",\"2023-04-18T00:00:00.000000000\",\"2023-04-17T00:00:00.000000000\",\"2023-04-14T00:00:00.000000000\",\"2023-04-13T00:00:00.000000000\",\"2023-04-12T00:00:00.000000000\",\"2023-04-11T00:00:00.000000000\",\"2023-04-10T00:00:00.000000000\",\"2023-04-06T00:00:00.000000000\",\"2023-04-05T00:00:00.000000000\",\"2023-04-04T00:00:00.000000000\",\"2023-04-03T00:00:00.000000000\",\"2023-03-31T00:00:00.000000000\",\"2023-03-30T00:00:00.000000000\",\"2023-03-29T00:00:00.000000000\",\"2023-03-28T00:00:00.000000000\",\"2023-03-27T00:00:00.000000000\",\"2023-03-24T00:00:00.000000000\",\"2023-03-23T00:00:00.000000000\",\"2023-03-22T00:00:00.000000000\",\"2023-03-21T00:00:00.000000000\",\"2023-03-20T00:00:00.000000000\",\"2023-03-17T00:00:00.000000000\",\"2023-03-16T00:00:00.000000000\"],\"y\":{\"dtype\":\"f8\",\"bdata\":\"WDm0yPbak0D6fmq89OyTQKjGSzeJBJRAK4cW2c6iiUBWDi2yna6NQAwCK4cWoJJABFYOLbLfmECkcD0KV7WfQKRwPQrXdZxA+FPjpRuEnUDFILByaM2cQBBYObRIiZJAj8L1KNyUkkB7FK5H4ciPQFyPwvXoZKBAc2iR7XxSjkBEi2zn+\\u002f6KQNv5fmq8qJVAXrpJDILDkUDufD813o6YQNEi2\\u002fn+NrFA+n5qvHSzlkDVeOkmsRqRQNNNYhBYO5NATDeJQWDeiUA3iUFg5WeRQNNNYhBYMo5ACKwcWmScjkArhxbZzrCVQPLSTWIQh5xAoBov3aSPmUAUrkfh+j+QQEJg5dAisZRAXI\\u002fC9agHmEBEi2zn+36MQMdLN4kBA6hAaJHtfD9TkUAEVg4tspaRQGZmZmbmaJRAAAAAAAATk0DjpZvEIOKWQOxRuB6FOZBAF9nO91PukEBzaJHt\\u002fHORQEw3iUHg45JAhxbZznfelUDjpZvEILyOQARWDi2yyo5A2c73U2OwkEA\\u002fNV66yVqQQLTIdr6f0ZNAxSCwcijEokDfT42X7lqUQIGVQ4usK6FA\\u002fKnx0k26pUBvEoPACkGoQDEIrBzay5lASgwCK4eKlUDJdr6fWjqgQJMYBFYOCZBAAAAAAID6kUCmm8QgsF6RQLbz\\u002fdR4RoxAYOXQItswo0BCYOXQImWLQLTIdr6fVYtA2c73U+Njj0B9PzVeOrqXQCuHFtlOX5NAnu+nxkvtjUCBlUOLbLaTQBBYObTI54tA1XjpJjE8hUCyne+nxlKJQPyp8dJNcolADi2yne9MhECsHFpkO3CEQOxRuB6FqJRA\\u002ftR46SYLeEBWDi2ynZiKQDMzMzPzKrpAN4lBYOU2lUAUrkfhemeSQNEi2\\u002fn+Z5hAFK5H4fpIkEBxPQrXowqTQB+F61G4bJ1AL90kBoEyj0BKDAIrB4uUQKabxCAw0JhAJQaBlcNrlUDy0k1iEIWZQHNoke18iZFATDeJQeD2kUDFILByaJ2OQEjhehSus49ATmIQWDkpi0BCYOXQopaQQLbz\\u002fdT4x6VAUrgehWtulECmm8QgMMiTQA4tsp3vR5RAWmQ73095hUBvEoPAytSOQHWTGARWdpRA7FG4HoU\\u002fkUDHSzeJQQ6OQJHtfD81bIlAXrpJDAIslUCsHFpkOz6RQPyp8dLNsJZAK4cW2c45lUCDwMqhRdWNQM3MzMzM241AVOOlm8SrjUC0yHa+n+WhQH9qvHST85tAvp8aL12ZlUB56SYxiBGbQBKDwMohO6NAEoPAyiHenkB7FK5H4eCUQI\\u002fC9ShcD4lABoGVQ4vVi0C4HoXrUa2hQOXQItv5YJNAUI2XbhIGjEDTTWIQWCeMQHsUrkfhnYhAoBov3SQSkkCamZmZmX6QQLKd76dGxJRAz\\u002fdT46VHjkArhxbZTmyQQG8Sg8DKo49AexSuR+GokECHFtnOdyOQQGIQWDm0U5FAKVyPwvV1lEAMAiuHllKSQBBYObTIt4pA+n5qvHRjiUBCYOXQIsyRQCGwcmiRP5FAy6FFtlOXs0BaZDvfz+CTQESLbOf7jI5ApHA9Clf1kEDP91PjpXaSQOxRuB6FY5FAke18PzUhkkD6fmq89AKcQOxRuB4FipBAqvHSTWIykkBSuB6F68aPQL6fGi\\u002fdR5FAtvP91HgHjkApXI\\u002fC9RWVQNv5fmo8oaRAXI\\u002fC9Sgzi0Cq8dJNYiGHQKabxCCwwJBAwcqhRbYPi0BkO99PjQWGQJZDi2znaIJABoGVQ4s2hkCiRbbz\\u002fY6EQPhT46WbAo1Aw\\u002fUoXI9wjUCq8dJNYqKNQNNNYhBYMopAHVpkO99FhEBkO99PjX2IQL6fGi\\u002fdnItA16NwPQoakECq8dJNYqaUQHWTGARWSpJA+FPjpZunmEDJdr6fmsyUQKabxCCwJpNAWDm0yDZBoUCyne+nxjmPQJ7vp8ZLV5JAGy\\u002fdJAYBlEBQjZduEuecQHWTGARWYqBAjZduEoM3hEBg5dAi25uHQBBYObTIypRA46WbxCAJkEDLoUW28weVQFYOLbKdDY9AwcqhRbY1ikBqvHSTmDeZQPYoXI\\u002fCnY1Ac2iR7fyZkkBaZDvfTxyJQIPAyqFFvYpAmpmZmZmEiUBmZmZmZp+DQPp+arx0dYlApHA9CtdNi0AQWDm0yCacQLx0kxgELo5AEFg5tMhTj0Av3SQGAeCUQPyp8dJNkJJAc2iR7dy2skDb+X5qvMSXQAIrhxbZZZFASgwCKwcYkkBGtvP91AOMQArXo3A9QJNA16NwPYpmkEDsUbgehYeNQOXQItv5R5RAhetRuB6UjUCLbOf7qUGGQBfZzvfTbZBA8tJNYhAei0Atsp3vp3yEQK5H4XoUjKFAJzEIrByaj0AEVg4tsgGXQN9PjZduZI1AaJHtfD8YhkAQWDm0yBKVQOf7qfFS4pFApHA9CleilUB7FK5H4Y6OQPCnxku3opVAJQaBlUMukEBmZmZmZvKVQNEi2\\u002fl+f4hAmG4Sg8CgikDP91PjpTqJQDeJQWBlTpRA30+Nl+6skECF61G4HuGOQAIrhxbZeJRAmpmZmZnsj0D+1Hjppk+SQClcj8L1opFAnu+nxst1oUBoke18vyGcQC2yne\\u002fnp6JA5dAi23lRqkAj2\\u002fl+6j6dQBsv3SQGapRAz\\u002fdT46XCiEAAAAAAgA2RQKwcWmQ7y4hAd76fGi\\u002f6jkBxPQrXo2STQPyp8dJNLJBA8tJNYpBckEBOYhBYORaKQESLbOd7lJBAWDm0yHY+iUCsHFpkO4ONQKRwPQrX74RAcT0K16MNjUAX2c73U7OKQPp+arx0MI9AI9v5fmrBh0B7FK5HYZaXQNv5fmq8VJRA2\\u002fl+ajz3mUAhsHJokVqRQAwCK4cWPZNA\\u002fKnx0k2Om0CcxCCwcreOQEoMAivH8aBAiUFg5dArqECyne+nhuW1QFyPwvUo35JA46WbxCCFmUBGtvP91ASWQBKDwMqhjJRAmG4Sg8CrkUCDwMqhRTqWQKAaL92kyppAaJHtfL+3mECgGi\\u002fdJCqiQHe+nxqvaZNAL90kBkGxrEBEi2zn+zmNQL6fGi\\u002fdB5JAfT81XrrrmUC6SQwCK2ySQE5iEFi5wJhA7nw\\u002fNd7dlUDNzMzMTCCVQM3MzMxM9ZlAFK5H4fpMmkA9CtejcESOQIXrUbieEJdARIts53u7l0A\\u002fNV66SeKVQMl2vp8atpZA\\u002fKnx0s0Nl0AZBFYOLWKOQHNoke18x5RABoGVQwsTlUCe76fGS+CSQMP1KFyPYa9ASgwCK4c2lkCcxCCw8hKhQIGVQ4ss3qNARrbz\\u002fTTysEC28\\u002f3UePyZQJhuEoNAypBAO99PjRf4mEAdWmQ7X4GdQE5iEFi5ipZAI9v5furAkEB7FK5H4biXQBKDwMoh+51A8KfGS7fWlkCJQWDlUDCQQJzEILByg45A\\u002ftR46aY5k0BiEFg5NPWSQGIQWDk0LJNAtMh2vh\\u002fplUAzMzMzMwOTQDVeukmMuJFA\\u002fKnx0k22hUBU46WbxKuQQBfZzvdTeYJA9P3UeOmRiUAX2c73U5+NQIGVQ4vsVJdAPQrXo\\u002fCnkkCgGi\\u002fdpP6QQHNoke18zrpAPQrXo3AKmUCoxks3CZqaQIlBYOXQA5ZA9P3UeOnOoECkcD0KV9uWQHe+nxqv\\u002fJFA9P3UeGl1kEAxCKwcWlOaQPT91HhpkZtAAiuHFtmTl0AMAiuHVuymQKwcWmQ70Y1ANV66SQytjUC28\\u002f3UeDOSQM3MzMzMZIRAjZduEoP+iUDJdr6fGiOIQPp+arz0XpBAexSuRyFloED+1HjpJtiSQPT91Hhpf5RAmpmZmZnGk0AQWDm0yFaKQJ7vp8ZLwo9Ax0s3icGzkUDn+6nxUniSQL6fGi9djpBAj8L1KFy5l0BGtvP9VDKQQBKDwMqhoJRA\\u002fKnx0s0EmEBt5\\u002fupsXekQArXo3C9+JFADAIrh5bxlkBmZmZmZgijQMP1KFyPEplAiUFg5dDWjUACK4cW2faOQGDl0CJbNZhADi2ynW+Ll0DsUbgehRyQQClcj8J1l5RASOF6FC4WkECuR+F6FFiWQJZDi2xnt5JAF9nO91PKjEDjpZvEIJqQQMuhRbbzhohAg8DKoUXAjUBI4XoULuaUQGZmZmZmxY9ArBxaZDsnkEBU46WbxAWSQBBYObRIkqFABFYOLTLAlkCLbOf7KWKWQDEIrBza+JRArBxaZDvPi0CiRbbz\\u002fZONQLx0kxgEeZtA0SLb+X6gnEBiEFg5tJSSQIPAyqFF2oxAbef7qbGxqEDZzvdT4xOMQEoMAiuHs4lA8tJNYpChk0AdWmQ732+UQNnO91NjupRAnu+nxkvjjEDD9Shcj4+QQMP1KFyPAJJA46WbxCAgj0C0yHa+H1GYQP7UeOkmZYdAnu+nxkv0i0CTGARWjg6VQCuHFtlOupFA46WbxCBHjUCNl24Sg0SKQO58PzVevZBAEFg5tMgykEA9CtejcP6bQJhuEoPAtY5ARrbz\\u002fdRwkEDsUbgehVGXQBsv3SQGCJxA46WbxCCyikArhxbZzsiYQBSuR+F6kJNADi2yne9HmUC6SQwCKxmLQBkEVg6tzJFA\\u002fKnx0k1FkkD8qfHSzbmZQHnpJjEIaJVAf2q8dFP+pUCuR+F6VKejQGIQWDm065lASOF6FK6Oj0BiEFg5tIeNQJhuEoPAQ4xAd76fGq\\u002f3m0BCYOXQ4oGjQCPb+X7qg5dAy6FFtnOJkEBSuB6F63CLQCUGgZVDCIpARrbz\\u002fdSJiEB7FK5HYQGWQB1aZDvfQI1ADi2yne9IiUDFILByaEiMQLKd76fGApNAcT0K16MyjkBeukkMAmF+QKabxCAw4ZdAJQaBlcO2kEC4HoXrUSGMQEjhehQuFpFAL90kBoGyl0D6fmq8dM6oQKjGSzcJHJhACtejcD2VmUAGgZVDC5iVQJ7vp8Yr\\u002frBA\\u002fKnx0k2RlECoxks3idOWQMHKoUU2UZJAgZVDi+y4mEBt5\\u002fupcdGUQHWTGARWuZJAw\\u002fUoXI8QoEB56SYxiBORQL6fGi\\u002fdWpJAObTIdj74mUBqvHSTGDWXQMUgsHJogrlAqvHSTWLzkEC8dJMYBA2WQDMzMzMz1pNA5\\u002fup8VKTk0BQjZduksKZQLByaJHt9olA9P3UeOkCl0CYbhKDwCqVQKAaL92kAJdA001iEFgqjEDByqFFttyMQIcW2c739JdA\\u002ftR46SZzjkAX2c73U9aXQDVeukmMr5dANV66SQwAjEDD9Shcj6uTQD81XrrJK5ZAg8DKocXWl0Db+X5qvGKVQI2XbhID8JBAbef7qbHaoEACK4cW2fOOQI\\u002fC9Shck5JA+n5qvHR6lEAEVg4tMuqSQJzEILBySpNABFYOLbKRm0DRItv5fp2YQOxRuB6FxYxAF9nO91MYl0CiRbbzfYeUQBfZzvfToZpA5dAi23mhk0D8qfHSTZeRQFpkO9\\u002fP3JBAvp8aL92NkECLbOf7KdmQQBSuR+H6hZJA9ihcj0L+mEB9PzVeOmaaQAAAAACAW5FACtejcL3JkUAEVg4tskOLQHWTGATWAJpA5\\u002fup8VLJkkD4U+Olm0+ZQArXo3A9qpRA4XoUrscVl0BCYOXQoiyYQEw3iUFoNNBABFYOLbJxnUCuR+F6FA2eQJhuEoMAnKRA+n5qvPQto0C28\\u002f3UeCWgQGIQWDk0fpNAhetRuB7mikBMN4lBYBOVQOXQItv5tpJAXI\\u002fC9agkkUBxPQrXI0GSQOF6FK5HxpRASOF6FK7+n0BI4XoUriaKQFyPwvUosI9A8KfGS7cCkUCmm8QgsECSQAIrhxZZdZRArkfhehSPj0DhehSux3KSQPyp8dJNP4lAokW28\\u002f02j0AX2c73U66TQEoMAisHE5FAYhBYObR3k0Dy0k1iEJyTQN9PjZduYJFA46WbxCCamEDLoUW2c5aQQH9qvHSTRZ5AhxbZzvdSlUDwp8ZL95qiQHE9CtcjWJVAWDm0yPZBnECJQWDl0DymQIcW2c73zJVAObTIdr4UjkDb+X5qvCKVQNNNYhDYWJ5AI9v5fupdmUD8qfHSTeebQGiR7Xw\\u002feYxAzczMzMxHi0D8qfHSTaOLQKwcWmS775FAJQaBlUNEiUAnMQisHB+TQKjGSzcJm5VA8KfGSzeIkEA9CtejcN2TQPLSTWIQVZFARIts5\\u002fvRkEBmZmZmZtGHQKrx0k1iMYtAc2iR7XzwiECJQWDl0AmGQL6fGi\\u002fd8JFATDeJQWDJjUAEVg4tstWWQJqZmZmZnZhAdZMYBPbKtECyne+nRmOcQN0kBoEVLphAEoPAyqFQo0BMN4lB4F2XQGq8dJOYTpFAoBov3SRejEAQWDm0yDuXQLpJDAIrYIxAQmDl0CKcjED8qfHSzQSQQBkEVg4tWJVAAAAAAIBMqEBkO99PjYuNQJhuEoNAkpRAZmZmZma6f0D8qfHSzW+RQBfZzvfTz5hABFYOLbIBkECJQWDlUJqVQJMYBFaO0JVAsHJoke2ujUCoxks3icOTQPhT46UbupNA8KfGSzc+mUCe76fGy2yYQOOlm8SgR5RAf2q8dBP0lkBOYhBYuXCXQGIQWDk0XZRAL90kBgGulEDByqFFNteZQH9qvHSTZJBAEFg5tEiVm0Bt5\\u002fup8f2XQBSuR+H6yZVACKwcWmRwlkACK4cWmRmgQF66SQwC4ZhAoBov3WReokDRItv5\\u002foClQGDl0CLboJNA30+Nl24LmUCiRbbz\\u002faiaQHnpJjEIcpJAbxKDwEofmkCq8dJN4vGRQDMzMzOziZJAMzMzMzNWl0CsHFpkO86VQOF6FK5HJJdATDeJQWCqkUBEi2zn+5CWQMP1KFyP0JVAoBov3aS3n0BxPQrXo2GQQPCnxks3cZxAGy\\u002fdJAbclEAfhetROByUQNNNYhDYTZhAukkMAisAkkCNl24SgyCRQNejcD0K\\u002fYhAWmQ738+glED4U+Ol2yC1QPCnxks3C5dAO99PjZcalEB1kxgE1g6ZQNv5fmo8dZNATDeJQWC0kEAZBFYOLX2MQK5H4XoUHIhASgwCK4e9kEAj2\\u002fl+areLQPLSTWKQkZBAwcqhRbbGkUAK16NwPf+GQPp+arx0R4tAy6FFtvPglEA730+NlzKNQB+F61G4+4tAarx0kxgphkAZBFYOLWSLQAwCK4eWT5FADAIrhxbfjEApXI\\u002fC9fmPQLTIdr6fBJFA5\\u002fup8dLWhUBcj8L1KKiKQNv5fmq8E4hAHVpkO99njUBvEoPAysePQFpkO99Pn41AoBov3STdiEA730+Nl4qIQMl2vp8av4lArkfhehQNlEBqvHSTmPGSQL6fGi+d3KNAcT0K16OKkUAnMQisnHeQQPYoXI\\u002fC1olALbKd76dkj0AK16NwPVqYQIlBYOXQxqFAy6FFtnPCm0C0yHa+XwmsQJHtfD81h5JAL90kBgGMmED+1HjppiSUQE5iEFi5BZNA8KfGS7eNkEDjpZvEIE6OQDm0yHa+tIxAJQaBlUNqkEC4HoXrUX+NQKrx0k3iBJlA3SQGgRUckUDwp8ZLN7CbQIGVQ4tsDJNAjZduEoM+kkAOLbKd78eOQG3n+6nxHqpAy6FFtvPGk0CF61G4nmeSQB+F61E4dpBAke18PxUnvEAlBoGVQ3+UQGIQWDk0FZNABFYOLTKlkUCTGARWDleZQFyPwvWo15VAokW28\\u002f3Vk0CwcmiR7W6KQDvfT42XpI9AjZduEgMLkUCe76fGyz2SQIlBYOVQS5FAokW28\\u002f1Vj0DdJAaBlUemQARWDi0yc5NAmG4Sg0AKkEDdJAaBlbqMQDm0yHY+4JNAsHJokW3ZkEC0yHa+Hx2jQJHtfD+1j5hAokW2830DmUAv3SQGAVSVQN9PjZfu15RAsHJoke10kEBeukkMAsGWQHWTGARWK5ZAtvP91PjAoECYbhKDwNCaQLKd76fGYJ5ASOF6FC7DmECuR+F6FEOVQHNoke18ho9ARrbz\\u002fVRrk0BSuB6Fa7mdQClcj8J1mZJAd76fGq81kkAfhetRuPCQQBKDwMqhFZNAvHSTGASAl0BeukkMQhqgQB+F61F4q6ZApHA9Clf2lUBxPQrXo5uPQH9qvHSTepdA+FPjpZsMiUBmZmZmZiGIQAIrhxbZWo9AO99PjReRkEAdWmQ7X56QQM3MzMzMKZFAkxgEVo4HkUCR7Xw\\u002fNWOQQJzEILByWpRAAAAAAADslkAGgZVDiw6MQHnpJjGIIpJALbKd76f\\u002fh0BaZDvfT0KPQAisHFpkNoxAdZMYBNb0kED0\\u002fdR46S+LQA==\"},\"type\":\"scatter\",\"xaxis\":\"x\",\"yaxis\":\"y2\"},{\"name\":\"50 Day MA\",\"x\":[\"2025-04-21T00:00:00.000000000\",\"2025-04-17T00:00:00.000000000\",\"2025-04-16T00:00:00.000000000\",\"2025-04-15T00:00:00.000000000\",\"2025-04-14T00:00:00.000000000\",\"2025-04-11T00:00:00.000000000\",\"2025-04-10T00:00:00.000000000\",\"2025-04-09T00:00:00.000000000\",\"2025-04-08T00:00:00.000000000\",\"2025-04-07T00:00:00.000000000\",\"2025-04-04T00:00:00.000000000\",\"2025-04-03T00:00:00.000000000\",\"2025-04-02T00:00:00.000000000\",\"2025-04-01T00:00:00.000000000\",\"2025-03-31T00:00:00.000000000\",\"2025-03-28T00:00:00.000000000\",\"2025-03-27T00:00:00.000000000\",\"2025-03-26T00:00:00.000000000\",\"2025-03-25T00:00:00.000000000\",\"2025-03-24T00:00:00.000000000\",\"2025-03-21T00:00:00.000000000\",\"2025-03-20T00:00:00.000000000\",\"2025-03-19T00:00:00.000000000\",\"2025-03-18T00:00:00.000000000\",\"2025-03-17T00:00:00.000000000\",\"2025-03-14T00:00:00.000000000\",\"2025-03-13T00:00:00.000000000\",\"2025-03-12T00:00:00.000000000\",\"2025-03-11T00:00:00.000000000\",\"2025-03-10T00:00:00.000000000\",\"2025-03-07T00:00:00.000000000\",\"2025-03-06T00:00:00.000000000\",\"2025-03-05T00:00:00.000000000\",\"2025-03-04T00:00:00.000000000\",\"2025-03-03T00:00:00.000000000\",\"2025-02-28T00:00:00.000000000\",\"2025-02-27T00:00:00.000000000\",\"2025-02-26T00:00:00.000000000\",\"2025-02-25T00:00:00.000000000\",\"2025-02-24T00:00:00.000000000\",\"2025-02-21T00:00:00.000000000\",\"2025-02-20T00:00:00.000000000\",\"2025-02-19T00:00:00.000000000\",\"2025-02-18T00:00:00.000000000\",\"2025-02-14T00:00:00.000000000\",\"2025-02-13T00:00:00.000000000\",\"2025-02-12T00:00:00.000000000\",\"2025-02-11T00:00:00.000000000\",\"2025-02-10T00:00:00.000000000\",\"2025-02-07T00:00:00.000000000\",\"2025-02-06T00:00:00.000000000\",\"2025-02-05T00:00:00.000000000\",\"2025-02-04T00:00:00.000000000\",\"2025-02-03T00:00:00.000000000\",\"2025-01-31T00:00:00.000000000\",\"2025-01-30T00:00:00.000000000\",\"2025-01-29T00:00:00.000000000\",\"2025-01-28T00:00:00.000000000\",\"2025-01-27T00:00:00.000000000\",\"2025-01-24T00:00:00.000000000\",\"2025-01-23T00:00:00.000000000\",\"2025-01-22T00:00:00.000000000\",\"2025-01-21T00:00:00.000000000\",\"2025-01-17T00:00:00.000000000\",\"2025-01-16T00:00:00.000000000\",\"2025-01-15T00:00:00.000000000\",\"2025-01-14T00:00:00.000000000\",\"2025-01-13T00:00:00.000000000\",\"2025-01-10T00:00:00.000000000\",\"2025-01-08T00:00:00.000000000\",\"2025-01-07T00:00:00.000000000\",\"2025-01-06T00:00:00.000000000\",\"2025-01-03T00:00:00.000000000\",\"2025-01-02T00:00:00.000000000\",\"2024-12-31T00:00:00.000000000\",\"2024-12-30T00:00:00.000000000\",\"2024-12-27T00:00:00.000000000\",\"2024-12-26T00:00:00.000000000\",\"2024-12-24T00:00:00.000000000\",\"2024-12-23T00:00:00.000000000\",\"2024-12-20T00:00:00.000000000\",\"2024-12-19T00:00:00.000000000\",\"2024-12-18T00:00:00.000000000\",\"2024-12-17T00:00:00.000000000\",\"2024-12-16T00:00:00.000000000\",\"2024-12-13T00:00:00.000000000\",\"2024-12-12T00:00:00.000000000\",\"2024-12-11T00:00:00.000000000\",\"2024-12-10T00:00:00.000000000\",\"2024-12-09T00:00:00.000000000\",\"2024-12-06T00:00:00.000000000\",\"2024-12-05T00:00:00.000000000\",\"2024-12-04T00:00:00.000000000\",\"2024-12-03T00:00:00.000000000\",\"2024-12-02T00:00:00.000000000\",\"2024-11-29T00:00:00.000000000\",\"2024-11-27T00:00:00.000000000\",\"2024-11-26T00:00:00.000000000\",\"2024-11-25T00:00:00.000000000\",\"2024-11-22T00:00:00.000000000\",\"2024-11-21T00:00:00.000000000\",\"2024-11-20T00:00:00.000000000\",\"2024-11-19T00:00:00.000000000\",\"2024-11-18T00:00:00.000000000\",\"2024-11-15T00:00:00.000000000\",\"2024-11-14T00:00:00.000000000\",\"2024-11-13T00:00:00.000000000\",\"2024-11-12T00:00:00.000000000\",\"2024-11-11T00:00:00.000000000\",\"2024-11-08T00:00:00.000000000\",\"2024-11-07T00:00:00.000000000\",\"2024-11-06T00:00:00.000000000\",\"2024-11-05T00:00:00.000000000\",\"2024-11-04T00:00:00.000000000\",\"2024-11-01T00:00:00.000000000\",\"2024-10-31T00:00:00.000000000\",\"2024-10-30T00:00:00.000000000\",\"2024-10-29T00:00:00.000000000\",\"2024-10-28T00:00:00.000000000\",\"2024-10-25T00:00:00.000000000\",\"2024-10-24T00:00:00.000000000\",\"2024-10-23T00:00:00.000000000\",\"2024-10-22T00:00:00.000000000\",\"2024-10-21T00:00:00.000000000\",\"2024-10-18T00:00:00.000000000\",\"2024-10-17T00:00:00.000000000\",\"2024-10-16T00:00:00.000000000\",\"2024-10-15T00:00:00.000000000\",\"2024-10-14T00:00:00.000000000\",\"2024-10-11T00:00:00.000000000\",\"2024-10-10T00:00:00.000000000\",\"2024-10-09T00:00:00.000000000\",\"2024-10-08T00:00:00.000000000\",\"2024-10-07T00:00:00.000000000\",\"2024-10-04T00:00:00.000000000\",\"2024-10-03T00:00:00.000000000\",\"2024-10-02T00:00:00.000000000\",\"2024-10-01T00:00:00.000000000\",\"2024-09-30T00:00:00.000000000\",\"2024-09-27T00:00:00.000000000\",\"2024-09-26T00:00:00.000000000\",\"2024-09-25T00:00:00.000000000\",\"2024-09-24T00:00:00.000000000\",\"2024-09-23T00:00:00.000000000\",\"2024-09-20T00:00:00.000000000\",\"2024-09-19T00:00:00.000000000\",\"2024-09-18T00:00:00.000000000\",\"2024-09-17T00:00:00.000000000\",\"2024-09-16T00:00:00.000000000\",\"2024-09-13T00:00:00.000000000\",\"2024-09-12T00:00:00.000000000\",\"2024-09-11T00:00:00.000000000\",\"2024-09-10T00:00:00.000000000\",\"2024-09-09T00:00:00.000000000\",\"2024-09-06T00:00:00.000000000\",\"2024-09-05T00:00:00.000000000\",\"2024-09-04T00:00:00.000000000\",\"2024-09-03T00:00:00.000000000\",\"2024-08-30T00:00:00.000000000\",\"2024-08-29T00:00:00.000000000\",\"2024-08-28T00:00:00.000000000\",\"2024-08-27T00:00:00.000000000\",\"2024-08-26T00:00:00.000000000\",\"2024-08-23T00:00:00.000000000\",\"2024-08-22T00:00:00.000000000\",\"2024-08-21T00:00:00.000000000\",\"2024-08-20T00:00:00.000000000\",\"2024-08-19T00:00:00.000000000\",\"2024-08-16T00:00:00.000000000\",\"2024-08-15T00:00:00.000000000\",\"2024-08-14T00:00:00.000000000\",\"2024-08-13T00:00:00.000000000\",\"2024-08-12T00:00:00.000000000\",\"2024-08-09T00:00:00.000000000\",\"2024-08-08T00:00:00.000000000\",\"2024-08-07T00:00:00.000000000\",\"2024-08-06T00:00:00.000000000\",\"2024-08-05T00:00:00.000000000\",\"2024-08-02T00:00:00.000000000\",\"2024-08-01T00:00:00.000000000\",\"2024-07-31T00:00:00.000000000\",\"2024-07-30T00:00:00.000000000\",\"2024-07-29T00:00:00.000000000\",\"2024-07-26T00:00:00.000000000\",\"2024-07-25T00:00:00.000000000\",\"2024-07-24T00:00:00.000000000\",\"2024-07-23T00:00:00.000000000\",\"2024-07-22T00:00:00.000000000\",\"2024-07-19T00:00:00.000000000\",\"2024-07-18T00:00:00.000000000\",\"2024-07-17T00:00:00.000000000\",\"2024-07-16T00:00:00.000000000\",\"2024-07-15T00:00:00.000000000\",\"2024-07-12T00:00:00.000000000\",\"2024-07-11T00:00:00.000000000\",\"2024-07-10T00:00:00.000000000\",\"2024-07-09T00:00:00.000000000\",\"2024-07-08T00:00:00.000000000\",\"2024-07-05T00:00:00.000000000\",\"2024-07-03T00:00:00.000000000\",\"2024-07-02T00:00:00.000000000\",\"2024-07-01T00:00:00.000000000\",\"2024-06-28T00:00:00.000000000\",\"2024-06-27T00:00:00.000000000\",\"2024-06-26T00:00:00.000000000\",\"2024-06-25T00:00:00.000000000\",\"2024-06-24T00:00:00.000000000\",\"2024-06-21T00:00:00.000000000\",\"2024-06-20T00:00:00.000000000\",\"2024-06-18T00:00:00.000000000\",\"2024-06-17T00:00:00.000000000\",\"2024-06-14T00:00:00.000000000\",\"2024-06-13T00:00:00.000000000\",\"2024-06-12T00:00:00.000000000\",\"2024-06-11T00:00:00.000000000\",\"2024-06-10T00:00:00.000000000\",\"2024-06-07T00:00:00.000000000\",\"2024-06-06T00:00:00.000000000\",\"2024-06-05T00:00:00.000000000\",\"2024-06-04T00:00:00.000000000\",\"2024-06-03T00:00:00.000000000\",\"2024-05-31T00:00:00.000000000\",\"2024-05-30T00:00:00.000000000\",\"2024-05-29T00:00:00.000000000\",\"2024-05-28T00:00:00.000000000\",\"2024-05-24T00:00:00.000000000\",\"2024-05-23T00:00:00.000000000\",\"2024-05-22T00:00:00.000000000\",\"2024-05-21T00:00:00.000000000\",\"2024-05-20T00:00:00.000000000\",\"2024-05-17T00:00:00.000000000\",\"2024-05-16T00:00:00.000000000\",\"2024-05-15T00:00:00.000000000\",\"2024-05-14T00:00:00.000000000\",\"2024-05-13T00:00:00.000000000\",\"2024-05-10T00:00:00.000000000\",\"2024-05-09T00:00:00.000000000\",\"2024-05-08T00:00:00.000000000\",\"2024-05-07T00:00:00.000000000\",\"2024-05-06T00:00:00.000000000\",\"2024-05-03T00:00:00.000000000\",\"2024-05-02T00:00:00.000000000\",\"2024-05-01T00:00:00.000000000\",\"2024-04-30T00:00:00.000000000\",\"2024-04-29T00:00:00.000000000\",\"2024-04-26T00:00:00.000000000\",\"2024-04-25T00:00:00.000000000\",\"2024-04-24T00:00:00.000000000\",\"2024-04-23T00:00:00.000000000\",\"2024-04-22T00:00:00.000000000\",\"2024-04-19T00:00:00.000000000\",\"2024-04-18T00:00:00.000000000\",\"2024-04-17T00:00:00.000000000\",\"2024-04-16T00:00:00.000000000\",\"2024-04-15T00:00:00.000000000\",\"2024-04-12T00:00:00.000000000\",\"2024-04-11T00:00:00.000000000\",\"2024-04-10T00:00:00.000000000\",\"2024-04-09T00:00:00.000000000\",\"2024-04-08T00:00:00.000000000\",\"2024-04-05T00:00:00.000000000\",\"2024-04-04T00:00:00.000000000\",\"2024-04-03T00:00:00.000000000\",\"2024-04-02T00:00:00.000000000\",\"2024-04-01T00:00:00.000000000\",\"2024-03-28T00:00:00.000000000\",\"2024-03-27T00:00:00.000000000\",\"2024-03-26T00:00:00.000000000\",\"2024-03-25T00:00:00.000000000\",\"2024-03-22T00:00:00.000000000\",\"2024-03-21T00:00:00.000000000\",\"2024-03-20T00:00:00.000000000\",\"2024-03-19T00:00:00.000000000\",\"2024-03-18T00:00:00.000000000\",\"2024-03-15T00:00:00.000000000\",\"2024-03-14T00:00:00.000000000\",\"2024-03-13T00:00:00.000000000\",\"2024-03-12T00:00:00.000000000\",\"2024-03-11T00:00:00.000000000\",\"2024-03-08T00:00:00.000000000\",\"2024-03-07T00:00:00.000000000\",\"2024-03-06T00:00:00.000000000\",\"2024-03-05T00:00:00.000000000\",\"2024-03-04T00:00:00.000000000\",\"2024-03-01T00:00:00.000000000\",\"2024-02-29T00:00:00.000000000\",\"2024-02-28T00:00:00.000000000\",\"2024-02-27T00:00:00.000000000\",\"2024-02-26T00:00:00.000000000\",\"2024-02-23T00:00:00.000000000\",\"2024-02-22T00:00:00.000000000\",\"2024-02-21T00:00:00.000000000\",\"2024-02-20T00:00:00.000000000\",\"2024-02-16T00:00:00.000000000\",\"2024-02-15T00:00:00.000000000\",\"2024-02-14T00:00:00.000000000\",\"2024-02-13T00:00:00.000000000\",\"2024-02-12T00:00:00.000000000\",\"2024-02-09T00:00:00.000000000\",\"2024-02-08T00:00:00.000000000\",\"2024-02-07T00:00:00.000000000\",\"2024-02-06T00:00:00.000000000\",\"2024-02-05T00:00:00.000000000\",\"2024-02-02T00:00:00.000000000\",\"2024-02-01T00:00:00.000000000\",\"2024-01-31T00:00:00.000000000\",\"2024-01-30T00:00:00.000000000\",\"2024-01-29T00:00:00.000000000\",\"2024-01-26T00:00:00.000000000\",\"2024-01-25T00:00:00.000000000\",\"2024-01-24T00:00:00.000000000\",\"2024-01-23T00:00:00.000000000\",\"2024-01-22T00:00:00.000000000\",\"2024-01-19T00:00:00.000000000\",\"2024-01-18T00:00:00.000000000\",\"2024-01-17T00:00:00.000000000\",\"2024-01-16T00:00:00.000000000\",\"2024-01-12T00:00:00.000000000\",\"2024-01-11T00:00:00.000000000\",\"2024-01-10T00:00:00.000000000\",\"2024-01-09T00:00:00.000000000\",\"2024-01-08T00:00:00.000000000\",\"2024-01-05T00:00:00.000000000\",\"2024-01-04T00:00:00.000000000\",\"2024-01-03T00:00:00.000000000\",\"2024-01-02T00:00:00.000000000\",\"2023-12-29T00:00:00.000000000\",\"2023-12-28T00:00:00.000000000\",\"2023-12-27T00:00:00.000000000\",\"2023-12-26T00:00:00.000000000\",\"2023-12-22T00:00:00.000000000\",\"2023-12-21T00:00:00.000000000\",\"2023-12-20T00:00:00.000000000\",\"2023-12-19T00:00:00.000000000\",\"2023-12-18T00:00:00.000000000\",\"2023-12-15T00:00:00.000000000\",\"2023-12-14T00:00:00.000000000\",\"2023-12-13T00:00:00.000000000\",\"2023-12-12T00:00:00.000000000\",\"2023-12-11T00:00:00.000000000\",\"2023-12-08T00:00:00.000000000\",\"2023-12-07T00:00:00.000000000\",\"2023-12-06T00:00:00.000000000\",\"2023-12-05T00:00:00.000000000\",\"2023-12-04T00:00:00.000000000\",\"2023-12-01T00:00:00.000000000\",\"2023-11-30T00:00:00.000000000\",\"2023-11-29T00:00:00.000000000\",\"2023-11-28T00:00:00.000000000\",\"2023-11-27T00:00:00.000000000\",\"2023-11-24T00:00:00.000000000\",\"2023-11-22T00:00:00.000000000\",\"2023-11-21T00:00:00.000000000\",\"2023-11-20T00:00:00.000000000\",\"2023-11-17T00:00:00.000000000\",\"2023-11-16T00:00:00.000000000\",\"2023-11-15T00:00:00.000000000\",\"2023-11-14T00:00:00.000000000\",\"2023-11-13T00:00:00.000000000\",\"2023-11-10T00:00:00.000000000\",\"2023-11-09T00:00:00.000000000\",\"2023-11-08T00:00:00.000000000\",\"2023-11-07T00:00:00.000000000\",\"2023-11-06T00:00:00.000000000\",\"2023-11-03T00:00:00.000000000\",\"2023-11-02T00:00:00.000000000\",\"2023-11-01T00:00:00.000000000\",\"2023-10-31T00:00:00.000000000\",\"2023-10-30T00:00:00.000000000\",\"2023-10-27T00:00:00.000000000\",\"2023-10-26T00:00:00.000000000\",\"2023-10-25T00:00:00.000000000\",\"2023-10-24T00:00:00.000000000\",\"2023-10-23T00:00:00.000000000\",\"2023-10-20T00:00:00.000000000\",\"2023-10-19T00:00:00.000000000\",\"2023-10-18T00:00:00.000000000\",\"2023-10-17T00:00:00.000000000\",\"2023-10-16T00:00:00.000000000\",\"2023-10-13T00:00:00.000000000\",\"2023-10-12T00:00:00.000000000\",\"2023-10-11T00:00:00.000000000\",\"2023-10-10T00:00:00.000000000\",\"2023-10-09T00:00:00.000000000\",\"2023-10-06T00:00:00.000000000\",\"2023-10-05T00:00:00.000000000\",\"2023-10-04T00:00:00.000000000\",\"2023-10-03T00:00:00.000000000\",\"2023-10-02T00:00:00.000000000\",\"2023-09-29T00:00:00.000000000\",\"2023-09-28T00:00:00.000000000\",\"2023-09-27T00:00:00.000000000\",\"2023-09-26T00:00:00.000000000\",\"2023-09-25T00:00:00.000000000\",\"2023-09-22T00:00:00.000000000\",\"2023-09-21T00:00:00.000000000\",\"2023-09-20T00:00:00.000000000\",\"2023-09-19T00:00:00.000000000\",\"2023-09-18T00:00:00.000000000\",\"2023-09-15T00:00:00.000000000\",\"2023-09-14T00:00:00.000000000\",\"2023-09-13T00:00:00.000000000\",\"2023-09-12T00:00:00.000000000\",\"2023-09-11T00:00:00.000000000\",\"2023-09-08T00:00:00.000000000\",\"2023-09-07T00:00:00.000000000\",\"2023-09-06T00:00:00.000000000\",\"2023-09-05T00:00:00.000000000\",\"2023-09-01T00:00:00.000000000\",\"2023-08-31T00:00:00.000000000\",\"2023-08-30T00:00:00.000000000\",\"2023-08-29T00:00:00.000000000\",\"2023-08-28T00:00:00.000000000\",\"2023-08-25T00:00:00.000000000\",\"2023-08-24T00:00:00.000000000\",\"2023-08-23T00:00:00.000000000\",\"2023-08-22T00:00:00.000000000\",\"2023-08-21T00:00:00.000000000\",\"2023-08-18T00:00:00.000000000\",\"2023-08-17T00:00:00.000000000\",\"2023-08-16T00:00:00.000000000\",\"2023-08-15T00:00:00.000000000\",\"2023-08-14T00:00:00.000000000\",\"2023-08-11T00:00:00.000000000\",\"2023-08-10T00:00:00.000000000\",\"2023-08-09T00:00:00.000000000\",\"2023-08-08T00:00:00.000000000\",\"2023-08-07T00:00:00.000000000\",\"2023-08-04T00:00:00.000000000\",\"2023-08-03T00:00:00.000000000\",\"2023-08-02T00:00:00.000000000\",\"2023-08-01T00:00:00.000000000\",\"2023-07-31T00:00:00.000000000\",\"2023-07-28T00:00:00.000000000\",\"2023-07-27T00:00:00.000000000\",\"2023-07-26T00:00:00.000000000\",\"2023-07-25T00:00:00.000000000\",\"2023-07-24T00:00:00.000000000\",\"2023-07-21T00:00:00.000000000\",\"2023-07-20T00:00:00.000000000\",\"2023-07-19T00:00:00.000000000\",\"2023-07-18T00:00:00.000000000\",\"2023-07-17T00:00:00.000000000\",\"2023-07-14T00:00:00.000000000\",\"2023-07-13T00:00:00.000000000\",\"2023-07-12T00:00:00.000000000\",\"2023-07-11T00:00:00.000000000\",\"2023-07-10T00:00:00.000000000\",\"2023-07-07T00:00:00.000000000\",\"2023-07-06T00:00:00.000000000\",\"2023-07-05T00:00:00.000000000\",\"2023-07-03T00:00:00.000000000\",\"2023-06-30T00:00:00.000000000\",\"2023-06-29T00:00:00.000000000\",\"2023-06-28T00:00:00.000000000\",\"2023-06-27T00:00:00.000000000\",\"2023-06-26T00:00:00.000000000\",\"2023-06-23T00:00:00.000000000\",\"2023-06-22T00:00:00.000000000\",\"2023-06-21T00:00:00.000000000\",\"2023-06-20T00:00:00.000000000\",\"2023-06-16T00:00:00.000000000\",\"2023-06-15T00:00:00.000000000\",\"2023-06-14T00:00:00.000000000\",\"2023-06-13T00:00:00.000000000\",\"2023-06-12T00:00:00.000000000\",\"2023-06-09T00:00:00.000000000\",\"2023-06-08T00:00:00.000000000\",\"2023-06-07T00:00:00.000000000\",\"2023-06-06T00:00:00.000000000\",\"2023-06-05T00:00:00.000000000\",\"2023-06-02T00:00:00.000000000\",\"2023-06-01T00:00:00.000000000\",\"2023-05-31T00:00:00.000000000\",\"2023-05-30T00:00:00.000000000\",\"2023-05-26T00:00:00.000000000\",\"2023-05-25T00:00:00.000000000\",\"2023-05-24T00:00:00.000000000\",\"2023-05-23T00:00:00.000000000\",\"2023-05-22T00:00:00.000000000\",\"2023-05-19T00:00:00.000000000\",\"2023-05-18T00:00:00.000000000\",\"2023-05-17T00:00:00.000000000\",\"2023-05-16T00:00:00.000000000\",\"2023-05-15T00:00:00.000000000\",\"2023-05-12T00:00:00.000000000\",\"2023-05-11T00:00:00.000000000\",\"2023-05-10T00:00:00.000000000\",\"2023-05-09T00:00:00.000000000\",\"2023-05-08T00:00:00.000000000\",\"2023-05-05T00:00:00.000000000\",\"2023-05-04T00:00:00.000000000\",\"2023-05-03T00:00:00.000000000\",\"2023-05-02T00:00:00.000000000\",\"2023-05-01T00:00:00.000000000\",\"2023-04-28T00:00:00.000000000\",\"2023-04-27T00:00:00.000000000\",\"2023-04-26T00:00:00.000000000\",\"2023-04-25T00:00:00.000000000\",\"2023-04-24T00:00:00.000000000\",\"2023-04-21T00:00:00.000000000\",\"2023-04-20T00:00:00.000000000\",\"2023-04-19T00:00:00.000000000\",\"2023-04-18T00:00:00.000000000\",\"2023-04-17T00:00:00.000000000\",\"2023-04-14T00:00:00.000000000\",\"2023-04-13T00:00:00.000000000\",\"2023-04-12T00:00:00.000000000\",\"2023-04-11T00:00:00.000000000\",\"2023-04-10T00:00:00.000000000\",\"2023-04-06T00:00:00.000000000\",\"2023-04-05T00:00:00.000000000\",\"2023-04-04T00:00:00.000000000\",\"2023-04-03T00:00:00.000000000\",\"2023-03-31T00:00:00.000000000\",\"2023-03-30T00:00:00.000000000\",\"2023-03-29T00:00:00.000000000\",\"2023-03-28T00:00:00.000000000\",\"2023-03-27T00:00:00.000000000\",\"2023-03-24T00:00:00.000000000\",\"2023-03-23T00:00:00.000000000\",\"2023-03-22T00:00:00.000000000\",\"2023-03-21T00:00:00.000000000\",\"2023-03-20T00:00:00.000000000\",\"2023-03-17T00:00:00.000000000\",\"2023-03-16T00:00:00.000000000\"],\"y\":{\"dtype\":\"f8\",\"bdata\":\"aJHtfD8Nb0ArqRPQRBhvQMFbIEHxJ29AjZduEoM4b0Bv8IXJVEVvQOpztRX7T29AdCSX\\u002f5Beb0CSXP5D+l1vQHpYqDXNV29AveMUHclZb0CwA+eMKFlvQLK\\u002f7J48WG9A7cA5I0pLb0Dsnjws1DpvQLuWkA96Km9ATFmGONYZb0DRItv5fgpvQI0G8BZI+G5AMzMzMzPjbkCXQ4ts589uQNdW7C+7v25ASS7\\u002fIf2ybkBZhjjWxaVuQCbkg57Nkm5AkzoBTYSBbkBVwaikTmxuQBI2PL1SWm5Aj1N0JJdLbkCdEaW9wTtuQI91cRsNLG5APptVn6sVbkAENBE2PP1tQP1l9+Rh7W1A2qz6XG3ZbUCgibDh6cltQBwN4C2QvG1A0bNZ9bmubUCoNc07TqFtQKgT0ETYkG1AI0p7gy+AbUAV+8vuyWttQGhv8IXJXG1A52or9pdJbUASFD\\u002fG3DVtQEGk374OIG1A7nw\\u002fNV4KbUAg0m9fB\\u002fZsQAHeAgmK42xAl\\u002f+QfvvSbEDA7J48LMRsQEs3iUFgsWxA4QuTqYKdbEAowoanV35sQND3U+OlW2xAftCzWfU5bEAv3SQGgRlsQC7\\u002fIf32+WtAZvfkYaHua0CvA+eMKOVrQGdmZmZm3mtAAk2EDU\\u002fXa0BsCfmgZ89rQKLWNO84yWtArWnecYq+a0AfhetRuLJrQH2utmJ\\u002fqWtAPujZrPqga0DxhclUwZhrQPFjzF1LlGtA+KBns+qPa0AJaCJseIprQEHPZtXnhmtAN6s+V1uNa0DYxW00gJNrQO0vuycPm2tA5tAi2\\u002fmia0DsL7snD6trQB\\u002fSb18HsmtAgQTFjzG3a0Du68A5I75rQK+UZYhjxWtAescpOpLLa0BEHOviNtJrQAg9m1Wf12tAkH77OnDWa0BUwaikTtRrQN4CCYofz2tAyHa+nxrHa0DqBDQRNsBrQBTyQc9muWtAAd4CCYqza0B8YTJVMKprQKjGSzeJoWtARGlv8IWZa0AHX5hMFZRrQCigibDhjWtAVAWjkjqFa0BvgQTFj31rQKpgVFIndGtAysNCrWlua0DGjzF3LWlrQIPAyqFFYmtAc9cS8kFfa0Ac6+I2GlxrQHe+nxovWWtAWTm0yHZWa0DufD81XlJrQAxGJXUCTmtAzojS3uBHa0Bp3nGKjkBrQFCNl24SN2tAvsEXJlMta0AshxbZziNrQD2bVZ+rHWtAjzF3LSEXa0AkBoGVQw9rQMWPMXctCWtA1sVtNIADa0ChZ7Pqc\\u002flqQD55WKg17WpAcoqO5PLfakAkBoGVQ89qQFNSJ6CJtGpAYTJVMCqZakD0H9JvX39qQNMA3gIJZmpABoGVQ4tIakBemEwVjCpqQKz6XG3FCmpAtmJ\\u002f2T3taUAiH\\u002fRsVtFpQG54eqUst2lAc2iR7XybaUDWVuwvu4NpQL8wmSoYbWlAZapgVFJXaUAQx7q4jT5pQOriNhrAJ2lAodY07zgRaUC30QDeAvloQEMc6+I24mhA0NVW7C\\u002fLaEA+xty1hLRoQEcDeAsknGhAeekmMQiEaEA8cM6I0mpoQOziNhrAU2hAQmDl0CI7aEBjzF1LyCNoQKBns+pzCWhATvOOU3TwZ0DRItv5ftpnQACRfvs6xGdAOiNKe4OvZ0DuDb4wmZpnQDJ3LSEfiGdAsHJoke10Z0D8qfHSTWJnQLn8h\\u002fTbT2dA0m9fB849Z0AzVTAqqStnQDcawFsgGWdAWKg1zTsGZ0BOQBNhw\\u002fNmQHvysFBr4mZAmggbnl7RZkCHp1fKMsBmQLMMcayLr2ZAdSSX\\u002f5CeZkA9m1Wfq41mQDNVMCqpe2ZAih9j7lpqZkBCz2bV51pmQB3J5T+kS2ZAx7q4jQY8ZkAhH\\u002fRsVi1mQFfsL7snI2ZARrbz\\u002fdQYZkBDPujZrBJmQIfJVMGoCGZAyLq4jQb8ZUAFNBE2PO1lQHqlLEMc32VAsr\\u002fsnjzQZUAN4C2QoMBlQFR0JJf\\u002fsGVA4L4OnDOmZUDChqdXypplQD2bVZ+rkWVAq2BUUieIZUBFaW\\u002fwhX1lQKTfvg6cb2VAEqW9wRdiZUDnHafoSFZlQB3J5T+kS2VAnFWfq61EZUDo+6nx0j1lQD7o2az6OGVA07zjFB09ZUBFR3L5D0FlQLfRAN4CRWVA6+I2GsBHZUBAE2HD00tlQBI2PL1SUmVA2YFzRpRaZUAxmSoYlWBlQKz6XG3FZmVA4JwRpb1tZUDfT42XbnZlQI4G8BZIgGVAqoJRSZ2MZUB3vp8aL5llQBRhw9MrpWVAe6UsQxyzZUDzQc9m1b9lQCpcj8L1zGVAPL1SliHaZUDk8h\\u002fSb+dlQIc41sVt9GVAPb1SliECZkBSSZ2AJhJmQM\\u002fVVuwvI2ZAVFInoIk0ZkCDwMqhRUZmQIQvTKYKVmZAObTIdr5jZkBn1edqK3JmQOyePCzUgmZAvAUSFD+SZkC2FfvL7p1mQDzfT42XrmZAiKdXyjLAZkCbmZmZmdFmQKO0N\\u002fjC4GZAPnlYqDXxZkB88rBQa\\u002f5mQBMUP8bcCWdAhC9MpgoWZ0AIPZtVnx9nQLaEfNCzKWdA1ZrmHac0Z0B5CyQofkBnQMPTK2UZSmdA0ZFc\\u002fkNWZ0CeoiO5\\u002fGNnQIc41sVtcGdAHxZqTfN6Z0Ak2\\u002fl+aoRnQC9uowG8hWdAWyBB8WOIZ0Au\\u002fyH99olnQCxlGeJYi2dA5MeYu5aMZ0Abnl4py4xnQMPTK2UZjmdAGuJYF7eRZ0CgPCzUmpJnQGsr9pfdk2dAzTtO0ZGUZ0CQwvUoXJNnQOziNhrAk2dAvXSTGASKZ0CUGARWDoFnQMx\\u002fSL99dWdAix9j7lpqZ0AdyeU\\u002fpFtnQHL5D+m3S2dA\\u002fyH99nU8Z0C2FfvL7i1nQIZa07zjHGdAaERpb\\u002fAJZ0DU3uALk\\u002fVmQM87TtGR4GZAWMoyxLHKZkCCc0aU9rZmQPOOU3Qko2ZAuycPC7WOZkDLf0i\\u002ffXlmQMDKoUW2Y2ZAryXkg55RZkA4+MJkqjxmQHuDL0ymJmZAsS5uowEQZkCPU3Qkl\\u002ftlQDPEsS5u52VAQWDl0CLXZUAFgZVDi8hlQEIc6+I2umVAqYJRSZ2sZUAjSnuDL6BlQN8tkKD4kWVA1VbsL7uDZUAmBoGVQ3dlQOqVsgxxaGVAHcnlP6RXZUClvcEXJkdlQCPb+X5qOGVAak3zjlMoZUCSqYJRSRVlQHbgnBGlAWVASL99HTjvZEAU0ETY8NxkQFH8GHPXymRAJLn8h\\u002fS3ZEDyQc9m1aNkQErqBDQRjmRAbcX+snt6ZEDlFB3J5WNkQFwgQfFjTGRA+u3rwDkzZEB4nKIjuRhkQBB6Nqs+B2RA3+ALk6n2Y0BPHhZqTedjQDeJQWDl2GNABRIUP8bMY0DNO07RkcBjQKz6XG3FsmNAUgWjkjqlY0ApyxDHuphjQPGFyVTBjGNArthfdk+CY0D0\\u002fdR46XJjQAU0ETY8ZWNAILByaJFVY0AsQxzr4kZjQAjOGVHaN2NAorQ3+MIoY0CoV8oyxBljQLwFEhQ\\u002fCmNAGJXUCWj6YkDNXUvIB+1iQCBB8WPM4WJAXwfOGVHWYkAE54wo7cliQOkmMQisvGJAz2bV52qvYkA+CtejcKFiQCZTBaOSkmJA1jTvOEWDYkAk2\\u002fl+anRiQPQf0m9fZ2JAACL99nVcYkC+UpYhjlFiQGRd3EYDSGJACYofY+4+YkCDUUmdgDZiQE0VjErqMGJAibDh6ZUqYkBAE2HD0yNiQAVWDi2yHWJAToQNT68YYkCCBMWPMRNiQBE2PL1SDmJAg1FJnYAKYkC7SQwCKwdiQAg9m1WfA2JAKcsQx7oAYkDXNO84Rf9hQLpJDAIr\\u002f2FAp1fKMsT9YUBRuB6F6\\u002f1hQJrmHafo\\u002fGFAeqUsQxz7YUAcnl4py\\u002fhhQAxGJXUC9mFAD5wzorTzYUCNSuoENPFhQKs+V1ux72FA8\\u002f3UeOnuYUDLEMe6uO1hQCQofoy562FAw4anV8ruYUDarPpcbfFhQOGcEaW99WFAxbEubqP5YUDcaABvgfxhQFXBqKROAGJAQKTfvg4EYkCIY13cRgdiQHulLEMcC2JA8BZIUPwMYkDi6ZWyDA1iQKCrrdhfDmJAbHh6pSwPYkCyne+nxg9iQHNoke18D2JAEem3rwMPYkAKaCJseA5iQOF6FK5HDWJAjnVxGw0MYkD4MeauJQhiQKW9wRcmA2JAsJRliGP9YUBqAG+BBPVhQGMQWDm07GFAu9qK\\u002fWXjYUALJCh+jNlhQES28\\u002f3U0GFA3GgAb4HIYUCBJsKGp79hQCUGgZVDt2FAwRcmUwWvYUBzRpT2BqdhQBIUP8bcnWFAlrIMcayTYUB90LNZ9YlhQHPXEvJBf2FA7MA5I0pzYUBq3nGKjmhhQPkx5q4lYGFAE2HD0ytZYUAyxLEublNhQBHHuriNTmFAIR\\u002f0bFZJYUD3l92Th0VhQJQYBFYOQWFAvjCZKhg9YUA\\u002fpN++DjhhQBZqTfOOM2FApgpGJXUuYUAiH\\u002fRsVilhQO3AOSNKI2FAZDvfT40bYUBtNIC3QBJhQD0K16NwCWFA2\\u002fl+arwAYUAVrkfhevRgQJDC9Shc52BAW9O84xTdYEBZqDXNO9JgQB04Z0Rpx2BAItv5fmq8YECU9gZfmLBgQHlYqDXNo2BAwaikTkCXYEDdJAaBlYtgQKW9wRcmf2BADy2yne9zYEAbDeAtkGhgQOXQItv5XmBAbAn5oGdXYEBJv30dOE9gQAfwFkhQSGBA16NwPQpDYEAg0m9fBz5gQKCJsOHpOWBA6Egu\\u002fyE1YEBbsb\\u002fsnjBgQIbJVMGoLGBAHHxhMlUoYEAsQxzr4iJgQJHtfD81HmBAdk8eFmoZYEBhw9MrZRVgQMnlP6TfEmBAI0p7gy8QYEBDi2zn+w1gQHdPHhZqDWBAYqHWNO8MYECsHFpkOwtgQIiFWtO8B2BAuR6F61EEYEAOLbKd7\\u002f9fQDerPldb+V9AGi\\u002fdJAbxX0ArhxbZzudfQNWa5h2n4F9AtaZ5xynaX0CWsgxxrNNfQOC+Dpwzyl9AdJMYBFa+X0AIPZtVn7NfQKyt2F92r19ApAG8BRKsX0CGyVTBqKRfQJ3vp8ZLn19AUPwYc9eaX0BEaW\\u002fwhZlfQC2QoPgxll9AescpOpKTX0C1pnnHKZJfQJT2Bl+YlF9AVp+rrdiXX0AAIv32daBfQCo6kst\\u002fqF9A8GPMXUuwX0BgVFInoLlfQG3n+6nxwl9AyuU\\u002fpN\\u002fOX0CPdXEbDdhfQCjtDb4w4V9AwFsgQfHrX0DmriXkg\\u002fZfQCCwcmiRAWBA1jTvOEUHYECLbOf7qQ1gQEhQ\\u002fBhzE2BA2BLyQc8aYEAbL90kBiFgQO58PzVeJmBAsHJoke0sYED6XG3F\\u002fjJgQKg1zTtOOWBAukkMAis\\u002fYEDUmuYdp0RgQHBfB84ZSWBAtvP91HhNYEAgQfFjzFFgQM6qz9VWVGBASgwCK4dWYEC+MJkqGF1gQAK8BRIUY2BAduCcEaVpYEAll\\u002f+Qfm9gQOhqK\\u002faXdWBA8YXJVMF8YEDf4AuTqYZgQBrAWyBBkWBAz\\u002fdT46WbYECGONbFbahgQJ8aL90ktmBAtMh2vp\\u002fCYEA2PL1Sls1gQJ3vp8ZL12BAu9qK\\u002fWXjYEDKMsSxLu5gQKFns+pz+WBAJLn8h\\u002fQDYUDaG3xhMg1hQECk374OGGFA4C2QoPghYUDKMsSxLiphQFCNl24SM2FAaNXnais6YUBWMCqpE0BhQCUGgZVDR2FAHHxhMlVQYUDLf0i\\u002ffV1hQCbChqdXamFAg8DKoUV2YUCbVZ+rrYBhQOXyH9Jvi2FAYsPTK2WVYUD+ZffkYZ1hQL7BFyZTpWFAxY8xdy2tYUDoaiv2l7VhQPEWSFD8vGFAJLn8h\\u002fTDYUBHcvkP6cthQKRwPQrX02FAHeviNhrcYUBGlPYGX+RhQJ88LNSa6mFA029fB87xYUCpE9BE2PhhQHulLEMc\\u002f2FAOIlBYOUEYkBseHqlLAtiQPGFyVTBEGJAlRgEVg4RYkDgT42Xbg5iQH4dOGdEDWJA5fIf0m8LYkC\\u002fMJkqGAliQEbY8PRKBWJAwVsgQfH\\u002fYUDDFyZTBfthQKGrrdhf9mFA6Iwo7Q3yYUBsmnecouthQGjV52or5mFAiWNd3EbfYUDZzvdT49lhQPYoXI\\u002fC0WFA4noUrkfJYUCTOgFNhL1hQFK4HoXrsWFArkfhehSmYUCdEaW9wZdhQInS3uALi2FA5KWbxCB8YUC4rwPnjGxhQMt\\u002fSL99XWFAhclUwahQYUB3vp8aL0VhQGCYTBWMOmFA0ETY8PQqYUDjNhrAWxhhQOm3rwPnBGFAwA6cM6L0YEBbsb\\u002fsnuRgQI0G8BZI1GBAhxbZzvfDYEBcj8L1KLRgQD55WKg1pWBAt4R80LOVYEBeS8gHPYdgQKwcWmQ7e2BAkDF3LSFvYEDH3LWEfGBgQF66SQwCU2BAGi\\u002fdJAZFYECt+lxtxTpgQIJzRpT2LmBA+Q\\u002fpt68jYECwcmiR7RhgQCcPC7WmDWBApb3BFyYDYEAGo5I6AfVfQCNseHql5F9Ae4MvTKbaX0AukKD4Mc5fQLMubqMBxF9A1XjpJjHAX0CdPCzUmr5fQFz+Q\\u002frtu19AVVInoIm4X0BwPQrXo7hfQDarPldbuV9AodY07zi9X0DlYaHWNL9fQKhXyjLEwV9A+X5qvHTDX0CfzarP1cZfQAmKH2Puyl9Ao3A9CtfTX0CbM6K0N+BfQL0FEhQ\\u002f7l9AvzCZKhj9X0D3Bl+YTAVgQMrDQq1pDmBAnoAmwoYXYEAdWmQ73x9gQEoMAiuHJmBAu7iNBvAqYEA5Z0RpbyxgQFHaG3xhLmBAWMoyxLEyYEB56SYxCDhgQL+fGi\\u002fdPGBAmbuWkA9CYEC4rwPnjExgQGRd3EYDWGBAvJaQD3piYED8GHPXEmpgQIEExY8xc2BARiV1App8YEDxhclUwYRgQIzbaABvjWBAy39Iv32VYEBVn6ut2JtgQHecoiO5pGBArK3YX3arYECfzarP1bJgQGwJ+aBnu2BARUdy+Q\\u002fFYEB6FK5H4c5gQANWDi2y1WBAQ61p3nHaYEAAIv32deBgQMFbIEHx42BA8x\\u002fSb1\\u002fnYEDP91PjpetgQKK0N\\u002fjC7GBAL\\u002f8h\\u002ffbtYEDfcYqO5O5gQDhnRGlv8GBACkYldQLyYECq8dJNYvRgQB3J5T+k92BA7Q2+MJn6YEBoRGlv8P1gQMUgsHJoAWFAPgrXo3AFYUDLw0KtaQphQAkbnl4pD2FAo5I6AU0QYUBNpgpGJRFhQKkT0ETYEGFAoKut2F8OYUBUdCSX\\u002fwxhQNPe4AuTDWFALyEf9GwSYUCgGi\\u002fdJBZhQLfRAN4CGWFAarx0kxgcYUDhC5Opgh1hQP0Yc9cSHmFANBE2PL0iYUC\\u002f7J48LChhQLraiv1lK2FACYofY+4qYUAukKD4MSZhQCbChqdXImFACRueXikfYUApXI\\u002fC9RxhQLAD54woGWFAfPKwUGsWYUBbZDvfTxVhQCl+jLlrFWFAAiuHFtkWYUCUGARWDhVhQIV80LNZDWFA3EYDeAsEYUBuNIC3QPpgQI9TdCSX72BA9gZfmEzlYEDT3uALk91gQI9TdCSX12BAxLEubqPRYEDSAN4CCc5gQARWDi2yyWBAhHzQs1nFYEC94xQdycFgQEoMAiuHvmBAXP5D+u27YEBVMCqpE7hgQGB2Tx4WsmBArfpcbcWqYEA2XrpJDKJgQNJvXwfOmWBAuycPC7WSYEA=\"},\"type\":\"scatter\",\"xaxis\":\"x\",\"yaxis\":\"y\"},{\"name\":\"200 Day MA\",\"x\":[\"2025-04-21T00:00:00.000000000\",\"2025-04-17T00:00:00.000000000\",\"2025-04-16T00:00:00.000000000\",\"2025-04-15T00:00:00.000000000\",\"2025-04-14T00:00:00.000000000\",\"2025-04-11T00:00:00.000000000\",\"2025-04-10T00:00:00.000000000\",\"2025-04-09T00:00:00.000000000\",\"2025-04-08T00:00:00.000000000\",\"2025-04-07T00:00:00.000000000\",\"2025-04-04T00:00:00.000000000\",\"2025-04-03T00:00:00.000000000\",\"2025-04-02T00:00:00.000000000\",\"2025-04-01T00:00:00.000000000\",\"2025-03-31T00:00:00.000000000\",\"2025-03-28T00:00:00.000000000\",\"2025-03-27T00:00:00.000000000\",\"2025-03-26T00:00:00.000000000\",\"2025-03-25T00:00:00.000000000\",\"2025-03-24T00:00:00.000000000\",\"2025-03-21T00:00:00.000000000\",\"2025-03-20T00:00:00.000000000\",\"2025-03-19T00:00:00.000000000\",\"2025-03-18T00:00:00.000000000\",\"2025-03-17T00:00:00.000000000\",\"2025-03-14T00:00:00.000000000\",\"2025-03-13T00:00:00.000000000\",\"2025-03-12T00:00:00.000000000\",\"2025-03-11T00:00:00.000000000\",\"2025-03-10T00:00:00.000000000\",\"2025-03-07T00:00:00.000000000\",\"2025-03-06T00:00:00.000000000\",\"2025-03-05T00:00:00.000000000\",\"2025-03-04T00:00:00.000000000\",\"2025-03-03T00:00:00.000000000\",\"2025-02-28T00:00:00.000000000\",\"2025-02-27T00:00:00.000000000\",\"2025-02-26T00:00:00.000000000\",\"2025-02-25T00:00:00.000000000\",\"2025-02-24T00:00:00.000000000\",\"2025-02-21T00:00:00.000000000\",\"2025-02-20T00:00:00.000000000\",\"2025-02-19T00:00:00.000000000\",\"2025-02-18T00:00:00.000000000\",\"2025-02-14T00:00:00.000000000\",\"2025-02-13T00:00:00.000000000\",\"2025-02-12T00:00:00.000000000\",\"2025-02-11T00:00:00.000000000\",\"2025-02-10T00:00:00.000000000\",\"2025-02-07T00:00:00.000000000\",\"2025-02-06T00:00:00.000000000\",\"2025-02-05T00:00:00.000000000\",\"2025-02-04T00:00:00.000000000\",\"2025-02-03T00:00:00.000000000\",\"2025-01-31T00:00:00.000000000\",\"2025-01-30T00:00:00.000000000\",\"2025-01-29T00:00:00.000000000\",\"2025-01-28T00:00:00.000000000\",\"2025-01-27T00:00:00.000000000\",\"2025-01-24T00:00:00.000000000\",\"2025-01-23T00:00:00.000000000\",\"2025-01-22T00:00:00.000000000\",\"2025-01-21T00:00:00.000000000\",\"2025-01-17T00:00:00.000000000\",\"2025-01-16T00:00:00.000000000\",\"2025-01-15T00:00:00.000000000\",\"2025-01-14T00:00:00.000000000\",\"2025-01-13T00:00:00.000000000\",\"2025-01-10T00:00:00.000000000\",\"2025-01-08T00:00:00.000000000\",\"2025-01-07T00:00:00.000000000\",\"2025-01-06T00:00:00.000000000\",\"2025-01-03T00:00:00.000000000\",\"2025-01-02T00:00:00.000000000\",\"2024-12-31T00:00:00.000000000\",\"2024-12-30T00:00:00.000000000\",\"2024-12-27T00:00:00.000000000\",\"2024-12-26T00:00:00.000000000\",\"2024-12-24T00:00:00.000000000\",\"2024-12-23T00:00:00.000000000\",\"2024-12-20T00:00:00.000000000\",\"2024-12-19T00:00:00.000000000\",\"2024-12-18T00:00:00.000000000\",\"2024-12-17T00:00:00.000000000\",\"2024-12-16T00:00:00.000000000\",\"2024-12-13T00:00:00.000000000\",\"2024-12-12T00:00:00.000000000\",\"2024-12-11T00:00:00.000000000\",\"2024-12-10T00:00:00.000000000\",\"2024-12-09T00:00:00.000000000\",\"2024-12-06T00:00:00.000000000\",\"2024-12-05T00:00:00.000000000\",\"2024-12-04T00:00:00.000000000\",\"2024-12-03T00:00:00.000000000\",\"2024-12-02T00:00:00.000000000\",\"2024-11-29T00:00:00.000000000\",\"2024-11-27T00:00:00.000000000\",\"2024-11-26T00:00:00.000000000\",\"2024-11-25T00:00:00.000000000\",\"2024-11-22T00:00:00.000000000\",\"2024-11-21T00:00:00.000000000\",\"2024-11-20T00:00:00.000000000\",\"2024-11-19T00:00:00.000000000\",\"2024-11-18T00:00:00.000000000\",\"2024-11-15T00:00:00.000000000\",\"2024-11-14T00:00:00.000000000\",\"2024-11-13T00:00:00.000000000\",\"2024-11-12T00:00:00.000000000\",\"2024-11-11T00:00:00.000000000\",\"2024-11-08T00:00:00.000000000\",\"2024-11-07T00:00:00.000000000\",\"2024-11-06T00:00:00.000000000\",\"2024-11-05T00:00:00.000000000\",\"2024-11-04T00:00:00.000000000\",\"2024-11-01T00:00:00.000000000\",\"2024-10-31T00:00:00.000000000\",\"2024-10-30T00:00:00.000000000\",\"2024-10-29T00:00:00.000000000\",\"2024-10-28T00:00:00.000000000\",\"2024-10-25T00:00:00.000000000\",\"2024-10-24T00:00:00.000000000\",\"2024-10-23T00:00:00.000000000\",\"2024-10-22T00:00:00.000000000\",\"2024-10-21T00:00:00.000000000\",\"2024-10-18T00:00:00.000000000\",\"2024-10-17T00:00:00.000000000\",\"2024-10-16T00:00:00.000000000\",\"2024-10-15T00:00:00.000000000\",\"2024-10-14T00:00:00.000000000\",\"2024-10-11T00:00:00.000000000\",\"2024-10-10T00:00:00.000000000\",\"2024-10-09T00:00:00.000000000\",\"2024-10-08T00:00:00.000000000\",\"2024-10-07T00:00:00.000000000\",\"2024-10-04T00:00:00.000000000\",\"2024-10-03T00:00:00.000000000\",\"2024-10-02T00:00:00.000000000\",\"2024-10-01T00:00:00.000000000\",\"2024-09-30T00:00:00.000000000\",\"2024-09-27T00:00:00.000000000\",\"2024-09-26T00:00:00.000000000\",\"2024-09-25T00:00:00.000000000\",\"2024-09-24T00:00:00.000000000\",\"2024-09-23T00:00:00.000000000\",\"2024-09-20T00:00:00.000000000\",\"2024-09-19T00:00:00.000000000\",\"2024-09-18T00:00:00.000000000\",\"2024-09-17T00:00:00.000000000\",\"2024-09-16T00:00:00.000000000\",\"2024-09-13T00:00:00.000000000\",\"2024-09-12T00:00:00.000000000\",\"2024-09-11T00:00:00.000000000\",\"2024-09-10T00:00:00.000000000\",\"2024-09-09T00:00:00.000000000\",\"2024-09-06T00:00:00.000000000\",\"2024-09-05T00:00:00.000000000\",\"2024-09-04T00:00:00.000000000\",\"2024-09-03T00:00:00.000000000\",\"2024-08-30T00:00:00.000000000\",\"2024-08-29T00:00:00.000000000\",\"2024-08-28T00:00:00.000000000\",\"2024-08-27T00:00:00.000000000\",\"2024-08-26T00:00:00.000000000\",\"2024-08-23T00:00:00.000000000\",\"2024-08-22T00:00:00.000000000\",\"2024-08-21T00:00:00.000000000\",\"2024-08-20T00:00:00.000000000\",\"2024-08-19T00:00:00.000000000\",\"2024-08-16T00:00:00.000000000\",\"2024-08-15T00:00:00.000000000\",\"2024-08-14T00:00:00.000000000\",\"2024-08-13T00:00:00.000000000\",\"2024-08-12T00:00:00.000000000\",\"2024-08-09T00:00:00.000000000\",\"2024-08-08T00:00:00.000000000\",\"2024-08-07T00:00:00.000000000\",\"2024-08-06T00:00:00.000000000\",\"2024-08-05T00:00:00.000000000\",\"2024-08-02T00:00:00.000000000\",\"2024-08-01T00:00:00.000000000\",\"2024-07-31T00:00:00.000000000\",\"2024-07-30T00:00:00.000000000\",\"2024-07-29T00:00:00.000000000\",\"2024-07-26T00:00:00.000000000\",\"2024-07-25T00:00:00.000000000\",\"2024-07-24T00:00:00.000000000\",\"2024-07-23T00:00:00.000000000\",\"2024-07-22T00:00:00.000000000\",\"2024-07-19T00:00:00.000000000\",\"2024-07-18T00:00:00.000000000\",\"2024-07-17T00:00:00.000000000\",\"2024-07-16T00:00:00.000000000\",\"2024-07-15T00:00:00.000000000\",\"2024-07-12T00:00:00.000000000\",\"2024-07-11T00:00:00.000000000\",\"2024-07-10T00:00:00.000000000\",\"2024-07-09T00:00:00.000000000\",\"2024-07-08T00:00:00.000000000\",\"2024-07-05T00:00:00.000000000\",\"2024-07-03T00:00:00.000000000\",\"2024-07-02T00:00:00.000000000\",\"2024-07-01T00:00:00.000000000\",\"2024-06-28T00:00:00.000000000\",\"2024-06-27T00:00:00.000000000\",\"2024-06-26T00:00:00.000000000\",\"2024-06-25T00:00:00.000000000\",\"2024-06-24T00:00:00.000000000\",\"2024-06-21T00:00:00.000000000\",\"2024-06-20T00:00:00.000000000\",\"2024-06-18T00:00:00.000000000\",\"2024-06-17T00:00:00.000000000\",\"2024-06-14T00:00:00.000000000\",\"2024-06-13T00:00:00.000000000\",\"2024-06-12T00:00:00.000000000\",\"2024-06-11T00:00:00.000000000\",\"2024-06-10T00:00:00.000000000\",\"2024-06-07T00:00:00.000000000\",\"2024-06-06T00:00:00.000000000\",\"2024-06-05T00:00:00.000000000\",\"2024-06-04T00:00:00.000000000\",\"2024-06-03T00:00:00.000000000\",\"2024-05-31T00:00:00.000000000\",\"2024-05-30T00:00:00.000000000\",\"2024-05-29T00:00:00.000000000\",\"2024-05-28T00:00:00.000000000\",\"2024-05-24T00:00:00.000000000\",\"2024-05-23T00:00:00.000000000\",\"2024-05-22T00:00:00.000000000\",\"2024-05-21T00:00:00.000000000\",\"2024-05-20T00:00:00.000000000\",\"2024-05-17T00:00:00.000000000\",\"2024-05-16T00:00:00.000000000\",\"2024-05-15T00:00:00.000000000\",\"2024-05-14T00:00:00.000000000\",\"2024-05-13T00:00:00.000000000\",\"2024-05-10T00:00:00.000000000\",\"2024-05-09T00:00:00.000000000\",\"2024-05-08T00:00:00.000000000\",\"2024-05-07T00:00:00.000000000\",\"2024-05-06T00:00:00.000000000\",\"2024-05-03T00:00:00.000000000\",\"2024-05-02T00:00:00.000000000\",\"2024-05-01T00:00:00.000000000\",\"2024-04-30T00:00:00.000000000\",\"2024-04-29T00:00:00.000000000\",\"2024-04-26T00:00:00.000000000\",\"2024-04-25T00:00:00.000000000\",\"2024-04-24T00:00:00.000000000\",\"2024-04-23T00:00:00.000000000\",\"2024-04-22T00:00:00.000000000\",\"2024-04-19T00:00:00.000000000\",\"2024-04-18T00:00:00.000000000\",\"2024-04-17T00:00:00.000000000\",\"2024-04-16T00:00:00.000000000\",\"2024-04-15T00:00:00.000000000\",\"2024-04-12T00:00:00.000000000\",\"2024-04-11T00:00:00.000000000\",\"2024-04-10T00:00:00.000000000\",\"2024-04-09T00:00:00.000000000\",\"2024-04-08T00:00:00.000000000\",\"2024-04-05T00:00:00.000000000\",\"2024-04-04T00:00:00.000000000\",\"2024-04-03T00:00:00.000000000\",\"2024-04-02T00:00:00.000000000\",\"2024-04-01T00:00:00.000000000\",\"2024-03-28T00:00:00.000000000\",\"2024-03-27T00:00:00.000000000\",\"2024-03-26T00:00:00.000000000\",\"2024-03-25T00:00:00.000000000\",\"2024-03-22T00:00:00.000000000\",\"2024-03-21T00:00:00.000000000\",\"2024-03-20T00:00:00.000000000\",\"2024-03-19T00:00:00.000000000\",\"2024-03-18T00:00:00.000000000\",\"2024-03-15T00:00:00.000000000\",\"2024-03-14T00:00:00.000000000\",\"2024-03-13T00:00:00.000000000\",\"2024-03-12T00:00:00.000000000\",\"2024-03-11T00:00:00.000000000\",\"2024-03-08T00:00:00.000000000\",\"2024-03-07T00:00:00.000000000\",\"2024-03-06T00:00:00.000000000\",\"2024-03-05T00:00:00.000000000\",\"2024-03-04T00:00:00.000000000\",\"2024-03-01T00:00:00.000000000\",\"2024-02-29T00:00:00.000000000\",\"2024-02-28T00:00:00.000000000\",\"2024-02-27T00:00:00.000000000\",\"2024-02-26T00:00:00.000000000\",\"2024-02-23T00:00:00.000000000\",\"2024-02-22T00:00:00.000000000\",\"2024-02-21T00:00:00.000000000\",\"2024-02-20T00:00:00.000000000\",\"2024-02-16T00:00:00.000000000\",\"2024-02-15T00:00:00.000000000\",\"2024-02-14T00:00:00.000000000\",\"2024-02-13T00:00:00.000000000\",\"2024-02-12T00:00:00.000000000\",\"2024-02-09T00:00:00.000000000\",\"2024-02-08T00:00:00.000000000\",\"2024-02-07T00:00:00.000000000\",\"2024-02-06T00:00:00.000000000\",\"2024-02-05T00:00:00.000000000\",\"2024-02-02T00:00:00.000000000\",\"2024-02-01T00:00:00.000000000\",\"2024-01-31T00:00:00.000000000\",\"2024-01-30T00:00:00.000000000\",\"2024-01-29T00:00:00.000000000\",\"2024-01-26T00:00:00.000000000\",\"2024-01-25T00:00:00.000000000\",\"2024-01-24T00:00:00.000000000\",\"2024-01-23T00:00:00.000000000\",\"2024-01-22T00:00:00.000000000\",\"2024-01-19T00:00:00.000000000\",\"2024-01-18T00:00:00.000000000\",\"2024-01-17T00:00:00.000000000\",\"2024-01-16T00:00:00.000000000\",\"2024-01-12T00:00:00.000000000\",\"2024-01-11T00:00:00.000000000\",\"2024-01-10T00:00:00.000000000\",\"2024-01-09T00:00:00.000000000\",\"2024-01-08T00:00:00.000000000\",\"2024-01-05T00:00:00.000000000\",\"2024-01-04T00:00:00.000000000\",\"2024-01-03T00:00:00.000000000\",\"2024-01-02T00:00:00.000000000\",\"2023-12-29T00:00:00.000000000\",\"2023-12-28T00:00:00.000000000\",\"2023-12-27T00:00:00.000000000\",\"2023-12-26T00:00:00.000000000\",\"2023-12-22T00:00:00.000000000\",\"2023-12-21T00:00:00.000000000\",\"2023-12-20T00:00:00.000000000\",\"2023-12-19T00:00:00.000000000\",\"2023-12-18T00:00:00.000000000\",\"2023-12-15T00:00:00.000000000\",\"2023-12-14T00:00:00.000000000\",\"2023-12-13T00:00:00.000000000\",\"2023-12-12T00:00:00.000000000\",\"2023-12-11T00:00:00.000000000\",\"2023-12-08T00:00:00.000000000\",\"2023-12-07T00:00:00.000000000\",\"2023-12-06T00:00:00.000000000\",\"2023-12-05T00:00:00.000000000\",\"2023-12-04T00:00:00.000000000\",\"2023-12-01T00:00:00.000000000\",\"2023-11-30T00:00:00.000000000\",\"2023-11-29T00:00:00.000000000\",\"2023-11-28T00:00:00.000000000\",\"2023-11-27T00:00:00.000000000\",\"2023-11-24T00:00:00.000000000\",\"2023-11-22T00:00:00.000000000\",\"2023-11-21T00:00:00.000000000\",\"2023-11-20T00:00:00.000000000\",\"2023-11-17T00:00:00.000000000\",\"2023-11-16T00:00:00.000000000\",\"2023-11-15T00:00:00.000000000\",\"2023-11-14T00:00:00.000000000\",\"2023-11-13T00:00:00.000000000\",\"2023-11-10T00:00:00.000000000\",\"2023-11-09T00:00:00.000000000\",\"2023-11-08T00:00:00.000000000\",\"2023-11-07T00:00:00.000000000\",\"2023-11-06T00:00:00.000000000\",\"2023-11-03T00:00:00.000000000\",\"2023-11-02T00:00:00.000000000\",\"2023-11-01T00:00:00.000000000\",\"2023-10-31T00:00:00.000000000\",\"2023-10-30T00:00:00.000000000\",\"2023-10-27T00:00:00.000000000\",\"2023-10-26T00:00:00.000000000\",\"2023-10-25T00:00:00.000000000\",\"2023-10-24T00:00:00.000000000\",\"2023-10-23T00:00:00.000000000\",\"2023-10-20T00:00:00.000000000\",\"2023-10-19T00:00:00.000000000\",\"2023-10-18T00:00:00.000000000\",\"2023-10-17T00:00:00.000000000\",\"2023-10-16T00:00:00.000000000\",\"2023-10-13T00:00:00.000000000\",\"2023-10-12T00:00:00.000000000\",\"2023-10-11T00:00:00.000000000\",\"2023-10-10T00:00:00.000000000\",\"2023-10-09T00:00:00.000000000\",\"2023-10-06T00:00:00.000000000\",\"2023-10-05T00:00:00.000000000\",\"2023-10-04T00:00:00.000000000\",\"2023-10-03T00:00:00.000000000\",\"2023-10-02T00:00:00.000000000\",\"2023-09-29T00:00:00.000000000\",\"2023-09-28T00:00:00.000000000\",\"2023-09-27T00:00:00.000000000\",\"2023-09-26T00:00:00.000000000\",\"2023-09-25T00:00:00.000000000\",\"2023-09-22T00:00:00.000000000\",\"2023-09-21T00:00:00.000000000\",\"2023-09-20T00:00:00.000000000\",\"2023-09-19T00:00:00.000000000\",\"2023-09-18T00:00:00.000000000\",\"2023-09-15T00:00:00.000000000\",\"2023-09-14T00:00:00.000000000\",\"2023-09-13T00:00:00.000000000\",\"2023-09-12T00:00:00.000000000\",\"2023-09-11T00:00:00.000000000\",\"2023-09-08T00:00:00.000000000\",\"2023-09-07T00:00:00.000000000\",\"2023-09-06T00:00:00.000000000\",\"2023-09-05T00:00:00.000000000\",\"2023-09-01T00:00:00.000000000\",\"2023-08-31T00:00:00.000000000\",\"2023-08-30T00:00:00.000000000\",\"2023-08-29T00:00:00.000000000\",\"2023-08-28T00:00:00.000000000\",\"2023-08-25T00:00:00.000000000\",\"2023-08-24T00:00:00.000000000\",\"2023-08-23T00:00:00.000000000\",\"2023-08-22T00:00:00.000000000\",\"2023-08-21T00:00:00.000000000\",\"2023-08-18T00:00:00.000000000\",\"2023-08-17T00:00:00.000000000\",\"2023-08-16T00:00:00.000000000\",\"2023-08-15T00:00:00.000000000\",\"2023-08-14T00:00:00.000000000\",\"2023-08-11T00:00:00.000000000\",\"2023-08-10T00:00:00.000000000\",\"2023-08-09T00:00:00.000000000\",\"2023-08-08T00:00:00.000000000\",\"2023-08-07T00:00:00.000000000\",\"2023-08-04T00:00:00.000000000\",\"2023-08-03T00:00:00.000000000\",\"2023-08-02T00:00:00.000000000\",\"2023-08-01T00:00:00.000000000\",\"2023-07-31T00:00:00.000000000\",\"2023-07-28T00:00:00.000000000\",\"2023-07-27T00:00:00.000000000\",\"2023-07-26T00:00:00.000000000\",\"2023-07-25T00:00:00.000000000\",\"2023-07-24T00:00:00.000000000\",\"2023-07-21T00:00:00.000000000\",\"2023-07-20T00:00:00.000000000\",\"2023-07-19T00:00:00.000000000\",\"2023-07-18T00:00:00.000000000\",\"2023-07-17T00:00:00.000000000\",\"2023-07-14T00:00:00.000000000\",\"2023-07-13T00:00:00.000000000\",\"2023-07-12T00:00:00.000000000\",\"2023-07-11T00:00:00.000000000\",\"2023-07-10T00:00:00.000000000\",\"2023-07-07T00:00:00.000000000\",\"2023-07-06T00:00:00.000000000\",\"2023-07-05T00:00:00.000000000\",\"2023-07-03T00:00:00.000000000\",\"2023-06-30T00:00:00.000000000\",\"2023-06-29T00:00:00.000000000\",\"2023-06-28T00:00:00.000000000\",\"2023-06-27T00:00:00.000000000\",\"2023-06-26T00:00:00.000000000\",\"2023-06-23T00:00:00.000000000\",\"2023-06-22T00:00:00.000000000\",\"2023-06-21T00:00:00.000000000\",\"2023-06-20T00:00:00.000000000\",\"2023-06-16T00:00:00.000000000\",\"2023-06-15T00:00:00.000000000\",\"2023-06-14T00:00:00.000000000\",\"2023-06-13T00:00:00.000000000\",\"2023-06-12T00:00:00.000000000\",\"2023-06-09T00:00:00.000000000\",\"2023-06-08T00:00:00.000000000\",\"2023-06-07T00:00:00.000000000\",\"2023-06-06T00:00:00.000000000\",\"2023-06-05T00:00:00.000000000\",\"2023-06-02T00:00:00.000000000\",\"2023-06-01T00:00:00.000000000\",\"2023-05-31T00:00:00.000000000\",\"2023-05-30T00:00:00.000000000\",\"2023-05-26T00:00:00.000000000\",\"2023-05-25T00:00:00.000000000\",\"2023-05-24T00:00:00.000000000\",\"2023-05-23T00:00:00.000000000\",\"2023-05-22T00:00:00.000000000\",\"2023-05-19T00:00:00.000000000\",\"2023-05-18T00:00:00.000000000\",\"2023-05-17T00:00:00.000000000\",\"2023-05-16T00:00:00.000000000\",\"2023-05-15T00:00:00.000000000\",\"2023-05-12T00:00:00.000000000\",\"2023-05-11T00:00:00.000000000\",\"2023-05-10T00:00:00.000000000\",\"2023-05-09T00:00:00.000000000\",\"2023-05-08T00:00:00.000000000\",\"2023-05-05T00:00:00.000000000\",\"2023-05-04T00:00:00.000000000\",\"2023-05-03T00:00:00.000000000\",\"2023-05-02T00:00:00.000000000\",\"2023-05-01T00:00:00.000000000\",\"2023-04-28T00:00:00.000000000\",\"2023-04-27T00:00:00.000000000\",\"2023-04-26T00:00:00.000000000\",\"2023-04-25T00:00:00.000000000\",\"2023-04-24T00:00:00.000000000\",\"2023-04-21T00:00:00.000000000\",\"2023-04-20T00:00:00.000000000\",\"2023-04-19T00:00:00.000000000\",\"2023-04-18T00:00:00.000000000\",\"2023-04-17T00:00:00.000000000\",\"2023-04-14T00:00:00.000000000\",\"2023-04-13T00:00:00.000000000\",\"2023-04-12T00:00:00.000000000\",\"2023-04-11T00:00:00.000000000\",\"2023-04-10T00:00:00.000000000\",\"2023-04-06T00:00:00.000000000\",\"2023-04-05T00:00:00.000000000\",\"2023-04-04T00:00:00.000000000\",\"2023-04-03T00:00:00.000000000\",\"2023-03-31T00:00:00.000000000\",\"2023-03-30T00:00:00.000000000\",\"2023-03-29T00:00:00.000000000\",\"2023-03-28T00:00:00.000000000\",\"2023-03-27T00:00:00.000000000\",\"2023-03-24T00:00:00.000000000\",\"2023-03-23T00:00:00.000000000\",\"2023-03-22T00:00:00.000000000\",\"2023-03-21T00:00:00.000000000\",\"2023-03-20T00:00:00.000000000\",\"2023-03-17T00:00:00.000000000\",\"2023-03-16T00:00:00.000000000\"],\"y\":{\"dtype\":\"f8\",\"bdata\":\"8tJNYhDGa0AYJlMFo7xrQJYhjnVxsmtAa+f7qfGna0BU46WbxJxrQGoAb4EEkmtA0ETY8PSHa0D\\u002fkH77On9rQGx4eqUsdWtAGCZTBaNta0DMzMzMzGRrQERpb\\u002fCFW2tAxLEubqNPa0AI+aBns0JrQPgP6bevNWtAoEW28\\u002f0oa0CWkA96Nh1rQMIXJlMFEWtAz4jS3uADa0BCPujZrPZqQKJns+pz6WpAz4jS3uDcakDLVMGopNBqQF8pyxDHwmpAUNGRXP61akCMbOf7qahqQNY07zhFnGpAFR3J5T+QakDD0ytlGYRqQG+jAbwFeGpAdQKaCBtqakD9qfHSTVtqQAskKH6MTmpAGcBbIEFBakBAxty1hDNqQEp7gy9MJmpAJw8LtaYYakCHhVrTvApqQJyiI7n8\\u002fGlAppvEILDuaUCnV8oyxN9pQJYhjnVx0GlAOGdEaW\\u002fAaUCiZ7Pqc7BpQHgtIR\\u002f0oGlAvLiNBvCRaUCS7Xw\\u002fNYNpQPyp8dJNdWlAXrpJDAJqaUDc14FzRl9pQAajkjoBVGlAifTb14FIaUB4Tx4WajtpQA9Pr5RlLmlAr0fhehQiaUC8SQwCKxZpQGC6SQwCCmlAFGHD0ysDaUBHtvP91PxoQM3uycNC92hAi2zn+6nxaED1KFyPwutoQM0ZUdob5mhAq\\u002fpcbcXgaEDGuriNBttoQFmGONbF1WhAMXctIR\\u002fRaEDWEvJBz8xoQCJKe4MvyGhArBxaZDvDaEA\\u002fpN++Dr5oQK9yaJHtuGhAxwc9m1W0aEB24JwRpa9oQIqO5PIfq2hAQ2lv8IWmaECrHFpkO6JoQOsvuycPnmhAyxDHuriZaEB4CyQofpRoQHWTGARWkGhA3EYDeAuMaEDysFBrmodoQAwCK4cWg2hAJ8KGp1d9aECjtDf4wnZoQDhnRGlvb2hA\\u002fkP67etnaED1bFZ9rmBoQEvqBDQRWWhAmP+QfvtRaECaCBueXkloQHCBBMWPQGhAEse6uI04aEAPLbKd7zFoQKFns+pzK2hAkH77OnAkaEBEaW\\u002fwhR1oQARWDi2yFmhAw2SqYFQQaED+1HjpJgpoQNqK\\u002fWX3A2hA5NAi2\\u002fn+Z0Cg+DHmrvpnQH5Iv30d92dA9EpZhjj0Z0C5SQwCK\\u002fBnQBOuR+F67GdATIQNT6\\u002foZ0DVxW00gORnQAQSFD\\u002fG4GdAyMNCrWnaZ0BJ6gQ0EdRnQDKAt0CCzmdAYKHWNO\\u002fIZ0AATYQNT8JnQH77OnDOu2dA2\\u002fl+ary1Z0CV9gZfmK5nQBALtaZ5pmdAWFuxv+ydZ0CV9gZfmJRnQO\\u002frwDkjiWdAlyGOdXF9Z0BwXwfOGXJnQMiYu5aQZmdAoBov3SRbZ0BYW7G\\u002f7E9nQFtCPujZRGdA6Nms+lw5Z0BW7C+7Jy5nQNy1hHzQImdAjHVxGw0XZ0CsR+F6FAxnQI1TdCSXAWdAXdxGA3j3ZkDBhqdXyu1mQFxtxf6y5GZAY8xdS8jbZkBOQBNhw9JmQI9TdCSXyWZA8IXJVMG\\u002fZkBO0ZFc\\u002frVmQDqSy39IrGZAlIeFWtOiZkAAb4EExZlmQAU0ETY8kWZAQxzr4jaIZkA+6Nms+n5mQO\\u002frwDkjdWZA4OALk6lrZkDADpwzomJmQB9aZDvfWWZAJGx4eqVRZkBgKcsQx0lmQDN3LSEfQmZA3Bt8YTI6ZkDMoUW28zFmQDIqqRPQKWZAu0kMAishZkDR1VbsLxlmQN9xio7kEGZAuECC4scIZkD6oGez6gBmQEw3iUFg+WVA+g\\u002fpt6\\u002fxZUCCJsKGp+llQBLHuriN4WVAAd4CCYrZZUCKH2PuWtFlQDcawFsgyWVAN6s+V1vBZUDWVuwvu7hlQAAi\\u002ffZ1sGVAfIMvTKanZUBfKcsQx55lQOEtkKD4lmVAaCJseHqPZUCbmZmZmYhlQKuCUUmdgGVA1gloImx4ZUA27zhFR3BlQLprCfmgaGVA0rNZ9blgZUAiQfFjzFhlQID7OnDOUGVAsy5uowFKZUAydy0hH0NlQIfrUbgePGVAGdnO91M1ZUBKA3gLJC5lQHtYqDXNJmVAQOjZrPofZUAZJlMFoxllQI\\u002fk8h\\u002fSE2VAdLUV+8sOZUCrz9VW7AllQIbJVMGoBWVARuF6FK4AZUDVVuwvu\\u002ftkQIy5awn59mRAHqfoSC7yZED99nXgnO1kQNjw9EpZ6WRAQ\\u002frt68DlZEDUK2UZ4uFkQHHOiNLe3WRAF2pN847ZZEA3+MJkqtVkQDSAt0CC0WRAbVZ9rrbNZEBkGeJYF8pkQEZQ\\u002fBhzxmRAQvrt68DCZEAyorQ3+L5kQFSfq63YumRAoiO5\\u002fIe2ZECHFtnO97FkQI7k8h\\u002fSrWRAOPjCZKqpZEAeyeU\\u002fpKVkQF5txf6yoWRAtoR80LOdZEDwWkI+6JlkQAO8BRIUlmRACc4ZUdqRZEACTYQNT41kQCxlGeJYiWRAGXPXEvKEZEAqqRPQRIBkQIEExY8xfGRA76fGSzd4ZEDTvOMUHXRkQMzuycNCcGRAOGdEaW9sZEDXxW00gGhkQBjZzvdTZGRAxo8xdy1gZEC5HoXrUVtkQKbfvg6cVmRAW4Y41sVRZEAQLbKd70xkQGTuWkI+SGRAysNCrWlDZEBhMlUwKj5kQCfkg57NOGRAYQfOGVEzZEB6WKg1zS1kQKXfvg6cJWRAPN9PjZcdZEDADpwzohVkQO0vuycPDmRAHjhnRGkGZEDx9EpZhv5jQNPe4AuT9mNALrKd76fuY0Dkg57NquZjQLu4jQbw3WNAexSuR+HUY0Ar9pfdk8tjQEKC4seYwmNADQIrhxa6Y0AQ6bevA7JjQKmCUUmdqWNAgNk9eVihY0BJLv8h\\u002fZhjQHh6pSxDkGNA\\u002fWX35GGHY0B9PzVeun5jQG6jAbwFdmNAcvkP6bdsY0Cxv+yePGNjQFwgQfFjWWNAp3nHKTpPY0A+vVKWIUVjQIljXdxGO2NAHxZqTfMwY0D4KFyPwiVjQE9iEFg5GmNAlBgEVg4QY0DJdr6fGgVjQBaMSuoE+mJANs07TtHuYkBIv30dOORiQAZfmEwV2WJAaLPqc7XOYkBJnYAmwsRiQE7zjlN0umJAutqK\\u002fWWwYkC+wRcmU6ZiQN2Th4VanGJAjGzn+6mSYkBFaW\\u002fwhYliQFdbsb\\u002fsf2JAsHJoke11YkCMSuoENGxiQD+k374OY2JA6nO1FftZYkBv8IXJVFBiQIbJVMGoRmJA++3rwDk9YkBs5\\u002fup8TNiQIlBYOXQKmJAR+F6FK4hYkC62or9ZRhiQBlz1xLyDmJARkdy+Q8GYkCyUGuad\\u002fxhQGUZ4lgX82FA4C2QoPjpYUCwUGuad+BhQD\\u002fG3LWE2WFAmSoYldTSYUBXqDXNO8xhQALnjCjtxWFA42Gh1jTAYUAATYQNT7phQNjw9EpZtGFA5q4l5IOuYUAfY+5aQqlhQDSAt0CCo2FAbJp3nKKdYUAK+aBns5dhQMbctYR8kmFAkaD4MeaMYUD9GHPXEodhQCNKe4MvgWFAjSjtDb56YUDH3LWEfHRhQC8hH\\u002fRsbmFAq\\u002fHSTWJoYUAP4C2QoGJhQF0gQfFjXWFAUR4Wak1YYUA7kst\\u002fSFNhQJ6iI7n8TWFAiMlUwahIYUDKdr6fGkNhQP\\u002f2deCcPWFA8OvAOSM4YUAZt9EA3jJhQHsUrkfhLWFANDMzMzMpYUC6awn5oCRhQHGsi9toIGFAWag1zTscYUCaCBueXhhhQKK0N\\u002fjCFGFAwMqhRbYRYUAu3SQGgQ5hQGFd3EYDC2FAEtBE2PAHYUCzWfW52gRhQGgAb4EEAmFArBxaZDv\\u002fYEA730+Nl\\u002fxgQMZtNIC3+WBAZohjXdz2YECXIY51cfRgQBYdyeU\\u002f8mBApixDHOvvYEDrc7UV++5gQGKh1jTv7WBA41gXt9HsYEB\\u002farx0k+tgQB04Z0Rp6mBAix9j7lrpYEBmqmBUUulgQJjdk4eF6WBASS7\\u002fIf3pYEDcrPpcbepgQOhqK\\u002faX6mBAu2sJ+aDrYEDT3uALk+xgQHDwhclU7WBA374OnDPuYEBT46WbxO5gQE0VjErq7mBAJXUCmgjvYEC1pnnHKe9gQHS1FfvL72BAERQ\\u002fxtzvYEDF3LWEfO9gQMt\\u002fSL9972BA001iEFjvYED25GGh1u5gQFmxv+ye7mBAQBNhw9PuYEAmwoanV\\u002fBgQEPPZtXn8WBAcPCFyVTzYEDkYaHWNPRgQGzn+6nx9GBA48eYu5b1YECYbhKDwPVgQEe28\\u002f3U9WBAKxiV1An2YEAKih9j7vVgQFpkO99P9mBAqMZLN4n2YEB0JJf\\u002fkPZgQCnLEMe69mBAWtO84xT3YED1l92Th\\u002fdgQHLXEvJB92BAwaikTkD3YEBtowG8BfdgQPp+arx09mBAr7Zif9n1YEDBqKROQPVgQDb4wmSq9GBA+8vuycPzYECze\\u002fKwUPJgQOM2GsBb8WBAsb\\u002fsnjzwYEDLMsSxLu9gQJduEoPA7WBAsS5uowHtYEDck4eFWuxgQLJZ9bna62BA4AuTqYLrYEB5xyk6kupgQGJ\\u002f2T156WBAfoy5awnoYEDufD81XuZgQKwcWmQ75GBA1edqK\\u002fbhYECcM6K0N95gQCk6kst\\u002f2mBAvp8aL93WYEB80LNZ9dJgQPjCZKpgz2BAxks3iUHLYEDSAN4CCcdgQKrP1VbswmBA7C+7Jw+\\u002fYEDcRgN4C7xgQBU\\u002fxty1uWBAWTm0yHa3YEBEPujZrLRgQAeBlUOLsWBAGNnO91OvYEBbZDvfT61gQFtkO99Pq2BAIPRsVn2pYEAFVg4tsqdgQM1\\u002fSL99pmBANaK0N\\u002fikYECgibDh6aNgQJ0zorQ3o2BAOGdEaW+iYEDSAN4CCaFgQAK8BRIUoGBAINJvXwefYEAaUdobfJ5gQPwYc9cSnmBATfOOU3SdYEDJ5T+k35xgQD4K16NwnGBAkKD4MeabYEAawFsgQZtgQDoBTYQNmmBAFfvL7smYYEAjl\\u002f+QfpdgQL99HThnlmBA5\\u002fup8dKVYEAG8BZIUJVgQE1iEFg5lWBAGJXUCWiVYEDcRgN4C5ZgQJ5eKcsQl2BAhVrTvOOXYEBjO99PjZhgQJkIG55emWBAsb\\u002fsnjyaYEDQs1n1uZpgQKAaL90km2BAK\\u002faX3ZObYED5D+m3r5xgQJ+rrdhfnWBAfYy5awmeYECttmJ\\u002f2Z5gQPCFyVTBn2BAVOOlm8SgYEAU0ETY8KFgQM6I0t7gomBA1CtlGeKjYEB56SYxCKVgQKmkTkATpmBAku18PzWnYEAshxbZzqdgQKw+V1uxqGBAb6MBvAWqYEBIlPYGX6xgQITix5i7rmBALIcW2c6wYECkI7n8h7JgQBtR2ht8tGBAnOYdp+i2YEC4Yn\\u002fZPblgQBU\\u002fxty1u2BA+g\\u002fpt6+9YEBzaJHtfL9gQGDl0CLbwWBArYvbaADEYEDy0k1iEMZgQCBj7lpCyGBAylTBqKTKYECA+zpwzsxgQLqNBvAWzmBAQKTfvg7PYEBYqDXNO9BgQFfKMsSx0GBAf9k9eVjRYEBLpgpGJdJgQCtDHOvi0mBA6548LNTTYEBpK\\u002faX3dRgQA56Nqs+1mBACgIrhxbYYEArQxzr4tpgQF66SQwC3mBAPldbsb\\u002fgYED+Q\\u002frt6+JgQK5H4XoU5WBAL90kBoHnYECfzarP1elgQGRd3EYD7GBAescpOpLtYEAtQxzr4u5gQHlYqDXN72BAwOyePCzwYEA0xLEubvBgQCCn6Egu8WBAIPRsVn3yYEAyCKwcWvNgQMXTK2UZ9GBACM4ZUdr0YEC16nO1FfVgQBi30QDe9GBAxty1hHz1YEA3PL1SlvZgQKVOQBNh92BA7cA5I0r4YECGWtO84\\u002fdgQH9qvHST92BAQs9m1ef2YEASFD\\u002fG3PZgQNEi2\\u002fl+9mBAjlN0JJf2YEDvOEVHcvdgQNcS8kHP92BA9dvXgXP4YEAanl4py\\u002fhgQF+YTBWM92BA9P3UeOn1YEBgmEwVjPRgQMDsnjws82BA9GxWfa7xYEC62or9ZfBgQBE2PL1S72BAnAgbnl7tYECM22gAb+tgQOQ2GsBb6WBApd++DpznYEBiodY07+VgQITAyqFF5GBAzDLEsS7iYEAfFmpN899gQLHh6ZWy3WBAtvP91HjbYEBEi2zn+9hgQAeBlUOL1mBA4L4OnDPUYEA=\"},\"type\":\"scatter\",\"xaxis\":\"x\",\"yaxis\":\"y\"}],                        {\"template\":{\"data\":{\"histogram2dcontour\":[{\"type\":\"histogram2dcontour\",\"colorbar\":{\"outlinewidth\":0,\"ticks\":\"\"},\"colorscale\":[[0.0,\"#0d0887\"],[0.1111111111111111,\"#46039f\"],[0.2222222222222222,\"#7201a8\"],[0.3333333333333333,\"#9c179e\"],[0.4444444444444444,\"#bd3786\"],[0.5555555555555556,\"#d8576b\"],[0.6666666666666666,\"#ed7953\"],[0.7777777777777778,\"#fb9f3a\"],[0.8888888888888888,\"#fdca26\"],[1.0,\"#f0f921\"]]}],\"choropleth\":[{\"type\":\"choropleth\",\"colorbar\":{\"outlinewidth\":0,\"ticks\":\"\"}}],\"histogram2d\":[{\"type\":\"histogram2d\",\"colorbar\":{\"outlinewidth\":0,\"ticks\":\"\"},\"colorscale\":[[0.0,\"#0d0887\"],[0.1111111111111111,\"#46039f\"],[0.2222222222222222,\"#7201a8\"],[0.3333333333333333,\"#9c179e\"],[0.4444444444444444,\"#bd3786\"],[0.5555555555555556,\"#d8576b\"],[0.6666666666666666,\"#ed7953\"],[0.7777777777777778,\"#fb9f3a\"],[0.8888888888888888,\"#fdca26\"],[1.0,\"#f0f921\"]]}],\"heatmap\":[{\"type\":\"heatmap\",\"colorbar\":{\"outlinewidth\":0,\"ticks\":\"\"},\"colorscale\":[[0.0,\"#0d0887\"],[0.1111111111111111,\"#46039f\"],[0.2222222222222222,\"#7201a8\"],[0.3333333333333333,\"#9c179e\"],[0.4444444444444444,\"#bd3786\"],[0.5555555555555556,\"#d8576b\"],[0.6666666666666666,\"#ed7953\"],[0.7777777777777778,\"#fb9f3a\"],[0.8888888888888888,\"#fdca26\"],[1.0,\"#f0f921\"]]}],\"contourcarpet\":[{\"type\":\"contourcarpet\",\"colorbar\":{\"outlinewidth\":0,\"ticks\":\"\"}}],\"contour\":[{\"type\":\"contour\",\"colorbar\":{\"outlinewidth\":0,\"ticks\":\"\"},\"colorscale\":[[0.0,\"#0d0887\"],[0.1111111111111111,\"#46039f\"],[0.2222222222222222,\"#7201a8\"],[0.3333333333333333,\"#9c179e\"],[0.4444444444444444,\"#bd3786\"],[0.5555555555555556,\"#d8576b\"],[0.6666666666666666,\"#ed7953\"],[0.7777777777777778,\"#fb9f3a\"],[0.8888888888888888,\"#fdca26\"],[1.0,\"#f0f921\"]]}],\"surface\":[{\"type\":\"surface\",\"colorbar\":{\"outlinewidth\":0,\"ticks\":\"\"},\"colorscale\":[[0.0,\"#0d0887\"],[0.1111111111111111,\"#46039f\"],[0.2222222222222222,\"#7201a8\"],[0.3333333333333333,\"#9c179e\"],[0.4444444444444444,\"#bd3786\"],[0.5555555555555556,\"#d8576b\"],[0.6666666666666666,\"#ed7953\"],[0.7777777777777778,\"#fb9f3a\"],[0.8888888888888888,\"#fdca26\"],[1.0,\"#f0f921\"]]}],\"mesh3d\":[{\"type\":\"mesh3d\",\"colorbar\":{\"outlinewidth\":0,\"ticks\":\"\"}}],\"scatter\":[{\"fillpattern\":{\"fillmode\":\"overlay\",\"size\":10,\"solidity\":0.2},\"type\":\"scatter\"}],\"parcoords\":[{\"type\":\"parcoords\",\"line\":{\"colorbar\":{\"outlinewidth\":0,\"ticks\":\"\"}}}],\"scatterpolargl\":[{\"type\":\"scatterpolargl\",\"marker\":{\"colorbar\":{\"outlinewidth\":0,\"ticks\":\"\"}}}],\"bar\":[{\"error_x\":{\"color\":\"#2a3f5f\"},\"error_y\":{\"color\":\"#2a3f5f\"},\"marker\":{\"line\":{\"color\":\"#E5ECF6\",\"width\":0.5},\"pattern\":{\"fillmode\":\"overlay\",\"size\":10,\"solidity\":0.2}},\"type\":\"bar\"}],\"scattergeo\":[{\"type\":\"scattergeo\",\"marker\":{\"colorbar\":{\"outlinewidth\":0,\"ticks\":\"\"}}}],\"scatterpolar\":[{\"type\":\"scatterpolar\",\"marker\":{\"colorbar\":{\"outlinewidth\":0,\"ticks\":\"\"}}}],\"histogram\":[{\"marker\":{\"pattern\":{\"fillmode\":\"overlay\",\"size\":10,\"solidity\":0.2}},\"type\":\"histogram\"}],\"scattergl\":[{\"type\":\"scattergl\",\"marker\":{\"colorbar\":{\"outlinewidth\":0,\"ticks\":\"\"}}}],\"scatter3d\":[{\"type\":\"scatter3d\",\"line\":{\"colorbar\":{\"outlinewidth\":0,\"ticks\":\"\"}},\"marker\":{\"colorbar\":{\"outlinewidth\":0,\"ticks\":\"\"}}}],\"scattermap\":[{\"type\":\"scattermap\",\"marker\":{\"colorbar\":{\"outlinewidth\":0,\"ticks\":\"\"}}}],\"scattermapbox\":[{\"type\":\"scattermapbox\",\"marker\":{\"colorbar\":{\"outlinewidth\":0,\"ticks\":\"\"}}}],\"scatterternary\":[{\"type\":\"scatterternary\",\"marker\":{\"colorbar\":{\"outlinewidth\":0,\"ticks\":\"\"}}}],\"scattercarpet\":[{\"type\":\"scattercarpet\",\"marker\":{\"colorbar\":{\"outlinewidth\":0,\"ticks\":\"\"}}}],\"carpet\":[{\"aaxis\":{\"endlinecolor\":\"#2a3f5f\",\"gridcolor\":\"white\",\"linecolor\":\"white\",\"minorgridcolor\":\"white\",\"startlinecolor\":\"#2a3f5f\"},\"baxis\":{\"endlinecolor\":\"#2a3f5f\",\"gridcolor\":\"white\",\"linecolor\":\"white\",\"minorgridcolor\":\"white\",\"startlinecolor\":\"#2a3f5f\"},\"type\":\"carpet\"}],\"table\":[{\"cells\":{\"fill\":{\"color\":\"#EBF0F8\"},\"line\":{\"color\":\"white\"}},\"header\":{\"fill\":{\"color\":\"#C8D4E3\"},\"line\":{\"color\":\"white\"}},\"type\":\"table\"}],\"barpolar\":[{\"marker\":{\"line\":{\"color\":\"#E5ECF6\",\"width\":0.5},\"pattern\":{\"fillmode\":\"overlay\",\"size\":10,\"solidity\":0.2}},\"type\":\"barpolar\"}],\"pie\":[{\"automargin\":true,\"type\":\"pie\"}]},\"layout\":{\"autotypenumbers\":\"strict\",\"colorway\":[\"#636efa\",\"#EF553B\",\"#00cc96\",\"#ab63fa\",\"#FFA15A\",\"#19d3f3\",\"#FF6692\",\"#B6E880\",\"#FF97FF\",\"#FECB52\"],\"font\":{\"color\":\"#2a3f5f\"},\"hovermode\":\"closest\",\"hoverlabel\":{\"align\":\"left\"},\"paper_bgcolor\":\"white\",\"plot_bgcolor\":\"#E5ECF6\",\"polar\":{\"bgcolor\":\"#E5ECF6\",\"angularaxis\":{\"gridcolor\":\"white\",\"linecolor\":\"white\",\"ticks\":\"\"},\"radialaxis\":{\"gridcolor\":\"white\",\"linecolor\":\"white\",\"ticks\":\"\"}},\"ternary\":{\"bgcolor\":\"#E5ECF6\",\"aaxis\":{\"gridcolor\":\"white\",\"linecolor\":\"white\",\"ticks\":\"\"},\"baxis\":{\"gridcolor\":\"white\",\"linecolor\":\"white\",\"ticks\":\"\"},\"caxis\":{\"gridcolor\":\"white\",\"linecolor\":\"white\",\"ticks\":\"\"}},\"coloraxis\":{\"colorbar\":{\"outlinewidth\":0,\"ticks\":\"\"}},\"colorscale\":{\"sequential\":[[0.0,\"#0d0887\"],[0.1111111111111111,\"#46039f\"],[0.2222222222222222,\"#7201a8\"],[0.3333333333333333,\"#9c179e\"],[0.4444444444444444,\"#bd3786\"],[0.5555555555555556,\"#d8576b\"],[0.6666666666666666,\"#ed7953\"],[0.7777777777777778,\"#fb9f3a\"],[0.8888888888888888,\"#fdca26\"],[1.0,\"#f0f921\"]],\"sequentialminus\":[[0.0,\"#0d0887\"],[0.1111111111111111,\"#46039f\"],[0.2222222222222222,\"#7201a8\"],[0.3333333333333333,\"#9c179e\"],[0.4444444444444444,\"#bd3786\"],[0.5555555555555556,\"#d8576b\"],[0.6666666666666666,\"#ed7953\"],[0.7777777777777778,\"#fb9f3a\"],[0.8888888888888888,\"#fdca26\"],[1.0,\"#f0f921\"]],\"diverging\":[[0,\"#8e0152\"],[0.1,\"#c51b7d\"],[0.2,\"#de77ae\"],[0.3,\"#f1b6da\"],[0.4,\"#fde0ef\"],[0.5,\"#f7f7f7\"],[0.6,\"#e6f5d0\"],[0.7,\"#b8e186\"],[0.8,\"#7fbc41\"],[0.9,\"#4d9221\"],[1,\"#276419\"]]},\"xaxis\":{\"gridcolor\":\"white\",\"linecolor\":\"white\",\"ticks\":\"\",\"title\":{\"standoff\":15},\"zerolinecolor\":\"white\",\"automargin\":true,\"zerolinewidth\":2},\"yaxis\":{\"gridcolor\":\"white\",\"linecolor\":\"white\",\"ticks\":\"\",\"title\":{\"standoff\":15},\"zerolinecolor\":\"white\",\"automargin\":true,\"zerolinewidth\":2},\"scene\":{\"xaxis\":{\"backgroundcolor\":\"#E5ECF6\",\"gridcolor\":\"white\",\"linecolor\":\"white\",\"showbackground\":true,\"ticks\":\"\",\"zerolinecolor\":\"white\",\"gridwidth\":2},\"yaxis\":{\"backgroundcolor\":\"#E5ECF6\",\"gridcolor\":\"white\",\"linecolor\":\"white\",\"showbackground\":true,\"ticks\":\"\",\"zerolinecolor\":\"white\",\"gridwidth\":2},\"zaxis\":{\"backgroundcolor\":\"#E5ECF6\",\"gridcolor\":\"white\",\"linecolor\":\"white\",\"showbackground\":true,\"ticks\":\"\",\"zerolinecolor\":\"white\",\"gridwidth\":2}},\"shapedefaults\":{\"line\":{\"color\":\"#2a3f5f\"}},\"annotationdefaults\":{\"arrowcolor\":\"#2a3f5f\",\"arrowhead\":0,\"arrowwidth\":1},\"geo\":{\"bgcolor\":\"white\",\"landcolor\":\"#E5ECF6\",\"subunitcolor\":\"white\",\"showland\":true,\"showlakes\":true,\"lakecolor\":\"white\"},\"title\":{\"x\":0.05},\"mapbox\":{\"style\":\"light\"}}},\"xaxis\":{\"anchor\":\"y\",\"domain\":[0.0,0.94]},\"yaxis\":{\"anchor\":\"x\",\"domain\":[0.0,1.0],\"title\":{\"text\":\"Price\"}},\"yaxis2\":{\"anchor\":\"x\",\"overlaying\":\"y\",\"side\":\"right\",\"title\":{\"text\":\"Volume\"}}},                        {\"responsive\": true}                    ).then(function(){\n",
       "                            \n",
       "var gd = document.getElementById('601e0ca5-05f2-4476-b703-3800c4d4f014');\n",
       "var x = new MutationObserver(function (mutations, observer) {{\n",
       "        var display = window.getComputedStyle(gd).display;\n",
       "        if (!display || display === 'none') {{\n",
       "            console.log([gd, 'removed!']);\n",
       "            Plotly.purge(gd);\n",
       "            observer.disconnect();\n",
       "        }}\n",
       "}});\n",
       "\n",
       "// Listen for the removal of the full notebook cells\n",
       "var notebookContainer = gd.closest('#notebook-container');\n",
       "if (notebookContainer) {{\n",
       "    x.observe(notebookContainer, {childList: true});\n",
       "}}\n",
       "\n",
       "// Listen for the clearing of the current output cell\n",
       "var outputEl = gd.closest('.output');\n",
       "if (outputEl) {{\n",
       "    x.observe(outputEl, {childList: true});\n",
       "}}\n",
       "\n",
       "                        })                };            </script>        </div>"
      ]
     },
     "metadata": {},
     "output_type": "display_data"
    }
   ],
   "source": [
    "from plotly.subplots import make_subplots\n",
    "\n",
    "#fig = go.Figure()\n",
    "fig = make_subplots(specs=[[{\"secondary_y\": True}]])\n",
    "\n",
    "fig.add_trace(\n",
    "    go.Scatter(\n",
    "#       x=dfDtVolPrice['Calc Date'],  #we can optionally chart the complete set\n",
    "        x = dfDtVolPrice.loc[:525,['Calc Date']]['Calc Date'],    # we are cutting off\n",
    "        y=dfDtVolPrice['Price Close'],\n",
    "        name = 'Price Close'), \n",
    "    secondary_y=False,\n",
    ")\n",
    "fig.add_trace(go.Scatter(\n",
    "#    x=dfDtVolPrice['Calc Date'],\n",
    "    x = dfDtVolPrice.loc[:525,['Calc Date']]['Calc Date'],\n",
    "    y=dfDtVolPrice['Volume'],\n",
    "    name = 'Volume'), \n",
    "    secondary_y=True,\n",
    ")\n",
    "fig.add_trace(go.Scatter(\n",
    "#    x=dfDtVolPrice['Calc Date'],\n",
    "    x = dfDtVolPrice.loc[:525,['Calc Date']]['Calc Date'],\n",
    "    y=convolve50,\n",
    "    name='50 Day MA',),\n",
    "    secondary_y=False,\n",
    ")\n",
    "fig.add_trace(go.Scatter(\n",
    "    x = dfDtVolPrice.loc[:525,['Calc Date']]['Calc Date'],\n",
    "#    x=dfDtVolPrice['Calc Date'],\n",
    "    y=convolve200,\n",
    "    name='200 Day MA',),\n",
    "    secondary_y=False,\n",
    ")\n",
    "\n",
    "fig.update_yaxes(title_text=\"Price\", secondary_y=False)\n",
    "fig.update_yaxes(title_text=\"Volume\", secondary_y=True)\n",
    "\n",
    "fig"
   ]
  },
  {
   "cell_type": "code",
   "execution_count": 51,
   "metadata": {},
   "outputs": [
    {
     "data": {
      "text/html": [
       "<div>\n",
       "<style scoped>\n",
       "    .dataframe tbody tr th:only-of-type {\n",
       "        vertical-align: middle;\n",
       "    }\n",
       "\n",
       "    .dataframe tbody tr th {\n",
       "        vertical-align: top;\n",
       "    }\n",
       "\n",
       "    .dataframe thead th {\n",
       "        text-align: right;\n",
       "    }\n",
       "</style>\n",
       "<table border=\"1\" class=\"dataframe\">\n",
       "  <thead>\n",
       "    <tr style=\"text-align: right;\">\n",
       "      <th></th>\n",
       "      <th>Instrument</th>\n",
       "      <th>TR.PRICEPCTCHG1M/100</th>\n",
       "      <th>TR.PRICEPCTCHG3M/100</th>\n",
       "      <th>TR.PRICEPCTCHG6M/100</th>\n",
       "      <th>TR.PRICEPCTCHG1Y/100</th>\n",
       "    </tr>\n",
       "  </thead>\n",
       "  <tbody>\n",
       "    <tr>\n",
       "      <th>0</th>\n",
       "      <td>IBM.N</td>\n",
       "      <td>-0.031369</td>\n",
       "      <td>0.053331</td>\n",
       "      <td>0.019288</td>\n",
       "      <td>0.300914</td>\n",
       "    </tr>\n",
       "  </tbody>\n",
       "</table>\n",
       "</div>"
      ],
      "text/plain": [
       "  Instrument  TR.PRICEPCTCHG1M/100  TR.PRICEPCTCHG3M/100  \\\n",
       "0      IBM.N             -0.031369              0.053331   \n",
       "\n",
       "   TR.PRICEPCTCHG6M/100  TR.PRICEPCTCHG1Y/100  \n",
       "0              0.019288              0.300914  "
      ]
     },
     "execution_count": 51,
     "metadata": {},
     "output_type": "execute_result"
    }
   ],
   "source": [
    "dfPriceActions = ld.get_data(RIC, 'TR.PricePctChg1M/100;TR.PricePctChg3M/100;TR.PricePctChg6M/100;TR.PricePctChg1Y/100')\n",
    "dfPriceActions"
   ]
  },
  {
   "cell_type": "code",
   "execution_count": 52,
   "metadata": {},
   "outputs": [
    {
     "data": {
      "text/html": [
       "<div>\n",
       "<style scoped>\n",
       "    .dataframe tbody tr th:only-of-type {\n",
       "        vertical-align: middle;\n",
       "    }\n",
       "\n",
       "    .dataframe tbody tr th {\n",
       "        vertical-align: top;\n",
       "    }\n",
       "\n",
       "    .dataframe thead th {\n",
       "        text-align: right;\n",
       "    }\n",
       "</style>\n",
       "<table border=\"1\" class=\"dataframe\">\n",
       "  <thead>\n",
       "    <tr style=\"text-align: right;\">\n",
       "      <th></th>\n",
       "      <th>Instrument</th>\n",
       "      <th>Calc Date</th>\n",
       "      <th>Price Close</th>\n",
       "    </tr>\n",
       "  </thead>\n",
       "  <tbody>\n",
       "    <tr>\n",
       "      <th>0</th>\n",
       "      <td>IBM.N</td>\n",
       "      <td>2020-04-22</td>\n",
       "      <td>113.960617</td>\n",
       "    </tr>\n",
       "    <tr>\n",
       "      <th>1</th>\n",
       "      <td>IBM.N</td>\n",
       "      <td>2020-04-23</td>\n",
       "      <td>115.909151</td>\n",
       "    </tr>\n",
       "    <tr>\n",
       "      <th>2</th>\n",
       "      <td>IBM.N</td>\n",
       "      <td>2020-04-24</td>\n",
       "      <td>119.128054</td>\n",
       "    </tr>\n",
       "    <tr>\n",
       "      <th>3</th>\n",
       "      <td>IBM.N</td>\n",
       "      <td>2020-04-27</td>\n",
       "      <td>120.274251</td>\n",
       "    </tr>\n",
       "    <tr>\n",
       "      <th>4</th>\n",
       "      <td>IBM.N</td>\n",
       "      <td>2020-04-28</td>\n",
       "      <td>120.608558</td>\n",
       "    </tr>\n",
       "    <tr>\n",
       "      <th>...</th>\n",
       "      <td>...</td>\n",
       "      <td>...</td>\n",
       "      <td>...</td>\n",
       "    </tr>\n",
       "    <tr>\n",
       "      <th>1251</th>\n",
       "      <td>IBM.N</td>\n",
       "      <td>2025-04-14</td>\n",
       "      <td>239.06</td>\n",
       "    </tr>\n",
       "    <tr>\n",
       "      <th>1252</th>\n",
       "      <td>IBM.N</td>\n",
       "      <td>2025-04-15</td>\n",
       "      <td>240.7</td>\n",
       "    </tr>\n",
       "    <tr>\n",
       "      <th>1253</th>\n",
       "      <td>IBM.N</td>\n",
       "      <td>2025-04-16</td>\n",
       "      <td>238.57</td>\n",
       "    </tr>\n",
       "    <tr>\n",
       "      <th>1254</th>\n",
       "      <td>IBM.N</td>\n",
       "      <td>2025-04-17</td>\n",
       "      <td>238.81</td>\n",
       "    </tr>\n",
       "    <tr>\n",
       "      <th>1255</th>\n",
       "      <td>IBM.N</td>\n",
       "      <td>2025-04-21</td>\n",
       "      <td>236.22</td>\n",
       "    </tr>\n",
       "  </tbody>\n",
       "</table>\n",
       "<p>1256 rows × 3 columns</p>\n",
       "</div>"
      ],
      "text/plain": [
       "     Instrument  Calc Date  Price Close\n",
       "0         IBM.N 2020-04-22   113.960617\n",
       "1         IBM.N 2020-04-23   115.909151\n",
       "2         IBM.N 2020-04-24   119.128054\n",
       "3         IBM.N 2020-04-27   120.274251\n",
       "4         IBM.N 2020-04-28   120.608558\n",
       "...         ...        ...          ...\n",
       "1251      IBM.N 2025-04-14       239.06\n",
       "1252      IBM.N 2025-04-15        240.7\n",
       "1253      IBM.N 2025-04-16       238.57\n",
       "1254      IBM.N 2025-04-17       238.81\n",
       "1255      IBM.N 2025-04-21       236.22\n",
       "\n",
       "[1256 rows x 3 columns]"
      ]
     },
     "execution_count": 52,
     "metadata": {},
     "output_type": "execute_result"
    }
   ],
   "source": [
    "dfPricingIntermediate1 = ld.get_data(RIC, 'TR.PriceClose.calcdate;TR.PriceClose',{'sdate':'-5AY','edate':'0d','frq':'D'})\n",
    "dfPricingIntermediate1"
   ]
  },
  {
   "cell_type": "code",
   "execution_count": null,
   "metadata": {},
   "outputs": [],
   "source": []
  }
 ],
 "metadata": {
  "kernelspec": {
   "display_name": "Python 3 (ipykernel)",
   "language": "python",
   "name": "python3"
  },
  "language_info": {
   "codemirror_mode": {
    "name": "ipython",
    "version": 3
   },
   "file_extension": ".py",
   "mimetype": "text/x-python",
   "name": "python",
   "nbconvert_exporter": "python",
   "pygments_lexer": "ipython3",
   "version": "3.12.8"
  }
 },
 "nbformat": 4,
 "nbformat_minor": 4
}
